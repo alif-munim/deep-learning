{
 "cells": [
  {
   "cell_type": "markdown",
   "id": "eaf81d00",
   "metadata": {},
   "source": [
    "# Tensorflow Melanoma Classification\n",
    "Classifying benign and malignant tumors using tensorflow."
   ]
  },
  {
   "cell_type": "code",
   "execution_count": 2,
   "id": "0d4f498f",
   "metadata": {},
   "outputs": [],
   "source": [
    "import os\n",
    "import shutil\n",
    "import random"
   ]
  },
  {
   "cell_type": "code",
   "execution_count": 3,
   "id": "fad345f1",
   "metadata": {},
   "outputs": [],
   "source": [
    "seed = 1\n",
    "random.seed(seed)\n",
    "directory = \"ISIC/images/\"\n",
    "train = \"data/train/\"\n",
    "test = \"data/test/\"\n",
    "validation = 'data/validation/'"
   ]
  },
  {
   "cell_type": "markdown",
   "id": "1e22a7cc",
   "metadata": {},
   "source": [
    "### Data Processing\n",
    "Split the dataset into train, test, and validation."
   ]
  },
  {
   "cell_type": "code",
   "execution_count": null,
   "id": "c9ec37d8",
   "metadata": {},
   "outputs": [],
   "source": [
    "os.makedirs(train + \"benign/\")\n",
    "os.makedirs(train + \"malignant/\")"
   ]
  },
  {
   "cell_type": "code",
   "execution_count": 5,
   "id": "468de941",
   "metadata": {},
   "outputs": [],
   "source": [
    "os.makedirs(test + \"benign/\")\n",
    "os.makedirs(test + \"malignant/\")"
   ]
  },
  {
   "cell_type": "code",
   "execution_count": 6,
   "id": "e6374de1",
   "metadata": {},
   "outputs": [],
   "source": [
    "os.makedirs(validation + \"benign/\")\n",
    "os.makedirs(validation + \"malignant/\")"
   ]
  },
  {
   "cell_type": "code",
   "execution_count": 4,
   "id": "6dbd9e30",
   "metadata": {},
   "outputs": [],
   "source": [
    "test_examples = train_examples = validation_examples = 0"
   ]
  },
  {
   "cell_type": "code",
   "execution_count": 14,
   "id": "cf5de439",
   "metadata": {},
   "outputs": [],
   "source": [
    "for line in open(\"labels.csv\").readlines()[1:]:\n",
    "    split_line = line.split(\",\")\n",
    "    img_file = split_line[0]\n",
    "    benign_malign = split_line[1]\n",
    "    \n",
    "    random_num = random.random()\n",
    "    if random_num < 0.8:\n",
    "        location = train\n",
    "        train_examples += 1\n",
    "    elif random_num < 0.9:\n",
    "        location = validation\n",
    "        validation_examples += 1\n",
    "    else:\n",
    "        location = test\n",
    "        test_examples += 1\n",
    "        \n",
    "    if int(float(benign_malign)) == 0:\n",
    "        shutil.copy(\n",
    "            \"images/\" + img_file + \".jpg\",\n",
    "            location + \"benign/\" + img_file + \".jpg\"\n",
    "        )\n",
    "    else:\n",
    "        shutil.copy(\n",
    "            \"images/\" + img_file + \".jpg\",\n",
    "            location + \"malignant/\" + img_file + \".jpg\"\n",
    "        )    "
   ]
  },
  {
   "cell_type": "code",
   "execution_count": 15,
   "id": "64a0245c",
   "metadata": {},
   "outputs": [
    {
     "name": "stdout",
     "output_type": "stream",
     "text": [
      "Training examples: 20227\n",
      "Test examples: 2554\n",
      "Validation examples: 2550\n"
     ]
    }
   ],
   "source": [
    "print(\"Training examples: %i\" % (train_examples))\n",
    "print(\"Test examples: %i\" % (test_examples))\n",
    "print(\"Validation examples: %i\" % (validation_examples))"
   ]
  },
  {
   "cell_type": "markdown",
   "id": "0db1906d",
   "metadata": {},
   "source": [
    "### Model Setup\n",
    "Import libraries."
   ]
  },
  {
   "cell_type": "code",
   "execution_count": 18,
   "id": "6b9fe80d",
   "metadata": {},
   "outputs": [
    {
     "name": "stdout",
     "output_type": "stream",
     "text": [
      "Collecting tensorflow_hub\n",
      "  Downloading tensorflow_hub-0.12.0-py2.py3-none-any.whl (108 kB)\n",
      "Requirement already satisfied: protobuf>=3.8.0 in c:\\users\\alif-\\anaconda3\\lib\\site-packages (from tensorflow_hub) (3.17.3)\n",
      "Requirement already satisfied: numpy>=1.12.0 in c:\\users\\alif-\\anaconda3\\lib\\site-packages (from tensorflow_hub) (1.19.5)\n",
      "Requirement already satisfied: six>=1.9 in c:\\users\\alif-\\anaconda3\\lib\\site-packages (from protobuf>=3.8.0->tensorflow_hub) (1.15.0)\n",
      "Installing collected packages: tensorflow-hub\n",
      "Successfully installed tensorflow-hub-0.12.0\n"
     ]
    },
    {
     "name": "stderr",
     "output_type": "stream",
     "text": [
      "  WARNING: The scripts make_image_classifier.exe and make_nearest_neighbour_index.exe are installed in 'C:\\Users\\alif-\\AppData\\Roaming\\Python\\Python38\\Scripts' which is not on PATH.\n",
      "  Consider adding this directory to PATH or, if you prefer to suppress this warning, use --no-warn-script-location.\n"
     ]
    }
   ],
   "source": [
    "import sys\n",
    "!{sys.executable} -m pip install tensorflow_hub --user"
   ]
  },
  {
   "cell_type": "code",
   "execution_count": 5,
   "id": "d0cfb381",
   "metadata": {},
   "outputs": [],
   "source": [
    "import os\n",
    "\n",
    "os.environ[\"TF_CPP_MIN_LOG_LEVEL\"] = \"2\"\n",
    "import tensorflow as tf\n",
    "import math\n",
    "import tensorflow_hub as hub\n",
    "import numpy as np\n",
    "import matplotlib.pyplot as plt\n",
    "from tensorflow import keras\n",
    "from tensorflow.keras import layers\n",
    "from sklearn.metrics import roc_curve\n",
    "from tensorflow.keras.preprocessing.image import ImageDataGenerator"
   ]
  },
  {
   "cell_type": "code",
   "execution_count": 6,
   "id": "1be1ad79",
   "metadata": {},
   "outputs": [],
   "source": [
    "train_examples = 20227\n",
    "test_examples = 2554\n",
    "validation_examples = 2550\n",
    "img_height = img_width = 224\n",
    "batch_size = 32"
   ]
  },
  {
   "cell_type": "code",
   "execution_count": 7,
   "id": "8cf96448",
   "metadata": {},
   "outputs": [],
   "source": [
    "model = keras.Sequential([\n",
    "    hub.KerasLayer(\"https://tfhub.dev/google/imagenet/nasnet_large/feature_vector/5\",\n",
    "                  trainable=True),\n",
    "    layers.Dense(1, activation=\"sigmoid\")\n",
    "])"
   ]
  },
  {
   "cell_type": "code",
   "execution_count": 8,
   "id": "2756c748",
   "metadata": {},
   "outputs": [],
   "source": [
    "train_datagen = ImageDataGenerator(\n",
    "    rescale = 1.0/255,\n",
    "    rotation_range = 15,\n",
    "    zoom_range = (0.95, 0.95),\n",
    "    horizontal_flip = True,\n",
    "    vertical_flip = True,\n",
    "    data_format = \"channels_last\",\n",
    "    dtype = tf.float32\n",
    ")\n",
    "\n",
    "validation_datagen = ImageDataGenerator(\n",
    "    rescale = 1.0/255,\n",
    "    dtype = tf.float32\n",
    ")\n",
    "\n",
    "test_datagen = ImageDataGenerator(\n",
    "    rescale = 1.0/255,\n",
    "    dtype = tf.float32\n",
    ")"
   ]
  },
  {
   "cell_type": "code",
   "execution_count": 9,
   "id": "d756b7bc",
   "metadata": {},
   "outputs": [
    {
     "name": "stdout",
     "output_type": "stream",
     "text": [
      "Found 20228 images belonging to 2 classes.\n",
      "Found 2554 images belonging to 2 classes.\n",
      "Found 2552 images belonging to 2 classes.\n"
     ]
    }
   ],
   "source": [
    "train_gen = train_datagen.flow_from_directory(\n",
    "    \"data/train/\",\n",
    "    target_size=(img_height, img_width),\n",
    "    batch_size=batch_size,\n",
    "    color_mode=\"rgb\",\n",
    "    class_mode=\"binary\",\n",
    "    shuffle=True,\n",
    "    seed=123\n",
    ")\n",
    "\n",
    "test_gen = test_datagen.flow_from_directory(\n",
    "    \"data/test/\",\n",
    "    target_size=(img_height, img_width),\n",
    "    batch_size=batch_size,\n",
    "    color_mode=\"rgb\",\n",
    "    class_mode=\"binary\",\n",
    "    shuffle=True,\n",
    "    seed=123\n",
    ")\n",
    "\n",
    "validation_gen = validation_datagen.flow_from_directory(\n",
    "    \"data/validation/\",\n",
    "    target_size=(img_height, img_width),\n",
    "    batch_size=batch_size,\n",
    "    color_mode=\"rgb\",\n",
    "    class_mode=\"binary\",\n",
    "    shuffle=True,\n",
    "    seed=123\n",
    ")"
   ]
  },
  {
   "cell_type": "markdown",
   "id": "19d96ba1",
   "metadata": {},
   "source": [
    "### Improving the Model\n",
    "Mitigating skewed classes and making use of precision and recall. <br/><br/>\n",
    "Related videos:\n",
    "* https://youtu.be/wGw6R8AbcuI\n",
    "* https://youtu.be/W5meQnGACGo"
   ]
  },
  {
   "cell_type": "code",
   "execution_count": 14,
   "id": "4bb71d15",
   "metadata": {},
   "outputs": [],
   "source": [
    "METRICS = [\n",
    "    keras.metrics.BinaryAccuracy(name=\"accuracy\"),\n",
    "    keras.metrics.Precision(name=\"precision\"),\n",
    "    keras.metrics.Recall(name=\"recall\"),\n",
    "    keras.metrics.AUC(name=\"auc\")\n",
    "]"
   ]
  },
  {
   "cell_type": "code",
   "execution_count": 15,
   "id": "60f614cf",
   "metadata": {},
   "outputs": [],
   "source": [
    "model.compile(\n",
    "    optimizer=keras.optimizers.Adam(learning_rate=3e-4),\n",
    "    loss=[keras.losses.BinaryCrossentropy(from_logits=False)],\n",
    "    metrics=METRICS\n",
    ")"
   ]
  },
  {
   "cell_type": "markdown",
   "id": "0b03fb48",
   "metadata": {},
   "source": [
    "Model checkpointing in TensorFlow:\n",
    "https://www.tensorflow.org/tutorials/keras/save_and_load"
   ]
  },
  {
   "cell_type": "code",
   "execution_count": null,
   "id": "6c9b8c82",
   "metadata": {},
   "outputs": [],
   "source": [
    "model.fit(\n",
    "    train_gen,\n",
    "    epochs=1,\n",
    "    verbose=2,\n",
    "    steps_per_epoch=train_examples//batch_size,\n",
    "    validation_data=validation_gen,\n",
    "    validation_steps=validation_examples//batch_size,\n",
    "    callbacks=[keras.callbacks.ModelCheckpoint(\"melanoma_model\")]\n",
    ")"
   ]
  },
  {
   "cell_type": "code",
   "execution_count": null,
   "id": "cf86b58b",
   "metadata": {},
   "outputs": [],
   "source": [
    "def plot_roc(labels, data):\n",
    "    model.predict(data)\n",
    "    fp, tp, _ = roc_curve(labels, predictions)\n",
    "    plt.plot(100*fp, 100*tp)\n",
    "    plt.xlabel(\"False Positives [%]\")\n",
    "    plt.ylabel(\"True Positives [%]\")\n",
    "    plt.show"
   ]
  },
  {
   "cell_type": "code",
   "execution_count": null,
   "id": "c917d718",
   "metadata": {},
   "outputs": [],
   "source": [
    "test_labels = np.array([])\n",
    "npm_batches = 0"
   ]
  },
  {
   "cell_type": "code",
   "execution_count": null,
   "id": "c8ee595e",
   "metadata": {},
   "outputs": [],
   "source": [
    "for _, y in test_gen:\n",
    "    test_labels = np.append(test_labels, y)\n",
    "    num_batches += 1\n",
    "    if num_batches == math.ceil(test_examples/batch_size):\n",
    "        break"
   ]
  },
  {
   "cell_type": "code",
   "execution_count": null,
   "id": "41973825",
   "metadata": {},
   "outputs": [],
   "source": [
    "plot_roc(test_labels, test_gen)"
   ]
  },
  {
   "cell_type": "code",
   "execution_count": null,
   "id": "b8d33c1f",
   "metadata": {},
   "outputs": [],
   "source": [
    "model.evaluate(validation_gen, verbose=2)\n",
    "model.evaluate(test_gen, verbose=2)"
   ]
  }
 ],
 "metadata": {
  "kernelspec": {
   "display_name": "Python 3",
   "language": "python",
   "name": "python3"
  },
  "language_info": {
   "codemirror_mode": {
    "name": "ipython",
    "version": 3
   },
   "file_extension": ".py",
   "mimetype": "text/x-python",
   "name": "python",
   "nbconvert_exporter": "python",
   "pygments_lexer": "ipython3",
   "version": "3.8.8"
  }
 },
 "nbformat": 4,
 "nbformat_minor": 5
}
