{
 "cells": [
  {
   "cell_type": "code",
   "execution_count": null,
   "id": "a1447ac8",
   "metadata": {},
   "outputs": [],
   "source": [
    "import sys\n",
    "!{sys.executable} -m pip install tensorflow --user\n",
    "!{sys.executable} -m pip install imageio --user\n",
    "!{sys.executable} -m pip install keras --user\n",
    "!{sys.executable} -m pip install keras.utils --user\n",
    "!{sys.executable} -m pip install --upgrade pip\n",
    "!{sys.executable} -m pip install opencv-python --user\n",
    "# Code works after installing sklearn in anaconda terminal\n",
    "# conda install conda-forge sklearn\n",
    "!{sys.executable} -m pip install sklearn --user\n",
    "!{sys.executable} -m pip install matplotlib --force-reinstall --user"
   ]
  },
  {
   "cell_type": "code",
   "execution_count": null,
   "id": "621f6ff9",
   "metadata": {},
   "outputs": [],
   "source": [
    "# Code works after downgrading scipy to 1.6.3\n",
    "# pip install scipy==1.6.3 --user \n",
    "!{sys.executable} -m pip show scipy"
   ]
  },
  {
   "cell_type": "code",
   "execution_count": 1,
   "id": "97d23e30",
   "metadata": {},
   "outputs": [],
   "source": [
    "import sys\n",
    "sys.path.append('C:\\\\users\\\\alif-\\\\appdata\\\\roaming\\\\python\\\\python38\\\\site-packages')\n",
    "sys.path.append('C:\\\\users\\\\alif-\\\\anaconda3\\\\lib\\\\site-packages')"
   ]
  },
  {
   "cell_type": "code",
   "execution_count": 2,
   "id": "f86d2d87",
   "metadata": {},
   "outputs": [],
   "source": [
    "from keras.models import Model\n",
    "from keras.layers import Input, Conv2D, MaxPooling2D, UpSampling2D, concatenate, Conv2DTranspose, BatchNormalization, Dropout, Lambda"
   ]
  },
  {
   "cell_type": "code",
   "execution_count": 3,
   "id": "48450502",
   "metadata": {},
   "outputs": [],
   "source": [
    "def multi_unet_model(n_classes=4, IMG_HEIGHT=256, IMG_WIDTH=256, IMG_CHANNELS=1):\n",
    "    inputs = Input((IMG_HEIGHT, IMG_WIDTH, IMG_CHANNELS))\n",
    "    s = inputs\n",
    "    \n",
    "    # Info: what is the contraction path?\n",
    "    c1 = Conv2D(16, (3, 3), activation=\"relu\", kernel_initializer=\"he_normal\", padding=\"same\")(s)\n",
    "    c1 = Dropout(0.1)(c1)\n",
    "    c1 = Conv2D(16, (3, 3), activation=\"relu\", kernel_initializer=\"he_normal\", padding=\"same\")(c1)\n",
    "    p1 = MaxPooling2D((2, 2))(c1)\n",
    "    \n",
    "    c2 = Conv2D(32, (3, 3), activation=\"relu\", kernel_initializer=\"he_normal\", padding=\"same\")(p1)\n",
    "    c2 = Dropout(0.1)(c2)\n",
    "    c2 = Conv2D(32, (3, 3), activation=\"relu\", kernel_initializer=\"he_normal\", padding=\"same\")(c2)\n",
    "    p2 = MaxPooling2D((2, 2))(c2)\n",
    "    \n",
    "    c3 = Conv2D(64, (3, 3), activation=\"relu\", kernel_initializer=\"he_normal\", padding=\"same\")(p2)\n",
    "    c3 = Dropout(0.2)(c3)\n",
    "    c3 = Conv2D(64, (3, 3), activation=\"relu\", kernel_initializer=\"he_normal\", padding=\"same\")(c3)\n",
    "    p3 = MaxPooling2D((2, 2))(c3)\n",
    "    \n",
    "    c4 = Conv2D(128, (3, 3), activation=\"relu\", kernel_initializer=\"he_normal\", padding=\"same\")(p3)\n",
    "    c4 = Dropout(0.2)(c4)\n",
    "    c4 = Conv2D(128, (3, 3), activation=\"relu\", kernel_initializer=\"he_normal\", padding=\"same\")(c4)\n",
    "    p4 = MaxPooling2D((2, 2))(c4)\n",
    "    \n",
    "    c5 = Conv2D(256, (3, 3), activation=\"relu\", kernel_initializer=\"he_normal\", padding=\"same\")(p4)\n",
    "    c5 = Dropout(0.3)(c5)\n",
    "    c5 = Conv2D(256, (3, 3), activation=\"relu\", kernel_initializer=\"he_normal\", padding=\"same\")(c5)\n",
    "    p5 = MaxPooling2D((2, 2))(c5)\n",
    "    \n",
    "    # Info: what is the expansion path?\n",
    "    # Info: how do we know which layers to concatenate?\n",
    "    u6 = Conv2DTranspose(128, (2,2), strides=(2, 2), padding=\"same\")(c5)\n",
    "    u6 = concatenate([u6, c4])\n",
    "    c6 = Conv2D(128, (3,3), activation=\"relu\", kernel_initializer=\"he_normal\", padding=\"same\")(u6)\n",
    "    c6 = Dropout(0.2)(c6)\n",
    "    c6 = Conv2D(128, (3, 3), activation=\"relu\", kernel_initializer=\"he_normal\", padding=\"same\")(c6)\n",
    "    \n",
    "    u7 = Conv2DTranspose(64, (2,2), strides=(2, 2), padding=\"same\")(c6)\n",
    "    u7 = concatenate([u7, c3])\n",
    "    c7 = Conv2D(64, (3,3), activation=\"relu\", kernel_initializer=\"he_normal\", padding=\"same\")(u7)\n",
    "    c7 = Dropout(0.2)(c7)\n",
    "    c7 = Conv2D(64, (3, 3), activation=\"relu\", kernel_initializer=\"he_normal\", padding=\"same\")(c7)\n",
    "    \n",
    "    u8 = Conv2DTranspose(32, (2,2), strides=(2, 2), padding=\"same\")(c7)\n",
    "    u8 = concatenate([u8, c2])\n",
    "    c8 = Conv2D(32, (3,3), activation=\"relu\", kernel_initializer=\"he_normal\", padding=\"same\")(u8)\n",
    "    c8 = Dropout(0.1)(c8)\n",
    "    c8 = Conv2D(32, (3, 3), activation=\"relu\", kernel_initializer=\"he_normal\", padding=\"same\")(c8)\n",
    "    \n",
    "    u9 = Conv2DTranspose(16, (2,2), strides=(2, 2), padding=\"same\")(c8)\n",
    "    u9 = concatenate([u9, c1], axis=3)\n",
    "    c9 = Conv2D(16, (3,3), activation=\"relu\", kernel_initializer=\"he_normal\", padding=\"same\")(u9)\n",
    "    c9 = Dropout(0.1)(c9)\n",
    "    c9 = Conv2D(16, (3, 3), activation=\"relu\", kernel_initializer=\"he_normal\", padding=\"same\")(c9) \n",
    "    \n",
    "    # Info: why perform a convolution on the output layer?\n",
    "    outputs = Conv2D(n_classes, (1,1), activation=\"softmax\")(c9)\n",
    "    model = Model(inputs=[inputs], outputs=[outputs])\n",
    "    \n",
    "    return model"
   ]
  },
  {
   "cell_type": "code",
   "execution_count": 4,
   "id": "de3aad2e",
   "metadata": {},
   "outputs": [],
   "source": [
    "from tensorflow.keras.utils import normalize\n",
    "import os\n",
    "import glob\n",
    "import cv2\n",
    "import numpy as np\n",
    "from matplotlib import pyplot as plt"
   ]
  },
  {
   "cell_type": "code",
   "execution_count": 5,
   "id": "63b743ba",
   "metadata": {},
   "outputs": [],
   "source": [
    "SIZE_X = 128\n",
    "SIZE_Y = 128\n",
    "n_classes = 4"
   ]
  },
  {
   "cell_type": "code",
   "execution_count": 6,
   "id": "1d17ebfe",
   "metadata": {},
   "outputs": [],
   "source": [
    "train_images = []\n",
    "\n",
    "for directory_path in glob.glob(\"images/\"):\n",
    "    for img_path in glob.glob(os.path.join(directory_path, \"*.tif\")):\n",
    "        img = cv2.imread(img_path, 0)\n",
    "        train_images.append(img)"
   ]
  },
  {
   "cell_type": "code",
   "execution_count": 7,
   "id": "4f332c59",
   "metadata": {},
   "outputs": [
    {
     "data": {
      "text/plain": [
       "1600"
      ]
     },
     "execution_count": 7,
     "metadata": {},
     "output_type": "execute_result"
    }
   ],
   "source": [
    "train_images = np.array(train_images)\n",
    "len(train_images)"
   ]
  },
  {
   "cell_type": "code",
   "execution_count": 8,
   "id": "7925bc68",
   "metadata": {},
   "outputs": [],
   "source": [
    "train_masks = []\n",
    "\n",
    "for directory_path in glob.glob(\"masks/\"):\n",
    "    for img_path in glob.glob(os.path.join(directory_path, \"*.tif\")):\n",
    "        img = cv2.imread(img_path, 0)\n",
    "        train_masks.append(img)"
   ]
  },
  {
   "cell_type": "code",
   "execution_count": 9,
   "id": "a29d7ed2",
   "metadata": {},
   "outputs": [
    {
     "data": {
      "text/plain": [
       "1600"
      ]
     },
     "execution_count": 9,
     "metadata": {},
     "output_type": "execute_result"
    }
   ],
   "source": [
    "train_masks = np.array(train_masks)\n",
    "len(train_masks)"
   ]
  },
  {
   "cell_type": "code",
   "execution_count": 10,
   "id": "ac494347",
   "metadata": {},
   "outputs": [
    {
     "name": "stderr",
     "output_type": "stream",
     "text": [
      "C:\\Users\\alif-\\AppData\\Roaming\\Python\\Python39\\site-packages\\sklearn\\utils\\validation.py:63: DataConversionWarning: A column-vector y was passed when a 1d array was expected. Please change the shape of y to (n_samples, ), for example using ravel().\n",
      "  return f(*args, **kwargs)\n"
     ]
    }
   ],
   "source": [
    "from sklearn.preprocessing import LabelEncoder\n",
    "labelencoder = LabelEncoder()\n",
    "n, h, w = train_masks.shape\n",
    "train_masks_reshaped = train_masks.reshape(-1, 1)\n",
    "train_masks_reshaped_encoded = labelencoder.fit_transform(train_masks_reshaped)\n",
    "train_masks_encoded_original_shape = train_masks_reshaped_encoded.reshape(n, h, w)"
   ]
  },
  {
   "cell_type": "code",
   "execution_count": 11,
   "id": "9036a5e1",
   "metadata": {},
   "outputs": [
    {
     "data": {
      "text/plain": [
       "array([[1, 1, 1, ..., 1, 1, 2],\n",
       "       [1, 1, 1, ..., 1, 1, 2],\n",
       "       [1, 1, 1, ..., 1, 1, 1],\n",
       "       ...,\n",
       "       [3, 3, 3, ..., 3, 3, 3],\n",
       "       [3, 3, 3, ..., 3, 3, 3],\n",
       "       [3, 3, 3, ..., 3, 3, 3]], dtype=uint8)"
      ]
     },
     "execution_count": 11,
     "metadata": {},
     "output_type": "execute_result"
    }
   ],
   "source": [
    "train_masks[1]"
   ]
  },
  {
   "cell_type": "code",
   "execution_count": 12,
   "id": "5fbcd6ed",
   "metadata": {},
   "outputs": [
    {
     "data": {
      "text/plain": [
       "array([1, 2, 3, 4], dtype=uint8)"
      ]
     },
     "execution_count": 12,
     "metadata": {},
     "output_type": "execute_result"
    }
   ],
   "source": [
    "np.unique(train_masks)"
   ]
  },
  {
   "cell_type": "code",
   "execution_count": 13,
   "id": "0904bde8",
   "metadata": {},
   "outputs": [
    {
     "data": {
      "text/plain": [
       "array([[0, 0, 0, ..., 0, 0, 1],\n",
       "       [0, 0, 0, ..., 0, 0, 1],\n",
       "       [0, 0, 0, ..., 0, 0, 0],\n",
       "       ...,\n",
       "       [2, 2, 2, ..., 2, 2, 2],\n",
       "       [2, 2, 2, ..., 2, 2, 2],\n",
       "       [2, 2, 2, ..., 2, 2, 2]], dtype=int64)"
      ]
     },
     "execution_count": 13,
     "metadata": {},
     "output_type": "execute_result"
    }
   ],
   "source": [
    "train_masks_encoded_original_shape[1]"
   ]
  },
  {
   "cell_type": "code",
   "execution_count": 14,
   "id": "7a5a70b1",
   "metadata": {},
   "outputs": [
    {
     "data": {
      "text/plain": [
       "array([0, 1, 2, 3], dtype=int64)"
      ]
     },
     "execution_count": 14,
     "metadata": {},
     "output_type": "execute_result"
    }
   ],
   "source": [
    "np.unique(train_masks_encoded_original_shape)"
   ]
  },
  {
   "cell_type": "code",
   "execution_count": 15,
   "id": "028e2b66",
   "metadata": {},
   "outputs": [
    {
     "data": {
      "text/plain": [
       "(1600, 128, 128)"
      ]
     },
     "execution_count": 15,
     "metadata": {},
     "output_type": "execute_result"
    }
   ],
   "source": [
    "train_images.shape"
   ]
  },
  {
   "cell_type": "code",
   "execution_count": 16,
   "id": "aa3d5a79",
   "metadata": {},
   "outputs": [],
   "source": [
    "train_images = np.expand_dims(train_images, axis=3)"
   ]
  },
  {
   "cell_type": "code",
   "execution_count": 17,
   "id": "bb0b0e23",
   "metadata": {},
   "outputs": [
    {
     "data": {
      "text/plain": [
       "(1600, 128, 128, 1)"
      ]
     },
     "execution_count": 17,
     "metadata": {},
     "output_type": "execute_result"
    }
   ],
   "source": [
    "train_images.shape"
   ]
  },
  {
   "cell_type": "code",
   "execution_count": 18,
   "id": "6537bf7d",
   "metadata": {},
   "outputs": [
    {
     "data": {
      "text/plain": [
       "array([35], dtype=uint8)"
      ]
     },
     "execution_count": 18,
     "metadata": {},
     "output_type": "execute_result"
    }
   ],
   "source": [
    "train_images[1][1][1]"
   ]
  },
  {
   "cell_type": "code",
   "execution_count": 19,
   "id": "8c86fd05",
   "metadata": {},
   "outputs": [],
   "source": [
    "train_images = normalize(train_images, axis=1)"
   ]
  },
  {
   "cell_type": "code",
   "execution_count": 20,
   "id": "686a1e28",
   "metadata": {},
   "outputs": [
    {
     "data": {
      "text/plain": [
       "array([0.02663112])"
      ]
     },
     "execution_count": 20,
     "metadata": {},
     "output_type": "execute_result"
    }
   ],
   "source": [
    "train_images[1][1][1]"
   ]
  },
  {
   "cell_type": "code",
   "execution_count": 21,
   "id": "f4b41544",
   "metadata": {},
   "outputs": [],
   "source": [
    "train_masks_input = np.expand_dims(train_masks_encoded_original_shape, axis=3)"
   ]
  },
  {
   "cell_type": "code",
   "execution_count": 22,
   "id": "76a25159",
   "metadata": {},
   "outputs": [
    {
     "data": {
      "text/plain": [
       "(1600, 128, 128, 1)"
      ]
     },
     "execution_count": 22,
     "metadata": {},
     "output_type": "execute_result"
    }
   ],
   "source": [
    "train_masks_input.shape"
   ]
  },
  {
   "cell_type": "code",
   "execution_count": 23,
   "id": "356775b7",
   "metadata": {},
   "outputs": [],
   "source": [
    "from sklearn.model_selection import train_test_split\n",
    "X_train, X_test, y_train, y_test = train_test_split(train_images, train_masks_input, test_size=0.10, random_state=0)"
   ]
  },
  {
   "cell_type": "code",
   "execution_count": 24,
   "id": "e31de272",
   "metadata": {},
   "outputs": [
    {
     "name": "stdout",
     "output_type": "stream",
     "text": [
      "Class values in dataset are... [0 1 2 3]\n"
     ]
    }
   ],
   "source": [
    "print(\"Class values in dataset are...\", np.unique(y_train))"
   ]
  },
  {
   "cell_type": "code",
   "execution_count": 25,
   "id": "e22675ca",
   "metadata": {},
   "outputs": [],
   "source": [
    "from tensorflow.keras.utils import to_categorical\n",
    "train_masks_cat = to_categorical(y_train, num_classes=n_classes)\n",
    "y_train_cat = train_masks_cat.reshape((y_train.shape[0], y_train.shape[1], y_train.shape[2], n_classes))"
   ]
  },
  {
   "cell_type": "code",
   "execution_count": 26,
   "id": "3f506944",
   "metadata": {},
   "outputs": [],
   "source": [
    "test_masks_cat = to_categorical(y_test, num_classes=n_classes)\n",
    "y_test_cat = test_masks_cat.reshape((y_test.shape[0], y_test.shape[1], y_test.shape[2], n_classes))"
   ]
  },
  {
   "cell_type": "code",
   "execution_count": 27,
   "id": "b25ccf95",
   "metadata": {},
   "outputs": [
    {
     "data": {
      "text/plain": [
       "array([[[0],\n",
       "        [2],\n",
       "        [2],\n",
       "        ...,\n",
       "        [2],\n",
       "        [2],\n",
       "        [2]],\n",
       "\n",
       "       [[2],\n",
       "        [2],\n",
       "        [2],\n",
       "        ...,\n",
       "        [1],\n",
       "        [1],\n",
       "        [1]],\n",
       "\n",
       "       [[2],\n",
       "        [2],\n",
       "        [2],\n",
       "        ...,\n",
       "        [1],\n",
       "        [1],\n",
       "        [1]],\n",
       "\n",
       "       ...,\n",
       "\n",
       "       [[0],\n",
       "        [0],\n",
       "        [0],\n",
       "        ...,\n",
       "        [2],\n",
       "        [1],\n",
       "        [1]],\n",
       "\n",
       "       [[2],\n",
       "        [2],\n",
       "        [2],\n",
       "        ...,\n",
       "        [1],\n",
       "        [1],\n",
       "        [1]],\n",
       "\n",
       "       [[2],\n",
       "        [2],\n",
       "        [2],\n",
       "        ...,\n",
       "        [1],\n",
       "        [1],\n",
       "        [1]]], dtype=int64)"
      ]
     },
     "execution_count": 27,
     "metadata": {},
     "output_type": "execute_result"
    }
   ],
   "source": [
    "y_train[1]"
   ]
  },
  {
   "cell_type": "code",
   "execution_count": 28,
   "id": "e6937ca1",
   "metadata": {},
   "outputs": [
    {
     "data": {
      "text/plain": [
       "array([[[1., 0., 0., 0.],\n",
       "        [0., 0., 1., 0.],\n",
       "        [0., 0., 1., 0.],\n",
       "        ...,\n",
       "        [0., 0., 1., 0.],\n",
       "        [0., 0., 1., 0.],\n",
       "        [0., 0., 1., 0.]],\n",
       "\n",
       "       [[0., 0., 1., 0.],\n",
       "        [0., 0., 1., 0.],\n",
       "        [0., 0., 1., 0.],\n",
       "        ...,\n",
       "        [0., 1., 0., 0.],\n",
       "        [0., 1., 0., 0.],\n",
       "        [0., 1., 0., 0.]],\n",
       "\n",
       "       [[0., 0., 1., 0.],\n",
       "        [0., 0., 1., 0.],\n",
       "        [0., 0., 1., 0.],\n",
       "        ...,\n",
       "        [0., 1., 0., 0.],\n",
       "        [0., 1., 0., 0.],\n",
       "        [0., 1., 0., 0.]],\n",
       "\n",
       "       ...,\n",
       "\n",
       "       [[1., 0., 0., 0.],\n",
       "        [1., 0., 0., 0.],\n",
       "        [1., 0., 0., 0.],\n",
       "        ...,\n",
       "        [0., 0., 1., 0.],\n",
       "        [0., 1., 0., 0.],\n",
       "        [0., 1., 0., 0.]],\n",
       "\n",
       "       [[0., 0., 1., 0.],\n",
       "        [0., 0., 1., 0.],\n",
       "        [0., 0., 1., 0.],\n",
       "        ...,\n",
       "        [0., 1., 0., 0.],\n",
       "        [0., 1., 0., 0.],\n",
       "        [0., 1., 0., 0.]],\n",
       "\n",
       "       [[0., 0., 1., 0.],\n",
       "        [0., 0., 1., 0.],\n",
       "        [0., 0., 1., 0.],\n",
       "        ...,\n",
       "        [0., 1., 0., 0.],\n",
       "        [0., 1., 0., 0.],\n",
       "        [0., 1., 0., 0.]]], dtype=float32)"
      ]
     },
     "execution_count": 28,
     "metadata": {},
     "output_type": "execute_result"
    }
   ],
   "source": [
    "y_train_cat[1]"
   ]
  },
  {
   "cell_type": "code",
   "execution_count": 29,
   "id": "c56f93f0",
   "metadata": {},
   "outputs": [
    {
     "name": "stderr",
     "output_type": "stream",
     "text": [
      "C:\\Users\\alif-\\AppData\\Roaming\\Python\\Python39\\site-packages\\sklearn\\utils\\validation.py:70: FutureWarning: Pass classes=[0 1 2 3], y=[2 2 2 ... 2 2 2] as keyword args. From version 1.0 (renaming of 0.25) passing these as positional arguments will result in an error\n",
      "  warnings.warn(f\"Pass {args_msg} as keyword args. From version \"\n"
     ]
    },
    {
     "name": "stdout",
     "output_type": "stream",
     "text": [
      "Class weights are... [1.93354786 3.07345989 0.32786918 9.30640739]\n"
     ]
    }
   ],
   "source": [
    "from sklearn.utils import class_weight\n",
    "class_weights = class_weight.compute_class_weight(\"balanced\",\n",
    "                                                 np.unique(train_masks_reshaped_encoded),\n",
    "                                                 train_masks_reshaped_encoded)\n",
    "print(\"Class weights are...\", class_weights)"
   ]
  },
  {
   "cell_type": "code",
   "execution_count": 30,
   "id": "5b93c83b",
   "metadata": {},
   "outputs": [],
   "source": [
    "IMG_HEIGHT = X_train.shape[1]\n",
    "IMG_WIDTH = X_train.shape[2]\n",
    "IMG_CHANNELS = X_train.shape[3]"
   ]
  },
  {
   "cell_type": "code",
   "execution_count": 31,
   "id": "1be97a0f",
   "metadata": {},
   "outputs": [],
   "source": [
    "model = multi_unet_model(n_classes=n_classes, IMG_HEIGHT=IMG_HEIGHT, IMG_WIDTH=IMG_WIDTH, IMG_CHANNELS=IMG_CHANNELS)"
   ]
  },
  {
   "cell_type": "code",
   "execution_count": 32,
   "id": "cc3f8184",
   "metadata": {},
   "outputs": [
    {
     "name": "stdout",
     "output_type": "stream",
     "text": [
      "Model: \"model\"\n",
      "__________________________________________________________________________________________________\n",
      "Layer (type)                    Output Shape         Param #     Connected to                     \n",
      "==================================================================================================\n",
      "input_1 (InputLayer)            [(None, 128, 128, 1) 0                                            \n",
      "__________________________________________________________________________________________________\n",
      "conv2d (Conv2D)                 (None, 128, 128, 16) 160         input_1[0][0]                    \n",
      "__________________________________________________________________________________________________\n",
      "dropout (Dropout)               (None, 128, 128, 16) 0           conv2d[0][0]                     \n",
      "__________________________________________________________________________________________________\n",
      "conv2d_1 (Conv2D)               (None, 128, 128, 16) 2320        dropout[0][0]                    \n",
      "__________________________________________________________________________________________________\n",
      "max_pooling2d (MaxPooling2D)    (None, 64, 64, 16)   0           conv2d_1[0][0]                   \n",
      "__________________________________________________________________________________________________\n",
      "conv2d_2 (Conv2D)               (None, 64, 64, 32)   4640        max_pooling2d[0][0]              \n",
      "__________________________________________________________________________________________________\n",
      "dropout_1 (Dropout)             (None, 64, 64, 32)   0           conv2d_2[0][0]                   \n",
      "__________________________________________________________________________________________________\n",
      "conv2d_3 (Conv2D)               (None, 64, 64, 32)   9248        dropout_1[0][0]                  \n",
      "__________________________________________________________________________________________________\n",
      "max_pooling2d_1 (MaxPooling2D)  (None, 32, 32, 32)   0           conv2d_3[0][0]                   \n",
      "__________________________________________________________________________________________________\n",
      "conv2d_4 (Conv2D)               (None, 32, 32, 64)   18496       max_pooling2d_1[0][0]            \n",
      "__________________________________________________________________________________________________\n",
      "dropout_2 (Dropout)             (None, 32, 32, 64)   0           conv2d_4[0][0]                   \n",
      "__________________________________________________________________________________________________\n",
      "conv2d_5 (Conv2D)               (None, 32, 32, 64)   36928       dropout_2[0][0]                  \n",
      "__________________________________________________________________________________________________\n",
      "max_pooling2d_2 (MaxPooling2D)  (None, 16, 16, 64)   0           conv2d_5[0][0]                   \n",
      "__________________________________________________________________________________________________\n",
      "conv2d_6 (Conv2D)               (None, 16, 16, 128)  73856       max_pooling2d_2[0][0]            \n",
      "__________________________________________________________________________________________________\n",
      "dropout_3 (Dropout)             (None, 16, 16, 128)  0           conv2d_6[0][0]                   \n",
      "__________________________________________________________________________________________________\n",
      "conv2d_7 (Conv2D)               (None, 16, 16, 128)  147584      dropout_3[0][0]                  \n",
      "__________________________________________________________________________________________________\n",
      "max_pooling2d_3 (MaxPooling2D)  (None, 8, 8, 128)    0           conv2d_7[0][0]                   \n",
      "__________________________________________________________________________________________________\n",
      "conv2d_8 (Conv2D)               (None, 8, 8, 256)    295168      max_pooling2d_3[0][0]            \n",
      "__________________________________________________________________________________________________\n",
      "dropout_4 (Dropout)             (None, 8, 8, 256)    0           conv2d_8[0][0]                   \n",
      "__________________________________________________________________________________________________\n",
      "conv2d_9 (Conv2D)               (None, 8, 8, 256)    590080      dropout_4[0][0]                  \n",
      "__________________________________________________________________________________________________\n",
      "conv2d_transpose (Conv2DTranspo (None, 16, 16, 128)  131200      conv2d_9[0][0]                   \n",
      "__________________________________________________________________________________________________\n",
      "concatenate (Concatenate)       (None, 16, 16, 256)  0           conv2d_transpose[0][0]           \n",
      "                                                                 conv2d_7[0][0]                   \n",
      "__________________________________________________________________________________________________\n",
      "conv2d_10 (Conv2D)              (None, 16, 16, 128)  295040      concatenate[0][0]                \n",
      "__________________________________________________________________________________________________\n",
      "dropout_5 (Dropout)             (None, 16, 16, 128)  0           conv2d_10[0][0]                  \n",
      "__________________________________________________________________________________________________\n",
      "conv2d_11 (Conv2D)              (None, 16, 16, 128)  147584      dropout_5[0][0]                  \n",
      "__________________________________________________________________________________________________\n",
      "conv2d_transpose_1 (Conv2DTrans (None, 32, 32, 64)   32832       conv2d_11[0][0]                  \n",
      "__________________________________________________________________________________________________\n",
      "concatenate_1 (Concatenate)     (None, 32, 32, 128)  0           conv2d_transpose_1[0][0]         \n",
      "                                                                 conv2d_5[0][0]                   \n",
      "__________________________________________________________________________________________________\n",
      "conv2d_12 (Conv2D)              (None, 32, 32, 64)   73792       concatenate_1[0][0]              \n",
      "__________________________________________________________________________________________________\n",
      "dropout_6 (Dropout)             (None, 32, 32, 64)   0           conv2d_12[0][0]                  \n",
      "__________________________________________________________________________________________________\n",
      "conv2d_13 (Conv2D)              (None, 32, 32, 64)   36928       dropout_6[0][0]                  \n",
      "__________________________________________________________________________________________________\n",
      "conv2d_transpose_2 (Conv2DTrans (None, 64, 64, 32)   8224        conv2d_13[0][0]                  \n",
      "__________________________________________________________________________________________________\n",
      "concatenate_2 (Concatenate)     (None, 64, 64, 64)   0           conv2d_transpose_2[0][0]         \n",
      "                                                                 conv2d_3[0][0]                   \n",
      "__________________________________________________________________________________________________\n",
      "conv2d_14 (Conv2D)              (None, 64, 64, 32)   18464       concatenate_2[0][0]              \n",
      "__________________________________________________________________________________________________\n",
      "dropout_7 (Dropout)             (None, 64, 64, 32)   0           conv2d_14[0][0]                  \n",
      "__________________________________________________________________________________________________\n",
      "conv2d_15 (Conv2D)              (None, 64, 64, 32)   9248        dropout_7[0][0]                  \n",
      "__________________________________________________________________________________________________\n",
      "conv2d_transpose_3 (Conv2DTrans (None, 128, 128, 16) 2064        conv2d_15[0][0]                  \n",
      "__________________________________________________________________________________________________\n",
      "concatenate_3 (Concatenate)     (None, 128, 128, 32) 0           conv2d_transpose_3[0][0]         \n",
      "                                                                 conv2d_1[0][0]                   \n",
      "__________________________________________________________________________________________________\n",
      "conv2d_16 (Conv2D)              (None, 128, 128, 16) 4624        concatenate_3[0][0]              \n",
      "__________________________________________________________________________________________________\n",
      "dropout_8 (Dropout)             (None, 128, 128, 16) 0           conv2d_16[0][0]                  \n",
      "__________________________________________________________________________________________________\n",
      "conv2d_17 (Conv2D)              (None, 128, 128, 16) 2320        dropout_8[0][0]                  \n",
      "__________________________________________________________________________________________________\n",
      "conv2d_18 (Conv2D)              (None, 128, 128, 4)  68          conv2d_17[0][0]                  \n",
      "==================================================================================================\n",
      "Total params: 1,940,868\n",
      "Trainable params: 1,940,868\n",
      "Non-trainable params: 0\n",
      "__________________________________________________________________________________________________\n"
     ]
    }
   ],
   "source": [
    "model.compile(optimizer=\"adam\", loss=\"categorical_crossentropy\", metrics=[\"accuracy\"])\n",
    "model.summary()"
   ]
  },
  {
   "cell_type": "code",
   "execution_count": 35,
   "id": "87bfc70a",
   "metadata": {},
   "outputs": [
    {
     "name": "stdout",
     "output_type": "stream",
     "text": [
      "Num GPUs Available:  4\n"
     ]
    }
   ],
   "source": [
    "import tensorflow\n",
    "print(\"Num GPUs Available: \", len(tensorflow.config.list_physical_devices('GPU')))"
   ]
  },
  {
   "cell_type": "code",
   "execution_count": 38,
   "id": "cebb3d44",
   "metadata": {},
   "outputs": [
    {
     "name": "stdout",
     "output_type": "stream",
     "text": [
      "Device mapping:\n",
      "/job:localhost/replica:0/task:0/device:GPU:0 -> device: 0, name: NVIDIA GeForce RTX 3060 Ti, pci bus id: 0000:04:00.0, compute capability: 8.6\n",
      "/job:localhost/replica:0/task:0/device:GPU:1 -> device: 1, name: NVIDIA GeForce RTX 3060 Ti, pci bus id: 0000:06:00.0, compute capability: 8.6\n",
      "/job:localhost/replica:0/task:0/device:GPU:2 -> device: 2, name: NVIDIA GeForce RTX 3060 Ti, pci bus id: 0000:08:00.0, compute capability: 8.6\n",
      "/job:localhost/replica:0/task:0/device:GPU:3 -> device: 3, name: NVIDIA GeForce RTX 3060, pci bus id: 0000:0b:00.0, compute capability: 8.6\n",
      "\n"
     ]
    }
   ],
   "source": [
    "sess = tensorflow.compat.v1.Session(config=tensorflow.compat.v1.ConfigProto(log_device_placement=True))"
   ]
  },
  {
   "cell_type": "code",
   "execution_count": 39,
   "id": "e1e76e2d",
   "metadata": {
    "scrolled": true
   },
   "outputs": [
    {
     "name": "stdout",
     "output_type": "stream",
     "text": [
      "Epoch 1/50\n",
      "90/90 [==============================] - 32s 61ms/step - loss: 1.0020 - accuracy: 0.6257 - val_loss: 0.4989 - val_accuracy: 0.8641\n",
      "Epoch 2/50\n",
      "90/90 [==============================] - 5s 52ms/step - loss: 0.4533 - accuracy: 0.8707 - val_loss: 0.4103 - val_accuracy: 0.8780\n",
      "Epoch 3/50\n",
      "90/90 [==============================] - 5s 52ms/step - loss: 0.3898 - accuracy: 0.8765 - val_loss: 0.3985 - val_accuracy: 0.8784\n",
      "Epoch 4/50\n",
      "90/90 [==============================] - 5s 52ms/step - loss: 0.3272 - accuracy: 0.8812 - val_loss: 0.3689 - val_accuracy: 0.8833\n",
      "Epoch 5/50\n",
      "90/90 [==============================] - 5s 52ms/step - loss: 0.2980 - accuracy: 0.8889 - val_loss: 0.3178 - val_accuracy: 0.9057\n",
      "Epoch 6/50\n",
      "90/90 [==============================] - 5s 52ms/step - loss: 0.2413 - accuracy: 0.9155 - val_loss: 0.2799 - val_accuracy: 0.9146\n",
      "Epoch 7/50\n",
      "90/90 [==============================] - 5s 52ms/step - loss: 0.2165 - accuracy: 0.9238 - val_loss: 0.2192 - val_accuracy: 0.9312\n",
      "Epoch 8/50\n",
      "90/90 [==============================] - 5s 52ms/step - loss: 0.2071 - accuracy: 0.9279 - val_loss: 0.1784 - val_accuracy: 0.9392\n",
      "Epoch 9/50\n",
      "90/90 [==============================] - 5s 52ms/step - loss: 0.1941 - accuracy: 0.9329 - val_loss: 0.1661 - val_accuracy: 0.9432\n",
      "Epoch 10/50\n",
      "90/90 [==============================] - 5s 51ms/step - loss: 0.1949 - accuracy: 0.9333 - val_loss: 0.1510 - val_accuracy: 0.9475\n",
      "Epoch 11/50\n",
      "90/90 [==============================] - 5s 51ms/step - loss: 0.1867 - accuracy: 0.9363 - val_loss: 0.1431 - val_accuracy: 0.9497\n",
      "Epoch 12/50\n",
      "90/90 [==============================] - 5s 52ms/step - loss: 0.1893 - accuracy: 0.9353 - val_loss: 0.1436 - val_accuracy: 0.9495\n",
      "Epoch 13/50\n",
      "90/90 [==============================] - 5s 51ms/step - loss: 0.1735 - accuracy: 0.9409 - val_loss: 0.1483 - val_accuracy: 0.9479\n",
      "Epoch 14/50\n",
      "90/90 [==============================] - 5s 52ms/step - loss: 0.1655 - accuracy: 0.9438 - val_loss: 0.1455 - val_accuracy: 0.9486\n",
      "Epoch 15/50\n",
      "90/90 [==============================] - 5s 52ms/step - loss: 0.1620 - accuracy: 0.9447 - val_loss: 0.1452 - val_accuracy: 0.9496\n",
      "Epoch 16/50\n",
      "90/90 [==============================] - 5s 52ms/step - loss: 0.1574 - accuracy: 0.9461 - val_loss: 0.1499 - val_accuracy: 0.9481\n",
      "Epoch 17/50\n",
      "90/90 [==============================] - 5s 52ms/step - loss: 0.1578 - accuracy: 0.9460 - val_loss: 0.1516 - val_accuracy: 0.9469\n",
      "Epoch 18/50\n",
      "90/90 [==============================] - 5s 51ms/step - loss: 0.1506 - accuracy: 0.9484 - val_loss: 0.1411 - val_accuracy: 0.9507\n",
      "Epoch 19/50\n",
      "90/90 [==============================] - 5s 52ms/step - loss: 0.1461 - accuracy: 0.9496 - val_loss: 0.1412 - val_accuracy: 0.9525\n",
      "Epoch 20/50\n",
      "90/90 [==============================] - 5s 52ms/step - loss: 0.1517 - accuracy: 0.9468 - val_loss: 0.1479 - val_accuracy: 0.9503\n",
      "Epoch 21/50\n",
      "90/90 [==============================] - 5s 52ms/step - loss: 0.1418 - accuracy: 0.9508 - val_loss: 0.1388 - val_accuracy: 0.9532\n",
      "Epoch 22/50\n",
      "90/90 [==============================] - 5s 52ms/step - loss: 0.1422 - accuracy: 0.9503 - val_loss: 0.1382 - val_accuracy: 0.9530\n",
      "Epoch 23/50\n",
      "90/90 [==============================] - 5s 51ms/step - loss: 0.1421 - accuracy: 0.9500 - val_loss: 0.1424 - val_accuracy: 0.9510\n",
      "Epoch 24/50\n",
      "90/90 [==============================] - 5s 52ms/step - loss: 0.1494 - accuracy: 0.9475 - val_loss: 0.1497 - val_accuracy: 0.9498\n",
      "Epoch 25/50\n",
      "90/90 [==============================] - 5s 52ms/step - loss: 0.1444 - accuracy: 0.9485 - val_loss: 0.1453 - val_accuracy: 0.9518\n",
      "Epoch 26/50\n",
      "90/90 [==============================] - 5s 51ms/step - loss: 0.1372 - accuracy: 0.9515 - val_loss: 0.1377 - val_accuracy: 0.9537\n",
      "Epoch 27/50\n",
      "90/90 [==============================] - 5s 51ms/step - loss: 0.1342 - accuracy: 0.9518 - val_loss: 0.1553 - val_accuracy: 0.9475\n",
      "Epoch 28/50\n",
      "90/90 [==============================] - 5s 52ms/step - loss: 0.1315 - accuracy: 0.9525 - val_loss: 0.1393 - val_accuracy: 0.9536\n",
      "Epoch 29/50\n",
      "90/90 [==============================] - 5s 51ms/step - loss: 0.1223 - accuracy: 0.9547 - val_loss: 0.1468 - val_accuracy: 0.9524\n",
      "Epoch 30/50\n",
      "90/90 [==============================] - 5s 51ms/step - loss: 0.1158 - accuracy: 0.9560 - val_loss: 0.1411 - val_accuracy: 0.9534\n",
      "Epoch 31/50\n",
      "90/90 [==============================] - 5s 52ms/step - loss: 0.1104 - accuracy: 0.9579 - val_loss: 0.1417 - val_accuracy: 0.9541\n",
      "Epoch 32/50\n",
      "90/90 [==============================] - 5s 52ms/step - loss: 0.1168 - accuracy: 0.9552 - val_loss: 0.1336 - val_accuracy: 0.9559\n",
      "Epoch 33/50\n",
      "90/90 [==============================] - 5s 52ms/step - loss: 0.1067 - accuracy: 0.9588 - val_loss: 0.1333 - val_accuracy: 0.9555\n",
      "Epoch 34/50\n",
      "90/90 [==============================] - 5s 52ms/step - loss: 0.1007 - accuracy: 0.9607 - val_loss: 0.1417 - val_accuracy: 0.9542\n",
      "Epoch 35/50\n",
      "90/90 [==============================] - 5s 52ms/step - loss: 0.0948 - accuracy: 0.9625 - val_loss: 0.1385 - val_accuracy: 0.9565\n",
      "Epoch 36/50\n",
      "90/90 [==============================] - 5s 52ms/step - loss: 0.0968 - accuracy: 0.9620 - val_loss: 0.1254 - val_accuracy: 0.9573\n",
      "Epoch 37/50\n",
      "90/90 [==============================] - 5s 52ms/step - loss: 0.0930 - accuracy: 0.9633 - val_loss: 0.1342 - val_accuracy: 0.9571\n",
      "Epoch 38/50\n",
      "90/90 [==============================] - 5s 51ms/step - loss: 0.0883 - accuracy: 0.9649 - val_loss: 0.1400 - val_accuracy: 0.9570\n",
      "Epoch 39/50\n",
      "90/90 [==============================] - 5s 51ms/step - loss: 0.0863 - accuracy: 0.9655 - val_loss: 0.1405 - val_accuracy: 0.9558\n",
      "Epoch 40/50\n",
      "90/90 [==============================] - 5s 52ms/step - loss: 0.0839 - accuracy: 0.9664 - val_loss: 0.1412 - val_accuracy: 0.9573\n",
      "Epoch 41/50\n",
      "90/90 [==============================] - 5s 52ms/step - loss: 0.0826 - accuracy: 0.9669 - val_loss: 0.1434 - val_accuracy: 0.9577\n",
      "Epoch 42/50\n",
      "90/90 [==============================] - 5s 51ms/step - loss: 0.0797 - accuracy: 0.9679 - val_loss: 0.1370 - val_accuracy: 0.9590\n",
      "Epoch 43/50\n",
      "90/90 [==============================] - 5s 51ms/step - loss: 0.0792 - accuracy: 0.9682 - val_loss: 0.1333 - val_accuracy: 0.9591\n",
      "Epoch 44/50\n",
      "90/90 [==============================] - 5s 51ms/step - loss: 0.0787 - accuracy: 0.9684 - val_loss: 0.1433 - val_accuracy: 0.9578\n",
      "Epoch 45/50\n",
      "90/90 [==============================] - 5s 51ms/step - loss: 0.0782 - accuracy: 0.9684 - val_loss: 0.1376 - val_accuracy: 0.9588\n",
      "Epoch 46/50\n",
      "90/90 [==============================] - 5s 51ms/step - loss: 0.0767 - accuracy: 0.9691 - val_loss: 0.1353 - val_accuracy: 0.9599\n",
      "Epoch 47/50\n",
      "90/90 [==============================] - 5s 51ms/step - loss: 0.0769 - accuracy: 0.9690 - val_loss: 0.1365 - val_accuracy: 0.9587\n",
      "Epoch 48/50\n",
      "90/90 [==============================] - 5s 52ms/step - loss: 0.0801 - accuracy: 0.9680 - val_loss: 0.1457 - val_accuracy: 0.9585\n",
      "Epoch 49/50\n",
      "90/90 [==============================] - 5s 51ms/step - loss: 0.0756 - accuracy: 0.9696 - val_loss: 0.1381 - val_accuracy: 0.9591\n",
      "Epoch 50/50\n",
      "90/90 [==============================] - 5s 52ms/step - loss: 0.0765 - accuracy: 0.9692 - val_loss: 0.1415 - val_accuracy: 0.9584\n"
     ]
    }
   ],
   "source": [
    "history = model.fit(X_train, y_train_cat,\n",
    "                   batch_size = 16,\n",
    "                   verbose = 1,\n",
    "                   epochs = 50,\n",
    "                   validation_data = (X_test, y_test_cat),\n",
    "                   shuffle=False)"
   ]
  },
  {
   "cell_type": "code",
   "execution_count": 40,
   "id": "93906f4b",
   "metadata": {},
   "outputs": [
    {
     "name": "stdout",
     "output_type": "stream",
     "text": [
      "5/5 [==============================] - 1s 41ms/step - loss: 0.1415 - accuracy: 0.9584\n",
      "Accuracy is:  95.84106206893921 %\n"
     ]
    }
   ],
   "source": [
    "model.save(\"sandstone_segmentation_50_epochs_v1.hdf5\")\n",
    "_, acc = model.evaluate(X_test, y_test_cat)\n",
    "print(\"Accuracy is: \", (acc * 100.0), \"%\")"
   ]
  },
  {
   "cell_type": "code",
   "execution_count": 41,
   "id": "3b2978a1",
   "metadata": {},
   "outputs": [
    {
     "data": {
      "image/png": "[encoded data removed]",
      "text/plain": [
       "<Figure size 640x480 with 1 Axes>"
      ]
     },
     "metadata": {},
     "output_type": "display_data"
    }
   ],
   "source": [
    "loss = history.history[\"loss\"]\n",
    "val_loss = history.history[\"val_loss\"]\n",
    "epochs = range(1, len(loss) + 1)\n",
    "plt.plot(epochs, val_loss, \"r\", label=\"Validation loss\")\n",
    "plt.title(\"Training and validation loss\")\n",
    "plt.xlabel(\"Epochs\")\n",
    "plt.ylabel(\"Loss\")\n",
    "plt.legend()\n",
    "plt.show()"
   ]
  },
  {
   "cell_type": "code",
   "execution_count": 42,
   "id": "48bb9297",
   "metadata": {},
   "outputs": [],
   "source": [
    "model.load_weights(\"sandstone_segmentation_50_epochs_v1.hdf5\")"
   ]
  },
  {
   "cell_type": "code",
   "execution_count": 43,
   "id": "413d2fa2",
   "metadata": {},
   "outputs": [],
   "source": [
    "y_pred = model.predict(X_test)\n",
    "y_pred_argmax = np.argmax(y_pred, axis=3)"
   ]
  },
  {
   "cell_type": "code",
   "execution_count": 44,
   "id": "ada85ea7",
   "metadata": {},
   "outputs": [
    {
     "name": "stdout",
     "output_type": "stream",
     "text": [
      "Mean IoU =  0.8430151\n"
     ]
    }
   ],
   "source": [
    "from keras.metrics import MeanIoU\n",
    "n_classes = 4\n",
    "IOU_keras = MeanIoU(num_classes=n_classes)\n",
    "IOU_keras.update_state(y_test[:,:,:,0], y_pred_argmax)\n",
    "print(\"Mean IoU = \", IOU_keras.result().numpy())"
   ]
  },
  {
   "cell_type": "code",
   "execution_count": 50,
   "id": "6e29de50",
   "metadata": {},
   "outputs": [
    {
     "name": "stdout",
     "output_type": "stream",
     "text": [
      "[[3.137010e+05 1.248100e+04 7.739000e+03 6.000000e+00]\n",
      " [7.414000e+03 1.314890e+05 5.749900e+04 0.000000e+00]\n",
      " [6.377000e+03 8.862000e+03 1.980717e+06 3.367000e+03]\n",
      " [0.000000e+00 0.000000e+00 5.279000e+03 8.650900e+04]]\n"
     ]
    }
   ],
   "source": [
    "values = np.array(IOU_keras.get_weights()).reshape(n_classes, n_classes)\n",
    "print(values)\n",
    "class1_IoU = values[0,0]/(values[0,0] + values[0,1] + values[0,2] + values[0,3] + values[1,0]+ values[2,0]+ values[3,0])\n",
    "class2_IoU = values[1,1]/(values[1,1] + values[1,0] + values[1,2] + values[1,3] + values[0,1]+ values[2,1]+ values[3,1])\n",
    "class3_IoU = values[2,2]/(values[2,2] + values[2,0] + values[2,1] + values[2,3] + values[0,2]+ values[1,2]+ values[3,2])\n",
    "class4_IoU = values[3,3]/(values[3,3] + values[3,0] + values[3,1] + values[3,2] + values[0,3]+ values[1,3]+ values[2,3])"
   ]
  },
  {
   "cell_type": "code",
   "execution_count": 51,
   "id": "4d1b01fb",
   "metadata": {},
   "outputs": [
    {
     "name": "stdout",
     "output_type": "stream",
     "text": [
      "IoU for class 1 is:  0.9021707\n",
      "IoU for class 2 is:  0.60386693\n",
      "IoU for class 3 is:  0.9569421\n",
      "IoU for class 4 is:  0.9090804\n"
     ]
    }
   ],
   "source": [
    "print(\"IoU for class 1 is: \", class1_IoU)\n",
    "print(\"IoU for class 2 is: \", class2_IoU)\n",
    "print(\"IoU for class 3 is: \", class3_IoU)\n",
    "print(\"IoU for class 4 is: \", class4_IoU)"
   ]
  },
  {
   "cell_type": "code",
   "execution_count": null,
   "id": "c9d783cf",
   "metadata": {},
   "outputs": [],
   "source": []
  }
 ],
 "metadata": {
  "kernelspec": {
   "display_name": "Python 3",
   "language": "python",
   "name": "python3"
  },
  "language_info": {
   "codemirror_mode": {
    "name": "ipython",
    "version": 3
   },
   "file_extension": ".py",
   "mimetype": "text/x-python",
   "name": "python",
   "nbconvert_exporter": "python",
   "pygments_lexer": "ipython3",
   "version": "3.9.6"
  }
 },
 "nbformat": 4,
 "nbformat_minor": 5
}
