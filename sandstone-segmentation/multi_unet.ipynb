{
 "cells": [
  {
   "cell_type": "code",
   "execution_count": null,
   "id": "af56e891",
   "metadata": {},
   "outputs": [],
   "source": [
    "import sys\n",
    "!{sys.executable} -m pip install tensorflow --user\n",
    "!{sys.executable} -m pip install imageio --user"
   ]
  },
  {
   "cell_type": "code",
   "execution_count": null,
   "id": "53613bcf",
   "metadata": {},
   "outputs": [],
   "source": [
    "!{sys.executable} -m pip install keras --user"
   ]
  },
  {
   "cell_type": "code",
   "execution_count": 19,
   "id": "8569a648",
   "metadata": {},
   "outputs": [
    {
     "name": "stdout",
     "output_type": "stream",
     "text": [
      "Collecting keras.utils\n",
      "  Downloading keras-utils-1.0.13.tar.gz (2.4 kB)\n",
      "Requirement already satisfied: Keras>=2.1.5 in c:\\users\\alif-\\anaconda3\\envs\\tf2.5\\lib\\site-packages (from keras.utils) (2.4.3)\n",
      "Requirement already satisfied: scipy>=0.14 in c:\\users\\alif-\\appdata\\roaming\\python\\python39\\site-packages (from Keras>=2.1.5->keras.utils) (1.6.3)\n",
      "Requirement already satisfied: h5py in c:\\users\\alif-\\appdata\\roaming\\python\\python39\\site-packages (from Keras>=2.1.5->keras.utils) (3.1.0)\n",
      "Requirement already satisfied: numpy>=1.9.1 in c:\\users\\alif-\\appdata\\roaming\\python\\python39\\site-packages (from Keras>=2.1.5->keras.utils) (1.19.5)\n",
      "Requirement already satisfied: pyyaml in c:\\users\\alif-\\anaconda3\\envs\\tf2.5\\lib\\site-packages (from Keras>=2.1.5->keras.utils) (5.4.1)\n",
      "Building wheels for collected packages: keras.utils\n",
      "  Building wheel for keras.utils (setup.py): started\n",
      "  Building wheel for keras.utils (setup.py): finished with status 'done'\n",
      "  Created wheel for keras.utils: filename=keras_utils-1.0.13-py3-none-any.whl size=2657 sha256=10160b1d1570f999d8cfa15d022d0a58e5e5c4dddf5134a97dbf0792222a4d44\n",
      "  Stored in directory: c:\\users\\alif-\\appdata\\local\\pip\\cache\\wheels\\fd\\b9\\6e\\25d4c3a3c0319873aeeab6592c5b4bb9e2af0fec21a0b5188c\n",
      "Successfully built keras.utils\n",
      "Installing collected packages: keras.utils\n",
      "Successfully installed keras.utils-1.0.13\n"
     ]
    }
   ],
   "source": [
    "!{sys.executable} -m pip install keras.utils --user"
   ]
  },
  {
   "cell_type": "code",
   "execution_count": 27,
   "id": "821b7107",
   "metadata": {},
   "outputs": [
    {
     "name": "stdout",
     "output_type": "stream",
     "text": [
      "Requirement already satisfied: pip in c:\\users\\alif-\\anaconda3\\envs\\tf2.5\\lib\\site-packages (21.2.2)\n",
      "Collecting pip\n",
      "  Downloading pip-21.2.4-py3-none-any.whl (1.6 MB)\n",
      "Installing collected packages: pip\n",
      "  Attempting uninstall: pip\n",
      "    Found existing installation: pip 21.2.2\n",
      "    Uninstalling pip-21.2.2:\n",
      "      Successfully uninstalled pip-21.2.2\n",
      "Successfully installed pip-21.2.4\n"
     ]
    },
    {
     "name": "stderr",
     "output_type": "stream",
     "text": [
      "  WARNING: The scripts pip.exe, pip3.9.exe and pip3.exe are installed in 'C:\\Users\\alif-\\anaconda3\\envs\\tf2.5\\Scripts' which is not on PATH.\n",
      "  Consider adding this directory to PATH or, if you prefer to suppress this warning, use --no-warn-script-location.\n"
     ]
    }
   ],
   "source": [
    "!{sys.executable} -m pip install --upgrade pip"
   ]
  },
  {
   "cell_type": "code",
   "execution_count": 29,
   "id": "c4df5f4f",
   "metadata": {},
   "outputs": [
    {
     "name": "stdout",
     "output_type": "stream",
     "text": [
      "Collecting opencv-python\n",
      "  Using cached opencv_python-4.5.3.56-cp39-cp39-win_amd64.whl (34.9 MB)\n",
      "Requirement already satisfied: numpy>=1.19.3 in c:\\users\\alif-\\appdata\\roaming\\python\\python39\\site-packages (from opencv-python) (1.19.5)\n",
      "Installing collected packages: opencv-python\n",
      "Successfully installed opencv-python-4.5.3.56\n"
     ]
    }
   ],
   "source": [
    "!{sys.executable} -m pip install opencv-python --user"
   ]
  },
  {
   "cell_type": "code",
   "execution_count": 32,
   "id": "850522e2",
   "metadata": {},
   "outputs": [
    {
     "name": "stdout",
     "output_type": "stream",
     "text": [
      "Collecting matplotlib\n",
      "  Using cached matplotlib-3.4.3-cp39-cp39-win_amd64.whl (7.1 MB)\n",
      "Collecting cycler>=0.10\n",
      "  Using cached cycler-0.10.0-py2.py3-none-any.whl (6.5 kB)\n",
      "Collecting python-dateutil>=2.7\n",
      "  Using cached python_dateutil-2.8.2-py2.py3-none-any.whl (247 kB)\n",
      "Collecting pillow>=6.2.0\n",
      "  Using cached Pillow-8.3.2-cp39-cp39-win_amd64.whl (3.2 MB)\n",
      "Collecting pyparsing>=2.2.1\n",
      "  Using cached pyparsing-2.4.7-py2.py3-none-any.whl (67 kB)\n",
      "Collecting kiwisolver>=1.0.1\n",
      "  Using cached kiwisolver-1.3.2-cp39-cp39-win_amd64.whl (52 kB)\n",
      "Collecting numpy>=1.16\n",
      "  Using cached numpy-1.21.2-cp39-cp39-win_amd64.whl (14.0 MB)\n",
      "Collecting six\n",
      "  Using cached six-1.16.0-py2.py3-none-any.whl (11 kB)\n",
      "Installing collected packages: six, python-dateutil, pyparsing, pillow, numpy, kiwisolver, cycler, matplotlib\n",
      "  Attempting uninstall: numpy\n",
      "    Found existing installation: numpy 1.19.5\n",
      "    Uninstalling numpy-1.19.5:\n",
      "      Successfully uninstalled numpy-1.19.5\n",
      "Successfully installed cycler-0.10.0 kiwisolver-1.3.2 matplotlib-3.4.3 numpy-1.21.2 pillow-8.3.2 pyparsing-2.4.7 python-dateutil-2.8.2 six-1.16.0\n"
     ]
    },
    {
     "name": "stderr",
     "output_type": "stream",
     "text": [
      "WARNING: Ignoring invalid distribution -illow (c:\\users\\alif-\\anaconda3\\envs\\tf2.5\\lib\\site-packages)\n",
      "WARNING: Ignoring invalid distribution -illow (c:\\users\\alif-\\anaconda3\\envs\\tf2.5\\lib\\site-packages)\n",
      "WARNING: Ignoring invalid distribution -illow (c:\\users\\alif-\\anaconda3\\envs\\tf2.5\\lib\\site-packages)\n",
      "ERROR: pip's dependency resolver does not currently take into account all the packages that are installed. This behaviour is the source of the following dependency conflicts.\n",
      "tensorflow 2.5.0 requires numpy~=1.19.2, but you have numpy 1.21.2 which is incompatible.\n",
      "tensorflow 2.5.0 requires six~=1.15.0, but you have six 1.16.0 which is incompatible.\n",
      "WARNING: Ignoring invalid distribution -illow (c:\\users\\alif-\\anaconda3\\envs\\tf2.5\\lib\\site-packages)\n",
      "WARNING: Ignoring invalid distribution -illow (c:\\users\\alif-\\anaconda3\\envs\\tf2.5\\lib\\site-packages)\n"
     ]
    }
   ],
   "source": [
    "!{sys.executable} -m pip install matplotlib --force-reinstall --user"
   ]
  },
  {
   "cell_type": "code",
   "execution_count": null,
   "id": "e09a4f55",
   "metadata": {},
   "outputs": [],
   "source": [
    "# Code works after downgrading scipy to 1.6.3\n",
    "# pip install scipy==1.6.3 --user \n",
    "!{sys.executable} -m pip show scipy"
   ]
  },
  {
   "cell_type": "code",
   "execution_count": null,
   "id": "5c1401ef",
   "metadata": {},
   "outputs": [],
   "source": [
    "import sys\n",
    "sys.path.append('C:\\\\users\\\\alif-\\\\appdata\\\\roaming\\\\python\\\\python38\\\\site-packages')\n",
    "sys.path.append('C:\\\\users\\\\alif-\\\\anaconda3\\\\lib\\\\site-packages')"
   ]
  },
  {
   "cell_type": "code",
   "execution_count": 3,
   "id": "9ae106af",
   "metadata": {},
   "outputs": [],
   "source": [
    "from keras.models import Model\n",
    "from keras.layers import Input, Conv2D, MaxPooling2D, UpSampling2D, concatenate, Conv2DTranspose, BatchNormalization, Dropout, Lambda"
   ]
  },
  {
   "cell_type": "code",
   "execution_count": 4,
   "id": "e7579bde",
   "metadata": {},
   "outputs": [],
   "source": [
    "def multi_unet_model(n_classes=4, IMG_HEIGHT=256, IMG_WIDTH=256, IMG_CHANNELS=1):\n",
    "    inputs = Input((IMG_HEIGHT, IMG_WIDTH, IMG_CHANNELS))\n",
    "    s = inputs\n",
    "    \n",
    "    # Info: what is the contraction path?\n",
    "    c1 = Conv2D(16, (3, 3), activation=\"relu\", kernel_initializer=\"he_normal\", padding=\"same\")(s)\n",
    "    c1 = Dropout(0.1)(c1)\n",
    "    c1 = Conv2D(16, (3, 3), activation=\"relu\", kernel_initializer=\"he_normal\", padding=\"same\")(c1)\n",
    "    p1 = MaxPooling2D((2, 2))(c1)\n",
    "    \n",
    "    c2 = Conv2D(32, (3, 3), activation=\"relu\", kernel_initializer=\"he_normal\", padding=\"same\")(p1)\n",
    "    c2 = Dropout(0.1)(c2)\n",
    "    c2 = Conv2D(32, (3, 3), activation=\"relu\", kernel_initializer=\"he_normal\", padding=\"same\")(c2)\n",
    "    p2 = MaxPooling2D((2, 2))(c2)\n",
    "    \n",
    "    c3 = Conv2D(64, (3, 3), activation=\"relu\", kernel_initializer=\"he_normal\", padding=\"same\")(p2)\n",
    "    c3 = Dropout(0.2)(c3)\n",
    "    c3 = Conv2D(64, (3, 3), activation=\"relu\", kernel_initializer=\"he_normal\", padding=\"same\")(c3)\n",
    "    p3 = MaxPooling2D((2, 2))(c3)\n",
    "    \n",
    "    c4 = Conv2D(128, (3, 3), activation=\"relu\", kernel_initializer=\"he_normal\", padding=\"same\")(p3)\n",
    "    c4 = Dropout(0.2)(c4)\n",
    "    c4 = Conv2D(128, (3, 3), activation=\"relu\", kernel_initializer=\"he_normal\", padding=\"same\")(c4)\n",
    "    p4 = MaxPooling2D((2, 2))(c4)\n",
    "    \n",
    "    c5 = Conv2D(256, (3, 3), activation=\"relu\", kernel_initializer=\"he_normal\", padding=\"same\")(p3)\n",
    "    c5 = Dropout(0.3)(c5)\n",
    "    c5 = Conv2D(256, (3, 3), activation=\"relu\", kernel_initializer=\"he_normal\", padding=\"same\")(c5)\n",
    "    p5 = MaxPooling2D((2, 2))(c5)\n",
    "    \n",
    "    # Info: what is the expansion path?\n",
    "    # Info: how do we know which layers to concatenate?\n",
    "    u6 = Conv2DTranspose(128, (2,2), strides=(2, 2), padding=\"same\")(c5)\n",
    "    u6 = concatenate([u6, c4])\n",
    "    c6 = Conv2D(128, (3,3), activation=\"relu\", kernel_initializer=\"he_normal\", padding=\"same\")(u6)\n",
    "    c6 = Dropout(0.2)(c6)\n",
    "    c6 = Conv2D(128, (3, 3), activation=\"relu\", kernel_initializer=\"he_normal\", padding=\"same\")(c6)\n",
    "    \n",
    "    u7 = Conv2DTranspose(64, (2,2), strides=(2, 2), padding=\"same\")(c6)\n",
    "    u7 = concatenate([u7, c3])\n",
    "    c7 = Conv2D(64, (3,3), activation=\"relu\", kernel_initializer=\"he_normal\", padding=\"same\")(u7)\n",
    "    c7 = Dropout(0.2)(c7)\n",
    "    c7 = Conv2D(64, (3, 3), activation=\"relu\", kernel_initializer=\"he_normal\", padding=\"same\")(c7)\n",
    "    \n",
    "    u8 = Conv2DTranspose(32, (2,2), strides=(2, 2), padding=\"same\")(c7)\n",
    "    u8 = concatenate([u8, c2])\n",
    "    c8 = Conv2D(32, (3,3), activation=\"relu\", kernel_initializer=\"he_normal\", padding=\"same\")(u8)\n",
    "    c8 = Dropout(0.1)(c8)\n",
    "    c8 = Conv2D(32, (3, 3), activation=\"relu\", kernel_initializer=\"he_normal\", padding=\"same\")(c8)\n",
    "    \n",
    "    u9 = Conv2DTranspose(16, (2,2), strides=(2, 2), padding=\"same\")(c8)\n",
    "    u9 = concatenate([u9, c1], axis=3)\n",
    "    c9 = Conv2D(16, (3,3), activation=\"relu\", kernel_initializer=\"he_normal\", padding=\"same\")(u9)\n",
    "    c9 = Dropout(0.1)(c9)\n",
    "    c9 = Conv2D(16, (3, 3), activation=\"relu\", kernel_initializer=\"he_normal\", padding=\"same\")(c9) \n",
    "    \n",
    "    # Info: why perform a convolution on the output layer?\n",
    "    outputs = Conv2D(n_classes, (1,1), activation=\"softmax\")(c9)\n",
    "    model = Model(inputs=[inputs], outputs=[ouputs])\n",
    "    \n",
    "    return model"
   ]
  }
 ],
 "metadata": {
  "kernelspec": {
   "display_name": "Python 3",
   "language": "python",
   "name": "python3"
  },
  "language_info": {
   "codemirror_mode": {
    "name": "ipython",
    "version": 3
   },
   "file_extension": ".py",
   "mimetype": "text/x-python",
   "name": "python",
   "nbconvert_exporter": "python",
   "pygments_lexer": "ipython3",
   "version": "3.9.6"
  }
 },
 "nbformat": 4,
 "nbformat_minor": 5
}
