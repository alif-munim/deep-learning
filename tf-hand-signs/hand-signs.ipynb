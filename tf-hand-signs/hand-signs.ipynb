{
 "cells": [
  {
   "cell_type": "code",
   "execution_count": null,
   "id": "caf3d9f4",
   "metadata": {},
   "outputs": [],
   "source": [
    "import sys\n",
    "!{sys.executable} -m pip install tensorflow --user\n",
    "!{sys.executable} -m pip install imageio --user"
   ]
  },
  {
   "cell_type": "code",
   "execution_count": 4,
   "id": "b58c1c72",
   "metadata": {},
   "outputs": [
    {
     "name": "stdout",
     "output_type": "stream",
     "text": [
      "Name: tensorflow\n",
      "Version: 2.5.0\n",
      "Summary: TensorFlow is an open source machine learning framework for everyone.\n",
      "Home-page: https://www.tensorflow.org/\n",
      "Author: Google Inc.\n",
      "Author-email: packages@tensorflow.org\n",
      "License: Apache 2.0\n",
      "Location: c:\\users\\alif-\\appdata\\roaming\\python\\python38\\site-packages\n",
      "Requires: wheel, protobuf, flatbuffers, numpy, keras-preprocessing, opt-einsum, termcolor, typing-extensions, gast, absl-py, keras-nightly, astunparse, h5py, six, tensorflow-estimator, google-pasta, tensorboard, grpcio, wrapt\n",
      "Required-by: \n"
     ]
    }
   ],
   "source": [
    "!{sys.executable} -m pip show tensorflow"
   ]
  },
  {
   "cell_type": "code",
   "execution_count": 5,
   "id": "7ac233a2",
   "metadata": {},
   "outputs": [
    {
     "data": {
      "text/plain": [
       "'C:\\\\Users\\\\alif-\\\\Projects\\\\deep-learning\\\\tf-hand-signs'"
      ]
     },
     "execution_count": 5,
     "metadata": {},
     "output_type": "execute_result"
    }
   ],
   "source": [
    "import os\n",
    "os.getcwd() "
   ]
  },
  {
   "cell_type": "code",
   "execution_count": 13,
   "id": "6445ac37",
   "metadata": {},
   "outputs": [],
   "source": [
    "import sys\n",
    "sys.path.append('C:\\\\users\\\\alif-\\\\appdata\\\\roaming\\\\python\\\\python38\\\\site-packages')\n",
    "sys.path.append('C:\\\\users\\\\alif-\\\\anaconda3\\\\lib\\\\site-packages')"
   ]
  },
  {
   "cell_type": "code",
   "execution_count": 15,
   "id": "eedf0b5c",
   "metadata": {},
   "outputs": [],
   "source": [
    "import h5py\n",
    "import numpy as np\n",
    "import tensorflow as tf\n",
    "import matplotlib.pyplot as plt\n",
    "from tensorflow.python.framework.ops import EagerTensor\n",
    "from tensorflow.python.ops.resource_variable_ops import ResourceVariable\n",
    "import time\n",
    "import imageio"
   ]
  },
  {
   "cell_type": "code",
   "execution_count": 8,
   "id": "a363b4d1",
   "metadata": {},
   "outputs": [],
   "source": [
    "train_set = h5py.File('data/train_signs.h5', \"r\")\n",
    "test_set = h5py.File('data/test_signs.h5', \"r\")"
   ]
  },
  {
   "cell_type": "code",
   "execution_count": 9,
   "id": "434b8ce8",
   "metadata": {},
   "outputs": [
    {
     "data": {
      "text/plain": [
       "['list_classes', 'train_set_x', 'train_set_y']"
      ]
     },
     "execution_count": 9,
     "metadata": {},
     "output_type": "execute_result"
    }
   ],
   "source": [
    "[key for key in train_set.keys()]"
   ]
  },
  {
   "cell_type": "code",
   "execution_count": 108,
   "id": "6e152cdc",
   "metadata": {},
   "outputs": [
    {
     "name": "stdout",
     "output_type": "stream",
     "text": [
      "(64, 64, 3)\n"
     ]
    }
   ],
   "source": [
    "dataset_train_x = train_set['train_set_x']\n",
    "data_train_x = np.array(tsetx[:,:,:])\n",
    "print(data_train_x[1].shape)"
   ]
  },
  {
   "cell_type": "code",
   "execution_count": 109,
   "id": "2369cf2a",
   "metadata": {},
   "outputs": [
    {
     "name": "stdout",
     "output_type": "stream",
     "text": [
      "0\n"
     ]
    }
   ],
   "source": [
    "dataset_train_y = train_set['train_set_y']\n",
    "data_train_y = np.array(dataset_train_y[:])\n",
    "print(data_train_y[1])"
   ]
  },
  {
   "cell_type": "code",
   "execution_count": 16,
   "id": "a853dcde",
   "metadata": {},
   "outputs": [],
   "source": [
    "file = 'test.png' # or .jpg\n",
    "imageio.imwrite(file, data[1])"
   ]
  },
  {
   "cell_type": "code",
   "execution_count": 123,
   "id": "a290f02c",
   "metadata": {},
   "outputs": [
    {
     "name": "stdout",
     "output_type": "stream",
     "text": [
      "2\n"
     ]
    },
    {
     "data": {
      "image/png": "[encoded data removed]",
      "text/plain": [
       "<Figure size 432x288 with 1 Axes>"
      ]
     },
     "metadata": {
      "needs_background": "light"
     },
     "output_type": "display_data"
    }
   ],
   "source": [
    "ex_num = 10\n",
    "plt.imshow(data_train_x[ex_num])\n",
    "print(data_train_y[ex_num])"
   ]
  },
  {
   "cell_type": "code",
   "execution_count": 21,
   "id": "7ce5f889",
   "metadata": {},
   "outputs": [],
   "source": [
    "train_x = tf.data.Dataset.from_tensor_slices(train_set['train_set_x'])\n",
    "train_y = tf.data.Dataset.from_tensor_slices(train_set['train_set_y'])"
   ]
  },
  {
   "cell_type": "code",
   "execution_count": 22,
   "id": "129bc479",
   "metadata": {},
   "outputs": [
    {
     "data": {
      "text/plain": [
       "['list_classes', 'test_set_x', 'test_set_y']"
      ]
     },
     "execution_count": 22,
     "metadata": {},
     "output_type": "execute_result"
    }
   ],
   "source": [
    "[key for key in test_set.keys()]"
   ]
  },
  {
   "cell_type": "code",
   "execution_count": 24,
   "id": "b45bd2ae",
   "metadata": {},
   "outputs": [],
   "source": [
    "test_x = tf.data.Dataset.from_tensor_slices(test_set['test_set_x'])\n",
    "test_y = tf.data.Dataset.from_tensor_slices(test_set['test_set_y'])"
   ]
  },
  {
   "cell_type": "code",
   "execution_count": 25,
   "id": "9125b639",
   "metadata": {},
   "outputs": [
    {
     "data": {
      "text/plain": [
       "tensorflow.python.data.ops.dataset_ops.TensorSliceDataset"
      ]
     },
     "execution_count": 25,
     "metadata": {},
     "output_type": "execute_result"
    }
   ],
   "source": [
    "type(train_x)"
   ]
  },
  {
   "cell_type": "code",
   "execution_count": 26,
   "id": "2e9e5630",
   "metadata": {},
   "outputs": [
    {
     "name": "stdout",
     "output_type": "stream",
     "text": [
      "TensorSpec(shape=(), dtype=tf.int64, name=None)\n"
     ]
    }
   ],
   "source": [
    "print(train_y.element_spec)"
   ]
  },
  {
   "cell_type": "code",
   "execution_count": 27,
   "id": "5adc0d2f",
   "metadata": {},
   "outputs": [
    {
     "name": "stdout",
     "output_type": "stream",
     "text": [
      "tf.Tensor(\n",
      "[[[227 220 214]\n",
      "  [227 221 215]\n",
      "  [227 222 215]\n",
      "  ...\n",
      "  [232 230 224]\n",
      "  [231 229 222]\n",
      "  [230 229 221]]\n",
      "\n",
      " [[227 221 214]\n",
      "  [227 221 215]\n",
      "  [228 221 215]\n",
      "  ...\n",
      "  [232 230 224]\n",
      "  [231 229 222]\n",
      "  [231 229 221]]\n",
      "\n",
      " [[227 221 214]\n",
      "  [227 221 214]\n",
      "  [227 221 215]\n",
      "  ...\n",
      "  [232 230 224]\n",
      "  [231 229 223]\n",
      "  [230 229 221]]\n",
      "\n",
      " ...\n",
      "\n",
      " [[119  81  51]\n",
      "  [124  85  55]\n",
      "  [127  87  58]\n",
      "  ...\n",
      "  [210 211 211]\n",
      "  [211 212 210]\n",
      "  [210 211 210]]\n",
      "\n",
      " [[119  79  51]\n",
      "  [124  84  55]\n",
      "  [126  85  56]\n",
      "  ...\n",
      "  [210 211 210]\n",
      "  [210 211 210]\n",
      "  [209 210 209]]\n",
      "\n",
      " [[119  81  51]\n",
      "  [123  83  55]\n",
      "  [122  82  54]\n",
      "  ...\n",
      "  [209 210 210]\n",
      "  [209 210 209]\n",
      "  [208 209 209]]], shape=(64, 64, 3), dtype=uint8)\n"
     ]
    }
   ],
   "source": [
    "for element in train_x:\n",
    "    print(element)\n",
    "    break"
   ]
  },
  {
   "cell_type": "code",
   "execution_count": 28,
   "id": "dc549eac",
   "metadata": {},
   "outputs": [],
   "source": [
    "def unroll(image):\n",
    "    image = tf.cast(image, tf.float32) / 256.0\n",
    "    image = tf.reshape(image, [-1,1])\n",
    "    return image"
   ]
  },
  {
   "cell_type": "code",
   "execution_count": 29,
   "id": "0baaf1dd",
   "metadata": {},
   "outputs": [],
   "source": [
    "unroll_train = train_x.map(unroll)\n",
    "unroll_test = test_x.map(unroll)"
   ]
  },
  {
   "cell_type": "code",
   "execution_count": 30,
   "id": "2a3837ea",
   "metadata": {},
   "outputs": [
    {
     "data": {
      "text/plain": [
       "TensorSpec(shape=(12288, 1), dtype=tf.float32, name=None)"
      ]
     },
     "execution_count": 30,
     "metadata": {},
     "output_type": "execute_result"
    }
   ],
   "source": [
    "unroll_train.element_spec"
   ]
  },
  {
   "cell_type": "code",
   "execution_count": 31,
   "id": "17bdcbfa",
   "metadata": {},
   "outputs": [
    {
     "name": "stdout",
     "output_type": "stream",
     "text": [
      "tf.Tensor(\n",
      "[[0.88671875]\n",
      " [0.859375  ]\n",
      " [0.8359375 ]\n",
      " ...\n",
      " [0.8125    ]\n",
      " [0.81640625]\n",
      " [0.81640625]], shape=(12288, 1), dtype=float32)\n"
     ]
    }
   ],
   "source": [
    "print(next(iter(unroll_train)))"
   ]
  },
  {
   "cell_type": "code",
   "execution_count": 53,
   "id": "90ee4e79",
   "metadata": {},
   "outputs": [],
   "source": [
    "def one_hot(label, depth=6):\n",
    "    one_hot = tf.reshape(tf.one_hot(label, depth, axis=0), (depth, 1))\n",
    "    return one_hot"
   ]
  },
  {
   "cell_type": "code",
   "execution_count": 55,
   "id": "9e3e579b",
   "metadata": {},
   "outputs": [],
   "source": [
    "oh_test_y = test_y.map(one_hot)\n",
    "oh_train_y = train_y.map(one_hot)"
   ]
  },
  {
   "cell_type": "code",
   "execution_count": 96,
   "id": "c54acd98",
   "metadata": {},
   "outputs": [],
   "source": [
    "def initialize():\n",
    "    initializer = tf.keras.initializers.GlorotNormal(seed=1)\n",
    "    \n",
    "    W1 = tf.Variable(initializer(shape=(25,12288)))\n",
    "    b1 = tf.Variable(initializer(shape=(25,1)))\n",
    "    W2 = tf.Variable(initializer(shape=(12, 25)))\n",
    "    b2 = tf.Variable(initializer(shape=(12, 1)))\n",
    "    W3 = tf.Variable(initializer(shape=(6, 12)))\n",
    "    b3 = tf.Variable(initializer(shape=(6, 1)))\n",
    "    \n",
    "    parameters = {\n",
    "        \"W1\": W1,\n",
    "        \"b1\": b1,\n",
    "        \"W2\": W2,\n",
    "        \"b2\": b2,\n",
    "        \"W3\": W3,\n",
    "        \"b3\": b3\n",
    "    }\n",
    "    \n",
    "    return parameters"
   ]
  },
  {
   "cell_type": "code",
   "execution_count": 97,
   "id": "d89ccd83",
   "metadata": {},
   "outputs": [],
   "source": [
    "parameters = initialize()"
   ]
  },
  {
   "cell_type": "code",
   "execution_count": 98,
   "id": "07c22a65",
   "metadata": {},
   "outputs": [],
   "source": [
    "@tf.function\n",
    "def forward_propagation(X, parameters):\n",
    "    W1 = parameters[\"W1\"]\n",
    "    b1 = parameters[\"b1\"]\n",
    "    W2 = parameters[\"W2\"]\n",
    "    b2 = parameters[\"b2\"]\n",
    "    W3 = parameters[\"W3\"]\n",
    "    b3 = parameters[\"b3\"]\n",
    "    \n",
    "    \n",
    "    Z1 = tf.add(tf.linalg.matmul(W1, X), b1)\n",
    "    A1 = tf.keras.activations.relu(Z1)\n",
    "    Z2 = tf.add(tf.linalg.matmul(W2, A1), b2)\n",
    "    A2 = tf.keras.activations.relu(Z2)\n",
    "    Z3 = tf.add(tf.linalg.matmul(W3, A2), b3)\n",
    "    \n",
    "    return Z3"
   ]
  },
  {
   "cell_type": "code",
   "execution_count": 50,
   "id": "045dcee7",
   "metadata": {},
   "outputs": [],
   "source": [
    "@tf.function\n",
    "def compute_cost(true, pred):\n",
    "    cost = tf.reduce_mean(tf.keras.losses.binary_crossentropy(y_true = true, y_pred = pred, from_logits=True))\n",
    "    return cost"
   ]
  },
  {
   "cell_type": "code",
   "execution_count": 146,
   "id": "87c18870",
   "metadata": {},
   "outputs": [],
   "source": [
    "def model(train_x, train_y, test_x, test_y, alpha = 0.0001, epochs = 1500, minibatch_size = 32):\n",
    "    costs = []\n",
    "    parameters = initialize()\n",
    "    W1 = parameters[\"W1\"]\n",
    "    b1 = parameters[\"b1\"]\n",
    "    W2 = parameters[\"W2\"]\n",
    "    b2 = parameters[\"b2\"]\n",
    "    W3 = parameters[\"W3\"]\n",
    "    b3 = parameters[\"b3\"]\n",
    "    \n",
    "    optimizer = tf.keras.optimizers.SGD(alpha)\n",
    "    \n",
    "    train_x = train_x.batch(minibatch_size, drop_remainder=True).prefetch(8)\n",
    "    train_y = train_y.batch(minibatch_size, drop_remainder=True).prefetch(8)\n",
    "    \n",
    "    for epoch in range(epochs):\n",
    "        epoch_cost = 0.\n",
    "        for (minibatch_x, minibatch_y) in zip(train_x, train_y):\n",
    "            with tf.GradientTape() as tape:\n",
    "                Z3 = forward_propogation(minibatch_x, parameters)\n",
    "                minibatch_cost = compute_cost(minibatch_y, Z3)\n",
    "            \n",
    "            trainable_vars = [W1, b1, W2, b2, W3, b3]\n",
    "            grads = tape.gradient(minibatch_cost, trainable_vars)\n",
    "            optimizer.apply_gradients(zip(grads, trainable_vars))\n",
    "            epoch_cost += minibatch_cost / minibatch_size\n",
    "        \n",
    "        if epoch % 50 == 0:\n",
    "            print(\"Cost after epoch %i: %f\" % (epoch, epoch_cost))\n",
    "        if epoch % 10 == 0:\n",
    "            costs.append(epoch_cost)\n",
    "            \n",
    "    plt.plot(np.squeeze(costs))\n",
    "    plt.ylabel(\"cost\")\n",
    "    plt.xlabel(\"iterations\")\n",
    "    plt.title(\"Learning rate (alpha) = \" + str(alpha))\n",
    "    plt.show()\n",
    "    \n",
    "    print(\"Neural network has been trained :)\")\n",
    "    \n",
    "    return parameters"
   ]
  },
  {
   "cell_type": "code",
   "execution_count": 147,
   "id": "cffca148",
   "metadata": {},
   "outputs": [
    {
     "name": "stdout",
     "output_type": "stream",
     "text": [
      "Cost after epoch 0: 0.742591\n",
      "Cost after epoch 50: 0.570628\n",
      "Cost after epoch 100: 0.478259\n",
      "Cost after epoch 150: 0.461677\n",
      "Cost after epoch 200: 0.454389\n",
      "Cost after epoch 250: 0.448733\n",
      "Cost after epoch 300: 0.443804\n",
      "Cost after epoch 350: 0.439379\n",
      "Cost after epoch 400: 0.435242\n",
      "Cost after epoch 450: 0.431319\n",
      "Cost after epoch 500: 0.427482\n",
      "Cost after epoch 550: 0.423722\n",
      "Cost after epoch 600: 0.420121\n",
      "Cost after epoch 650: 0.416455\n",
      "Cost after epoch 700: 0.412911\n",
      "Cost after epoch 750: 0.409474\n",
      "Cost after epoch 800: 0.406121\n",
      "Cost after epoch 850: 0.402855\n",
      "Cost after epoch 900: 0.399664\n",
      "Cost after epoch 950: 0.396548\n",
      "Cost after epoch 1000: 0.393498\n",
      "Cost after epoch 1050: 0.390507\n",
      "Cost after epoch 1100: 0.387572\n",
      "Cost after epoch 1150: 0.384689\n",
      "Cost after epoch 1200: 0.381858\n",
      "Cost after epoch 1250: 0.379065\n",
      "Cost after epoch 1300: 0.376318\n",
      "Cost after epoch 1350: 0.373627\n",
      "Cost after epoch 1400: 0.370976\n",
      "Cost after epoch 1450: 0.368374\n"
     ]
    },
    {
     "data": {
      "image/png": "[encoded data removed]",
      "text/plain": [
       "<Figure size 432x288 with 1 Axes>"
      ]
     },
     "metadata": {
      "needs_background": "light"
     },
     "output_type": "display_data"
    },
    {
     "name": "stdout",
     "output_type": "stream",
     "text": [
      "Neural network has been trained :)\n"
     ]
    }
   ],
   "source": [
    "trained_params = model(unroll_train, oh_train_y, unroll_test, oh_test_y, epochs=1500)"
   ]
  },
  {
   "cell_type": "code",
   "execution_count": 181,
   "id": "e6a038b1",
   "metadata": {},
   "outputs": [],
   "source": [
    "test_ex = 10"
   ]
  },
  {
   "cell_type": "code",
   "execution_count": 182,
   "id": "3bbc2fee",
   "metadata": {},
   "outputs": [
    {
     "name": "stdout",
     "output_type": "stream",
     "text": [
      "tf.Tensor(\n",
      "[[-1.7616302]\n",
      " [-1.913258 ]\n",
      " [-1.5660504]\n",
      " [-2.1797438]\n",
      " [-1.5808117]\n",
      " [-1.7054181]], shape=(6, 1), dtype=float32)\n"
     ]
    }
   ],
   "source": [
    "test_Z3 = forward_propogation(unroll(data_train_x[test_ex]), trained_params)\n",
    "print(test_Z3)"
   ]
  },
  {
   "cell_type": "code",
   "execution_count": 183,
   "id": "979d7bf3",
   "metadata": {},
   "outputs": [
    {
     "name": "stdout",
     "output_type": "stream",
     "text": [
      "tf.Tensor(\n",
      "[[0.14658627]\n",
      " [0.12861526]\n",
      " [0.17278016]\n",
      " [0.10158426]\n",
      " [0.17068055]\n",
      " [0.15375894]], shape=(6, 1), dtype=float32)\n"
     ]
    }
   ],
   "source": [
    "test_A3 = tf.keras.activations.sigmoid(test_Z3)\n",
    "print(test_A3)"
   ]
  },
  {
   "cell_type": "code",
   "execution_count": 184,
   "id": "0b37a371",
   "metadata": {},
   "outputs": [
    {
     "name": "stdout",
     "output_type": "stream",
     "text": [
      "Predicted number: 2\n"
     ]
    }
   ],
   "source": [
    "print(\"Predicted number: %i\" % np.argmax(np.squeeze(test_A3)))"
   ]
  },
  {
   "cell_type": "code",
   "execution_count": 185,
   "id": "6274c583",
   "metadata": {},
   "outputs": [
    {
     "name": "stdout",
     "output_type": "stream",
     "text": [
      "Actual number: 2\n"
     ]
    },
    {
     "data": {
      "image/png": "[encoded data removed]",
      "text/plain": [
       "<Figure size 432x288 with 1 Axes>"
      ]
     },
     "metadata": {
      "needs_background": "light"
     },
     "output_type": "display_data"
    }
   ],
   "source": [
    "plt.imshow(data_train_x[test_ex])\n",
    "print(\"Actual number: %i\" % data_train_y[test_ex])"
   ]
  }
 ],
 "metadata": {
  "kernelspec": {
   "display_name": "Python 3",
   "language": "python",
   "name": "python3"
  },
  "language_info": {
   "codemirror_mode": {
    "name": "ipython",
    "version": 3
   },
   "file_extension": ".py",
   "mimetype": "text/x-python",
   "name": "python",
   "nbconvert_exporter": "python",
   "pygments_lexer": "ipython3",
   "version": "3.8.8"
  }
 },
 "nbformat": 4,
 "nbformat_minor": 5
}
