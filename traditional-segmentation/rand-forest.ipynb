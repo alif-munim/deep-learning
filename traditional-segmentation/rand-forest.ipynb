{
 "cells": [
  {
   "cell_type": "code",
   "execution_count": 22,
   "id": "21550604",
   "metadata": {},
   "outputs": [],
   "source": [
    "import numpy as np\n",
    "import cv2\n",
    "import pandas as pd"
   ]
  },
  {
   "cell_type": "markdown",
   "id": "2c8be523",
   "metadata": {},
   "source": [
    "## Feature Engineering and Extraction"
   ]
  },
  {
   "cell_type": "code",
   "execution_count": 23,
   "id": "50e38f2c",
   "metadata": {},
   "outputs": [],
   "source": [
    "img = cv2.imread(\"Train_images/Sandstone_Versa0000.tif\")\n",
    "img = cv2.cvtColor(img, cv2.COLOR_BGR2GRAY)"
   ]
  },
  {
   "cell_type": "code",
   "execution_count": 24,
   "id": "ae938121",
   "metadata": {},
   "outputs": [],
   "source": [
    "# Create dataframe and engineer features\n",
    "df = pd.DataFrame()\n",
    "\n",
    "# Feature: original pixel values\n",
    "img2 = img.reshape(-1)\n",
    "df[\"Original Image\"] = img2  "
   ]
  },
  {
   "cell_type": "code",
   "execution_count": 25,
   "id": "66715a45",
   "metadata": {},
   "outputs": [
    {
     "name": "stdout",
     "output_type": "stream",
     "text": [
      "Gabor1 : theta= 0.0 : sigma= 1 : lamda= 0.0 : gamma= 0.05\n",
      "Gabor2 : theta= 0.0 : sigma= 1 : lamda= 0.0 : gamma= 0.5\n",
      "Gabor3 : theta= 0.0 : sigma= 1 : lamda= 0.7853981633974483 : gamma= 0.05\n",
      "Gabor4 : theta= 0.0 : sigma= 1 : lamda= 0.7853981633974483 : gamma= 0.5\n",
      "Gabor5 : theta= 0.0 : sigma= 1 : lamda= 1.5707963267948966 : gamma= 0.05\n",
      "Gabor6 : theta= 0.0 : sigma= 1 : lamda= 1.5707963267948966 : gamma= 0.5\n",
      "Gabor7 : theta= 0.0 : sigma= 1 : lamda= 2.356194490192345 : gamma= 0.05\n",
      "Gabor8 : theta= 0.0 : sigma= 1 : lamda= 2.356194490192345 : gamma= 0.5\n",
      "Gabor9 : theta= 0.0 : sigma= 3 : lamda= 0.0 : gamma= 0.05\n",
      "Gabor10 : theta= 0.0 : sigma= 3 : lamda= 0.0 : gamma= 0.5\n",
      "Gabor11 : theta= 0.0 : sigma= 3 : lamda= 0.7853981633974483 : gamma= 0.05\n",
      "Gabor12 : theta= 0.0 : sigma= 3 : lamda= 0.7853981633974483 : gamma= 0.5\n",
      "Gabor13 : theta= 0.0 : sigma= 3 : lamda= 1.5707963267948966 : gamma= 0.05\n",
      "Gabor14 : theta= 0.0 : sigma= 3 : lamda= 1.5707963267948966 : gamma= 0.5\n",
      "Gabor15 : theta= 0.0 : sigma= 3 : lamda= 2.356194490192345 : gamma= 0.05\n",
      "Gabor16 : theta= 0.0 : sigma= 3 : lamda= 2.356194490192345 : gamma= 0.5\n",
      "Gabor17 : theta= 0.7853981633974483 : sigma= 1 : lamda= 0.0 : gamma= 0.05\n",
      "Gabor18 : theta= 0.7853981633974483 : sigma= 1 : lamda= 0.0 : gamma= 0.5\n",
      "Gabor19 : theta= 0.7853981633974483 : sigma= 1 : lamda= 0.7853981633974483 : gamma= 0.05\n",
      "Gabor20 : theta= 0.7853981633974483 : sigma= 1 : lamda= 0.7853981633974483 : gamma= 0.5\n",
      "Gabor21 : theta= 0.7853981633974483 : sigma= 1 : lamda= 1.5707963267948966 : gamma= 0.05\n",
      "Gabor22 : theta= 0.7853981633974483 : sigma= 1 : lamda= 1.5707963267948966 : gamma= 0.5\n",
      "Gabor23 : theta= 0.7853981633974483 : sigma= 1 : lamda= 2.356194490192345 : gamma= 0.05\n",
      "Gabor24 : theta= 0.7853981633974483 : sigma= 1 : lamda= 2.356194490192345 : gamma= 0.5\n",
      "Gabor25 : theta= 0.7853981633974483 : sigma= 3 : lamda= 0.0 : gamma= 0.05\n",
      "Gabor26 : theta= 0.7853981633974483 : sigma= 3 : lamda= 0.0 : gamma= 0.5\n",
      "Gabor27 : theta= 0.7853981633974483 : sigma= 3 : lamda= 0.7853981633974483 : gamma= 0.05\n",
      "Gabor28 : theta= 0.7853981633974483 : sigma= 3 : lamda= 0.7853981633974483 : gamma= 0.5\n",
      "Gabor29 : theta= 0.7853981633974483 : sigma= 3 : lamda= 1.5707963267948966 : gamma= 0.05\n",
      "Gabor30 : theta= 0.7853981633974483 : sigma= 3 : lamda= 1.5707963267948966 : gamma= 0.5\n",
      "Gabor31 : theta= 0.7853981633974483 : sigma= 3 : lamda= 2.356194490192345 : gamma= 0.05\n",
      "Gabor32 : theta= 0.7853981633974483 : sigma= 3 : lamda= 2.356194490192345 : gamma= 0.5\n"
     ]
    }
   ],
   "source": [
    "# Feature: first set of Gabor features by applying filters to original image\n",
    "# Apply 32 generated Gabor filters w/ various parameters to image \n",
    "num = 1\n",
    "kernels = []\n",
    "for theta in range(2):\n",
    "    theta = theta / 4. * np.pi\n",
    "    for sigma in (1, 3):\n",
    "        for lamda in np.arange(0, np.pi, np.pi / 4):\n",
    "            for gamma in (0.05, 0.5):\n",
    "                gabor_label = \"Gabor\" + str(num)\n",
    "                ksize = 5\n",
    "                kernel = cv2.getGaborKernel(\n",
    "                    (ksize, ksize), \n",
    "                    sigma, theta, lamda, gamma, 0, \n",
    "                    ktype=cv2.CV_32F)\n",
    "                kernels.append(kernel)\n",
    "                fimg = cv2.filter2D(img2, cv2.CV_8UC3, kernel)\n",
    "                filtered_img = fimg.reshape(-1)\n",
    "                df[gabor_label] = filtered_img\n",
    "                print(gabor_label, \": theta=\", theta, \": sigma=\", sigma,\n",
    "                     \": lamda=\", lamda, \": gamma=\", gamma)\n",
    "                num += 1"
   ]
  },
  {
   "cell_type": "code",
   "execution_count": 26,
   "id": "23ab4a86",
   "metadata": {},
   "outputs": [],
   "source": [
    "# Canny edge; edge detection filter\n",
    "edges = cv2.Canny(img, 100, 200)\n",
    "edges1 = edges.reshape(-1)\n",
    "df[\"Canny Edge\"] = edges1"
   ]
  },
  {
   "cell_type": "code",
   "execution_count": 27,
   "id": "d2f6492b",
   "metadata": {},
   "outputs": [],
   "source": [
    "# Some more filters\n",
    "from skimage.filters import roberts, sobel, scharr, prewitt\n",
    "edge_roberts = roberts(img)\n",
    "edge_roberts1 = edge_roberts.reshape(-1)\n",
    "df[\"Roberts\"] = edge_roberts1\n",
    "\n",
    "edge_sobel = sobel(img)\n",
    "edge_sobel1 = edge_sobel.reshape(-1)\n",
    "df[\"Sobel\"] = edge_sobel1\n",
    "\n",
    "edge_scharr = scharr(img)\n",
    "edge_scharr1 = edge_scharr.reshape(-1)\n",
    "df[\"Scharr\"] = edge_scharr1\n",
    "\n",
    "edge_prewitt = prewitt(img)\n",
    "edge_prewitt1 = edge_prewitt.reshape(-1)\n",
    "df[\"Prewitt\"] = edge_prewitt1"
   ]
  },
  {
   "cell_type": "code",
   "execution_count": 28,
   "id": "6cd80977",
   "metadata": {},
   "outputs": [],
   "source": [
    "from scipy import ndimage as nd\n",
    "gaussian_img = nd.gaussian_filter(img, sigma=3)\n",
    "gaussian_img1 = gaussian_img.reshape(-1)\n",
    "df[\"Gaussian s3\"] = gaussian_img1\n",
    "\n",
    "gaussian_img2 = nd.gaussian_filter(img, sigma=7)\n",
    "gaussian_img3 = gaussian_img2.reshape(-1)\n",
    "df[\"Gaussian s7\"] = gaussian_img3\n",
    "\n",
    "median_img = nd.median_filter(img, size=3)\n",
    "median_img1 = median_img.reshape(-1)\n",
    "df[\"Median s3\"] = median_img1\n",
    "\n",
    "# variance_img = nd.generic_filter(img, np.var, size=3)\n",
    "# variance_img1 = variance_img.reshape(-1)\n",
    "# df[\"Variance s3\"] = variance_img1"
   ]
  },
  {
   "cell_type": "code",
   "execution_count": 29,
   "id": "85603158",
   "metadata": {},
   "outputs": [],
   "source": [
    "# Add a column for mask (ground truth)\n",
    "labeled_img = cv2.imread(\"Train_masks/Sandstone_Versa0000.tif\")\n",
    "labeled_img = cv2.cvtColor(labeled_img, cv2.COLOR_BGR2GRAY)\n",
    "labeled_img1 = labeled_img.reshape(-1)\n",
    "df[\"Label\"] = labeled_img1"
   ]
  },
  {
   "cell_type": "code",
   "execution_count": 30,
   "id": "efddb1dc",
   "metadata": {},
   "outputs": [
    {
     "data": {
      "text/html": [
       "<div>\n",
       "<style scoped>\n",
       "    .dataframe tbody tr th:only-of-type {\n",
       "        vertical-align: middle;\n",
       "    }\n",
       "\n",
       "    .dataframe tbody tr th {\n",
       "        vertical-align: top;\n",
       "    }\n",
       "\n",
       "    .dataframe thead th {\n",
       "        text-align: right;\n",
       "    }\n",
       "</style>\n",
       "<table border=\"1\" class=\"dataframe\">\n",
       "  <thead>\n",
       "    <tr style=\"text-align: right;\">\n",
       "      <th></th>\n",
       "      <th>Original Image</th>\n",
       "      <th>Gabor1</th>\n",
       "      <th>Gabor2</th>\n",
       "      <th>Gabor3</th>\n",
       "      <th>Gabor4</th>\n",
       "      <th>Gabor5</th>\n",
       "      <th>Gabor6</th>\n",
       "      <th>Gabor7</th>\n",
       "      <th>Gabor8</th>\n",
       "      <th>Gabor9</th>\n",
       "      <th>...</th>\n",
       "      <th>Gabor32</th>\n",
       "      <th>Canny Edge</th>\n",
       "      <th>Roberts</th>\n",
       "      <th>Sobel</th>\n",
       "      <th>Scharr</th>\n",
       "      <th>Prewitt</th>\n",
       "      <th>Gaussian s3</th>\n",
       "      <th>Gaussian s7</th>\n",
       "      <th>Median s3</th>\n",
       "      <th>Label</th>\n",
       "    </tr>\n",
       "  </thead>\n",
       "  <tbody>\n",
       "    <tr>\n",
       "      <th>0</th>\n",
       "      <td>0</td>\n",
       "      <td>0</td>\n",
       "      <td>0</td>\n",
       "      <td>0</td>\n",
       "      <td>0</td>\n",
       "      <td>0</td>\n",
       "      <td>0</td>\n",
       "      <td>0</td>\n",
       "      <td>0</td>\n",
       "      <td>0</td>\n",
       "      <td>...</td>\n",
       "      <td>0</td>\n",
       "      <td>0</td>\n",
       "      <td>0.0</td>\n",
       "      <td>0.0</td>\n",
       "      <td>0.0</td>\n",
       "      <td>0.0</td>\n",
       "      <td>0</td>\n",
       "      <td>0</td>\n",
       "      <td>0</td>\n",
       "      <td>29</td>\n",
       "    </tr>\n",
       "    <tr>\n",
       "      <th>1</th>\n",
       "      <td>0</td>\n",
       "      <td>0</td>\n",
       "      <td>0</td>\n",
       "      <td>0</td>\n",
       "      <td>0</td>\n",
       "      <td>0</td>\n",
       "      <td>0</td>\n",
       "      <td>0</td>\n",
       "      <td>0</td>\n",
       "      <td>0</td>\n",
       "      <td>...</td>\n",
       "      <td>0</td>\n",
       "      <td>0</td>\n",
       "      <td>0.0</td>\n",
       "      <td>0.0</td>\n",
       "      <td>0.0</td>\n",
       "      <td>0.0</td>\n",
       "      <td>0</td>\n",
       "      <td>0</td>\n",
       "      <td>0</td>\n",
       "      <td>29</td>\n",
       "    </tr>\n",
       "    <tr>\n",
       "      <th>2</th>\n",
       "      <td>0</td>\n",
       "      <td>0</td>\n",
       "      <td>0</td>\n",
       "      <td>0</td>\n",
       "      <td>0</td>\n",
       "      <td>0</td>\n",
       "      <td>0</td>\n",
       "      <td>0</td>\n",
       "      <td>0</td>\n",
       "      <td>0</td>\n",
       "      <td>...</td>\n",
       "      <td>0</td>\n",
       "      <td>0</td>\n",
       "      <td>0.0</td>\n",
       "      <td>0.0</td>\n",
       "      <td>0.0</td>\n",
       "      <td>0.0</td>\n",
       "      <td>0</td>\n",
       "      <td>0</td>\n",
       "      <td>0</td>\n",
       "      <td>29</td>\n",
       "    </tr>\n",
       "    <tr>\n",
       "      <th>3</th>\n",
       "      <td>0</td>\n",
       "      <td>0</td>\n",
       "      <td>0</td>\n",
       "      <td>0</td>\n",
       "      <td>0</td>\n",
       "      <td>0</td>\n",
       "      <td>0</td>\n",
       "      <td>0</td>\n",
       "      <td>0</td>\n",
       "      <td>0</td>\n",
       "      <td>...</td>\n",
       "      <td>0</td>\n",
       "      <td>0</td>\n",
       "      <td>0.0</td>\n",
       "      <td>0.0</td>\n",
       "      <td>0.0</td>\n",
       "      <td>0.0</td>\n",
       "      <td>0</td>\n",
       "      <td>0</td>\n",
       "      <td>0</td>\n",
       "      <td>29</td>\n",
       "    </tr>\n",
       "    <tr>\n",
       "      <th>4</th>\n",
       "      <td>0</td>\n",
       "      <td>0</td>\n",
       "      <td>0</td>\n",
       "      <td>0</td>\n",
       "      <td>0</td>\n",
       "      <td>0</td>\n",
       "      <td>0</td>\n",
       "      <td>0</td>\n",
       "      <td>0</td>\n",
       "      <td>0</td>\n",
       "      <td>...</td>\n",
       "      <td>0</td>\n",
       "      <td>0</td>\n",
       "      <td>0.0</td>\n",
       "      <td>0.0</td>\n",
       "      <td>0.0</td>\n",
       "      <td>0.0</td>\n",
       "      <td>0</td>\n",
       "      <td>0</td>\n",
       "      <td>0</td>\n",
       "      <td>29</td>\n",
       "    </tr>\n",
       "  </tbody>\n",
       "</table>\n",
       "<p>5 rows × 42 columns</p>\n",
       "</div>"
      ],
      "text/plain": [
       "   Original Image  Gabor1  Gabor2  Gabor3  Gabor4  Gabor5  Gabor6  Gabor7  \\\n",
       "0               0       0       0       0       0       0       0       0   \n",
       "1               0       0       0       0       0       0       0       0   \n",
       "2               0       0       0       0       0       0       0       0   \n",
       "3               0       0       0       0       0       0       0       0   \n",
       "4               0       0       0       0       0       0       0       0   \n",
       "\n",
       "   Gabor8  Gabor9  ...  Gabor32  Canny Edge  Roberts  Sobel  Scharr  Prewitt  \\\n",
       "0       0       0  ...        0           0      0.0    0.0     0.0      0.0   \n",
       "1       0       0  ...        0           0      0.0    0.0     0.0      0.0   \n",
       "2       0       0  ...        0           0      0.0    0.0     0.0      0.0   \n",
       "3       0       0  ...        0           0      0.0    0.0     0.0      0.0   \n",
       "4       0       0  ...        0           0      0.0    0.0     0.0      0.0   \n",
       "\n",
       "   Gaussian s3  Gaussian s7  Median s3  Label  \n",
       "0            0            0          0     29  \n",
       "1            0            0          0     29  \n",
       "2            0            0          0     29  \n",
       "3            0            0          0     29  \n",
       "4            0            0          0     29  \n",
       "\n",
       "[5 rows x 42 columns]"
      ]
     },
     "execution_count": 30,
     "metadata": {},
     "output_type": "execute_result"
    }
   ],
   "source": [
    "df.head()"
   ]
  },
  {
   "cell_type": "markdown",
   "id": "3fb6dd83",
   "metadata": {},
   "source": [
    "## Data Split and Train"
   ]
  },
  {
   "cell_type": "code",
   "execution_count": 31,
   "id": "0c15993f",
   "metadata": {},
   "outputs": [],
   "source": [
    "Y = df[\"Label\"].values\n",
    "X = df.drop(labels=[\"Label\"], axis=1)"
   ]
  },
  {
   "cell_type": "code",
   "execution_count": 32,
   "id": "f094d3c3",
   "metadata": {},
   "outputs": [],
   "source": [
    "from sklearn.model_selection import train_test_split\n",
    "X_train, X_test, Y_train, Y_test = train_test_split(X, Y, test_size=0.4, random_state=20)"
   ]
  },
  {
   "cell_type": "code",
   "execution_count": 33,
   "id": "411ad5c1",
   "metadata": {},
   "outputs": [],
   "source": [
    "from sklearn.ensemble import RandomForestClassifier\n",
    "model = RandomForestClassifier(n_estimators=10, random_state=42)"
   ]
  },
  {
   "cell_type": "code",
   "execution_count": 34,
   "id": "b9cc7020",
   "metadata": {},
   "outputs": [
    {
     "data": {
      "text/plain": [
       "RandomForestClassifier(n_estimators=10, random_state=42)"
      ]
     },
     "execution_count": 34,
     "metadata": {},
     "output_type": "execute_result"
    }
   ],
   "source": [
    "model.fit(X_train, Y_train)"
   ]
  },
  {
   "cell_type": "code",
   "execution_count": 35,
   "id": "38c032bf",
   "metadata": {},
   "outputs": [],
   "source": [
    "prediction_test = model.predict(X_test)"
   ]
  },
  {
   "cell_type": "code",
   "execution_count": 36,
   "id": "73c07ca0",
   "metadata": {},
   "outputs": [
    {
     "name": "stdout",
     "output_type": "stream",
     "text": [
      "Accuracy =  0.9811624612096225\n"
     ]
    }
   ],
   "source": [
    "from sklearn import metrics\n",
    "print(\"Accuracy = \", metrics.accuracy_score(Y_test, prediction_test))"
   ]
  },
  {
   "cell_type": "markdown",
   "id": "53362cc2",
   "metadata": {},
   "source": [
    "## Feature Ranking"
   ]
  },
  {
   "cell_type": "code",
   "execution_count": 37,
   "id": "7a30694a",
   "metadata": {},
   "outputs": [
    {
     "name": "stdout",
     "output_type": "stream",
     "text": [
      "Gaussian s3       0.178947\n",
      "Gabor4            0.163302\n",
      "Gabor3            0.158504\n",
      "Original Image    0.088711\n",
      "Gabor24           0.088503\n",
      "Gabor16           0.087554\n",
      "Gabor15           0.079062\n",
      "Median s3         0.027020\n",
      "Gabor8            0.024883\n",
      "Gaussian s7       0.019317\n",
      "Gabor7            0.012462\n",
      "Gabor6            0.011092\n",
      "Sobel             0.010510\n",
      "Prewitt           0.010001\n",
      "Gabor21           0.008490\n",
      "Scharr            0.006318\n",
      "Roberts           0.005614\n",
      "Gabor31           0.005494\n",
      "Gabor32           0.003035\n",
      "Gabor29           0.002628\n",
      "Gabor30           0.002556\n",
      "Gabor23           0.002443\n",
      "Gabor5            0.001417\n",
      "Gabor22           0.001290\n",
      "Canny Edge        0.000802\n",
      "Gabor20           0.000029\n",
      "Gabor19           0.000007\n",
      "Gabor27           0.000005\n",
      "Gabor28           0.000004\n",
      "Gabor26           0.000000\n",
      "Gabor1            0.000000\n",
      "Gabor18           0.000000\n",
      "Gabor9            0.000000\n",
      "Gabor25           0.000000\n",
      "Gabor14           0.000000\n",
      "Gabor13           0.000000\n",
      "Gabor12           0.000000\n",
      "Gabor11           0.000000\n",
      "Gabor2            0.000000\n",
      "Gabor10           0.000000\n",
      "Gabor17           0.000000\n",
      "dtype: float64\n"
     ]
    }
   ],
   "source": [
    "features_list = list(X.columns)\n",
    "feature_imp = pd.Series(model.feature_importances_, index=features_list).sort_values(ascending=False)\n",
    "print(feature_imp)"
   ]
  },
  {
   "cell_type": "markdown",
   "id": "3f0ade31",
   "metadata": {},
   "source": [
    "## Save and Segment"
   ]
  },
  {
   "cell_type": "code",
   "execution_count": 38,
   "id": "fc0a114f",
   "metadata": {},
   "outputs": [],
   "source": [
    "import pickle\n",
    "filename = \"sandstone_model\"\n",
    "pickle.dump(model, open(filename, \"wb\"))"
   ]
  },
  {
   "cell_type": "code",
   "execution_count": 39,
   "id": "1f4cf3a0",
   "metadata": {},
   "outputs": [],
   "source": [
    "load_model = pickle.load(open(filename, \"rb\"))\n",
    "result = load_model.predict(X)"
   ]
  },
  {
   "cell_type": "code",
   "execution_count": 40,
   "id": "3a8dd914",
   "metadata": {},
   "outputs": [],
   "source": [
    "segmented = result.reshape((img.shape))"
   ]
  },
  {
   "cell_type": "code",
   "execution_count": 42,
   "id": "3aa5d29d",
   "metadata": {},
   "outputs": [],
   "source": [
    "from matplotlib import pyplot as plt\n",
    "plt.imshow(segmented, cmap=\"turbo\")\n",
    "plt.imsave(\"rf_segmented/versa_0000_turbo.jpg\", segmented, cmap=\"turbo\")"
   ]
  }
 ],
 "metadata": {
  "kernelspec": {
   "display_name": "Python 3",
   "language": "python",
   "name": "python3"
  },
  "language_info": {
   "codemirror_mode": {
    "name": "ipython",
    "version": 3
   },
   "file_extension": ".py",
   "mimetype": "text/x-python",
   "name": "python",
   "nbconvert_exporter": "python",
   "pygments_lexer": "ipython3",
   "version": "3.9.6"
  }
 },
 "nbformat": 4,
 "nbformat_minor": 5
}
