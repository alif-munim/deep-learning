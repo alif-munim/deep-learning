{
 "cells": [
  {
   "cell_type": "code",
   "execution_count": 1,
   "id": "c9848324",
   "metadata": {},
   "outputs": [],
   "source": [
    "import numpy as np\n",
    "import cv2\n",
    "import pandas as pd"
   ]
  },
  {
   "cell_type": "code",
   "execution_count": 2,
   "id": "12f96f2f",
   "metadata": {},
   "outputs": [],
   "source": [
    "img = cv2.imread(\"Train_images/Sandstone_Versa0000.tif\")\n",
    "img = cv2.cvtColor(img, cv2.COLOR_BGR2GRAY)"
   ]
  },
  {
   "cell_type": "code",
   "execution_count": 3,
   "id": "06a18c42",
   "metadata": {},
   "outputs": [],
   "source": [
    "# Create dataframe and engineer features\n",
    "df = pd.DataFrame()\n",
    "\n",
    "# Feature: original pixel values\n",
    "img2 = img.reshape(-1)\n",
    "df[\"Original Image\"] = img2  "
   ]
  },
  {
   "cell_type": "code",
   "execution_count": 4,
   "id": "9fd7c53a",
   "metadata": {},
   "outputs": [
    {
     "name": "stdout",
     "output_type": "stream",
     "text": [
      "Gabor1 : theta= 0.0 : sigma= 1 : lamda= 0.0 : gamma= 0.05\n",
      "Gabor2 : theta= 0.0 : sigma= 1 : lamda= 0.0 : gamma= 0.5\n",
      "Gabor3 : theta= 0.0 : sigma= 1 : lamda= 0.7853981633974483 : gamma= 0.05\n",
      "Gabor4 : theta= 0.0 : sigma= 1 : lamda= 0.7853981633974483 : gamma= 0.5\n",
      "Gabor5 : theta= 0.0 : sigma= 1 : lamda= 1.5707963267948966 : gamma= 0.05\n",
      "Gabor6 : theta= 0.0 : sigma= 1 : lamda= 1.5707963267948966 : gamma= 0.5\n",
      "Gabor7 : theta= 0.0 : sigma= 1 : lamda= 2.356194490192345 : gamma= 0.05\n",
      "Gabor8 : theta= 0.0 : sigma= 1 : lamda= 2.356194490192345 : gamma= 0.5\n",
      "Gabor9 : theta= 0.0 : sigma= 3 : lamda= 0.0 : gamma= 0.05\n",
      "Gabor10 : theta= 0.0 : sigma= 3 : lamda= 0.0 : gamma= 0.5\n",
      "Gabor11 : theta= 0.0 : sigma= 3 : lamda= 0.7853981633974483 : gamma= 0.05\n",
      "Gabor12 : theta= 0.0 : sigma= 3 : lamda= 0.7853981633974483 : gamma= 0.5\n",
      "Gabor13 : theta= 0.0 : sigma= 3 : lamda= 1.5707963267948966 : gamma= 0.05\n",
      "Gabor14 : theta= 0.0 : sigma= 3 : lamda= 1.5707963267948966 : gamma= 0.5\n",
      "Gabor15 : theta= 0.0 : sigma= 3 : lamda= 2.356194490192345 : gamma= 0.05\n",
      "Gabor16 : theta= 0.0 : sigma= 3 : lamda= 2.356194490192345 : gamma= 0.5\n",
      "Gabor17 : theta= 0.7853981633974483 : sigma= 1 : lamda= 0.0 : gamma= 0.05\n",
      "Gabor18 : theta= 0.7853981633974483 : sigma= 1 : lamda= 0.0 : gamma= 0.5\n",
      "Gabor19 : theta= 0.7853981633974483 : sigma= 1 : lamda= 0.7853981633974483 : gamma= 0.05\n",
      "Gabor20 : theta= 0.7853981633974483 : sigma= 1 : lamda= 0.7853981633974483 : gamma= 0.5\n",
      "Gabor21 : theta= 0.7853981633974483 : sigma= 1 : lamda= 1.5707963267948966 : gamma= 0.05\n",
      "Gabor22 : theta= 0.7853981633974483 : sigma= 1 : lamda= 1.5707963267948966 : gamma= 0.5\n",
      "Gabor23 : theta= 0.7853981633974483 : sigma= 1 : lamda= 2.356194490192345 : gamma= 0.05\n",
      "Gabor24 : theta= 0.7853981633974483 : sigma= 1 : lamda= 2.356194490192345 : gamma= 0.5\n",
      "Gabor25 : theta= 0.7853981633974483 : sigma= 3 : lamda= 0.0 : gamma= 0.05\n",
      "Gabor26 : theta= 0.7853981633974483 : sigma= 3 : lamda= 0.0 : gamma= 0.5\n",
      "Gabor27 : theta= 0.7853981633974483 : sigma= 3 : lamda= 0.7853981633974483 : gamma= 0.05\n",
      "Gabor28 : theta= 0.7853981633974483 : sigma= 3 : lamda= 0.7853981633974483 : gamma= 0.5\n",
      "Gabor29 : theta= 0.7853981633974483 : sigma= 3 : lamda= 1.5707963267948966 : gamma= 0.05\n",
      "Gabor30 : theta= 0.7853981633974483 : sigma= 3 : lamda= 1.5707963267948966 : gamma= 0.5\n",
      "Gabor31 : theta= 0.7853981633974483 : sigma= 3 : lamda= 2.356194490192345 : gamma= 0.05\n",
      "Gabor32 : theta= 0.7853981633974483 : sigma= 3 : lamda= 2.356194490192345 : gamma= 0.5\n"
     ]
    }
   ],
   "source": [
    "# Feature: first set of Gabor features by applying filters to original image\n",
    "# Apply 32 generated Gabor filters w/ various parameters to image \n",
    "num = 1\n",
    "kernels = []\n",
    "for theta in range(2):\n",
    "    theta = theta / 4. * np.pi\n",
    "    for sigma in (1, 3):\n",
    "        for lamda in np.arange(0, np.pi, np.pi / 4):\n",
    "            for gamma in (0.05, 0.5):\n",
    "                gabor_label = \"Gabor\" + str(num)\n",
    "                ksize = 5\n",
    "                kernel = cv2.getGaborKernel(\n",
    "                    (ksize, ksize), \n",
    "                    sigma, theta, lamda, gamma, 0, \n",
    "                    ktype=cv2.CV_32F)\n",
    "                kernels.append(kernel)\n",
    "                fimg = cv2.filter2D(img2, cv2.CV_8UC3, kernel)\n",
    "                filtered_img = fimg.reshape(-1)\n",
    "                df[gabor_label] = filtered_img\n",
    "                print(gabor_label, \": theta=\", theta, \": sigma=\", sigma,\n",
    "                     \": lamda=\", lamda, \": gamma=\", gamma)\n",
    "                num += 1"
   ]
  },
  {
   "cell_type": "code",
   "execution_count": 5,
   "id": "2a0f0078",
   "metadata": {},
   "outputs": [],
   "source": [
    "# Canny edge; edge detection filter\n",
    "edges = cv2.Canny(img, 100, 200)\n",
    "edges1 = edges.reshape(-1)\n",
    "df[\"Canny Edge\"] = edges1"
   ]
  },
  {
   "cell_type": "code",
   "execution_count": 6,
   "id": "53697c4e",
   "metadata": {},
   "outputs": [],
   "source": [
    "# Some more filters\n",
    "from skimage.filters import roberts, sobel, scharr, prewitt\n",
    "edge_roberts = roberts(img)\n",
    "edge_roberts1 = edge_roberts.reshape(-1)\n",
    "df[\"Roberts\"] = edge_roberts1\n",
    "\n",
    "edge_sobel = sobel(img)\n",
    "edge_sobel1 = edge_sobel.reshape(-1)\n",
    "df[\"Sobel\"] = edge_sobel1\n",
    "\n",
    "edge_scharr = scharr(img)\n",
    "edge_scharr1 = edge_scharr.reshape(-1)\n",
    "df[\"Scharr\"] = edge_scharr1\n",
    "\n",
    "edge_prewitt = prewitt(img)\n",
    "edge_prewitt1 = edge_prewitt.reshape(-1)\n",
    "df[\"Prewitt\"] = edge_prewitt1"
   ]
  },
  {
   "cell_type": "code",
   "execution_count": 7,
   "id": "40c7d013",
   "metadata": {},
   "outputs": [],
   "source": [
    "from scipy import ndimage as nd\n",
    "gaussian_img = nd.gaussian_filter(img, sigma=3)\n",
    "gaussian_img1 = gaussian_img.reshape(-1)\n",
    "df[\"Gaussian s3\"] = gaussian_img1\n",
    "\n",
    "gaussian_img2 = nd.gaussian_filter(img, sigma=7)\n",
    "gaussian_img3 = gaussian_img2.reshape(-1)\n",
    "df[\"Gaussian s7\"] = gaussian_img3\n",
    "\n",
    "median_img = nd.median_filter(img, size=3)\n",
    "median_img1 = median_img.reshape(-1)\n",
    "df[\"Median s3\"] = median_img1\n",
    "\n",
    "# variance_img = nd.generic_filter(img, np.var, size=3)\n",
    "# variance_img1 = variance_img.reshape(-1)\n",
    "# df[\"Variance s3\"] = variance_img1"
   ]
  },
  {
   "cell_type": "code",
   "execution_count": 8,
   "id": "db814668",
   "metadata": {},
   "outputs": [],
   "source": [
    "# Add a column for mask (ground truth)\n",
    "labeled_img = cv2.imread(\"Train_masks/Sandstone_Versa0000.tif\")\n",
    "labeled_img = cv2.cvtColor(labeled_img, cv2.COLOR_BGR2GRAY)\n",
    "labeled_img1 = labeled_img.reshape(-1)\n",
    "df[\"Label\"] = labeled_img1"
   ]
  },
  {
   "cell_type": "code",
   "execution_count": 9,
   "id": "a033f12e",
   "metadata": {},
   "outputs": [],
   "source": [
    "Y = df[\"Label\"].values\n",
    "X = df.drop(labels=[\"Label\"], axis=1)"
   ]
  },
  {
   "cell_type": "code",
   "execution_count": 10,
   "id": "fcaa4be6",
   "metadata": {},
   "outputs": [],
   "source": [
    "from sklearn.model_selection import train_test_split\n",
    "X_train, X_test, Y_train, Y_test = train_test_split(X, Y, test_size=0.4, random_state=20)"
   ]
  },
  {
   "cell_type": "code",
   "execution_count": 11,
   "id": "001f5c98",
   "metadata": {},
   "outputs": [],
   "source": [
    "from sklearn.svm import LinearSVC\n",
    "model = LinearSVC(max_iter=100)"
   ]
  },
  {
   "cell_type": "code",
   "execution_count": 12,
   "id": "d8c2c74e",
   "metadata": {},
   "outputs": [
    {
     "name": "stdout",
     "output_type": "stream",
     "text": [
      "Wall time: 53.1 s\n"
     ]
    },
    {
     "name": "stderr",
     "output_type": "stream",
     "text": [
      "C:\\Users\\alif-\\AppData\\Roaming\\Python\\Python39\\site-packages\\sklearn\\svm\\_base.py:985: ConvergenceWarning: Liblinear failed to converge, increase the number of iterations.\n",
      "  warnings.warn(\"Liblinear failed to converge, increase \"\n"
     ]
    },
    {
     "data": {
      "text/plain": [
       "LinearSVC(max_iter=100)"
      ]
     },
     "execution_count": 12,
     "metadata": {},
     "output_type": "execute_result"
    }
   ],
   "source": [
    "%%time\n",
    "model.fit(X_train, Y_train)"
   ]
  },
  {
   "cell_type": "code",
   "execution_count": 13,
   "id": "84bb7149",
   "metadata": {},
   "outputs": [
    {
     "name": "stdout",
     "output_type": "stream",
     "text": [
      "Accuracy =  0.9584544638961472\n"
     ]
    }
   ],
   "source": [
    "from sklearn import metrics\n",
    "prediction_test = model.predict(X_test)\n",
    "print(\"Accuracy = \", metrics.accuracy_score(Y_test, prediction_test))"
   ]
  },
  {
   "cell_type": "code",
   "execution_count": 14,
   "id": "31b298e0",
   "metadata": {},
   "outputs": [],
   "source": [
    "import pickle\n",
    "filename = \"sandstone_model_svm\"\n",
    "pickle.dump(model, open(filename, \"wb\"))"
   ]
  },
  {
   "cell_type": "code",
   "execution_count": 15,
   "id": "4b9ad468",
   "metadata": {},
   "outputs": [],
   "source": [
    "load_model = pickle.load(open(filename, \"rb\"))\n",
    "result = load_model.predict(X)"
   ]
  },
  {
   "cell_type": "code",
   "execution_count": 16,
   "id": "f9b73c7b",
   "metadata": {},
   "outputs": [],
   "source": [
    "segmented = result.reshape((img.shape))"
   ]
  },
  {
   "cell_type": "code",
   "execution_count": 17,
   "id": "9f08d9fd",
   "metadata": {},
   "outputs": [],
   "source": [
    "from matplotlib import pyplot as plt\n",
    "plt.imshow(segmented, cmap=\"turbo\")\n",
    "plt.imsave(\"versa_0000_turbo_svm.jpg\", segmented, cmap=\"turbo\")"
   ]
  },
  {
   "cell_type": "markdown",
   "id": "28eaf391",
   "metadata": {},
   "source": [
    "### Train #2"
   ]
  },
  {
   "cell_type": "code",
   "execution_count": 21,
   "id": "a82e1864",
   "metadata": {},
   "outputs": [],
   "source": [
    "model = LinearSVC(max_iter=1000)"
   ]
  },
  {
   "cell_type": "code",
   "execution_count": 22,
   "id": "60e62af9",
   "metadata": {},
   "outputs": [
    {
     "name": "stdout",
     "output_type": "stream",
     "text": [
      "Wall time: 8min 29s\n"
     ]
    },
    {
     "name": "stderr",
     "output_type": "stream",
     "text": [
      "C:\\Users\\alif-\\AppData\\Roaming\\Python\\Python39\\site-packages\\sklearn\\svm\\_base.py:985: ConvergenceWarning: Liblinear failed to converge, increase the number of iterations.\n",
      "  warnings.warn(\"Liblinear failed to converge, increase \"\n"
     ]
    },
    {
     "data": {
      "text/plain": [
       "LinearSVC()"
      ]
     },
     "execution_count": 22,
     "metadata": {},
     "output_type": "execute_result"
    }
   ],
   "source": [
    "%%time\n",
    "model.fit(X_train, Y_train)"
   ]
  },
  {
   "cell_type": "code",
   "execution_count": 23,
   "id": "e15fc52a",
   "metadata": {},
   "outputs": [
    {
     "name": "stdout",
     "output_type": "stream",
     "text": [
      "Accuracy =  0.9644917909020938\n"
     ]
    }
   ],
   "source": [
    "prediction_test = model.predict(X_test)\n",
    "print(\"Accuracy = \", metrics.accuracy_score(Y_test, prediction_test))"
   ]
  },
  {
   "cell_type": "code",
   "execution_count": 24,
   "id": "a88aa193",
   "metadata": {},
   "outputs": [],
   "source": [
    "filename = \"sandstone_model_svm_1000\"\n",
    "pickle.dump(model, open(filename, \"wb\"))"
   ]
  },
  {
   "cell_type": "code",
   "execution_count": 25,
   "id": "dd632d73",
   "metadata": {},
   "outputs": [],
   "source": [
    "load_model = pickle.load(open(filename, \"rb\"))\n",
    "result = load_model.predict(X)"
   ]
  },
  {
   "cell_type": "code",
   "execution_count": 26,
   "id": "189af757",
   "metadata": {},
   "outputs": [],
   "source": [
    "segmented = result.reshape((img.shape))"
   ]
  },
  {
   "cell_type": "code",
   "execution_count": 27,
   "id": "d688c793",
   "metadata": {},
   "outputs": [],
   "source": [
    "from matplotlib import pyplot as plt\n",
    "plt.imshow(segmented, cmap=\"turbo\")\n",
    "plt.imsave(\"versa_0000_turbo_svm_1000.jpg\", segmented, cmap=\"turbo\")"
   ]
  }
 ],
 "metadata": {
  "kernelspec": {
   "display_name": "Python 3",
   "language": "python",
   "name": "python3"
  },
  "language_info": {
   "codemirror_mode": {
    "name": "ipython",
    "version": 3
   },
   "file_extension": ".py",
   "mimetype": "text/x-python",
   "name": "python",
   "nbconvert_exporter": "python",
   "pygments_lexer": "ipython3",
   "version": "3.9.6"
  }
 },
 "nbformat": 4,
 "nbformat_minor": 5
}
