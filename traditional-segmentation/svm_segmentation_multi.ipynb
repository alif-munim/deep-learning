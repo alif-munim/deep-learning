{
 "cells": [
  {
   "cell_type": "code",
   "execution_count": 26,
   "id": "c9848324",
   "metadata": {},
   "outputs": [],
   "source": [
    "import numpy as np\n",
    "import cv2\n",
    "import pandas as pd"
   ]
  },
  {
   "cell_type": "code",
   "execution_count": 27,
   "id": "9c26c6cf",
   "metadata": {},
   "outputs": [],
   "source": [
    "import glob\n",
    "import pickle\n",
    "from matplotlib import pyplot as plt\n",
    "import os"
   ]
  },
  {
   "cell_type": "code",
   "execution_count": 28,
   "id": "371b6c47",
   "metadata": {},
   "outputs": [],
   "source": [
    "from scipy import ndimage as nd\n",
    "from skimage.filters import roberts, sobel, scharr, prewitt"
   ]
  },
  {
   "cell_type": "code",
   "execution_count": 29,
   "id": "68b46e7b",
   "metadata": {},
   "outputs": [
    {
     "name": "stdout",
     "output_type": "stream",
     "text": [
      "Sandstone_Versa0000.tif\n",
      "Sandstone_Versa0050.tif\n",
      "Sandstone_Versa0100.tif\n",
      "Sandstone_Versa0150.tif\n",
      "Sandstone_Versa0200.tif\n",
      "Sandstone_Versa0250.tif\n",
      "Sandstone_Versa0300.tif\n",
      "Sandstone_Versa0350.tif\n",
      "Sandstone_Versa0400.tif\n"
     ]
    }
   ],
   "source": [
    "image_dataset = pd.DataFrame()\n",
    "\n",
    "img_path = \"Train_images/\"\n",
    "for image in os.listdir(img_path):\n",
    "    print(image)\n",
    "    \n",
    "    df = pd.DataFrame()\n",
    "    input_img = cv2.imread(img_path + image)\n",
    "    \n",
    "    # Reshape image if needed\n",
    "    if input_img.ndim == 3 and input_img.shape[-1] == 3:\n",
    "        img = cv2.cvtColor(input_img, cv2.COLOR_BGR2GRAY)\n",
    "    elif input_img.ndim == 2:\n",
    "        img = input_img\n",
    "    else:\n",
    "        raise Exception(\"Only grayscale and RGB images allowed\");\n",
    "        \n",
    "    # Add values to data frame\n",
    "    pixel_values = img.reshape(-1)\n",
    "    df['Pixel_Value'] = pixel_values\n",
    "    df['Image_Name'] = image\n",
    "    \n",
    "    # Gabor features\n",
    "    num = 1\n",
    "    kernels = []\n",
    "    for theta in range(2):\n",
    "        # Angle\n",
    "        theta = theta / 4. * np.pi\n",
    "        # Standard deviation (Gaussian)\n",
    "        for sigma in (1, 3):\n",
    "            # Wavelength\n",
    "            for lamda in np.arange(0, np.pi, np.pi / 4):\n",
    "                # Aspect ratio\n",
    "                for gamma in (0.05, 0.5):\n",
    "                    gabor_label = 'Gabor' + str(num)\n",
    "                    ksize = 9\n",
    "                    kernel = cv2.getGaborKernel(\n",
    "                        (ksize, ksize), \n",
    "                        sigma, theta, lamda, gamma, 0, \n",
    "                        ktype=cv2.CV_32F)\n",
    "                    fimg = cv2.filter2D(img, cv2.CV_8UC3, kernel)\n",
    "                    filtered_img = fimg.reshape(-1)\n",
    "                    df[gabor_label] = filtered_img\n",
    "                    num += 1\n",
    "                    \n",
    "    \n",
    "    # Canny edge; edge detection filter\n",
    "    edges = cv2.Canny(img, 100, 200)\n",
    "    edges1 = edges.reshape(-1)\n",
    "    df[\"Canny Edge\"] = edges1\n",
    "    \n",
    "    # Some more filters\n",
    "    edge_roberts = roberts(img)\n",
    "    edge_roberts1 = edge_roberts.reshape(-1)\n",
    "    df[\"Roberts\"] = edge_roberts1\n",
    "\n",
    "    edge_sobel = sobel(img)\n",
    "    edge_sobel1 = edge_sobel.reshape(-1)\n",
    "    df[\"Sobel\"] = edge_sobel1\n",
    "\n",
    "    edge_scharr = scharr(img)\n",
    "    edge_scharr1 = edge_scharr.reshape(-1)\n",
    "    df[\"Scharr\"] = edge_scharr1\n",
    "\n",
    "    edge_prewitt = prewitt(img)\n",
    "    edge_prewitt1 = edge_prewitt.reshape(-1)\n",
    "    df[\"Prewitt\"] = edge_prewitt1\n",
    "    \n",
    "    gaussian_img = nd.gaussian_filter(img, sigma=3)\n",
    "    gaussian_img1 = gaussian_img.reshape(-1)\n",
    "    df[\"Gaussian s3\"] = gaussian_img1\n",
    "\n",
    "    gaussian_img2 = nd.gaussian_filter(img, sigma=7)\n",
    "    gaussian_img3 = gaussian_img2.reshape(-1)\n",
    "    df[\"Gaussian s7\"] = gaussian_img3\n",
    "\n",
    "    median_img = nd.median_filter(img, size=3)\n",
    "    median_img1 = median_img.reshape(-1)\n",
    "    df[\"Median s3\"] = median_img1\n",
    "    \n",
    "    image_dataset = image_dataset.append(df)\n",
    "    del(df)"
   ]
  },
  {
   "cell_type": "code",
   "execution_count": 30,
   "id": "96cbe862",
   "metadata": {},
   "outputs": [
    {
     "name": "stdout",
     "output_type": "stream",
     "text": [
      "Sandstone_Versa0000.tif\n",
      "Sandstone_Versa0050.tif\n",
      "Sandstone_Versa0100.tif\n",
      "Sandstone_Versa0150.tif\n",
      "Sandstone_Versa0200.tif\n",
      "Sandstone_Versa0250.tif\n",
      "Sandstone_Versa0300.tif\n",
      "Sandstone_Versa0350.tif\n",
      "Sandstone_Versa0400.tif\n"
     ]
    }
   ],
   "source": [
    "mask_dataset = pd.DataFrame()\n",
    "\n",
    "mask_path = \"Train_masks/\"\n",
    "for mask in os.listdir(mask_path):\n",
    "    print(mask)\n",
    "    \n",
    "    df = pd.DataFrame()\n",
    "    input_mask = cv2.imread(mask_path + mask)\n",
    "    \n",
    "    # Reshape image if needed\n",
    "    if input_mask.ndim == 3 and input_mask.shape[-1] == 3:\n",
    "        label = cv2.cvtColor(input_img, cv2.COLOR_BGR2GRAY)\n",
    "    elif input_img.ndim == 2:\n",
    "        label = input_img\n",
    "    else:\n",
    "        raise Exception(\"Only grayscale and RGB images allowed\");\n",
    "        \n",
    "    # Add values to data frame\n",
    "    label_values = label.reshape(-1)\n",
    "    df['Label_Value'] = label_values\n",
    "    df['Mask_Name'] = mask\n",
    "    \n",
    "    # Gabor features\n",
    "    num = 1\n",
    "    kernels = []\n",
    "    for theta in range(2):\n",
    "        # Angle\n",
    "        theta = theta / 4. * np.pi\n",
    "        # Standard deviation (Gaussian)\n",
    "        for sigma in (1, 3):\n",
    "            # Wavelength\n",
    "            for lamda in np.arange(0, np.pi, np.pi / 4):\n",
    "                # Aspect ratio\n",
    "                for gamma in (0.05, 0.5):\n",
    "                    gabor_label = 'Gabor' + str(num)\n",
    "                    ksize = 9\n",
    "                    kernel = cv2.getGaborKernel(\n",
    "                        (ksize, ksize), \n",
    "                        sigma, theta, lamda, gamma, 0, \n",
    "                        ktype=cv2.CV_32F)\n",
    "                    fimg = cv2.filter2D(img, cv2.CV_8UC3, kernel)\n",
    "                    filtered_img = fimg.reshape(-1)\n",
    "                    df[gabor_label] = filtered_img\n",
    "                    num += 1\n",
    "                    \n",
    "    \n",
    "    # Canny edge; edge detection filter\n",
    "    edges = cv2.Canny(img, 100, 200)\n",
    "    edges1 = edges.reshape(-1)\n",
    "    df[\"Canny Edge\"] = edges1\n",
    "    \n",
    "    # Some more filters\n",
    "    edge_roberts = roberts(img)\n",
    "    edge_roberts1 = edge_roberts.reshape(-1)\n",
    "    df[\"Roberts\"] = edge_roberts1\n",
    "\n",
    "    edge_sobel = sobel(img)\n",
    "    edge_sobel1 = edge_sobel.reshape(-1)\n",
    "    df[\"Sobel\"] = edge_sobel1\n",
    "\n",
    "    edge_scharr = scharr(img)\n",
    "    edge_scharr1 = edge_scharr.reshape(-1)\n",
    "    df[\"Scharr\"] = edge_scharr1\n",
    "\n",
    "    edge_prewitt = prewitt(img)\n",
    "    edge_prewitt1 = edge_prewitt.reshape(-1)\n",
    "    df[\"Prewitt\"] = edge_prewitt1\n",
    "    \n",
    "    gaussian_img = nd.gaussian_filter(img, sigma=3)\n",
    "    gaussian_img1 = gaussian_img.reshape(-1)\n",
    "    df[\"Gaussian s3\"] = gaussian_img1\n",
    "\n",
    "    gaussian_img2 = nd.gaussian_filter(img, sigma=7)\n",
    "    gaussian_img3 = gaussian_img2.reshape(-1)\n",
    "    df[\"Gaussian s7\"] = gaussian_img3\n",
    "\n",
    "    median_img = nd.median_filter(img, size=3)\n",
    "    median_img1 = median_img.reshape(-1)\n",
    "    df[\"Median s3\"] = median_img1\n",
    "    \n",
    "    mask_dataset = mask_dataset.append(df)\n",
    "    del(df)"
   ]
  },
  {
   "cell_type": "code",
   "execution_count": 31,
   "id": "5e5db545",
   "metadata": {},
   "outputs": [],
   "source": [
    "dataset = pd.concat([image_dataset, mask_dataset], axis=1)\n",
    "dataset = dataset[dataset.Label_Value != 0]"
   ]
  },
  {
   "cell_type": "code",
   "execution_count": 32,
   "id": "8ccf8ad9",
   "metadata": {},
   "outputs": [],
   "source": [
    "del(image_dataset)\n",
    "del(mask_dataset)"
   ]
  },
  {
   "cell_type": "code",
   "execution_count": 33,
   "id": "0a7182b5",
   "metadata": {},
   "outputs": [],
   "source": [
    "X = dataset.drop(labels = [\"Image_Name\", \"Mask_Name\", \"Label_Value\"], axis=1)\n",
    "Y = dataset[\"Label_Value\"].values"
   ]
  },
  {
   "cell_type": "code",
   "execution_count": 34,
   "id": "fcaa4be6",
   "metadata": {},
   "outputs": [],
   "source": [
    "from sklearn.model_selection import train_test_split\n",
    "X_train, X_test, Y_train, Y_test = train_test_split(X, Y, test_size=0.2, random_state=20)"
   ]
  },
  {
   "cell_type": "code",
   "execution_count": 35,
   "id": "a1976601",
   "metadata": {},
   "outputs": [],
   "source": [
    "del(X)\n",
    "del(Y)"
   ]
  },
  {
   "cell_type": "code",
   "execution_count": 36,
   "id": "001f5c98",
   "metadata": {},
   "outputs": [],
   "source": [
    "from sklearn.svm import LinearSVC\n",
    "model = LinearSVC(max_iter=100)"
   ]
  },
  {
   "cell_type": "code",
   "execution_count": 37,
   "id": "d8c2c74e",
   "metadata": {},
   "outputs": [
    {
     "name": "stdout",
     "output_type": "stream",
     "text": [
      "Wall time: 12h 50min 25s\n"
     ]
    },
    {
     "name": "stderr",
     "output_type": "stream",
     "text": [
      "C:\\Users\\alif-\\AppData\\Roaming\\Python\\Python39\\site-packages\\sklearn\\svm\\_base.py:985: ConvergenceWarning: Liblinear failed to converge, increase the number of iterations.\n",
      "  warnings.warn(\"Liblinear failed to converge, increase \"\n"
     ]
    },
    {
     "data": {
      "text/plain": [
       "LinearSVC(max_iter=100)"
      ]
     },
     "execution_count": 37,
     "metadata": {},
     "output_type": "execute_result"
    }
   ],
   "source": [
    "%%time\n",
    "model.fit(X_train, Y_train)"
   ]
  },
  {
   "cell_type": "code",
   "execution_count": 13,
   "id": "84bb7149",
   "metadata": {},
   "outputs": [
    {
     "name": "stdout",
     "output_type": "stream",
     "text": [
      "Accuracy =  0.9584544638961472\n"
     ]
    }
   ],
   "source": [
    "from sklearn import metrics\n",
    "prediction_test = model.predict(X_test)\n",
    "print(\"Accuracy = \", metrics.accuracy_score(Y_test, prediction_test))"
   ]
  },
  {
   "cell_type": "code",
   "execution_count": 14,
   "id": "31b298e0",
   "metadata": {},
   "outputs": [],
   "source": [
    "import pickle\n",
    "filename = \"sandstone_model_svm_multi\"\n",
    "pickle.dump(model, open(filename, \"wb\"))"
   ]
  },
  {
   "cell_type": "markdown",
   "id": "c03d6ff1",
   "metadata": {},
   "source": [
    "### Save and Predict"
   ]
  },
  {
   "cell_type": "code",
   "execution_count": null,
   "id": "ba1e2b2f",
   "metadata": {},
   "outputs": [],
   "source": [
    "loaded_model = pickle.load(open(filename, \"rb\"))"
   ]
  },
  {
   "cell_type": "code",
   "execution_count": null,
   "id": "52db1b80",
   "metadata": {},
   "outputs": [],
   "source": [
    "def feature_extraction(img):\n",
    "    df = pd.DataFrame()\n",
    "    img2 = img.reshape(-1)\n",
    "    df['Original Image'] = img2\n",
    "    \n",
    "    # Gabor features\n",
    "    num = 1\n",
    "    kernels = []\n",
    "    for theta in range(2):\n",
    "        # Angle\n",
    "        theta = theta / 4. * np.pi\n",
    "        # Standard deviation (Gaussian)\n",
    "        for sigma in (1, 3):\n",
    "            # Wavelength\n",
    "            for lamda in np.arange(0, np.pi, np.pi / 4):\n",
    "                # Aspect ratio\n",
    "                for gamma in (0.05, 0.5):\n",
    "                    gabor_label = 'Gabor' + str(num)\n",
    "                    ksize = 9\n",
    "                    kernel = cv2.getGaborKernel(\n",
    "                        (ksize, ksize), \n",
    "                        sigma, theta, lamda, gamma, 0, \n",
    "                        ktype=cv2.CV_32F)\n",
    "                    fimg = cv2.filter2D(img, cv2.CV_8UC3, kernel)\n",
    "                    filtered_img = fimg.reshape(-1)\n",
    "                    df[gabor_label] = filtered_img\n",
    "                    num += 1\n",
    "                    \n",
    "    # Canny edge; edge detection filter\n",
    "    edges = cv2.Canny(img, 100, 200)\n",
    "    edges1 = edges.reshape(-1)\n",
    "    df[\"Canny Edge\"] = edges1\n",
    "    \n",
    "    # Some more filters\n",
    "    edge_roberts = roberts(img)\n",
    "    edge_roberts1 = edge_roberts.reshape(-1)\n",
    "    df[\"Roberts\"] = edge_roberts1\n",
    "\n",
    "    edge_sobel = sobel(img)\n",
    "    edge_sobel1 = edge_sobel.reshape(-1)\n",
    "    df[\"Sobel\"] = edge_sobel1\n",
    "\n",
    "    edge_scharr = scharr(img)\n",
    "    edge_scharr1 = edge_scharr.reshape(-1)\n",
    "    df[\"Scharr\"] = edge_scharr1\n",
    "\n",
    "    edge_prewitt = prewitt(img)\n",
    "    edge_prewitt1 = edge_prewitt.reshape(-1)\n",
    "    df[\"Prewitt\"] = edge_prewitt1\n",
    "    \n",
    "    gaussian_img = nd.gaussian_filter(img, sigma=3)\n",
    "    gaussian_img1 = gaussian_img.reshape(-1)\n",
    "    df[\"Gaussian s3\"] = gaussian_img1\n",
    "\n",
    "    gaussian_img2 = nd.gaussian_filter(img, sigma=7)\n",
    "    gaussian_img3 = gaussian_img2.reshape(-1)\n",
    "    df[\"Gaussian s7\"] = gaussian_img3\n",
    "\n",
    "    median_img = nd.median_filter(img, size=3)\n",
    "    median_img1 = median_img.reshape(-1)\n",
    "    df[\"Median s3\"] = median_img1\n",
    "    \n",
    "    return df"
   ]
  },
  {
   "cell_type": "code",
   "execution_count": null,
   "id": "a9ce559c",
   "metadata": {},
   "outputs": [],
   "source": [
    "path = \"Test_images/*.tif\"\n",
    "for image in os.listdir(path):\n",
    "    print(image)\n",
    "    img1 = cv2.imread(path+image)\n",
    "    img = cv2.cvtColor(img1, cv2.COLOR_BGR2GRAY)\n",
    "    \n",
    "    X = feature_extraction(img)\n",
    "    result = loaded_model.predict(X)\n",
    "    segmented = result.reshape((img.shape))\n",
    "    \n",
    "    name = file.split(\"e_\")\n",
    "    plt.imsave(\"svm_segmented/\" + name[1] + \".jpg\", segmented, cmap=\"turbo\")"
   ]
  },
  {
   "cell_type": "code",
   "execution_count": 15,
   "id": "4b9ad468",
   "metadata": {},
   "outputs": [],
   "source": [
    "loaded_model = pickle.load(open(filename, \"rb\"))\n",
    "result = load_model.predict(X)"
   ]
  },
  {
   "cell_type": "code",
   "execution_count": 16,
   "id": "f9b73c7b",
   "metadata": {},
   "outputs": [],
   "source": [
    "segmented = result.reshape((img.shape))"
   ]
  },
  {
   "cell_type": "code",
   "execution_count": 17,
   "id": "9f08d9fd",
   "metadata": {},
   "outputs": [],
   "source": [
    "from matplotlib import pyplot as plt\n",
    "plt.imshow(segmented, cmap=\"turbo\")\n",
    "plt.imsave(\"versa_0000_turbo_svm.jpg\", segmented, cmap=\"turbo\")"
   ]
  },
  {
   "cell_type": "markdown",
   "id": "28eaf391",
   "metadata": {},
   "source": [
    "### Train #2"
   ]
  },
  {
   "cell_type": "code",
   "execution_count": 21,
   "id": "a82e1864",
   "metadata": {},
   "outputs": [],
   "source": [
    "model = LinearSVC(max_iter=1000)"
   ]
  },
  {
   "cell_type": "code",
   "execution_count": 22,
   "id": "60e62af9",
   "metadata": {},
   "outputs": [
    {
     "name": "stdout",
     "output_type": "stream",
     "text": [
      "Wall time: 8min 29s\n"
     ]
    },
    {
     "name": "stderr",
     "output_type": "stream",
     "text": [
      "C:\\Users\\alif-\\AppData\\Roaming\\Python\\Python39\\site-packages\\sklearn\\svm\\_base.py:985: ConvergenceWarning: Liblinear failed to converge, increase the number of iterations.\n",
      "  warnings.warn(\"Liblinear failed to converge, increase \"\n"
     ]
    },
    {
     "data": {
      "text/plain": [
       "LinearSVC()"
      ]
     },
     "execution_count": 22,
     "metadata": {},
     "output_type": "execute_result"
    }
   ],
   "source": [
    "%%time\n",
    "model.fit(X_train, Y_train)"
   ]
  },
  {
   "cell_type": "code",
   "execution_count": 23,
   "id": "e15fc52a",
   "metadata": {},
   "outputs": [
    {
     "name": "stdout",
     "output_type": "stream",
     "text": [
      "Accuracy =  0.9644917909020938\n"
     ]
    }
   ],
   "source": [
    "prediction_test = model.predict(X_test)\n",
    "print(\"Accuracy = \", metrics.accuracy_score(Y_test, prediction_test))"
   ]
  },
  {
   "cell_type": "code",
   "execution_count": 24,
   "id": "a88aa193",
   "metadata": {},
   "outputs": [],
   "source": [
    "filename = \"sandstone_model_svm_1000\"\n",
    "pickle.dump(model, open(filename, \"wb\"))"
   ]
  },
  {
   "cell_type": "code",
   "execution_count": 25,
   "id": "dd632d73",
   "metadata": {},
   "outputs": [],
   "source": [
    "load_model = pickle.load(open(filename, \"rb\"))\n",
    "result = load_model.predict(X)"
   ]
  },
  {
   "cell_type": "code",
   "execution_count": 26,
   "id": "189af757",
   "metadata": {},
   "outputs": [],
   "source": [
    "segmented = result.reshape((img.shape))"
   ]
  },
  {
   "cell_type": "code",
   "execution_count": 27,
   "id": "d688c793",
   "metadata": {},
   "outputs": [],
   "source": [
    "from matplotlib import pyplot as plt\n",
    "plt.imshow(segmented, cmap=\"turbo\")\n",
    "plt.imsave(\"versa_0000_turbo_svm_1000.jpg\", segmented, cmap=\"turbo\")"
   ]
  }
 ],
 "metadata": {
  "kernelspec": {
   "display_name": "Python 3",
   "language": "python",
   "name": "python3"
  },
  "language_info": {
   "codemirror_mode": {
    "name": "ipython",
    "version": 3
   },
   "file_extension": ".py",
   "mimetype": "text/x-python",
   "name": "python",
   "nbconvert_exporter": "python",
   "pygments_lexer": "ipython3",
   "version": "3.9.6"
  }
 },
 "nbformat": 4,
 "nbformat_minor": 5
}
