{
 "cells": [
  {
   "cell_type": "code",
   "execution_count": 18,
   "id": "91c387b3",
   "metadata": {},
   "outputs": [],
   "source": [
    "import numpy as np\n",
    "import pandas as pd\n",
    "import matplotlib.pyplot as plt\n",
    "import glob\n",
    "import cv2\n",
    "import pickle\n",
    "import os"
   ]
  },
  {
   "cell_type": "code",
   "execution_count": 19,
   "id": "2369743f",
   "metadata": {},
   "outputs": [],
   "source": [
    "import keras\n",
    "keras.__version__\n",
    "from tensorflow.keras.utils import normalize\n",
    "import numpy as np\n",
    "from matplotlib import pyplot as plt\n",
    "import glob\n",
    "import cv2\n",
    "import os\n",
    "from keras import backend as K\n",
    "import tensorflow as tf"
   ]
  },
  {
   "cell_type": "code",
   "execution_count": 20,
   "id": "779be15e",
   "metadata": {},
   "outputs": [
    {
     "data": {
      "text/plain": [
       "'2.5.0'"
      ]
     },
     "execution_count": 20,
     "metadata": {},
     "output_type": "execute_result"
    }
   ],
   "source": [
    "import tensorflow as tf\n",
    "tf.__version__"
   ]
  },
  {
   "cell_type": "code",
   "execution_count": 21,
   "id": "9bec998b",
   "metadata": {},
   "outputs": [
    {
     "data": {
      "text/plain": [
       "'2.5.0'"
      ]
     },
     "execution_count": 21,
     "metadata": {},
     "output_type": "execute_result"
    }
   ],
   "source": [
    "import keras\n",
    "keras.__version__"
   ]
  },
  {
   "cell_type": "code",
   "execution_count": 22,
   "id": "faac72b1",
   "metadata": {},
   "outputs": [],
   "source": [
    "from keras.models import Sequential\n",
    "from keras.layers import Conv2D, BatchNormalization, Flatten, MaxPooling2D"
   ]
  },
  {
   "cell_type": "code",
   "execution_count": 23,
   "id": "434b287a",
   "metadata": {},
   "outputs": [],
   "source": [
    "from datetime import datetime\n",
    "from sklearn import metrics"
   ]
  },
  {
   "cell_type": "markdown",
   "id": "928f5aa5",
   "metadata": {},
   "source": [
    "<br/><br/>\n",
    "# Data Preprocessing"
   ]
  },
  {
   "cell_type": "code",
   "execution_count": 52,
   "id": "9b123282",
   "metadata": {},
   "outputs": [
    {
     "name": "stdout",
     "output_type": "stream",
     "text": [
      "['all_images', 'all_labels', 'test_images', 'test_labels']\n"
     ]
    }
   ],
   "source": [
    "SIZE = 512\n",
    "DIR = \"medium_brain/\"\n",
    "print(os.listdir(\"medium_brain/\"))"
   ]
  },
  {
   "cell_type": "code",
   "execution_count": 53,
   "id": "3f0dc2ab",
   "metadata": {},
   "outputs": [
    {
     "name": "stdout",
     "output_type": "stream",
     "text": [
      "medium_brain/all_images\\P025.png\n",
      "medium_brain/all_images\\P026.png\n",
      "medium_brain/all_images\\P027.png\n",
      "medium_brain/all_images\\P029.png\n",
      "medium_brain/all_images\\P030.png\n",
      "medium_brain/all_images\\P031.png\n",
      "medium_brain/all_images\\P032.png\n",
      "medium_brain/all_images\\P033.png\n",
      "medium_brain/all_images\\P034.png\n",
      "medium_brain/all_images\\P035.png\n",
      "medium_brain/all_images\\P036.png\n",
      "medium_brain/all_images\\P037.png\n",
      "medium_brain/all_images\\P038.png\n",
      "medium_brain/all_images\\P039.png\n",
      "medium_brain/all_images\\P040.png\n",
      "medium_brain/all_images\\P041.png\n",
      "medium_brain/all_images\\P043.png\n",
      "medium_brain/all_images\\P044.png\n",
      "medium_brain/all_images\\P045.png\n",
      "medium_brain/all_images\\P046.png\n",
      "medium_brain/all_images\\P047.png\n",
      "medium_brain/all_images\\P048.png\n",
      "medium_brain/all_images\\P050.png\n",
      "medium_brain/all_images\\P051.png\n",
      "medium_brain/all_images\\P052.png\n",
      "medium_brain/all_images\\P054.png\n",
      "medium_brain/all_images\\P055.png\n",
      "medium_brain/all_images\\P056.png\n",
      "medium_brain/all_images\\P057.png\n",
      "medium_brain/all_images\\P058.png\n",
      "medium_brain/all_images\\P060.png\n",
      "medium_brain/all_images\\P061.png\n",
      "medium_brain/all_images\\P062.png\n",
      "medium_brain/all_images\\P064.png\n",
      "medium_brain/all_images\\P065.png\n",
      "medium_brain/all_images\\P066.png\n",
      "medium_brain/all_images\\P067.png\n",
      "medium_brain/all_images\\P068.png\n",
      "medium_brain/all_images\\P069.png\n",
      "medium_brain/all_images\\P070.png\n",
      "medium_brain/all_images\\P071.png\n",
      "medium_brain/all_images\\P072.png\n",
      "medium_brain/all_images\\P073.png\n",
      "medium_brain/all_images\\P074.png\n",
      "medium_brain/all_images\\P075.png\n",
      "medium_brain/all_images\\P077.png\n",
      "medium_brain/all_images\\P078.png\n",
      "medium_brain/all_images\\P079.png\n",
      "medium_brain/all_images\\P080.png\n"
     ]
    }
   ],
   "source": [
    "train_images = []\n",
    "\n",
    "for directory_path in glob.glob(DIR + \"all_images\"):\n",
    "    for img_path in glob.glob(os.path.join(directory_path, \"*.png\")):\n",
    "        img = cv2.imread(img_path, cv2.IMREAD_COLOR)\n",
    "        img = cv2.resize(img, (SIZE, SIZE))\n",
    "        img = cv2.cvtColor(img, cv2.COLOR_RGB2BGR)\n",
    "        train_images.append(img)\n",
    "        print(img_path)"
   ]
  },
  {
   "cell_type": "code",
   "execution_count": 54,
   "id": "beb5c73e",
   "metadata": {},
   "outputs": [
    {
     "name": "stdout",
     "output_type": "stream",
     "text": [
      "medium_brain/all_labels\\P025.png\n",
      "medium_brain/all_labels\\P026.png\n",
      "medium_brain/all_labels\\P027.png\n",
      "medium_brain/all_labels\\P029.png\n",
      "medium_brain/all_labels\\P030.png\n",
      "medium_brain/all_labels\\P031.png\n",
      "medium_brain/all_labels\\P032.png\n",
      "medium_brain/all_labels\\P033.png\n",
      "medium_brain/all_labels\\P034.png\n",
      "medium_brain/all_labels\\P035.png\n",
      "medium_brain/all_labels\\P036.png\n",
      "medium_brain/all_labels\\P037.png\n",
      "medium_brain/all_labels\\P038.png\n",
      "medium_brain/all_labels\\P039.png\n",
      "medium_brain/all_labels\\P040.png\n",
      "medium_brain/all_labels\\P041.png\n",
      "medium_brain/all_labels\\P043.png\n",
      "medium_brain/all_labels\\P044.png\n",
      "medium_brain/all_labels\\P045.png\n",
      "medium_brain/all_labels\\P046.png\n",
      "medium_brain/all_labels\\P047.png\n",
      "medium_brain/all_labels\\P048.png\n",
      "medium_brain/all_labels\\P050.png\n",
      "medium_brain/all_labels\\P051.png\n",
      "medium_brain/all_labels\\P052.png\n",
      "medium_brain/all_labels\\P054.png\n",
      "medium_brain/all_labels\\P055.png\n",
      "medium_brain/all_labels\\P056.png\n",
      "medium_brain/all_labels\\P057.png\n",
      "medium_brain/all_labels\\P058.png\n",
      "medium_brain/all_labels\\P060.png\n",
      "medium_brain/all_labels\\P061.png\n",
      "medium_brain/all_labels\\P062.png\n",
      "medium_brain/all_labels\\P064.png\n",
      "medium_brain/all_labels\\P065.png\n",
      "medium_brain/all_labels\\P066.png\n",
      "medium_brain/all_labels\\P067.png\n",
      "medium_brain/all_labels\\P068.png\n",
      "medium_brain/all_labels\\P069.png\n",
      "medium_brain/all_labels\\P070.png\n",
      "medium_brain/all_labels\\P071.png\n",
      "medium_brain/all_labels\\P072.png\n",
      "medium_brain/all_labels\\P073.png\n",
      "medium_brain/all_labels\\P074.png\n",
      "medium_brain/all_labels\\P075.png\n",
      "medium_brain/all_labels\\P077.png\n",
      "medium_brain/all_labels\\P078.png\n",
      "medium_brain/all_labels\\P079.png\n",
      "medium_brain/all_labels\\P080.png\n"
     ]
    }
   ],
   "source": [
    "train_masks = []\n",
    "\n",
    "for directory_path in glob.glob(DIR + \"all_labels\"):\n",
    "    for mask_path in glob.glob(os.path.join(directory_path, \"*.png\")):\n",
    "        mask = cv2.imread(mask_path, 0)\n",
    "        mask = cv2.resize(mask, (SIZE, SIZE), interpolation = cv2.INTER_NEAREST)\n",
    "        train_masks.append(mask)\n",
    "        print(mask_path)"
   ]
  },
  {
   "cell_type": "code",
   "execution_count": 55,
   "id": "5657c01b",
   "metadata": {},
   "outputs": [],
   "source": [
    "train_images = np.array(train_images)\n",
    "train_masks = np.array(train_masks)"
   ]
  },
  {
   "cell_type": "code",
   "execution_count": 56,
   "id": "66382e84",
   "metadata": {},
   "outputs": [
    {
     "data": {
      "text/plain": [
       "array([  0, 128, 255], dtype=uint8)"
      ]
     },
     "execution_count": 56,
     "metadata": {},
     "output_type": "execute_result"
    }
   ],
   "source": [
    "np.unique(train_masks)"
   ]
  },
  {
   "cell_type": "code",
   "execution_count": 57,
   "id": "45d657ca",
   "metadata": {},
   "outputs": [
    {
     "name": "stderr",
     "output_type": "stream",
     "text": [
      "C:\\Users\\alif-\\AppData\\Roaming\\Python\\Python39\\site-packages\\sklearn\\utils\\validation.py:63: DataConversionWarning: A column-vector y was passed when a 1d array was expected. Please change the shape of y to (n_samples, ), for example using ravel().\n",
      "  return f(*args, **kwargs)\n"
     ]
    }
   ],
   "source": [
    "from sklearn.preprocessing import LabelEncoder\n",
    "labelencoder = LabelEncoder()\n",
    "n, h, w = train_masks.shape\n",
    "train_masks_reshaped = train_masks.reshape(-1, 1)\n",
    "train_masks_reshaped_encoded = labelencoder.fit_transform(train_masks_reshaped)\n",
    "train_masks_encoded_original_shape = train_masks_reshaped_encoded.reshape(n, h, w)"
   ]
  },
  {
   "cell_type": "code",
   "execution_count": 58,
   "id": "fe234105",
   "metadata": {},
   "outputs": [],
   "source": [
    "train_masks = train_masks_encoded_original_shape"
   ]
  },
  {
   "cell_type": "code",
   "execution_count": 59,
   "id": "d9da407f",
   "metadata": {},
   "outputs": [
    {
     "data": {
      "text/plain": [
       "array([0, 1, 2], dtype=int64)"
      ]
     },
     "execution_count": 59,
     "metadata": {},
     "output_type": "execute_result"
    }
   ],
   "source": [
    "np.unique(train_masks)"
   ]
  },
  {
   "cell_type": "code",
   "execution_count": 60,
   "id": "cc34db6d",
   "metadata": {},
   "outputs": [
    {
     "name": "stdout",
     "output_type": "stream",
     "text": [
      "(49, 512, 512, 3)\n",
      "(49, 512, 512)\n"
     ]
    }
   ],
   "source": [
    "print(train_images.shape)\n",
    "print(train_masks.shape)"
   ]
  },
  {
   "cell_type": "code",
   "execution_count": 61,
   "id": "a113a85d",
   "metadata": {},
   "outputs": [],
   "source": [
    "X_train = train_images\n",
    "y_train = train_masks\n",
    "y_train = np.expand_dims(y_train, axis=3)"
   ]
  },
  {
   "cell_type": "code",
   "execution_count": 62,
   "id": "1a3dbb6b",
   "metadata": {},
   "outputs": [
    {
     "name": "stdout",
     "output_type": "stream",
     "text": [
      "(49, 512, 512, 3)\n",
      "(49, 512, 512, 1)\n"
     ]
    }
   ],
   "source": [
    "print(X_train.shape)\n",
    "print(y_train.shape)"
   ]
  },
  {
   "cell_type": "markdown",
   "id": "f80446be",
   "metadata": {},
   "source": [
    "### Convolutional Layers"
   ]
  },
  {
   "cell_type": "code",
   "execution_count": 63,
   "id": "42329634",
   "metadata": {},
   "outputs": [],
   "source": [
    "activation = 'sigmoid'\n",
    "feature_extractor = Sequential()\n",
    "feature_extractor.add(Conv2D(32, 3, activation=activation, \n",
    "        padding='same', input_shape=(SIZE, SIZE, 3)))\n",
    "feature_extractor.add(Conv2D(32, 3, activation=activation, \n",
    "        padding='same', kernel_initializer='he_uniform'))\n",
    "# feature_extractor.add(Conv2D(64, 3, activation=activation, \n",
    "#         padding='same', kernel_initializer='he_uniform'))\n",
    "# feature_extractor.add(BatchNormalization())\n",
    "# feature_extractor.add(Conv2D(64, 3, activation=activation, \n",
    "#         padding='same', kernel_initializer='he_uniform'))\n",
    "# feature_extractor.add(BatchNormalization())\n",
    "# feature_extractor.add(MaxPooling2D())\n",
    "# feature_extractor.add(Flatten())"
   ]
  },
  {
   "cell_type": "code",
   "execution_count": 64,
   "id": "a7c711a6",
   "metadata": {},
   "outputs": [],
   "source": [
    "X = feature_extractor.predict(X_train)"
   ]
  },
  {
   "cell_type": "code",
   "execution_count": 37,
   "id": "45c9a9cc",
   "metadata": {},
   "outputs": [],
   "source": [
    "# X = np.moveaxis(X, 0, 1)"
   ]
  },
  {
   "cell_type": "code",
   "execution_count": 65,
   "id": "8839b599",
   "metadata": {},
   "outputs": [],
   "source": [
    "X = X.reshape(-1, X.shape[3])\n",
    "Y = y_train.reshape(-1)"
   ]
  },
  {
   "cell_type": "code",
   "execution_count": 66,
   "id": "2a3fb7d7",
   "metadata": {},
   "outputs": [
    {
     "name": "stdout",
     "output_type": "stream",
     "text": [
      "(12845056, 32)\n",
      "(12845056,)\n"
     ]
    }
   ],
   "source": [
    "print(X.shape)\n",
    "print(Y.shape)"
   ]
  },
  {
   "cell_type": "code",
   "execution_count": 67,
   "id": "b8a490b8",
   "metadata": {},
   "outputs": [
    {
     "name": "stdout",
     "output_type": "stream",
     "text": [
      "[0 2 1]\n"
     ]
    }
   ],
   "source": [
    "dataset = pd.DataFrame(X)\n",
    "dataset['Label'] = Y\n",
    "print(dataset['Label'].unique())"
   ]
  },
  {
   "cell_type": "code",
   "execution_count": 68,
   "id": "29598f31",
   "metadata": {},
   "outputs": [
    {
     "name": "stdout",
     "output_type": "stream",
     "text": [
      "0    12697585\n",
      "2       89292\n",
      "1       58179\n",
      "Name: Label, dtype: int64\n"
     ]
    }
   ],
   "source": [
    "print(dataset['Label'].value_counts())"
   ]
  },
  {
   "cell_type": "code",
   "execution_count": 42,
   "id": "65bc8686",
   "metadata": {},
   "outputs": [],
   "source": [
    "# dataset = dataset[dataset['Label'] != 0]"
   ]
  },
  {
   "cell_type": "code",
   "execution_count": 69,
   "id": "9cf1b27d",
   "metadata": {},
   "outputs": [],
   "source": [
    "X_for_RF = dataset.drop(labels = ['Label'], axis=1)\n",
    "Y_for_RF = dataset['Label']"
   ]
  },
  {
   "cell_type": "markdown",
   "id": "4a72ada6",
   "metadata": {},
   "source": [
    "<br/><br/>\n",
    "# First Pass"
   ]
  },
  {
   "cell_type": "markdown",
   "id": "66e6063b",
   "metadata": {},
   "source": [
    "### Random Forest"
   ]
  },
  {
   "cell_type": "code",
   "execution_count": 95,
   "id": "8e99cdb8",
   "metadata": {},
   "outputs": [],
   "source": [
    "from sklearn.ensemble import RandomForestClassifier\n",
    "model = RandomForestClassifier(n_estimators = 50, random_state = 42)"
   ]
  },
  {
   "cell_type": "code",
   "execution_count": 96,
   "id": "2d75ab27",
   "metadata": {},
   "outputs": [
    {
     "name": "stdout",
     "output_type": "stream",
     "text": [
      "Wall time: 4min 26s\n"
     ]
    },
    {
     "data": {
      "text/plain": [
       "RandomForestClassifier(n_estimators=50, random_state=42)"
      ]
     },
     "execution_count": 96,
     "metadata": {},
     "output_type": "execute_result"
    }
   ],
   "source": [
    "%%time\n",
    "model.fit(X_for_RF, Y_for_RF)"
   ]
  },
  {
   "cell_type": "code",
   "execution_count": 97,
   "id": "44e58c42",
   "metadata": {},
   "outputs": [],
   "source": [
    "filename = 'rf_conv_BASELINE_50est_8img.sav'"
   ]
  },
  {
   "cell_type": "code",
   "execution_count": 98,
   "id": "69b4c408",
   "metadata": {},
   "outputs": [],
   "source": [
    "pickle.dump(model, open(filename, 'wb'))"
   ]
  },
  {
   "cell_type": "markdown",
   "id": "14a031cd",
   "metadata": {},
   "source": [
    "### Predict"
   ]
  },
  {
   "cell_type": "code",
   "execution_count": 10,
   "id": "46e954e3",
   "metadata": {},
   "outputs": [],
   "source": [
    "loaded_model = pickle.load(open(filename, 'rb'))"
   ]
  },
  {
   "cell_type": "code",
   "execution_count": 68,
   "id": "1386f0e1",
   "metadata": {},
   "outputs": [],
   "source": [
    "test_fname = 'P044'\n",
    "test_format = '.png'"
   ]
  },
  {
   "cell_type": "code",
   "execution_count": 69,
   "id": "9af2957b",
   "metadata": {},
   "outputs": [],
   "source": [
    "test_img_path = DIR + 'test_images/' + test_fname + test_format\n",
    "test_img = cv2.imread(test_img_path, cv2.IMREAD_COLOR)\n",
    "test_img = cv2.resize(test_img, (SIZE, SIZE))\n",
    "test_img = cv2.cvtColor(test_img, cv2.COLOR_RGB2BGR)\n",
    "test_img = np.expand_dims(test_img, axis=0)"
   ]
  },
  {
   "cell_type": "code",
   "execution_count": 70,
   "id": "c15dbe40",
   "metadata": {},
   "outputs": [],
   "source": [
    "X_test_features = feature_extractor.predict(test_img)\n",
    "X_test_features = X_test_features.reshape(-1, X_test_features.shape[3])"
   ]
  },
  {
   "cell_type": "code",
   "execution_count": 71,
   "id": "04fd5ced",
   "metadata": {},
   "outputs": [
    {
     "data": {
      "text/plain": [
       "(262144, 32)"
      ]
     },
     "execution_count": 71,
     "metadata": {},
     "output_type": "execute_result"
    }
   ],
   "source": [
    "X_test_features.shape"
   ]
  },
  {
   "cell_type": "code",
   "execution_count": 72,
   "id": "be1e7ea4",
   "metadata": {},
   "outputs": [],
   "source": [
    "prediction = loaded_model.predict(X_test_features)"
   ]
  },
  {
   "cell_type": "code",
   "execution_count": 73,
   "id": "0009e667",
   "metadata": {},
   "outputs": [],
   "source": [
    "# Reshape and save prediction\n",
    "prediction_image = prediction.reshape(mask.shape)\n",
    "plt.imsave(\"rf_multi_conv/predicted/\" + test_fname + test_format, prediction_image, cmap=\"binary\")"
   ]
  },
  {
   "cell_type": "code",
   "execution_count": 74,
   "id": "bd9f6adf",
   "metadata": {},
   "outputs": [],
   "source": [
    "true_mask_path = DIR + 'test_labels/' + test_fname + test_format\n",
    "true_mask = cv2.imread(mask_path, 0)\n",
    "true_mask = cv2.resize(mask, (SIZE, SIZE), interpolation = cv2.INTER_NEAREST)"
   ]
  },
  {
   "cell_type": "code",
   "execution_count": 76,
   "id": "f037e6cb",
   "metadata": {},
   "outputs": [
    {
     "data": {
      "text/plain": [
       "(512, 512)"
      ]
     },
     "execution_count": 76,
     "metadata": {},
     "output_type": "execute_result"
    }
   ],
   "source": [
    "true_mask.shape"
   ]
  },
  {
   "cell_type": "code",
   "execution_count": 78,
   "id": "3209cd62",
   "metadata": {},
   "outputs": [],
   "source": [
    "from sklearn.preprocessing import LabelEncoder\n",
    "labelencoder = LabelEncoder()\n",
    "h, w = true_mask.shape\n",
    "true_mask_reshaped = true_mask.reshape(-1, 1)\n",
    "true_mask_reshaped_encoded = labelencoder.fit_transform(true_mask_reshaped)\n",
    "true_mask_encoded_original_shape = true_mask_reshaped_encoded.reshape(h, w)"
   ]
  },
  {
   "cell_type": "code",
   "execution_count": 79,
   "id": "9be96a87",
   "metadata": {},
   "outputs": [],
   "source": [
    "true_mask = true_mask_reshaped_encoded"
   ]
  },
  {
   "cell_type": "code",
   "execution_count": 80,
   "id": "25c946d8",
   "metadata": {},
   "outputs": [
    {
     "data": {
      "text/plain": [
       "array([0, 1, 2], dtype=int64)"
      ]
     },
     "execution_count": 80,
     "metadata": {},
     "output_type": "execute_result"
    }
   ],
   "source": [
    "np.unique(true_mask)"
   ]
  },
  {
   "cell_type": "code",
   "execution_count": 81,
   "id": "226c66e2",
   "metadata": {},
   "outputs": [],
   "source": [
    "true_mask = true_mask.reshape(-1)"
   ]
  },
  {
   "cell_type": "code",
   "execution_count": 82,
   "id": "ebfcee60",
   "metadata": {},
   "outputs": [
    {
     "name": "stdout",
     "output_type": "stream",
     "text": [
      "(262144,)\n",
      "(262144,)\n"
     ]
    }
   ],
   "source": [
    "print(true_mask.shape)\n",
    "print(prediction.shape)"
   ]
  },
  {
   "cell_type": "code",
   "execution_count": 83,
   "id": "9c37698f",
   "metadata": {},
   "outputs": [
    {
     "name": "stdout",
     "output_type": "stream",
     "text": [
      "0.9827651977539062\n"
     ]
    }
   ],
   "source": [
    "print(metrics.accuracy_score(true_mask, prediction))"
   ]
  },
  {
   "cell_type": "markdown",
   "id": "80a278be",
   "metadata": {},
   "source": [
    "### Jaccard"
   ]
  },
  {
   "cell_type": "code",
   "execution_count": 84,
   "id": "fb8e274e",
   "metadata": {},
   "outputs": [],
   "source": [
    "# IOU for each class is the following\n",
    "# IOU = true_pos / (true_pos + false_pos + false_neg)"
   ]
  },
  {
   "cell_type": "code",
   "execution_count": 85,
   "id": "9a6558fd",
   "metadata": {},
   "outputs": [
    {
     "name": "stdout",
     "output_type": "stream",
     "text": [
      "0.32758839925130206\n"
     ]
    }
   ],
   "source": [
    "jaccard_score = metrics.jaccard_score(true_mask, prediction, average='macro')\n",
    "print(jaccard_score)"
   ]
  },
  {
   "cell_type": "markdown",
   "id": "426f3fa8",
   "metadata": {},
   "source": [
    "### IOU"
   ]
  },
  {
   "cell_type": "code",
   "execution_count": 86,
   "id": "6da4045b",
   "metadata": {},
   "outputs": [
    {
     "data": {
      "text/plain": [
       "tensorflow.python.keras.metrics.MeanIoU"
      ]
     },
     "execution_count": 86,
     "metadata": {},
     "output_type": "execute_result"
    }
   ],
   "source": [
    "tf.keras.metrics.MeanIoU"
   ]
  },
  {
   "cell_type": "code",
   "execution_count": 87,
   "id": "bca1e394",
   "metadata": {},
   "outputs": [
    {
     "name": "stdout",
     "output_type": "stream",
     "text": [
      "(262144,)\n",
      "(262144,)\n"
     ]
    }
   ],
   "source": [
    "print(true_mask.shape)\n",
    "print(prediction.shape)"
   ]
  },
  {
   "cell_type": "code",
   "execution_count": 88,
   "id": "fb39084b",
   "metadata": {},
   "outputs": [
    {
     "name": "stdout",
     "output_type": "stream",
     "text": [
      "[0 1 2]\n",
      "[0]\n"
     ]
    }
   ],
   "source": [
    "print(np.unique(true_mask))\n",
    "print(np.unique(prediction))"
   ]
  },
  {
   "cell_type": "code",
   "execution_count": 89,
   "id": "03083f7e",
   "metadata": {},
   "outputs": [
    {
     "name": "stdout",
     "output_type": "stream",
     "text": [
      "0.3275884\n"
     ]
    }
   ],
   "source": [
    "# from keras.metrics import MeanIOU\n",
    "num_classes = 3\n",
    "IOU_RF = tf.keras.metrics.MeanIoU(num_classes=num_classes)\n",
    "IOU_RF.update_state(true_mask, prediction)\n",
    "print(IOU_RF.result().numpy())"
   ]
  },
  {
   "cell_type": "code",
   "execution_count": 90,
   "id": "3706e2c7",
   "metadata": {},
   "outputs": [
    {
     "name": "stdout",
     "output_type": "stream",
     "text": [
      "[[257626.      0.      0.]\n",
      " [  1390.      0.      0.]\n",
      " [  3128.      0.      0.]]\n"
     ]
    }
   ],
   "source": [
    "values = np.array(IOU_RF.get_weights()).reshape(num_classes, num_classes)\n",
    "print(values)"
   ]
  },
  {
   "cell_type": "code",
   "execution_count": 91,
   "id": "28e52f3b",
   "metadata": {},
   "outputs": [],
   "source": [
    "class1_IoU = values[0,0]/(values[0,0] + values[0,1] + values[0,2]  + values[1,0]+ values[2,0])\n",
    "class2_IoU = values[1,1]/(values[1,1] + values[1,0] + values[1,2]  + values[0,1]+ values[2,1])\n",
    "class3_IoU = values[2,2]/(values[2,2] + values[2,0] + values[2,1] + values[0,2]+ values[1,2])"
   ]
  },
  {
   "cell_type": "code",
   "execution_count": 92,
   "id": "41d7efc2",
   "metadata": {},
   "outputs": [
    {
     "name": "stdout",
     "output_type": "stream",
     "text": [
      "IoU for class 1 is:  0.9827652\n",
      "IoU for class 2 is:  0.0\n",
      "IoU for class 3 is:  0.0\n"
     ]
    }
   ],
   "source": [
    "print(\"IoU for class 1 is: \", class1_IoU)\n",
    "print(\"IoU for class 2 is: \", class2_IoU)\n",
    "print(\"IoU for class 3 is: \", class3_IoU)"
   ]
  },
  {
   "cell_type": "markdown",
   "id": "67da0a92",
   "metadata": {},
   "source": [
    "<br/><br/>\n",
    "# Class Balancing"
   ]
  },
  {
   "cell_type": "code",
   "execution_count": 27,
   "id": "309fd41b",
   "metadata": {},
   "outputs": [
    {
     "data": {
      "text/plain": [
       "(array([0, 1, 2], dtype=int64),\n",
       " array([4146224,   18058,   30022], dtype=int64))"
      ]
     },
     "execution_count": 27,
     "metadata": {},
     "output_type": "execute_result"
    }
   ],
   "source": [
    "np.unique(y_train, return_counts=True)"
   ]
  },
  {
   "cell_type": "code",
   "execution_count": 32,
   "id": "4fe8c4e9",
   "metadata": {},
   "outputs": [],
   "source": [
    "classes = train_masks.reshape(-1)"
   ]
  },
  {
   "cell_type": "code",
   "execution_count": 34,
   "id": "df137004",
   "metadata": {},
   "outputs": [
    {
     "data": {
      "text/plain": [
       "array([0, 1, 2], dtype=int64)"
      ]
     },
     "execution_count": 34,
     "metadata": {},
     "output_type": "execute_result"
    }
   ],
   "source": [
    "np.unique(classes)"
   ]
  },
  {
   "cell_type": "code",
   "execution_count": 35,
   "id": "bde8c3eb",
   "metadata": {},
   "outputs": [
    {
     "name": "stdout",
     "output_type": "stream",
     "text": [
      "Class weights are:  [ 0.3371987  77.42282276 46.56922701]\n"
     ]
    },
    {
     "name": "stderr",
     "output_type": "stream",
     "text": [
      "C:\\Users\\alif-\\AppData\\Roaming\\Python\\Python39\\site-packages\\sklearn\\utils\\validation.py:70: FutureWarning: Pass classes=[0 1 2], y=[0 0 0 ... 0 0 0] as keyword args. From version 1.0 (renaming of 0.25) passing these as positional arguments will result in an error\n",
      "  warnings.warn(f\"Pass {args_msg} as keyword args. From version \"\n"
     ]
    }
   ],
   "source": [
    "from sklearn.utils import class_weight\n",
    "class_weights = class_weight.compute_class_weight('balanced',\n",
    "                                                 np.unique(y_train),\n",
    "                                                 classes)\n",
    "print(\"Class weights are: \", class_weights)"
   ]
  },
  {
   "cell_type": "code",
   "execution_count": 42,
   "id": "cd5649d1",
   "metadata": {},
   "outputs": [],
   "source": [
    "my_weights = {0:0.3, 1:70, 2:40}"
   ]
  },
  {
   "cell_type": "code",
   "execution_count": 43,
   "id": "16461521",
   "metadata": {},
   "outputs": [],
   "source": [
    "RF_balanced = RandomForestClassifier(n_estimators=50,\n",
    "                                    class_weight=my_weights,\n",
    "                                    #class_weight=balanced,\n",
    "                                    random_state=42)"
   ]
  },
  {
   "cell_type": "code",
   "execution_count": 44,
   "id": "f0858889",
   "metadata": {},
   "outputs": [
    {
     "name": "stdout",
     "output_type": "stream",
     "text": [
      "Wall time: 10min 16s\n"
     ]
    },
    {
     "data": {
      "text/plain": [
       "RandomForestClassifier(class_weight={0: 0.3, 1: 70, 2: 40}, n_estimators=50,\n",
       "                       random_state=42)"
      ]
     },
     "execution_count": 44,
     "metadata": {},
     "output_type": "execute_result"
    }
   ],
   "source": [
    "%%time\n",
    "RF_balanced.fit(X_for_RF, Y_for_RF)"
   ]
  },
  {
   "cell_type": "code",
   "execution_count": 47,
   "id": "524e69d3",
   "metadata": {},
   "outputs": [],
   "source": [
    "filename = 'rf_conv_50est_16img_balanced.sav'\n",
    "pickle.dump(RF_balanced, open(filename, 'wb'))"
   ]
  },
  {
   "cell_type": "code",
   "execution_count": 51,
   "id": "ea8cb9ed",
   "metadata": {},
   "outputs": [
    {
     "name": "stderr",
     "output_type": "stream",
     "text": [
      "C:\\Users\\alif-\\AppData\\Roaming\\Python\\Python39\\site-packages\\sklearn\\utils\\validation.py:63: DataConversionWarning: A column-vector y was passed when a 1d array was expected. Please change the shape of y to (n_samples, ), for example using ravel().\n",
      "  return f(*args, **kwargs)\n"
     ]
    }
   ],
   "source": [
    "loaded_model = pickle.load(open(filename, 'rb'))\n",
    "\n",
    "test_fname = 'P054'\n",
    "test_format = '.png'\n",
    "\n",
    "test_img_path = DIR + 'test_images/' + test_fname + test_format\n",
    "test_img = cv2.imread(test_img_path, cv2.IMREAD_COLOR)\n",
    "test_img = cv2.resize(test_img, (SIZE, SIZE))\n",
    "test_img = cv2.cvtColor(test_img, cv2.COLOR_RGB2BGR)\n",
    "test_img = np.expand_dims(test_img, axis=0)\n",
    "\n",
    "X_test_features = feature_extractor.predict(test_img)\n",
    "X_test_features = X_test_features.reshape(-1, X_test_features.shape[3])\n",
    "\n",
    "prediction = loaded_model.predict(X_test_features)\n",
    "\n",
    "# Reshape and save prediction\n",
    "prediction_image = prediction.reshape(mask.shape)\n",
    "plt.imsave(\"rf_multi_conv/predicted/\" + test_fname + test_format, prediction_image, cmap=\"binary\")\n",
    "\n",
    "true_mask_path = DIR + 'test_labels/' + test_fname + test_format\n",
    "true_mask = cv2.imread(mask_path, 0)\n",
    "true_mask = cv2.resize(mask, (SIZE, SIZE), interpolation = cv2.INTER_NEAREST)\n",
    "\n",
    "from sklearn.preprocessing import LabelEncoder\n",
    "labelencoder = LabelEncoder()\n",
    "h, w = true_mask.shape\n",
    "true_mask_reshaped = true_mask.reshape(-1, 1)\n",
    "true_mask_reshaped_encoded = labelencoder.fit_transform(true_mask_reshaped)\n",
    "true_mask_encoded_original_shape = true_mask_reshaped_encoded.reshape(h, w)\n",
    "\n",
    "true_mask = true_mask_reshaped_encoded\n",
    "true_mask = true_mask.reshape(-1)\n"
   ]
  },
  {
   "cell_type": "code",
   "execution_count": 52,
   "id": "2f11ce06",
   "metadata": {},
   "outputs": [
    {
     "name": "stdout",
     "output_type": "stream",
     "text": [
      "Accuracy:  0.9822463989257812\n",
      "Jaccard score:  0.32741546630859375\n"
     ]
    }
   ],
   "source": [
    "print(\"Accuracy: \", metrics.accuracy_score(true_mask, prediction))\n",
    "\n",
    "jaccard_score = metrics.jaccard_score(true_mask, prediction, average='macro')\n",
    "print(\"Jaccard score: \", jaccard_score)"
   ]
  },
  {
   "cell_type": "code",
   "execution_count": 63,
   "id": "b55eda8b",
   "metadata": {},
   "outputs": [
    {
     "name": "stdout",
     "output_type": "stream",
     "text": [
      "0.32741547\n",
      "IoU for class 0 is:  0.9822464\n",
      "IoU for class 1 is:  0.0\n",
      "IoU for class 2 is:  0.0\n"
     ]
    }
   ],
   "source": [
    "# from keras.metrics import MeanIOU\n",
    "num_classes = 3\n",
    "IOU_RF = tf.keras.metrics.MeanIoU(num_classes=num_classes)\n",
    "IOU_RF.update_state(true_mask, prediction)\n",
    "print(IOU_RF.result().numpy())\n",
    "\n",
    "values = np.array(IOU_RF.get_weights()).reshape(num_classes, num_classes)\n",
    "# print(values)\n",
    "\n",
    "class1_IoU = values[0,0]/(values[0,0] + values[0,1] + values[0,2]  + values[1,0]+ values[2,0])\n",
    "class2_IoU = values[1,1]/(values[1,1] + values[1,0] + values[1,2]  + values[0,1]+ values[2,1])\n",
    "class3_IoU = values[2,2]/(values[2,2] + values[2,0] + values[2,1] + values[0,2]+ values[1,2])\n",
    "\n",
    "print(\"IoU for class 0 is: \", class1_IoU)\n",
    "print(\"IoU for class 1 is: \", class2_IoU)\n",
    "print(\"IoU for class 2 is: \", class3_IoU)"
   ]
  },
  {
   "cell_type": "markdown",
   "id": "279e611b",
   "metadata": {},
   "source": [
    "### Self Balancing"
   ]
  },
  {
   "cell_type": "code",
   "execution_count": 101,
   "id": "238ec827",
   "metadata": {},
   "outputs": [
    {
     "name": "stdout",
     "output_type": "stream",
     "text": [
      "[0 2 1]\n",
      "0    2080558\n",
      "2      11007\n",
      "1       5587\n",
      "Name: Label, dtype: int64\n"
     ]
    }
   ],
   "source": [
    "from sklearn.utils import resample\n",
    "print(dataset[\"Label\"].unique())\n",
    "print(dataset[\"Label\"].value_counts())"
   ]
  },
  {
   "cell_type": "code",
   "execution_count": 102,
   "id": "530800f5",
   "metadata": {},
   "outputs": [],
   "source": [
    "dataset0 = dataset[dataset[\"Label\"] == 0]\n",
    "dataset1 = dataset[dataset[\"Label\"] == 1]\n",
    "dataset2 = dataset[dataset[\"Label\"] == 2]"
   ]
  },
  {
   "cell_type": "code",
   "execution_count": 103,
   "id": "83efe775",
   "metadata": {},
   "outputs": [
    {
     "data": {
      "text/html": [
       "<div>\n",
       "<style scoped>\n",
       "    .dataframe tbody tr th:only-of-type {\n",
       "        vertical-align: middle;\n",
       "    }\n",
       "\n",
       "    .dataframe tbody tr th {\n",
       "        vertical-align: top;\n",
       "    }\n",
       "\n",
       "    .dataframe thead th {\n",
       "        text-align: right;\n",
       "    }\n",
       "</style>\n",
       "<table border=\"1\" class=\"dataframe\">\n",
       "  <thead>\n",
       "    <tr style=\"text-align: right;\">\n",
       "      <th></th>\n",
       "      <th>0</th>\n",
       "      <th>1</th>\n",
       "      <th>2</th>\n",
       "      <th>3</th>\n",
       "      <th>4</th>\n",
       "      <th>5</th>\n",
       "      <th>6</th>\n",
       "      <th>7</th>\n",
       "      <th>8</th>\n",
       "      <th>9</th>\n",
       "      <th>...</th>\n",
       "      <th>23</th>\n",
       "      <th>24</th>\n",
       "      <th>25</th>\n",
       "      <th>26</th>\n",
       "      <th>27</th>\n",
       "      <th>28</th>\n",
       "      <th>29</th>\n",
       "      <th>30</th>\n",
       "      <th>31</th>\n",
       "      <th>Label</th>\n",
       "    </tr>\n",
       "  </thead>\n",
       "  <tbody>\n",
       "    <tr>\n",
       "      <th>0</th>\n",
       "      <td>0.637308</td>\n",
       "      <td>0.359698</td>\n",
       "      <td>0.535121</td>\n",
       "      <td>0.539144</td>\n",
       "      <td>0.532174</td>\n",
       "      <td>0.667340</td>\n",
       "      <td>0.575968</td>\n",
       "      <td>0.560967</td>\n",
       "      <td>0.618551</td>\n",
       "      <td>0.482497</td>\n",
       "      <td>...</td>\n",
       "      <td>0.489602</td>\n",
       "      <td>0.484235</td>\n",
       "      <td>0.737842</td>\n",
       "      <td>0.638967</td>\n",
       "      <td>0.297107</td>\n",
       "      <td>0.532817</td>\n",
       "      <td>0.538170</td>\n",
       "      <td>0.500644</td>\n",
       "      <td>0.580960</td>\n",
       "      <td>0</td>\n",
       "    </tr>\n",
       "    <tr>\n",
       "      <th>1</th>\n",
       "      <td>0.697716</td>\n",
       "      <td>0.343823</td>\n",
       "      <td>0.504300</td>\n",
       "      <td>0.585394</td>\n",
       "      <td>0.568609</td>\n",
       "      <td>0.641029</td>\n",
       "      <td>0.444371</td>\n",
       "      <td>0.581441</td>\n",
       "      <td>0.479256</td>\n",
       "      <td>0.540742</td>\n",
       "      <td>...</td>\n",
       "      <td>0.463248</td>\n",
       "      <td>0.646338</td>\n",
       "      <td>0.714639</td>\n",
       "      <td>0.599419</td>\n",
       "      <td>0.279111</td>\n",
       "      <td>0.491879</td>\n",
       "      <td>0.490748</td>\n",
       "      <td>0.454592</td>\n",
       "      <td>0.486876</td>\n",
       "      <td>0</td>\n",
       "    </tr>\n",
       "    <tr>\n",
       "      <th>2</th>\n",
       "      <td>0.697716</td>\n",
       "      <td>0.343823</td>\n",
       "      <td>0.504300</td>\n",
       "      <td>0.585394</td>\n",
       "      <td>0.568609</td>\n",
       "      <td>0.641029</td>\n",
       "      <td>0.444371</td>\n",
       "      <td>0.581441</td>\n",
       "      <td>0.479256</td>\n",
       "      <td>0.540742</td>\n",
       "      <td>...</td>\n",
       "      <td>0.463248</td>\n",
       "      <td>0.646338</td>\n",
       "      <td>0.714639</td>\n",
       "      <td>0.599419</td>\n",
       "      <td>0.279111</td>\n",
       "      <td>0.491879</td>\n",
       "      <td>0.490748</td>\n",
       "      <td>0.454592</td>\n",
       "      <td>0.486876</td>\n",
       "      <td>0</td>\n",
       "    </tr>\n",
       "    <tr>\n",
       "      <th>3</th>\n",
       "      <td>0.697716</td>\n",
       "      <td>0.343823</td>\n",
       "      <td>0.504300</td>\n",
       "      <td>0.585394</td>\n",
       "      <td>0.568609</td>\n",
       "      <td>0.641029</td>\n",
       "      <td>0.444371</td>\n",
       "      <td>0.581441</td>\n",
       "      <td>0.479256</td>\n",
       "      <td>0.540742</td>\n",
       "      <td>...</td>\n",
       "      <td>0.463248</td>\n",
       "      <td>0.646338</td>\n",
       "      <td>0.714639</td>\n",
       "      <td>0.599419</td>\n",
       "      <td>0.279111</td>\n",
       "      <td>0.491879</td>\n",
       "      <td>0.490748</td>\n",
       "      <td>0.454592</td>\n",
       "      <td>0.486876</td>\n",
       "      <td>0</td>\n",
       "    </tr>\n",
       "    <tr>\n",
       "      <th>4</th>\n",
       "      <td>0.697716</td>\n",
       "      <td>0.343823</td>\n",
       "      <td>0.504300</td>\n",
       "      <td>0.585394</td>\n",
       "      <td>0.568609</td>\n",
       "      <td>0.641029</td>\n",
       "      <td>0.444371</td>\n",
       "      <td>0.581441</td>\n",
       "      <td>0.479256</td>\n",
       "      <td>0.540742</td>\n",
       "      <td>...</td>\n",
       "      <td>0.463248</td>\n",
       "      <td>0.646338</td>\n",
       "      <td>0.714639</td>\n",
       "      <td>0.599419</td>\n",
       "      <td>0.279111</td>\n",
       "      <td>0.491879</td>\n",
       "      <td>0.490748</td>\n",
       "      <td>0.454592</td>\n",
       "      <td>0.486876</td>\n",
       "      <td>0</td>\n",
       "    </tr>\n",
       "  </tbody>\n",
       "</table>\n",
       "<p>5 rows × 33 columns</p>\n",
       "</div>"
      ],
      "text/plain": [
       "          0         1         2         3         4         5         6  \\\n",
       "0  0.637308  0.359698  0.535121  0.539144  0.532174  0.667340  0.575968   \n",
       "1  0.697716  0.343823  0.504300  0.585394  0.568609  0.641029  0.444371   \n",
       "2  0.697716  0.343823  0.504300  0.585394  0.568609  0.641029  0.444371   \n",
       "3  0.697716  0.343823  0.504300  0.585394  0.568609  0.641029  0.444371   \n",
       "4  0.697716  0.343823  0.504300  0.585394  0.568609  0.641029  0.444371   \n",
       "\n",
       "          7         8         9  ...        23        24        25        26  \\\n",
       "0  0.560967  0.618551  0.482497  ...  0.489602  0.484235  0.737842  0.638967   \n",
       "1  0.581441  0.479256  0.540742  ...  0.463248  0.646338  0.714639  0.599419   \n",
       "2  0.581441  0.479256  0.540742  ...  0.463248  0.646338  0.714639  0.599419   \n",
       "3  0.581441  0.479256  0.540742  ...  0.463248  0.646338  0.714639  0.599419   \n",
       "4  0.581441  0.479256  0.540742  ...  0.463248  0.646338  0.714639  0.599419   \n",
       "\n",
       "         27        28        29        30        31  Label  \n",
       "0  0.297107  0.532817  0.538170  0.500644  0.580960      0  \n",
       "1  0.279111  0.491879  0.490748  0.454592  0.486876      0  \n",
       "2  0.279111  0.491879  0.490748  0.454592  0.486876      0  \n",
       "3  0.279111  0.491879  0.490748  0.454592  0.486876      0  \n",
       "4  0.279111  0.491879  0.490748  0.454592  0.486876      0  \n",
       "\n",
       "[5 rows x 33 columns]"
      ]
     },
     "execution_count": 103,
     "metadata": {},
     "output_type": "execute_result"
    }
   ],
   "source": [
    "dataset0.head()"
   ]
  },
  {
   "cell_type": "code",
   "execution_count": 104,
   "id": "0238106d",
   "metadata": {},
   "outputs": [],
   "source": [
    "df0 = resample(dataset0, replace=True, n_samples=10000, random_state=42)\n",
    "df1 = resample(dataset1, replace=True, n_samples=10000, random_state=42)\n",
    "df2 = resample(dataset2, replace=True, n_samples=10000, random_state=42)"
   ]
  },
  {
   "cell_type": "code",
   "execution_count": 105,
   "id": "e319f484",
   "metadata": {},
   "outputs": [
    {
     "name": "stdout",
     "output_type": "stream",
     "text": [
      "0    10000\n",
      "1    10000\n",
      "2    10000\n",
      "Name: Label, dtype: int64\n"
     ]
    }
   ],
   "source": [
    "dataset_resampled = pd.concat([df0, df1, df2])\n",
    "print(dataset_resampled['Label'].value_counts())"
   ]
  },
  {
   "cell_type": "code",
   "execution_count": 106,
   "id": "f609dfe1",
   "metadata": {},
   "outputs": [],
   "source": [
    "X_for_RF = dataset.drop(labels = ['Label'], axis=1)\n",
    "Y_for_RF = dataset['Label']"
   ]
  },
  {
   "cell_type": "code",
   "execution_count": 107,
   "id": "35e0ff9c",
   "metadata": {},
   "outputs": [],
   "source": [
    "from sklearn.ensemble import RandomForestClassifier\n",
    "RF_hand_balanced = RandomForestClassifier(n_estimators=50, random_state=42)"
   ]
  },
  {
   "cell_type": "code",
   "execution_count": 108,
   "id": "8748e3e5",
   "metadata": {},
   "outputs": [
    {
     "name": "stdout",
     "output_type": "stream",
     "text": [
      "Wall time: 4min 31s\n"
     ]
    },
    {
     "data": {
      "text/plain": [
       "RandomForestClassifier(n_estimators=50, random_state=42)"
      ]
     },
     "execution_count": 108,
     "metadata": {},
     "output_type": "execute_result"
    }
   ],
   "source": [
    "%%time\n",
    "RF_hand_balanced.fit(X_for_RF, Y_for_RF)"
   ]
  },
  {
   "cell_type": "markdown",
   "id": "3c4b2b77",
   "metadata": {},
   "source": [
    "### SMOTE\n",
    "Synthetic minority over-sampling technique."
   ]
  },
  {
   "cell_type": "code",
   "execution_count": 74,
   "id": "738f1e8a",
   "metadata": {},
   "outputs": [
    {
     "name": "stdout",
     "output_type": "stream",
     "text": [
      "(49, 512, 512, 3)\n",
      "(49, 512, 512)\n"
     ]
    }
   ],
   "source": [
    "print(train_images.shape)\n",
    "print(train_masks.shape)"
   ]
  },
  {
   "cell_type": "code",
   "execution_count": 70,
   "id": "d28253f2",
   "metadata": {
    "scrolled": true
   },
   "outputs": [
    {
     "name": "stdout",
     "output_type": "stream",
     "text": [
      "(12845056, 32)\n",
      "(12845056,)\n"
     ]
    }
   ],
   "source": [
    "print(X_for_RF.shape)\n",
    "print(Y_for_RF.shape)"
   ]
  },
  {
   "cell_type": "code",
   "execution_count": 75,
   "id": "ef006402",
   "metadata": {},
   "outputs": [],
   "source": [
    "import imblearn\n",
    "from imblearn.over_sampling import SMOTE, ADASYN\n",
    "X_for_RF, Y_for_RF = SMOTE(random_state=42).fit_resample(X_for_RF, Y_for_RF)"
   ]
  },
  {
   "cell_type": "code",
   "execution_count": 76,
   "id": "cb119e90",
   "metadata": {},
   "outputs": [],
   "source": [
    "from sklearn.ensemble import RandomForestClassifier\n",
    "RF_SMOTE_model = RandomForestClassifier(n_estimators=50, random_state=42)"
   ]
  },
  {
   "cell_type": "code",
   "execution_count": 77,
   "id": "8cd2c56a",
   "metadata": {},
   "outputs": [
    {
     "name": "stdout",
     "output_type": "stream",
     "text": [
      "Wall time: 7h 36min 49s\n"
     ]
    },
    {
     "data": {
      "text/plain": [
       "RandomForestClassifier(n_estimators=50, random_state=42)"
      ]
     },
     "execution_count": 77,
     "metadata": {},
     "output_type": "execute_result"
    }
   ],
   "source": [
    "%%time\n",
    "RF_SMOTE_model.fit(X_for_RF, Y_for_RF)"
   ]
  },
  {
   "cell_type": "markdown",
   "id": "5161e589",
   "metadata": {},
   "source": [
    "<br/><br/>\n",
    "# Save Model & Predict\n",
    "**Important**: Be sure to change the _test_prefix_ variable to describe the test you're currently running."
   ]
  },
  {
   "cell_type": "code",
   "execution_count": 78,
   "id": "feeea803",
   "metadata": {},
   "outputs": [],
   "source": [
    "test_prefix = 'rf_conv_50est_49img_SMOTE'\n",
    "filename = test_prefix + '.sav'\n",
    "pickle.dump(RF_SMOTE_model, open(filename, 'wb'))"
   ]
  },
  {
   "cell_type": "code",
   "execution_count": 146,
   "id": "c4f12717",
   "metadata": {},
   "outputs": [
    {
     "name": "stderr",
     "output_type": "stream",
     "text": [
      "C:\\Users\\alif-\\AppData\\Roaming\\Python\\Python39\\site-packages\\sklearn\\utils\\validation.py:63: DataConversionWarning: A column-vector y was passed when a 1d array was expected. Please change the shape of y to (n_samples, ), for example using ravel().\n",
      "  return f(*args, **kwargs)\n"
     ]
    }
   ],
   "source": [
    "loaded_model = pickle.load(open(filename, 'rb'))\n",
    "test_fname = 'P097'\n",
    "test_format = '.png'\n",
    "\n",
    "test_img_path = DIR + 'test_images/' + test_fname + test_format\n",
    "test_img = cv2.imread(test_img_path, cv2.IMREAD_COLOR)\n",
    "test_img = cv2.resize(test_img, (SIZE, SIZE))\n",
    "test_img = cv2.cvtColor(test_img, cv2.COLOR_RGB2BGR)\n",
    "test_img = np.expand_dims(test_img, axis=0)\n",
    "\n",
    "X_test_features = feature_extractor.predict(test_img)\n",
    "X_test_features = X_test_features.reshape(-1, X_test_features.shape[3])\n",
    "\n",
    "prediction = loaded_model.predict(X_test_features)\n",
    "\n",
    "# Reshape and save prediction\n",
    "prediction_image = prediction.reshape(mask.shape)\n",
    "plt.imsave(\"rf_multi_conv/predicted/\" + test_prefix + '_' + test_fname + test_format, prediction_image, cmap=\"turbo\")\n",
    "\n",
    "true_mask_path = DIR + 'test_labels/' + test_fname + test_format\n",
    "true_mask = cv2.imread(true_mask_path, 0)\n",
    "true_mask = cv2.resize(true_mask, (SIZE, SIZE), interpolation = cv2.INTER_NEAREST)\n",
    "\n",
    "from sklearn.preprocessing import LabelEncoder\n",
    "labelencoder = LabelEncoder()\n",
    "h, w = true_mask.shape\n",
    "true_mask_reshaped = true_mask.reshape(-1, 1)\n",
    "true_mask_reshaped_encoded = labelencoder.fit_transform(true_mask_reshaped)\n",
    "true_mask_encoded_original_shape = true_mask_reshaped_encoded.reshape(h, w)\n",
    "\n",
    "true_mask = true_mask_reshaped_encoded\n",
    "true_mask = true_mask.reshape(-1)\n"
   ]
  },
  {
   "cell_type": "markdown",
   "id": "c6ba4bd5",
   "metadata": {},
   "source": [
    "### Performance Metrics"
   ]
  },
  {
   "cell_type": "code",
   "execution_count": 147,
   "id": "853815eb",
   "metadata": {},
   "outputs": [
    {
     "name": "stdout",
     "output_type": "stream",
     "text": [
      "(262144,)\n",
      "(262144,)\n"
     ]
    }
   ],
   "source": [
    "print(prediction.shape)\n",
    "print(true_mask.shape)"
   ]
  },
  {
   "cell_type": "code",
   "execution_count": 148,
   "id": "53127f27",
   "metadata": {},
   "outputs": [
    {
     "name": "stdout",
     "output_type": "stream",
     "text": [
      "{0: 255644, 1: 2630, 2: 3870}\n",
      "{0: 257537, 1: 2338, 2: 2269}\n"
     ]
    }
   ],
   "source": [
    "unique, counts = np.unique(prediction, return_counts=True)\n",
    "pred_counts = dict(zip(unique, counts))\n",
    "\n",
    "unique, counts = np.unique(true_mask, return_counts=True)\n",
    "label_counts = dict(zip(unique, counts))\n",
    "\n",
    "print(pred_counts)\n",
    "print(label_counts)"
   ]
  },
  {
   "cell_type": "code",
   "execution_count": 149,
   "id": "49e3d01f",
   "metadata": {},
   "outputs": [
    {
     "name": "stdout",
     "output_type": "stream",
     "text": [
      "medium_brain/test_labels/P091.png\n"
     ]
    },
    {
     "data": {
      "image/png": "[encoded data removed]",
      "text/plain": [
       "<Figure size 432x288 with 2 Axes>"
      ]
     },
     "metadata": {
      "needs_background": "light"
     },
     "output_type": "display_data"
    }
   ],
   "source": [
    "print(label_path)\n",
    "# label_path = DIR + 'test_labels/' + test_fname + test_format\n",
    "label_path = DIR + 'test_labels/' + test_fname + test_format\n",
    "label_img = cv2.imread(label_path, 0)\n",
    "\n",
    "# plt.subplots(1,2)\n",
    "# plt.imshow(label_img)\n",
    "# plt.imshow(prediction_image)\n",
    "# plt.show()\n",
    "\n",
    "fig, ax = plt.subplots(1,2)\n",
    "ax[0].imshow(label_img);\n",
    "ax[1].imshow(prediction_image);"
   ]
  },
  {
   "cell_type": "code",
   "execution_count": 150,
   "id": "1b8c7337",
   "metadata": {},
   "outputs": [
    {
     "name": "stdout",
     "output_type": "stream",
     "text": [
      "Accuracy:  0.9729537963867188\n",
      "Jaccard score:  0.4886822775841166\n",
      "Mean IOU:  0.48868227\n",
      "IoU for class 0 is:  0.97327214\n",
      "IoU for class 1 is:  0.40062025\n",
      "IoU for class 2 is:  0.09215442\n"
     ]
    }
   ],
   "source": [
    "print(\"Accuracy: \", metrics.accuracy_score(true_mask, prediction))\n",
    "\n",
    "jaccard_score = metrics.jaccard_score(true_mask, prediction, average='macro')\n",
    "print(\"Jaccard score: \", jaccard_score)\n",
    "\n",
    "# from keras.metrics import MeanIOU\n",
    "num_classes = 3\n",
    "IOU_RF = tf.keras.metrics.MeanIoU(num_classes=num_classes)\n",
    "IOU_RF.update_state(true_mask, prediction)\n",
    "print(\"Mean IOU: \", IOU_RF.result().numpy())\n",
    "\n",
    "values = np.array(IOU_RF.get_weights()).reshape(num_classes, num_classes)\n",
    "# print(values)\n",
    "\n",
    "class1_IoU = values[0,0]/(values[0,0] + values[0,1] + values[0,2]  + values[1,0]+ values[2,0])\n",
    "class2_IoU = values[1,1]/(values[1,1] + values[1,0] + values[1,2]  + values[0,1]+ values[2,1])\n",
    "class3_IoU = values[2,2]/(values[2,2] + values[2,0] + values[2,1] + values[0,2]+ values[1,2])\n",
    "\n",
    "print(\"IoU for class 0 is: \", class1_IoU)\n",
    "print(\"IoU for class 1 is: \", class2_IoU)\n",
    "print(\"IoU for class 2 is: \", class3_IoU)"
   ]
  },
  {
   "cell_type": "code",
   "execution_count": null,
   "id": "6a9ba322",
   "metadata": {},
   "outputs": [],
   "source": []
  }
 ],
 "metadata": {
  "kernelspec": {
   "display_name": "Python 3",
   "language": "python",
   "name": "python3"
  },
  "language_info": {
   "codemirror_mode": {
    "name": "ipython",
    "version": 3
   },
   "file_extension": ".py",
   "mimetype": "text/x-python",
   "name": "python",
   "nbconvert_exporter": "python",
   "pygments_lexer": "ipython3",
   "version": "3.9.7"
  }
 },
 "nbformat": 4,
 "nbformat_minor": 5
}
