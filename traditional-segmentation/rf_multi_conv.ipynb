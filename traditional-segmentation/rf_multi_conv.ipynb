{
 "cells": [
  {
   "cell_type": "code",
   "execution_count": 1,
   "id": "91c387b3",
   "metadata": {},
   "outputs": [],
   "source": [
    "import numpy as np\n",
    "import pandas as pd\n",
    "import matplotlib.pyplot as plt\n",
    "import glob\n",
    "import cv2\n",
    "import pickle\n",
    "import os"
   ]
  },
  {
   "cell_type": "code",
   "execution_count": 43,
   "id": "2369743f",
   "metadata": {},
   "outputs": [],
   "source": [
    "import keras\n",
    "keras.__version__\n",
    "from tensorflow.keras.utils import normalize\n",
    "import numpy as np\n",
    "from matplotlib import pyplot as plt\n",
    "import glob\n",
    "import cv2\n",
    "import os\n",
    "from keras import backend as K\n",
    "import tensorflow as tf"
   ]
  },
  {
   "cell_type": "code",
   "execution_count": 2,
   "id": "779be15e",
   "metadata": {},
   "outputs": [
    {
     "data": {
      "text/plain": [
       "'2.5.0'"
      ]
     },
     "execution_count": 2,
     "metadata": {},
     "output_type": "execute_result"
    }
   ],
   "source": [
    "import tensorflow as tf\n",
    "tf.__version__"
   ]
  },
  {
   "cell_type": "code",
   "execution_count": 3,
   "id": "9bec998b",
   "metadata": {},
   "outputs": [
    {
     "data": {
      "text/plain": [
       "'2.5.0'"
      ]
     },
     "execution_count": 3,
     "metadata": {},
     "output_type": "execute_result"
    }
   ],
   "source": [
    "import keras\n",
    "keras.__version__"
   ]
  },
  {
   "cell_type": "code",
   "execution_count": 4,
   "id": "faac72b1",
   "metadata": {},
   "outputs": [],
   "source": [
    "from keras.models import Sequential\n",
    "from keras.layers import Conv2D, BatchNormalization, Flatten, MaxPooling2D"
   ]
  },
  {
   "cell_type": "code",
   "execution_count": 5,
   "id": "434b287a",
   "metadata": {},
   "outputs": [],
   "source": [
    "from datetime import datetime\n",
    "from sklearn import metrics"
   ]
  },
  {
   "cell_type": "code",
   "execution_count": 6,
   "id": "9b123282",
   "metadata": {},
   "outputs": [
    {
     "name": "stdout",
     "output_type": "stream",
     "text": [
      "['all_images', 'all_labels', 'test_images', 'test_labels']\n"
     ]
    }
   ],
   "source": [
    "SIZE = 512\n",
    "DIR = \"mini_brain/\"\n",
    "print(os.listdir(\"mini_brain/\"))"
   ]
  },
  {
   "cell_type": "code",
   "execution_count": 7,
   "id": "3f0dc2ab",
   "metadata": {},
   "outputs": [],
   "source": [
    "train_images = []\n",
    "\n",
    "for directory_path in glob.glob(DIR + \"all_images\"):\n",
    "    for img_path in glob.glob(os.path.join(directory_path, \"*.png\")):\n",
    "        img = cv2.imread(img_path, cv2.IMREAD_COLOR)\n",
    "        img = cv2.resize(img, (SIZE, SIZE))\n",
    "        img = cv2.cvtColor(img, cv2.COLOR_RGB2BGR)\n",
    "        train_images.append(img)"
   ]
  },
  {
   "cell_type": "code",
   "execution_count": 8,
   "id": "beb5c73e",
   "metadata": {},
   "outputs": [],
   "source": [
    "train_masks = []\n",
    "\n",
    "for directory_path in glob.glob(DIR + \"all_labels\"):\n",
    "    for mask_path in glob.glob(os.path.join(directory_path, \"*.png\")):\n",
    "        mask = cv2.imread(mask_path, 0)\n",
    "        mask = cv2.resize(mask, (SIZE, SIZE), interpolation = cv2.INTER_NEAREST)\n",
    "        train_masks.append(mask)"
   ]
  },
  {
   "cell_type": "code",
   "execution_count": 74,
   "id": "5657c01b",
   "metadata": {},
   "outputs": [],
   "source": [
    "train_images = np.array(train_images)\n",
    "train_masks = np.array(train_masks)"
   ]
  },
  {
   "cell_type": "code",
   "execution_count": 75,
   "id": "66382e84",
   "metadata": {},
   "outputs": [
    {
     "data": {
      "text/plain": [
       "array([  0, 128, 255], dtype=uint8)"
      ]
     },
     "execution_count": 75,
     "metadata": {},
     "output_type": "execute_result"
    }
   ],
   "source": [
    "np.unique(train_masks)"
   ]
  },
  {
   "cell_type": "code",
   "execution_count": 76,
   "id": "45d657ca",
   "metadata": {},
   "outputs": [
    {
     "name": "stderr",
     "output_type": "stream",
     "text": [
      "C:\\Users\\alif-\\AppData\\Roaming\\Python\\Python39\\site-packages\\sklearn\\utils\\validation.py:63: DataConversionWarning: A column-vector y was passed when a 1d array was expected. Please change the shape of y to (n_samples, ), for example using ravel().\n",
      "  return f(*args, **kwargs)\n"
     ]
    }
   ],
   "source": [
    "from sklearn.preprocessing import LabelEncoder\n",
    "labelencoder = LabelEncoder()\n",
    "n, h, w = train_masks.shape\n",
    "train_masks_reshaped = train_masks.reshape(-1, 1)\n",
    "train_masks_reshaped_encoded = labelencoder.fit_transform(train_masks_reshaped)\n",
    "train_masks_encoded_original_shape = train_masks_reshaped_encoded.reshape(n, h, w)"
   ]
  },
  {
   "cell_type": "code",
   "execution_count": 77,
   "id": "fe234105",
   "metadata": {},
   "outputs": [],
   "source": [
    "train_masks = train_masks_encoded_original_shape"
   ]
  },
  {
   "cell_type": "code",
   "execution_count": 78,
   "id": "d9da407f",
   "metadata": {},
   "outputs": [
    {
     "data": {
      "text/plain": [
       "array([0, 1, 2], dtype=int64)"
      ]
     },
     "execution_count": 78,
     "metadata": {},
     "output_type": "execute_result"
    }
   ],
   "source": [
    "np.unique(train_masks)"
   ]
  },
  {
   "cell_type": "code",
   "execution_count": 79,
   "id": "cc34db6d",
   "metadata": {},
   "outputs": [
    {
     "name": "stdout",
     "output_type": "stream",
     "text": [
      "(16, 512, 512, 3)\n",
      "(16, 512, 512)\n"
     ]
    }
   ],
   "source": [
    "print(train_images.shape)\n",
    "print(train_masks.shape)"
   ]
  },
  {
   "cell_type": "code",
   "execution_count": 80,
   "id": "a113a85d",
   "metadata": {},
   "outputs": [],
   "source": [
    "X_train = train_images\n",
    "y_train = train_masks\n",
    "y_train = np.expand_dims(y_train, axis=3)"
   ]
  },
  {
   "cell_type": "code",
   "execution_count": 81,
   "id": "1a3dbb6b",
   "metadata": {},
   "outputs": [
    {
     "name": "stdout",
     "output_type": "stream",
     "text": [
      "(16, 512, 512, 3)\n",
      "(16, 512, 512, 1)\n"
     ]
    }
   ],
   "source": [
    "print(X_train.shape)\n",
    "print(y_train.shape)"
   ]
  },
  {
   "cell_type": "markdown",
   "id": "f80446be",
   "metadata": {},
   "source": [
    "### Conv Layers"
   ]
  },
  {
   "cell_type": "code",
   "execution_count": 14,
   "id": "42329634",
   "metadata": {},
   "outputs": [],
   "source": [
    "activation = 'sigmoid'\n",
    "feature_extractor = Sequential()\n",
    "feature_extractor.add(Conv2D(32, 3, activation=activation, \n",
    "        padding='same', input_shape=(SIZE, SIZE, 3)))\n",
    "feature_extractor.add(Conv2D(32, 3, activation=activation, \n",
    "        padding='same', kernel_initializer='he_uniform'))\n",
    "# feature_extractor.add(Conv2D(64, 3, activation=activation, \n",
    "#         padding='same', kernel_initializer='he_uniform'))\n",
    "# feature_extractor.add(BatchNormalization())\n",
    "# feature_extractor.add(Conv2D(64, 3, activation=activation, \n",
    "#         padding='same', kernel_initializer='he_uniform'))\n",
    "# feature_extractor.add(BatchNormalization())\n",
    "# feature_extractor.add(MaxPooling2D())\n",
    "# feature_extractor.add(Flatten())"
   ]
  },
  {
   "cell_type": "code",
   "execution_count": 83,
   "id": "a7c711a6",
   "metadata": {},
   "outputs": [],
   "source": [
    "X = feature_extractor.predict(X_train)"
   ]
  },
  {
   "cell_type": "code",
   "execution_count": 55,
   "id": "45c9a9cc",
   "metadata": {},
   "outputs": [],
   "source": [
    "# X = np.moveaxis(X, 0, 1)"
   ]
  },
  {
   "cell_type": "code",
   "execution_count": 84,
   "id": "8839b599",
   "metadata": {},
   "outputs": [],
   "source": [
    "X = X.reshape(-1, X.shape[3])\n",
    "Y = y_train.reshape(-1)"
   ]
  },
  {
   "cell_type": "code",
   "execution_count": 85,
   "id": "2a3fb7d7",
   "metadata": {},
   "outputs": [
    {
     "name": "stdout",
     "output_type": "stream",
     "text": [
      "(4194304, 32)\n",
      "(4194304,)\n"
     ]
    }
   ],
   "source": [
    "print(X.shape)\n",
    "print(Y.shape)"
   ]
  },
  {
   "cell_type": "code",
   "execution_count": 86,
   "id": "b8a490b8",
   "metadata": {},
   "outputs": [
    {
     "name": "stdout",
     "output_type": "stream",
     "text": [
      "[0 2 1]\n"
     ]
    }
   ],
   "source": [
    "dataset = pd.DataFrame(X)\n",
    "dataset['Label'] = Y\n",
    "print(dataset['Label'].unique())"
   ]
  },
  {
   "cell_type": "code",
   "execution_count": 87,
   "id": "29598f31",
   "metadata": {},
   "outputs": [
    {
     "name": "stdout",
     "output_type": "stream",
     "text": [
      "0    4146224\n",
      "2      30022\n",
      "1      18058\n",
      "Name: Label, dtype: int64\n"
     ]
    }
   ],
   "source": [
    "print(dataset['Label'].value_counts())"
   ]
  },
  {
   "cell_type": "code",
   "execution_count": 60,
   "id": "65bc8686",
   "metadata": {},
   "outputs": [],
   "source": [
    "# dataset = dataset[dataset['Label'] != 0]"
   ]
  },
  {
   "cell_type": "code",
   "execution_count": 89,
   "id": "9cf1b27d",
   "metadata": {},
   "outputs": [],
   "source": [
    "X_for_RF = dataset.drop(labels = ['Label'], axis=1)\n",
    "Y_for_RF = dataset['Label']"
   ]
  },
  {
   "cell_type": "markdown",
   "id": "66e6063b",
   "metadata": {},
   "source": [
    "### Random Forest"
   ]
  },
  {
   "cell_type": "code",
   "execution_count": 63,
   "id": "8e99cdb8",
   "metadata": {},
   "outputs": [],
   "source": [
    "from sklearn.ensemble import RandomForestClassifier\n",
    "model = RandomForestClassifier(n_estimators = 50, random_state = 42)"
   ]
  },
  {
   "cell_type": "code",
   "execution_count": 64,
   "id": "2d75ab27",
   "metadata": {},
   "outputs": [
    {
     "name": "stdout",
     "output_type": "stream",
     "text": [
      "Wall time: 41min 17s\n"
     ]
    },
    {
     "data": {
      "text/plain": [
       "RandomForestClassifier(n_estimators=50, random_state=42)"
      ]
     },
     "execution_count": 64,
     "metadata": {},
     "output_type": "execute_result"
    }
   ],
   "source": [
    "%%time\n",
    "model.fit(X_for_RF, Y_for_RF)"
   ]
  },
  {
   "cell_type": "code",
   "execution_count": 9,
   "id": "44e58c42",
   "metadata": {},
   "outputs": [],
   "source": [
    "filename = 'rf_conv_50est_49img.sav'"
   ]
  },
  {
   "cell_type": "code",
   "execution_count": 93,
   "id": "69b4c408",
   "metadata": {},
   "outputs": [],
   "source": [
    "pickle.dump(model, open(filename, 'wb'))"
   ]
  },
  {
   "cell_type": "markdown",
   "id": "14a031cd",
   "metadata": {},
   "source": [
    "### Predict"
   ]
  },
  {
   "cell_type": "code",
   "execution_count": 10,
   "id": "46e954e3",
   "metadata": {},
   "outputs": [],
   "source": [
    "loaded_model = pickle.load(open(filename, 'rb'))"
   ]
  },
  {
   "cell_type": "code",
   "execution_count": 68,
   "id": "1386f0e1",
   "metadata": {},
   "outputs": [],
   "source": [
    "test_fname = 'P044'\n",
    "test_format = '.png'"
   ]
  },
  {
   "cell_type": "code",
   "execution_count": 69,
   "id": "9af2957b",
   "metadata": {},
   "outputs": [],
   "source": [
    "test_img_path = DIR + 'test_images/' + test_fname + test_format\n",
    "test_img = cv2.imread(test_img_path, cv2.IMREAD_COLOR)\n",
    "test_img = cv2.resize(test_img, (SIZE, SIZE))\n",
    "test_img = cv2.cvtColor(test_img, cv2.COLOR_RGB2BGR)\n",
    "test_img = np.expand_dims(test_img, axis=0)"
   ]
  },
  {
   "cell_type": "code",
   "execution_count": 70,
   "id": "c15dbe40",
   "metadata": {},
   "outputs": [],
   "source": [
    "X_test_features = feature_extractor.predict(test_img)\n",
    "X_test_features = X_test_features.reshape(-1, X_test_features.shape[3])"
   ]
  },
  {
   "cell_type": "code",
   "execution_count": 71,
   "id": "04fd5ced",
   "metadata": {},
   "outputs": [
    {
     "data": {
      "text/plain": [
       "(262144, 32)"
      ]
     },
     "execution_count": 71,
     "metadata": {},
     "output_type": "execute_result"
    }
   ],
   "source": [
    "X_test_features.shape"
   ]
  },
  {
   "cell_type": "code",
   "execution_count": 72,
   "id": "be1e7ea4",
   "metadata": {},
   "outputs": [],
   "source": [
    "prediction = loaded_model.predict(X_test_features)"
   ]
  },
  {
   "cell_type": "code",
   "execution_count": 73,
   "id": "0009e667",
   "metadata": {},
   "outputs": [],
   "source": [
    "# Reshape and save prediction\n",
    "prediction_image = prediction.reshape(mask.shape)\n",
    "plt.imsave(\"rf_multi_conv/predicted/\" + test_fname + test_format, prediction_image, cmap=\"binary\")"
   ]
  },
  {
   "cell_type": "code",
   "execution_count": 74,
   "id": "bd9f6adf",
   "metadata": {},
   "outputs": [],
   "source": [
    "true_mask_path = DIR + 'test_labels/' + test_fname + test_format\n",
    "true_mask = cv2.imread(mask_path, 0)\n",
    "true_mask = cv2.resize(mask, (SIZE, SIZE), interpolation = cv2.INTER_NEAREST)"
   ]
  },
  {
   "cell_type": "code",
   "execution_count": 76,
   "id": "f037e6cb",
   "metadata": {},
   "outputs": [
    {
     "data": {
      "text/plain": [
       "(512, 512)"
      ]
     },
     "execution_count": 76,
     "metadata": {},
     "output_type": "execute_result"
    }
   ],
   "source": [
    "true_mask.shape"
   ]
  },
  {
   "cell_type": "code",
   "execution_count": 78,
   "id": "3209cd62",
   "metadata": {},
   "outputs": [],
   "source": [
    "from sklearn.preprocessing import LabelEncoder\n",
    "labelencoder = LabelEncoder()\n",
    "h, w = true_mask.shape\n",
    "true_mask_reshaped = true_mask.reshape(-1, 1)\n",
    "true_mask_reshaped_encoded = labelencoder.fit_transform(true_mask_reshaped)\n",
    "true_mask_encoded_original_shape = true_mask_reshaped_encoded.reshape(h, w)"
   ]
  },
  {
   "cell_type": "code",
   "execution_count": 79,
   "id": "9be96a87",
   "metadata": {},
   "outputs": [],
   "source": [
    "true_mask = true_mask_reshaped_encoded"
   ]
  },
  {
   "cell_type": "code",
   "execution_count": 80,
   "id": "25c946d8",
   "metadata": {},
   "outputs": [
    {
     "data": {
      "text/plain": [
       "array([0, 1, 2], dtype=int64)"
      ]
     },
     "execution_count": 80,
     "metadata": {},
     "output_type": "execute_result"
    }
   ],
   "source": [
    "np.unique(true_mask)"
   ]
  },
  {
   "cell_type": "code",
   "execution_count": 81,
   "id": "226c66e2",
   "metadata": {},
   "outputs": [],
   "source": [
    "true_mask = true_mask.reshape(-1)"
   ]
  },
  {
   "cell_type": "code",
   "execution_count": 82,
   "id": "ebfcee60",
   "metadata": {},
   "outputs": [
    {
     "name": "stdout",
     "output_type": "stream",
     "text": [
      "(262144,)\n",
      "(262144,)\n"
     ]
    }
   ],
   "source": [
    "print(true_mask.shape)\n",
    "print(prediction.shape)"
   ]
  },
  {
   "cell_type": "code",
   "execution_count": 83,
   "id": "9c37698f",
   "metadata": {},
   "outputs": [
    {
     "name": "stdout",
     "output_type": "stream",
     "text": [
      "0.9827651977539062\n"
     ]
    }
   ],
   "source": [
    "print(metrics.accuracy_score(true_mask, prediction))"
   ]
  },
  {
   "cell_type": "markdown",
   "id": "80a278be",
   "metadata": {},
   "source": [
    "### Jaccard"
   ]
  },
  {
   "cell_type": "code",
   "execution_count": 84,
   "id": "fb8e274e",
   "metadata": {},
   "outputs": [],
   "source": [
    "# IOU for each class is the following\n",
    "# IOU = true_pos / (true_pos + false_pos + false_neg)"
   ]
  },
  {
   "cell_type": "code",
   "execution_count": 85,
   "id": "9a6558fd",
   "metadata": {},
   "outputs": [
    {
     "name": "stdout",
     "output_type": "stream",
     "text": [
      "0.32758839925130206\n"
     ]
    }
   ],
   "source": [
    "jaccard_score = metrics.jaccard_score(true_mask, prediction, average='macro')\n",
    "print(jaccard_score)"
   ]
  },
  {
   "cell_type": "markdown",
   "id": "426f3fa8",
   "metadata": {},
   "source": [
    "### IOU"
   ]
  },
  {
   "cell_type": "code",
   "execution_count": 86,
   "id": "6da4045b",
   "metadata": {},
   "outputs": [
    {
     "data": {
      "text/plain": [
       "tensorflow.python.keras.metrics.MeanIoU"
      ]
     },
     "execution_count": 86,
     "metadata": {},
     "output_type": "execute_result"
    }
   ],
   "source": [
    "tf.keras.metrics.MeanIoU"
   ]
  },
  {
   "cell_type": "code",
   "execution_count": 87,
   "id": "bca1e394",
   "metadata": {},
   "outputs": [
    {
     "name": "stdout",
     "output_type": "stream",
     "text": [
      "(262144,)\n",
      "(262144,)\n"
     ]
    }
   ],
   "source": [
    "print(true_mask.shape)\n",
    "print(prediction.shape)"
   ]
  },
  {
   "cell_type": "code",
   "execution_count": 88,
   "id": "fb39084b",
   "metadata": {},
   "outputs": [
    {
     "name": "stdout",
     "output_type": "stream",
     "text": [
      "[0 1 2]\n",
      "[0]\n"
     ]
    }
   ],
   "source": [
    "print(np.unique(true_mask))\n",
    "print(np.unique(prediction))"
   ]
  },
  {
   "cell_type": "code",
   "execution_count": 89,
   "id": "03083f7e",
   "metadata": {},
   "outputs": [
    {
     "name": "stdout",
     "output_type": "stream",
     "text": [
      "0.3275884\n"
     ]
    }
   ],
   "source": [
    "# from keras.metrics import MeanIOU\n",
    "num_classes = 3\n",
    "IOU_RF = tf.keras.metrics.MeanIoU(num_classes=num_classes)\n",
    "IOU_RF.update_state(true_mask, prediction)\n",
    "print(IOU_RF.result().numpy())"
   ]
  },
  {
   "cell_type": "code",
   "execution_count": 90,
   "id": "3706e2c7",
   "metadata": {},
   "outputs": [
    {
     "name": "stdout",
     "output_type": "stream",
     "text": [
      "[[257626.      0.      0.]\n",
      " [  1390.      0.      0.]\n",
      " [  3128.      0.      0.]]\n"
     ]
    }
   ],
   "source": [
    "values = np.array(IOU_RF.get_weights()).reshape(num_classes, num_classes)\n",
    "print(values)"
   ]
  },
  {
   "cell_type": "code",
   "execution_count": 91,
   "id": "28e52f3b",
   "metadata": {},
   "outputs": [],
   "source": [
    "class1_IoU = values[0,0]/(values[0,0] + values[0,1] + values[0,2]  + values[1,0]+ values[2,0])\n",
    "class2_IoU = values[1,1]/(values[1,1] + values[1,0] + values[1,2]  + values[0,1]+ values[2,1])\n",
    "class3_IoU = values[2,2]/(values[2,2] + values[2,0] + values[2,1] + values[0,2]+ values[1,2])"
   ]
  },
  {
   "cell_type": "code",
   "execution_count": 92,
   "id": "41d7efc2",
   "metadata": {},
   "outputs": [
    {
     "name": "stdout",
     "output_type": "stream",
     "text": [
      "IoU for class 1 is:  0.9827652\n",
      "IoU for class 2 is:  0.0\n",
      "IoU for class 3 is:  0.0\n"
     ]
    }
   ],
   "source": [
    "print(\"IoU for class 1 is: \", class1_IoU)\n",
    "print(\"IoU for class 2 is: \", class2_IoU)\n",
    "print(\"IoU for class 3 is: \", class3_IoU)"
   ]
  },
  {
   "cell_type": "code",
   "execution_count": null,
   "id": "b0e78a3e",
   "metadata": {},
   "outputs": [],
   "source": []
  }
 ],
 "metadata": {
  "kernelspec": {
   "display_name": "Python 3",
   "language": "python",
   "name": "python3"
  },
  "language_info": {
   "codemirror_mode": {
    "name": "ipython",
    "version": 3
   },
   "file_extension": ".py",
   "mimetype": "text/x-python",
   "name": "python",
   "nbconvert_exporter": "python",
   "pygments_lexer": "ipython3",
   "version": "3.9.7"
  }
 },
 "nbformat": 4,
 "nbformat_minor": 5
}
