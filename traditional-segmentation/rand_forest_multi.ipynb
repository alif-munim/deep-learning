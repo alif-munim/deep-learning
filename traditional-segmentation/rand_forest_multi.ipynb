{
 "cells": [
  {
   "cell_type": "code",
   "execution_count": 1,
   "id": "07d95989",
   "metadata": {},
   "outputs": [],
   "source": [
    "import numpy as np\n",
    "import cv2\n",
    "import pandas as pd"
   ]
  },
  {
   "cell_type": "code",
   "execution_count": 2,
   "id": "7064e5b5",
   "metadata": {},
   "outputs": [],
   "source": [
    "import glob\n",
    "import pickle\n",
    "from matplotlib import pyplot as plt\n",
    "import os"
   ]
  },
  {
   "cell_type": "code",
   "execution_count": 3,
   "id": "8d922d77",
   "metadata": {},
   "outputs": [],
   "source": [
    "from scipy import ndimage as nd\n",
    "from skimage.filters import roberts, sobel, scharr, prewitt"
   ]
  },
  {
   "cell_type": "code",
   "execution_count": 4,
   "id": "a09c0f48",
   "metadata": {},
   "outputs": [
    {
     "name": "stdout",
     "output_type": "stream",
     "text": [
      "Sandstone_Versa0000.tif\n",
      "Sandstone_Versa0050.tif\n",
      "Sandstone_Versa0100.tif\n",
      "Sandstone_Versa0150.tif\n",
      "Sandstone_Versa0200.tif\n",
      "Sandstone_Versa0250.tif\n",
      "Sandstone_Versa0300.tif\n",
      "Sandstone_Versa0350.tif\n",
      "Sandstone_Versa0400.tif\n"
     ]
    }
   ],
   "source": [
    "image_dataset = pd.DataFrame()\n",
    "\n",
    "img_path = \"Train_images/\"\n",
    "for image in os.listdir(img_path):\n",
    "    print(image)\n",
    "    \n",
    "    df = pd.DataFrame()\n",
    "    input_img = cv2.imread(img_path + image)\n",
    "    \n",
    "    # Reshape image if needed\n",
    "    if input_img.ndim == 3 and input_img.shape[-1] == 3:\n",
    "        img = cv2.cvtColor(input_img, cv2.COLOR_BGR2GRAY)\n",
    "    elif input_img.ndim == 2:\n",
    "        img = input_img\n",
    "    else:\n",
    "        raise Exception(\"Only grayscale and RGB images allowed\");\n",
    "        \n",
    "    # Add values to data frame\n",
    "    pixel_values = img.reshape(-1)\n",
    "    df['Pixel_Value'] = pixel_values\n",
    "    df['Image_Name'] = image\n",
    "    \n",
    "    # Gabor features\n",
    "    num = 1\n",
    "    kernels = []\n",
    "    for theta in range(2):\n",
    "        # Angle\n",
    "        theta = theta / 4. * np.pi\n",
    "        # Standard deviation (Gaussian)\n",
    "        for sigma in (1, 3):\n",
    "            # Wavelength\n",
    "            for lamda in np.arange(0, np.pi, np.pi / 4):\n",
    "                # Aspect ratio\n",
    "                for gamma in (0.05, 0.5):\n",
    "                    gabor_label = 'Gabor' + str(num)\n",
    "                    ksize = 9\n",
    "                    kernel = cv2.getGaborKernel(\n",
    "                        (ksize, ksize), \n",
    "                        sigma, theta, lamda, gamma, 0, \n",
    "                        ktype=cv2.CV_32F)\n",
    "                    fimg = cv2.filter2D(img, cv2.CV_8UC3, kernel)\n",
    "                    filtered_img = fimg.reshape(-1)\n",
    "                    df[gabor_label] = filtered_img\n",
    "                    num += 1\n",
    "                    \n",
    "    \n",
    "    # Canny edge; edge detection filter\n",
    "    edges = cv2.Canny(img, 100, 200)\n",
    "    edges1 = edges.reshape(-1)\n",
    "    df[\"Canny Edge\"] = edges1\n",
    "    \n",
    "    # Some more filters\n",
    "    edge_roberts = roberts(img)\n",
    "    edge_roberts1 = edge_roberts.reshape(-1)\n",
    "    df[\"Roberts\"] = edge_roberts1\n",
    "\n",
    "    edge_sobel = sobel(img)\n",
    "    edge_sobel1 = edge_sobel.reshape(-1)\n",
    "    df[\"Sobel\"] = edge_sobel1\n",
    "\n",
    "    edge_scharr = scharr(img)\n",
    "    edge_scharr1 = edge_scharr.reshape(-1)\n",
    "    df[\"Scharr\"] = edge_scharr1\n",
    "\n",
    "    edge_prewitt = prewitt(img)\n",
    "    edge_prewitt1 = edge_prewitt.reshape(-1)\n",
    "    df[\"Prewitt\"] = edge_prewitt1\n",
    "    \n",
    "    gaussian_img = nd.gaussian_filter(img, sigma=3)\n",
    "    gaussian_img1 = gaussian_img.reshape(-1)\n",
    "    df[\"Gaussian s3\"] = gaussian_img1\n",
    "\n",
    "    gaussian_img2 = nd.gaussian_filter(img, sigma=7)\n",
    "    gaussian_img3 = gaussian_img2.reshape(-1)\n",
    "    df[\"Gaussian s7\"] = gaussian_img3\n",
    "\n",
    "    median_img = nd.median_filter(img, size=3)\n",
    "    median_img1 = median_img.reshape(-1)\n",
    "    df[\"Median s3\"] = median_img1\n",
    "    \n",
    "    image_dataset = image_dataset.append(df)"
   ]
  },
  {
   "cell_type": "code",
   "execution_count": 5,
   "id": "69ee42b6",
   "metadata": {},
   "outputs": [
    {
     "name": "stdout",
     "output_type": "stream",
     "text": [
      "Sandstone_Versa0000.tif\n",
      "Sandstone_Versa0050.tif\n",
      "Sandstone_Versa0100.tif\n",
      "Sandstone_Versa0150.tif\n",
      "Sandstone_Versa0200.tif\n",
      "Sandstone_Versa0250.tif\n",
      "Sandstone_Versa0300.tif\n",
      "Sandstone_Versa0350.tif\n",
      "Sandstone_Versa0400.tif\n"
     ]
    }
   ],
   "source": [
    "mask_dataset = pd.DataFrame()\n",
    "\n",
    "mask_path = \"Train_masks/\"\n",
    "for mask in os.listdir(mask_path):\n",
    "    print(mask)\n",
    "    \n",
    "    df = pd.DataFrame()\n",
    "    input_mask = cv2.imread(mask_path + mask)\n",
    "    \n",
    "    # Reshape image if needed\n",
    "    if input_mask.ndim == 3 and input_mask.shape[-1] == 3:\n",
    "        label = cv2.cvtColor(input_img, cv2.COLOR_BGR2GRAY)\n",
    "    elif input_img.ndim == 2:\n",
    "        label = input_img\n",
    "    else:\n",
    "        raise Exception(\"Only grayscale and RGB images allowed\");\n",
    "        \n",
    "    # Add values to data frame\n",
    "    label_values = label.reshape(-1)\n",
    "    df['Label_Value'] = label_values\n",
    "    df['Mask_Name'] = mask\n",
    "    \n",
    "    # Gabor features\n",
    "    num = 1\n",
    "    kernels = []\n",
    "    for theta in range(2):\n",
    "        # Angle\n",
    "        theta = theta / 4. * np.pi\n",
    "        # Standard deviation (Gaussian)\n",
    "        for sigma in (1, 3):\n",
    "            # Wavelength\n",
    "            for lamda in np.arange(0, np.pi, np.pi / 4):\n",
    "                # Aspect ratio\n",
    "                for gamma in (0.05, 0.5):\n",
    "                    gabor_label = 'Gabor' + str(num)\n",
    "                    ksize = 9\n",
    "                    kernel = cv2.getGaborKernel(\n",
    "                        (ksize, ksize), \n",
    "                        sigma, theta, lamda, gamma, 0, \n",
    "                        ktype=cv2.CV_32F)\n",
    "                    fimg = cv2.filter2D(img, cv2.CV_8UC3, kernel)\n",
    "                    filtered_img = fimg.reshape(-1)\n",
    "                    df[gabor_label] = filtered_img\n",
    "                    num += 1\n",
    "                    \n",
    "    \n",
    "    # Canny edge; edge detection filter\n",
    "    edges = cv2.Canny(img, 100, 200)\n",
    "    edges1 = edges.reshape(-1)\n",
    "    df[\"Canny Edge\"] = edges1\n",
    "    \n",
    "    # Some more filters\n",
    "    edge_roberts = roberts(img)\n",
    "    edge_roberts1 = edge_roberts.reshape(-1)\n",
    "    df[\"Roberts\"] = edge_roberts1\n",
    "\n",
    "    edge_sobel = sobel(img)\n",
    "    edge_sobel1 = edge_sobel.reshape(-1)\n",
    "    df[\"Sobel\"] = edge_sobel1\n",
    "\n",
    "    edge_scharr = scharr(img)\n",
    "    edge_scharr1 = edge_scharr.reshape(-1)\n",
    "    df[\"Scharr\"] = edge_scharr1\n",
    "\n",
    "    edge_prewitt = prewitt(img)\n",
    "    edge_prewitt1 = edge_prewitt.reshape(-1)\n",
    "    df[\"Prewitt\"] = edge_prewitt1\n",
    "    \n",
    "    gaussian_img = nd.gaussian_filter(img, sigma=3)\n",
    "    gaussian_img1 = gaussian_img.reshape(-1)\n",
    "    df[\"Gaussian s3\"] = gaussian_img1\n",
    "\n",
    "    gaussian_img2 = nd.gaussian_filter(img, sigma=7)\n",
    "    gaussian_img3 = gaussian_img2.reshape(-1)\n",
    "    df[\"Gaussian s7\"] = gaussian_img3\n",
    "\n",
    "    median_img = nd.median_filter(img, size=3)\n",
    "    median_img1 = median_img.reshape(-1)\n",
    "    df[\"Median s3\"] = median_img1\n",
    "    \n",
    "    mask_dataset = mask_dataset.append(df)"
   ]
  },
  {
   "cell_type": "code",
   "execution_count": 6,
   "id": "3356756a",
   "metadata": {},
   "outputs": [],
   "source": [
    "dataset = pd.concat([image_dataset, mask_dataset], axis=1)\n",
    "dataset = dataset[dataset.Label_Value != 0]"
   ]
  },
  {
   "cell_type": "code",
   "execution_count": 7,
   "id": "9860581a",
   "metadata": {},
   "outputs": [],
   "source": [
    "X = dataset.drop(labels = [\"Image_Name\", \"Mask_Name\", \"Label_Value\"], axis=1)\n",
    "Y = dataset[\"Label_Value\"].values"
   ]
  },
  {
   "cell_type": "code",
   "execution_count": 8,
   "id": "3857e611",
   "metadata": {},
   "outputs": [],
   "source": [
    "from sklearn.model_selection import train_test_split\n",
    "X_train, X_test, y_train, y_test = train_test_split(X, Y, test_size=0.2, random_state=20)"
   ]
  },
  {
   "cell_type": "code",
   "execution_count": 11,
   "id": "6232c132",
   "metadata": {},
   "outputs": [],
   "source": [
    "from sklearn.ensemble import RandomForestClassifier\n",
    "model = RandomForestClassifier(n_estimators=10, max_depth=6, random_state=42)"
   ]
  },
  {
   "cell_type": "code",
   "execution_count": 12,
   "id": "c167ba23",
   "metadata": {},
   "outputs": [
    {
     "data": {
      "text/plain": [
       "RandomForestClassifier(max_depth=6, n_estimators=10, random_state=42)"
      ]
     },
     "execution_count": 12,
     "metadata": {},
     "output_type": "execute_result"
    }
   ],
   "source": [
    "model.fit(X_train, y_train)"
   ]
  },
  {
   "cell_type": "code",
   "execution_count": 13,
   "id": "b289a4e8",
   "metadata": {},
   "outputs": [
    {
     "name": "stdout",
     "output_type": "stream",
     "text": [
      "Accuracy =  0.10206684256816183\n"
     ]
    }
   ],
   "source": [
    "from sklearn import metrics\n",
    "prediction_test = model.predict(X_test)\n",
    "print(\"Accuracy = \", metrics.accuracy_score(y_test, prediction_test))"
   ]
  },
  {
   "cell_type": "markdown",
   "id": "44116074",
   "metadata": {},
   "source": [
    "### Train #2"
   ]
  },
  {
   "cell_type": "code",
   "execution_count": 14,
   "id": "b898353a",
   "metadata": {},
   "outputs": [],
   "source": [
    "from sklearn.ensemble import RandomForestClassifier\n",
    "model = RandomForestClassifier(n_estimators=25, max_depth=10, random_state=42)"
   ]
  },
  {
   "cell_type": "code",
   "execution_count": 15,
   "id": "62b9069d",
   "metadata": {},
   "outputs": [
    {
     "data": {
      "text/plain": [
       "RandomForestClassifier(max_depth=10, n_estimators=25, random_state=42)"
      ]
     },
     "execution_count": 15,
     "metadata": {},
     "output_type": "execute_result"
    }
   ],
   "source": [
    "model.fit(X_train, y_train)"
   ]
  },
  {
   "cell_type": "code",
   "execution_count": null,
   "id": "522ce06c",
   "metadata": {},
   "outputs": [],
   "source": []
  }
 ],
 "metadata": {
  "kernelspec": {
   "display_name": "Python 3",
   "language": "python",
   "name": "python3"
  },
  "language_info": {
   "codemirror_mode": {
    "name": "ipython",
    "version": 3
   },
   "file_extension": ".py",
   "mimetype": "text/x-python",
   "name": "python",
   "nbconvert_exporter": "python",
   "pygments_lexer": "ipython3",
   "version": "3.9.6"
  }
 },
 "nbformat": 4,
 "nbformat_minor": 5
}
