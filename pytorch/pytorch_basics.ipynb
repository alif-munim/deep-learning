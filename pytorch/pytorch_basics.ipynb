{
 "cells": [
  {
   "cell_type": "code",
   "execution_count": 1,
   "id": "2cbec7de",
   "metadata": {},
   "outputs": [
    {
     "data": {
      "text/plain": [
       "<torch._C.Generator at 0x7f196006e6f0>"
      ]
     },
     "execution_count": 1,
     "metadata": {},
     "output_type": "execute_result"
    }
   ],
   "source": [
    "import torch\n",
    "torch.manual_seed(1)"
   ]
  },
  {
   "cell_type": "markdown",
   "id": "629a78b6",
   "metadata": {},
   "source": [
    "### Creating Tensors"
   ]
  },
  {
   "cell_type": "code",
   "execution_count": 2,
   "id": "cf9198b5",
   "metadata": {},
   "outputs": [
    {
     "name": "stdout",
     "output_type": "stream",
     "text": [
      "tensor([1., 2., 3.])\n"
     ]
    }
   ],
   "source": [
    "V_data = [1., 2., 3.]\n",
    "V = torch.tensor(V_data)\n",
    "print(V)"
   ]
  },
  {
   "cell_type": "code",
   "execution_count": 3,
   "id": "bac696b5",
   "metadata": {},
   "outputs": [
    {
     "name": "stdout",
     "output_type": "stream",
     "text": [
      "tensor([[1., 2., 3.],\n",
      "        [4., 5., 6.]])\n"
     ]
    }
   ],
   "source": [
    "M_data = [[1., 2., 3.], [4., 5., 6.]]\n",
    "M = torch.tensor(M_data)\n",
    "print(M)"
   ]
  },
  {
   "cell_type": "code",
   "execution_count": 4,
   "id": "f7ad5b76",
   "metadata": {},
   "outputs": [
    {
     "name": "stdout",
     "output_type": "stream",
     "text": [
      "tensor([[[1., 2.],\n",
      "         [3., 4.]],\n",
      "\n",
      "        [[5., 6.],\n",
      "         [7., 8.]]])\n"
     ]
    }
   ],
   "source": [
    "T_data = [[[1., 2.], [3., 4.]],\n",
    "          [[5., 6.], [7., 8.]]]\n",
    "T = torch.tensor(T_data)\n",
    "print(T)"
   ]
  },
  {
   "cell_type": "code",
   "execution_count": 10,
   "id": "292ec8f3",
   "metadata": {},
   "outputs": [
    {
     "name": "stdout",
     "output_type": "stream",
     "text": [
      "tensor(1.)\n",
      "1.0\n",
      "tensor([1., 2., 3.])\n",
      "tensor([[1., 2.],\n",
      "        [3., 4.]])\n"
     ]
    }
   ],
   "source": [
    "print(V[0])\n",
    "print(V[0].item())\n",
    "print(M[0])\n",
    "print(T[0])"
   ]
  },
  {
   "cell_type": "code",
   "execution_count": 11,
   "id": "3bfb6249",
   "metadata": {},
   "outputs": [
    {
     "name": "stdout",
     "output_type": "stream",
     "text": [
      "tensor([[0.6614, 0.2669],\n",
      "        [0.0617, 0.6213]])\n"
     ]
    }
   ],
   "source": [
    "x = torch.randn((2,2))\n",
    "print(x)"
   ]
  },
  {
   "cell_type": "markdown",
   "id": "40c27a35",
   "metadata": {},
   "source": [
    "### Operations"
   ]
  },
  {
   "cell_type": "code",
   "execution_count": 14,
   "id": "f22cc0dd",
   "metadata": {},
   "outputs": [
    {
     "name": "stdout",
     "output_type": "stream",
     "text": [
      "tensor([[ 0.4533,  0.2912, -0.8317, -0.5525,  0.6355],\n",
      "        [-0.3968, -0.6571, -1.6428,  0.9803, -0.0421],\n",
      "        [-0.8206,  0.3133, -1.1352,  0.3773, -0.2824],\n",
      "        [-2.5667, -1.4303,  0.5009,  0.5438, -0.4057],\n",
      "        [ 1.1341, -1.1115,  0.3501, -0.7703, -0.1473]])\n"
     ]
    }
   ],
   "source": [
    "x_1 = torch.randn(2, 5)\n",
    "y_1 = torch.randn(3, 5)\n",
    "z_1 = torch.cat([x_1, y_1], 0) # default is 0, for row concat.\n",
    "print(z_1)"
   ]
  },
  {
   "cell_type": "code",
   "execution_count": 13,
   "id": "d34ec3ad",
   "metadata": {},
   "outputs": [
    {
     "name": "stdout",
     "output_type": "stream",
     "text": [
      "tensor([[-0.9880, -0.9081,  0.5423, -0.1383,  0.8310, -0.2477, -0.8029,  0.2366],\n",
      "        [ 0.1103, -2.2590,  0.6067,  0.2857,  0.6898, -0.6331,  0.8795, -0.6842]])\n"
     ]
    }
   ],
   "source": [
    "x_2 = torch.randn(2, 3)\n",
    "y_2 = torch.randn(2, 5)\n",
    "z_2 = torch.cat([x_2, y_2], 1) # column concat is 1\n",
    "print(z_2)"
   ]
  },
  {
   "cell_type": "code",
   "execution_count": 18,
   "id": "6596ea83",
   "metadata": {},
   "outputs": [
    {
     "name": "stdout",
     "output_type": "stream",
     "text": [
      "tensor([[ 1.8782, -0.5666,  0.4016],\n",
      "        [-0.1153,  0.3170,  0.5629]])\n"
     ]
    }
   ],
   "source": [
    "x = torch.randn(2,3)\n",
    "print(x)"
   ]
  },
  {
   "cell_type": "code",
   "execution_count": 20,
   "id": "cfb5d614",
   "metadata": {},
   "outputs": [
    {
     "name": "stdout",
     "output_type": "stream",
     "text": [
      "tensor([[ 1.8782, -0.5666,  0.4016, -0.1153,  0.3170,  0.5629]])\n"
     ]
    }
   ],
   "source": [
    "print(x.view(1,6))"
   ]
  },
  {
   "cell_type": "code",
   "execution_count": 21,
   "id": "b63152a3",
   "metadata": {},
   "outputs": [
    {
     "name": "stdout",
     "output_type": "stream",
     "text": [
      "tensor([[ 1.8782, -0.5666],\n",
      "        [ 0.4016, -0.1153],\n",
      "        [ 0.3170,  0.5629]])\n"
     ]
    }
   ],
   "source": [
    "print(x.view(3, -1)) # -1 to infer dimension"
   ]
  },
  {
   "cell_type": "markdown",
   "id": "51e5fb4e",
   "metadata": {},
   "source": [
    "### Computational Graphs & Differentiation\n",
    "A computational graph tracks the parameters involved in your operations, preserving enough information to compute gradients.\n",
    "\n",
    "We specify that we want to produce a computational graph with the parameter `requires_grad=True`."
   ]
  },
  {
   "cell_type": "code",
   "execution_count": 23,
   "id": "0df5e249",
   "metadata": {},
   "outputs": [
    {
     "name": "stdout",
     "output_type": "stream",
     "text": [
      "tensor([5., 7., 9.], grad_fn=<AddBackward0>)\n"
     ]
    }
   ],
   "source": [
    "x = torch.tensor([1.,2.,3.], requires_grad=True)\n",
    "y = torch.tensor([4.,5.,6.], requires_grad=True)\n",
    "z = x + y\n",
    "print(z)"
   ]
  },
  {
   "cell_type": "code",
   "execution_count": 26,
   "id": "e1db66e3",
   "metadata": {},
   "outputs": [
    {
     "name": "stdout",
     "output_type": "stream",
     "text": [
      "<AddBackward0 object at 0x7f185c398c10>\n"
     ]
    }
   ],
   "source": [
    "print(z.grad_fn)"
   ]
  },
  {
   "cell_type": "code",
   "execution_count": 27,
   "id": "7076cac0",
   "metadata": {},
   "outputs": [
    {
     "name": "stdout",
     "output_type": "stream",
     "text": [
      "tensor(21., grad_fn=<SumBackward0>)\n",
      "<SumBackward0 object at 0x7f185c3f05b0>\n"
     ]
    }
   ],
   "source": [
    "s = z.sum()\n",
    "print(s)\n",
    "print(s.grad_fn)"
   ]
  },
  {
   "cell_type": "code",
   "execution_count": 28,
   "id": "bd799770",
   "metadata": {},
   "outputs": [
    {
     "name": "stdout",
     "output_type": "stream",
     "text": [
      "tensor([1., 1., 1.])\n"
     ]
    }
   ],
   "source": [
    "s.backward()\n",
    "print(x.grad)"
   ]
  },
  {
   "cell_type": "markdown",
   "id": "a3806f6e",
   "metadata": {},
   "source": [
    "### Understanding Autograd"
   ]
  },
  {
   "cell_type": "code",
   "execution_count": 29,
   "id": "0ff7938b",
   "metadata": {},
   "outputs": [
    {
     "name": "stdout",
     "output_type": "stream",
     "text": [
      "False False\n"
     ]
    }
   ],
   "source": [
    "x = torch.randn(2,2)\n",
    "y = torch.randn(2,2)\n",
    "print(x.requires_grad, y.requires_grad)"
   ]
  },
  {
   "cell_type": "code",
   "execution_count": 30,
   "id": "be3c2885",
   "metadata": {},
   "outputs": [
    {
     "name": "stdout",
     "output_type": "stream",
     "text": [
      "None\n"
     ]
    }
   ],
   "source": [
    "z = x + y\n",
    "print(z.grad_fn)"
   ]
  },
  {
   "cell_type": "code",
   "execution_count": 31,
   "id": "bb7a9954",
   "metadata": {},
   "outputs": [
    {
     "name": "stdout",
     "output_type": "stream",
     "text": [
      "True True\n"
     ]
    }
   ],
   "source": [
    "x = x.requires_grad_()\n",
    "y = y.requires_grad_()\n",
    "print(x.requires_grad, y.requires_grad)"
   ]
  },
  {
   "cell_type": "code",
   "execution_count": 32,
   "id": "c077e1e6",
   "metadata": {},
   "outputs": [
    {
     "name": "stdout",
     "output_type": "stream",
     "text": [
      "<AddBackward0 object at 0x7f185c4dfe20>\n"
     ]
    }
   ],
   "source": [
    "z = x + y\n",
    "print(z.grad_fn)"
   ]
  },
  {
   "cell_type": "code",
   "execution_count": 33,
   "id": "4dc16781",
   "metadata": {},
   "outputs": [
    {
     "name": "stdout",
     "output_type": "stream",
     "text": [
      "True\n"
     ]
    }
   ],
   "source": [
    "print(z.requires_grad)"
   ]
  },
  {
   "cell_type": "code",
   "execution_count": 36,
   "id": "8dc001e0",
   "metadata": {},
   "outputs": [
    {
     "name": "stdout",
     "output_type": "stream",
     "text": [
      "tensor([[ 0.5323, -1.8252],\n",
      "        [ 1.0779,  1.0059]], grad_fn=<AddBackward0>)\n"
     ]
    }
   ],
   "source": [
    "print(z)"
   ]
  },
  {
   "cell_type": "code",
   "execution_count": 35,
   "id": "8e79baf8",
   "metadata": {},
   "outputs": [
    {
     "name": "stdout",
     "output_type": "stream",
     "text": [
      "tensor([[ 0.5323, -1.8252],\n",
      "        [ 1.0779,  1.0059]])\n"
     ]
    }
   ],
   "source": [
    "new_z = z.detach()\n",
    "print(new_z)"
   ]
  },
  {
   "cell_type": "code",
   "execution_count": 37,
   "id": "ffa06554",
   "metadata": {},
   "outputs": [
    {
     "name": "stdout",
     "output_type": "stream",
     "text": [
      "None\n"
     ]
    }
   ],
   "source": [
    "print(new_z.grad_fn)"
   ]
  },
  {
   "cell_type": "markdown",
   "id": "a985c5d4",
   "metadata": {},
   "source": [
    "### Stop Tracking"
   ]
  },
  {
   "cell_type": "code",
   "execution_count": 38,
   "id": "4272aa61",
   "metadata": {},
   "outputs": [
    {
     "name": "stdout",
     "output_type": "stream",
     "text": [
      "True\n",
      "True\n"
     ]
    }
   ],
   "source": [
    "print(x.requires_grad)\n",
    "print((x ** 2).requires_grad)"
   ]
  },
  {
   "cell_type": "code",
   "execution_count": 39,
   "id": "786f5ea2",
   "metadata": {},
   "outputs": [
    {
     "name": "stdout",
     "output_type": "stream",
     "text": [
      "False\n"
     ]
    }
   ],
   "source": [
    "with torch.no_grad():\n",
    "    print((x ** 2).requires_grad)"
   ]
  }
 ],
 "metadata": {
  "kernelspec": {
   "display_name": "Python 3 (ipykernel)",
   "language": "python",
   "name": "python3"
  },
  "language_info": {
   "codemirror_mode": {
    "name": "ipython",
    "version": 3
   },
   "file_extension": ".py",
   "mimetype": "text/x-python",
   "name": "python",
   "nbconvert_exporter": "python",
   "pygments_lexer": "ipython3",
   "version": "3.8.0"
  }
 },
 "nbformat": 4,
 "nbformat_minor": 5
}
