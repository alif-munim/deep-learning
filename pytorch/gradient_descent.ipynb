{
 "cells": [
  {
   "cell_type": "markdown",
   "id": "7b5586ce",
   "metadata": {},
   "source": [
    "# Tensor Basics"
   ]
  },
  {
   "cell_type": "code",
   "execution_count": 1,
   "id": "3613a862",
   "metadata": {},
   "outputs": [],
   "source": [
    "import torch"
   ]
  },
  {
   "cell_type": "code",
   "execution_count": 20,
   "id": "4647580a",
   "metadata": {},
   "outputs": [
    {
     "name": "stdout",
     "output_type": "stream",
     "text": [
      "tensor([[[ 0.0000e+00,  0.0000e+00,  0.0000e+00],\n",
      "         [ 0.0000e+00, -1.4176e-13,  3.0955e-41]],\n",
      "\n",
      "        [[-3.1550e-14,  3.0955e-41, -8.3674e+02],\n",
      "         [ 4.5824e-41,  1.4013e-45,  0.0000e+00]]])\n"
     ]
    }
   ],
   "source": [
    "x = torch.empty(2,2,3)\n",
    "print(x)"
   ]
  },
  {
   "cell_type": "code",
   "execution_count": 21,
   "id": "b4e6e4ff",
   "metadata": {},
   "outputs": [
    {
     "name": "stdout",
     "output_type": "stream",
     "text": [
      "tensor([[0.4064, 0.0592],\n",
      "        [0.1780, 0.4562]])\n"
     ]
    }
   ],
   "source": [
    "x = torch.rand(2,2)\n",
    "print(x)"
   ]
  },
  {
   "cell_type": "code",
   "execution_count": 22,
   "id": "a1708c1a",
   "metadata": {},
   "outputs": [
    {
     "name": "stdout",
     "output_type": "stream",
     "text": [
      "tensor([[0., 0.],\n",
      "        [0., 0.]])\n"
     ]
    }
   ],
   "source": [
    "x = torch.zeros(2,2)\n",
    "print(x)"
   ]
  },
  {
   "cell_type": "code",
   "execution_count": 23,
   "id": "1a868b5b",
   "metadata": {},
   "outputs": [
    {
     "name": "stdout",
     "output_type": "stream",
     "text": [
      "tensor([[1., 1.],\n",
      "        [1., 1.]])\n"
     ]
    }
   ],
   "source": [
    "x = torch.ones(2,2)\n",
    "print(x)"
   ]
  },
  {
   "cell_type": "markdown",
   "id": "aea393b2",
   "metadata": {},
   "source": [
    "### Tensor Details"
   ]
  },
  {
   "cell_type": "code",
   "execution_count": 35,
   "id": "587f05c4",
   "metadata": {},
   "outputs": [
    {
     "name": "stdout",
     "output_type": "stream",
     "text": [
      "Tensor dtype: torch.float16\n",
      "Tensor size: torch.Size([2, 2])\n"
     ]
    }
   ],
   "source": [
    "x = torch.ones(2,2,dtype=torch.float16)\n",
    "print(\"Tensor dtype:\", x.dtype)\n",
    "print(\"Tensor size:\", x.size())"
   ]
  },
  {
   "cell_type": "code",
   "execution_count": 36,
   "id": "deaaf32c",
   "metadata": {},
   "outputs": [
    {
     "name": "stdout",
     "output_type": "stream",
     "text": [
      "tensor([2.5000, 0.1000])\n"
     ]
    }
   ],
   "source": [
    "x = torch.tensor([2.5, 0.1])\n",
    "print(x)"
   ]
  },
  {
   "cell_type": "markdown",
   "id": "cd9f19b6",
   "metadata": {},
   "source": [
    "### Tensor Operations"
   ]
  },
  {
   "cell_type": "code",
   "execution_count": 55,
   "id": "6374373c",
   "metadata": {},
   "outputs": [],
   "source": [
    "x = torch.randint(0, 5, (2,))\n",
    "y = torch.randint(0, 5, (2,))"
   ]
  },
  {
   "cell_type": "code",
   "execution_count": 56,
   "id": "481de2a4",
   "metadata": {},
   "outputs": [
    {
     "name": "stdout",
     "output_type": "stream",
     "text": [
      "x:  tensor([1, 4])\n",
      "y: tensor([3, 3])\n"
     ]
    }
   ],
   "source": [
    "print(\"x: \", x)\n",
    "print(\"y:\", y)"
   ]
  },
  {
   "cell_type": "code",
   "execution_count": 58,
   "id": "99f080ec",
   "metadata": {},
   "outputs": [
    {
     "name": "stdout",
     "output_type": "stream",
     "text": [
      "tensor([4, 7])\n"
     ]
    }
   ],
   "source": [
    "# z = x + y\n",
    "z = torch.add(x, y)\n",
    "print(z)"
   ]
  },
  {
   "cell_type": "code",
   "execution_count": 59,
   "id": "d3d5f140",
   "metadata": {},
   "outputs": [
    {
     "name": "stdout",
     "output_type": "stream",
     "text": [
      "tensor([4, 7])\n"
     ]
    }
   ],
   "source": [
    "# In PyTorch, trailing underscore signifies in-place op.\n",
    "y.add_(x)\n",
    "print(y)"
   ]
  },
  {
   "cell_type": "code",
   "execution_count": 60,
   "id": "a9da14a8",
   "metadata": {},
   "outputs": [
    {
     "name": "stdout",
     "output_type": "stream",
     "text": [
      "x:  tensor([1, 4])\n",
      "y: tensor([4, 7])\n"
     ]
    }
   ],
   "source": [
    "print(\"x: \", x)\n",
    "print(\"y:\", y)"
   ]
  },
  {
   "cell_type": "code",
   "execution_count": 63,
   "id": "1bde8af5",
   "metadata": {},
   "outputs": [
    {
     "name": "stdout",
     "output_type": "stream",
     "text": [
      "tensor([-3, -3])\n"
     ]
    }
   ],
   "source": [
    "# z = x - y\n",
    "z = torch.sub(x, y)\n",
    "print(z)"
   ]
  },
  {
   "cell_type": "code",
   "execution_count": 64,
   "id": "2fa052bb",
   "metadata": {},
   "outputs": [
    {
     "name": "stdout",
     "output_type": "stream",
     "text": [
      "tensor([3, 3])\n"
     ]
    }
   ],
   "source": [
    "y.sub_(x)\n",
    "print(y)"
   ]
  },
  {
   "cell_type": "code",
   "execution_count": 65,
   "id": "d04c8bce",
   "metadata": {},
   "outputs": [
    {
     "name": "stdout",
     "output_type": "stream",
     "text": [
      "tensor([ 3, 12])\n"
     ]
    }
   ],
   "source": [
    "# z = x * y\n",
    "z = torch.mul(x, y)\n",
    "print(z)"
   ]
  },
  {
   "cell_type": "code",
   "execution_count": 66,
   "id": "14ec280d",
   "metadata": {},
   "outputs": [
    {
     "name": "stdout",
     "output_type": "stream",
     "text": [
      "tensor([ 3, 12])\n"
     ]
    }
   ],
   "source": [
    "y.mul_(x)\n",
    "print(y)"
   ]
  },
  {
   "cell_type": "code",
   "execution_count": 68,
   "id": "32d14234",
   "metadata": {},
   "outputs": [
    {
     "name": "stdout",
     "output_type": "stream",
     "text": [
      "x:  tensor([1, 4])\n",
      "y: tensor([ 3, 12])\n"
     ]
    }
   ],
   "source": [
    "print(\"x: \", x)\n",
    "print(\"y:\", y)"
   ]
  },
  {
   "cell_type": "markdown",
   "id": "9c41f3ca",
   "metadata": {},
   "source": [
    "### Advanced Operations"
   ]
  },
  {
   "cell_type": "markdown",
   "id": "93fcc307",
   "metadata": {},
   "source": [
    "**Slicing tensors**"
   ]
  },
  {
   "cell_type": "code",
   "execution_count": 71,
   "id": "41f61dca",
   "metadata": {},
   "outputs": [
    {
     "name": "stdout",
     "output_type": "stream",
     "text": [
      "tensor([[0.8841, 0.9751, 0.9234],\n",
      "        [0.2452, 0.7758, 0.5056],\n",
      "        [0.4158, 0.3944, 0.2258],\n",
      "        [0.6247, 0.0989, 0.0473],\n",
      "        [0.6611, 0.8358, 0.1755]])\n"
     ]
    }
   ],
   "source": [
    "x = torch.rand(5, 3)\n",
    "print(x)"
   ]
  },
  {
   "cell_type": "code",
   "execution_count": 72,
   "id": "6b20f600",
   "metadata": {},
   "outputs": [
    {
     "name": "stdout",
     "output_type": "stream",
     "text": [
      "tensor([[0.8841, 0.9751, 0.9234],\n",
      "        [0.2452, 0.7758, 0.5056],\n",
      "        [0.4158, 0.3944, 0.2258],\n",
      "        [0.6247, 0.0989, 0.0473],\n",
      "        [0.6611, 0.8358, 0.1755]])\n"
     ]
    }
   ],
   "source": [
    "print(x[:])"
   ]
  },
  {
   "cell_type": "code",
   "execution_count": 74,
   "id": "6b11b7e4",
   "metadata": {},
   "outputs": [
    {
     "name": "stdout",
     "output_type": "stream",
     "text": [
      "tensor([0.8841, 0.9751, 0.9234])\n"
     ]
    }
   ],
   "source": [
    "print(x[0, :])"
   ]
  },
  {
   "cell_type": "code",
   "execution_count": 73,
   "id": "698cae31",
   "metadata": {},
   "outputs": [
    {
     "name": "stdout",
     "output_type": "stream",
     "text": [
      "tensor([0.8841, 0.2452, 0.4158, 0.6247, 0.6611])\n"
     ]
    }
   ],
   "source": [
    "print(x[:, 0])"
   ]
  },
  {
   "cell_type": "code",
   "execution_count": 75,
   "id": "18ebbb81",
   "metadata": {},
   "outputs": [
    {
     "name": "stdout",
     "output_type": "stream",
     "text": [
      "tensor(0.8841)\n"
     ]
    }
   ],
   "source": [
    "print(x[0, 0])"
   ]
  },
  {
   "cell_type": "code",
   "execution_count": 76,
   "id": "49ca2c51",
   "metadata": {},
   "outputs": [
    {
     "name": "stdout",
     "output_type": "stream",
     "text": [
      "0.8840826749801636\n"
     ]
    }
   ],
   "source": [
    "print(x[0, 0].item())"
   ]
  },
  {
   "cell_type": "markdown",
   "id": "e66323ba",
   "metadata": {},
   "source": [
    "**Reshaping tensors**"
   ]
  },
  {
   "cell_type": "code",
   "execution_count": 86,
   "id": "db4ba426",
   "metadata": {},
   "outputs": [
    {
     "name": "stdout",
     "output_type": "stream",
     "text": [
      "tensor([[0.9742, 0.0987, 0.7310],\n",
      "        [0.4212, 0.1334, 0.1215]])\n"
     ]
    }
   ],
   "source": [
    "x = torch.rand(2,3)\n",
    "print(x)"
   ]
  },
  {
   "cell_type": "code",
   "execution_count": 88,
   "id": "c78c1ee7",
   "metadata": {},
   "outputs": [
    {
     "name": "stdout",
     "output_type": "stream",
     "text": [
      "y:  tensor([0.9742, 0.0987, 0.7310, 0.4212, 0.1334, 0.1215])\n",
      "size:  torch.Size([6])\n"
     ]
    }
   ],
   "source": [
    "y = x.view(6)\n",
    "print(\"y: \", y)\n",
    "print(\"size: \", y.size())"
   ]
  },
  {
   "cell_type": "code",
   "execution_count": 89,
   "id": "fdf0d614",
   "metadata": {},
   "outputs": [
    {
     "name": "stdout",
     "output_type": "stream",
     "text": [
      "y:  tensor([[0.9742, 0.0987, 0.7310],\n",
      "        [0.4212, 0.1334, 0.1215]])\n",
      "size:  torch.Size([2, 3])\n"
     ]
    }
   ],
   "source": [
    "# Putting -1 in place of a dimension tells PyTorch to infer\n",
    "y = x.view(-1, 3)\n",
    "print(\"y: \", y)\n",
    "print(\"size: \", y.size())"
   ]
  },
  {
   "cell_type": "markdown",
   "id": "74d1f331",
   "metadata": {},
   "source": [
    "**NumPy and PyTorch Tensors**"
   ]
  },
  {
   "cell_type": "code",
   "execution_count": 90,
   "id": "84300ccf",
   "metadata": {},
   "outputs": [],
   "source": [
    "import numpy as np"
   ]
  },
  {
   "cell_type": "code",
   "execution_count": 103,
   "id": "7e790f2c",
   "metadata": {},
   "outputs": [
    {
     "name": "stdout",
     "output_type": "stream",
     "text": [
      "a: tensor([1., 1., 1., 1., 1.])\n",
      "a type:  <class 'torch.Tensor'>\n",
      "b: [1. 1. 1. 1. 1.]\n",
      "b type:  <class 'numpy.ndarray'>\n"
     ]
    }
   ],
   "source": [
    "a = torch.ones(5)\n",
    "print(\"a:\", a)\n",
    "print(\"a type: \", type(a))\n",
    "# If Tensor is on CPU, both objects share same memory location\n",
    "b = a.numpy()\n",
    "print(\"b:\", b)\n",
    "print(\"b type: \", type(b))"
   ]
  },
  {
   "cell_type": "code",
   "execution_count": 102,
   "id": "5a458b46",
   "metadata": {},
   "outputs": [
    {
     "name": "stdout",
     "output_type": "stream",
     "text": [
      "a: [1. 1. 1. 1. 1.]\n",
      "a type:  <class 'numpy.ndarray'>\n",
      "b: tensor([1., 1., 1., 1., 1.], dtype=torch.float64)\n",
      "b type:  <class 'torch.Tensor'>\n"
     ]
    }
   ],
   "source": [
    "a = np.ones(5)\n",
    "print(\"a:\", a)\n",
    "print(\"a type: \", type(a))\n",
    "b = torch.from_numpy(a)\n",
    "print(\"b:\", b)\n",
    "print(\"b type: \", type(b))"
   ]
  },
  {
   "cell_type": "markdown",
   "id": "77eb3941",
   "metadata": {},
   "source": [
    "### CPU & GPU"
   ]
  },
  {
   "cell_type": "code",
   "execution_count": 105,
   "id": "64a4b968",
   "metadata": {},
   "outputs": [
    {
     "name": "stdout",
     "output_type": "stream",
     "text": [
      "True\n"
     ]
    }
   ],
   "source": [
    "if torch.cuda.is_available():\n",
    "    print(True)"
   ]
  },
  {
   "cell_type": "code",
   "execution_count": 106,
   "id": "dba4da16",
   "metadata": {},
   "outputs": [
    {
     "name": "stdout",
     "output_type": "stream",
     "text": [
      "tensor([2., 2., 2., 2., 2.], device='cuda:0')\n"
     ]
    }
   ],
   "source": [
    "if torch.cuda.is_available():\n",
    "    device = torch.device(\"cuda\")\n",
    "    x = torch.ones(5, device=device)\n",
    "    y = torch.ones(5)\n",
    "    y = y.to(device)\n",
    "    z = x + y\n",
    "    print(z)"
   ]
  },
  {
   "cell_type": "code",
   "execution_count": 108,
   "id": "134e06d8",
   "metadata": {},
   "outputs": [
    {
     "ename": "TypeError",
     "evalue": "can't convert cuda:0 device type tensor to numpy. Use Tensor.cpu() to copy the tensor to host memory first.",
     "output_type": "error",
     "traceback": [
      "\u001b[0;31m---------------------------------------------------------------------------\u001b[0m",
      "\u001b[0;31mTypeError\u001b[0m                                 Traceback (most recent call last)",
      "Input \u001b[0;32mIn [108]\u001b[0m, in \u001b[0;36m<cell line: 1>\u001b[0;34m()\u001b[0m\n\u001b[0;32m----> 1\u001b[0m z\u001b[38;5;241m.\u001b[39mnumpy()\n",
      "\u001b[0;31mTypeError\u001b[0m: can't convert cuda:0 device type tensor to numpy. Use Tensor.cpu() to copy the tensor to host memory first."
     ]
    }
   ],
   "source": [
    "# However, numpy can only handle CPU tensors\n",
    "z.numpy()"
   ]
  },
  {
   "cell_type": "code",
   "execution_count": 109,
   "id": "4c203dca",
   "metadata": {},
   "outputs": [
    {
     "data": {
      "text/plain": [
       "array([2., 2., 2., 2., 2.], dtype=float32)"
      ]
     },
     "execution_count": 109,
     "metadata": {},
     "output_type": "execute_result"
    }
   ],
   "source": [
    "z = z.to(\"cpu\")\n",
    "z.numpy()"
   ]
  },
  {
   "cell_type": "markdown",
   "id": "064b82e4",
   "metadata": {},
   "source": [
    "<br><br><br>\n",
    "## Gradient Calculation w/ Autograd"
   ]
  },
  {
   "cell_type": "code",
   "execution_count": 111,
   "id": "365594fe",
   "metadata": {},
   "outputs": [
    {
     "name": "stdout",
     "output_type": "stream",
     "text": [
      "tensor([ 1.4170,  0.9041, -2.7062], requires_grad=True)\n"
     ]
    }
   ],
   "source": [
    "# Tell PyTorch to create a computational graph that tracks ops\n",
    "x = torch.randn(3, requires_grad=True)\n",
    "print(x)"
   ]
  },
  {
   "cell_type": "code",
   "execution_count": 112,
   "id": "c00b2202",
   "metadata": {},
   "outputs": [
    {
     "name": "stdout",
     "output_type": "stream",
     "text": [
      "tensor([ 3.4170,  2.9041, -0.7062], grad_fn=<AddBackward0>)\n"
     ]
    }
   ],
   "source": [
    "y = x + 2\n",
    "print(y)"
   ]
  },
  {
   "cell_type": "code",
   "execution_count": 117,
   "id": "0310aa2d",
   "metadata": {},
   "outputs": [
    {
     "name": "stdout",
     "output_type": "stream",
     "text": [
      "tensor([ 6.8340,  5.8083, -1.4124], grad_fn=<MulBackward0>)\n"
     ]
    }
   ],
   "source": [
    "z = y * 2\n",
    "print(z)"
   ]
  },
  {
   "cell_type": "code",
   "execution_count": 116,
   "id": "0dd972ff",
   "metadata": {},
   "outputs": [],
   "source": [
    "# z = z.mean()\n",
    "# print(z)"
   ]
  },
  {
   "cell_type": "code",
   "execution_count": 119,
   "id": "28ec38cb",
   "metadata": {},
   "outputs": [
    {
     "name": "stdout",
     "output_type": "stream",
     "text": [
      "tensor([0.8667, 2.6667, 0.6687])\n"
     ]
    }
   ],
   "source": [
    "# Backward fn needs a gradient vector for multiplication w/\n",
    "# Jacobian matrix of partial derivatives\n",
    "v = torch.tensor([0.1, 1.0, 0.001], dtype=torch.float32)\n",
    "z.backward(v)\n",
    "print(x.grad)"
   ]
  },
  {
   "cell_type": "markdown",
   "id": "4957511b",
   "metadata": {},
   "source": [
    "**Turning off gradient tracking**"
   ]
  },
  {
   "cell_type": "code",
   "execution_count": 122,
   "id": "3175abd6",
   "metadata": {},
   "outputs": [
    {
     "name": "stdout",
     "output_type": "stream",
     "text": [
      "tensor([ 1.4170,  0.9041, -2.7062])\n"
     ]
    }
   ],
   "source": [
    "x.requires_grad_(True)\n",
    "x.requires_grad_(False)\n",
    "print(x)"
   ]
  },
  {
   "cell_type": "code",
   "execution_count": 124,
   "id": "7865d39f",
   "metadata": {},
   "outputs": [
    {
     "name": "stdout",
     "output_type": "stream",
     "text": [
      "x:  tensor([ 1.4170,  0.9041, -2.7062], requires_grad=True)\n",
      "y:  tensor([ 1.4170,  0.9041, -2.7062])\n"
     ]
    }
   ],
   "source": [
    "x.requires_grad_(True)\n",
    "y = x.detach()\n",
    "print(\"x: \", x)\n",
    "print(\"y: \", y)"
   ]
  },
  {
   "cell_type": "code",
   "execution_count": 127,
   "id": "ca59562e",
   "metadata": {},
   "outputs": [
    {
     "name": "stdout",
     "output_type": "stream",
     "text": [
      "tensor([ 3.4170,  2.9041, -0.7062], grad_fn=<AddBackward0>)\n"
     ]
    }
   ],
   "source": [
    "y = x + 2\n",
    "print(y)"
   ]
  },
  {
   "cell_type": "code",
   "execution_count": 128,
   "id": "39d5ce1a",
   "metadata": {},
   "outputs": [
    {
     "name": "stdout",
     "output_type": "stream",
     "text": [
      "tensor([ 3.4170,  2.9041, -0.7062])\n"
     ]
    }
   ],
   "source": [
    "with torch.no_grad():\n",
    "    y = x + 2\n",
    "    print(y)"
   ]
  },
  {
   "cell_type": "markdown",
   "id": "76cdc172",
   "metadata": {},
   "source": [
    "**Gradient accumulation**"
   ]
  },
  {
   "cell_type": "code",
   "execution_count": 129,
   "id": "333d5b14",
   "metadata": {},
   "outputs": [
    {
     "name": "stdout",
     "output_type": "stream",
     "text": [
      "tensor([3., 3., 3., 3.])\n"
     ]
    }
   ],
   "source": [
    "# Whenever backward function is called, gradients are accumulated\n",
    "# In the .grad attribute\n",
    "\n",
    "weights = torch.ones(4, requires_grad=True)\n",
    "\n",
    "# Incorrect!\n",
    "for epoch in range(1):\n",
    "    model_output = (weights*3).sum()\n",
    "    model_output.backward()\n",
    "    print(weights.grad)"
   ]
  },
  {
   "cell_type": "code",
   "execution_count": 130,
   "id": "a1414d20",
   "metadata": {},
   "outputs": [
    {
     "name": "stdout",
     "output_type": "stream",
     "text": [
      "tensor([6., 6., 6., 6.])\n"
     ]
    }
   ],
   "source": [
    "# Incorrect!\n",
    "for epoch in range(1):\n",
    "    model_output = (weights*3).sum()\n",
    "    model_output.backward()\n",
    "    print(weights.grad)"
   ]
  },
  {
   "cell_type": "code",
   "execution_count": 131,
   "id": "f1f2148a",
   "metadata": {},
   "outputs": [
    {
     "name": "stdout",
     "output_type": "stream",
     "text": [
      "tensor([9., 9., 9., 9.])\n"
     ]
    }
   ],
   "source": [
    "# Incorrect!\n",
    "for epoch in range(1):\n",
    "    model_output = (weights*3).sum()\n",
    "    model_output.backward()\n",
    "    print(weights.grad)"
   ]
  },
  {
   "cell_type": "code",
   "execution_count": 133,
   "id": "8a7efaf0",
   "metadata": {},
   "outputs": [
    {
     "name": "stdout",
     "output_type": "stream",
     "text": [
      "tensor([3., 3., 3., 3.])\n"
     ]
    }
   ],
   "source": [
    "# Correct!\n",
    "for epoch in range(1):\n",
    "    model_output = (weights*3).sum()\n",
    "    model_output.backward()\n",
    "    print(weights.grad)\n",
    "    weights.grad.zero_()"
   ]
  },
  {
   "cell_type": "code",
   "execution_count": 134,
   "id": "11cfcbc8",
   "metadata": {},
   "outputs": [
    {
     "name": "stdout",
     "output_type": "stream",
     "text": [
      "tensor([3., 3., 3., 3.])\n"
     ]
    }
   ],
   "source": [
    "# Correct!\n",
    "for epoch in range(1):\n",
    "    model_output = (weights*3).sum()\n",
    "    model_output.backward()\n",
    "    print(weights.grad)\n",
    "    weights.grad.zero_()"
   ]
  },
  {
   "cell_type": "markdown",
   "id": "f340307d",
   "metadata": {},
   "source": [
    "<br><br><br>\n",
    "## Backpropagation"
   ]
  },
  {
   "cell_type": "code",
   "execution_count": null,
   "id": "3e6af8d7",
   "metadata": {},
   "outputs": [],
   "source": [
    "# Compute loss (forward), \n",
    "# compute local gradients, \n",
    "# compute weight updates (backward)"
   ]
  },
  {
   "cell_type": "code",
   "execution_count": 135,
   "id": "61ad16b0",
   "metadata": {},
   "outputs": [],
   "source": [
    "x = torch.tensor(1.0)\n",
    "y = torch.tensor(2.0)\n",
    "\n",
    "w = torch.tensor(1.0, requires_grad=True)"
   ]
  },
  {
   "cell_type": "code",
   "execution_count": 137,
   "id": "edc7d999",
   "metadata": {},
   "outputs": [
    {
     "name": "stdout",
     "output_type": "stream",
     "text": [
      "tensor(1., grad_fn=<PowBackward0>)\n"
     ]
    }
   ],
   "source": [
    "# forward pass\n",
    "y_hat = w * x\n",
    "loss = (y_hat - y)**2\n",
    "print(loss)"
   ]
  },
  {
   "cell_type": "code",
   "execution_count": 138,
   "id": "de50bcfb",
   "metadata": {},
   "outputs": [
    {
     "name": "stdout",
     "output_type": "stream",
     "text": [
      "tensor(-2.)\n"
     ]
    }
   ],
   "source": [
    "# backward pass\n",
    "loss.backward()\n",
    "print(w.grad)"
   ]
  },
  {
   "cell_type": "code",
   "execution_count": null,
   "id": "21a74a81",
   "metadata": {},
   "outputs": [],
   "source": [
    "# update weights, next forward & backward pass "
   ]
  },
  {
   "cell_type": "markdown",
   "id": "8ab92fa0",
   "metadata": {},
   "source": [
    "<br><br><br>\n",
    "## Gradient Descent (Manual)"
   ]
  },
  {
   "cell_type": "code",
   "execution_count": 139,
   "id": "d6139d45",
   "metadata": {},
   "outputs": [],
   "source": [
    "# Optimizing model using automatic gradient computation (autograd)\n",
    "# Implement gradient descent (linear regression) steps manually\n",
    "# Prediction and loss function\n",
    "# Numerical calculation of gradients\n",
    "# Gradient descent to optimize parameters\n",
    "# Replace everything with autograd and pytorch"
   ]
  },
  {
   "cell_type": "code",
   "execution_count": 141,
   "id": "00555abb",
   "metadata": {},
   "outputs": [],
   "source": [
    "import numpy as np"
   ]
  },
  {
   "cell_type": "code",
   "execution_count": 153,
   "id": "e0dfd08a",
   "metadata": {},
   "outputs": [],
   "source": [
    "# linear combination of weights, inputs: f = w * x\n",
    "X = np.array([1, 2, 3, 4], dtype=np.float32)\n",
    "Y = np.array([2, 4, 6, 8], dtype=np.float32)\n",
    "\n",
    "# Initialize weights\n",
    "w = 0.0\n",
    "\n",
    "# Model prediction\n",
    "def forward(x):\n",
    "    return w * x\n",
    "\n",
    "# MSE loss\n",
    "def loss(y, y_pred):\n",
    "    return ((y_pred - y)**2).mean()\n",
    "\n",
    "# Gradient\n",
    "# MSE = 1/N * (w*x - y)**2\n",
    "# dJ/dw = 1/N * 2x * (w*x - y)\n",
    "def grad(x, y, y_pred):\n",
    "    return np.dot(2*x, (y_pred-y)).mean()"
   ]
  },
  {
   "cell_type": "code",
   "execution_count": 154,
   "id": "43a3ff46",
   "metadata": {},
   "outputs": [
    {
     "name": "stdout",
     "output_type": "stream",
     "text": [
      "Prediction before training: f(5) = 0.000\n",
      "epoch 1: w = 1.200, loss = 30.00000000\n",
      "epoch 2: w = 1.680, loss = 4.79999924\n",
      "epoch 3: w = 1.872, loss = 0.76800019\n",
      "epoch 4: w = 1.949, loss = 0.12288000\n",
      "epoch 5: w = 1.980, loss = 0.01966083\n",
      "epoch 6: w = 1.992, loss = 0.00314574\n",
      "epoch 7: w = 1.997, loss = 0.00050331\n",
      "epoch 8: w = 1.999, loss = 0.00008053\n",
      "epoch 9: w = 1.999, loss = 0.00001288\n",
      "epoch 10: w = 2.000, loss = 0.00000206\n",
      "Prediction after training: f(5) = 9.999\n"
     ]
    }
   ],
   "source": [
    "print(f'Prediction before training: f(5) = {forward(5):.3f}')\n",
    "\n",
    "# Training\n",
    "learning_rate = 0.01\n",
    "num_epochs = 10\n",
    "\n",
    "for epoch in range(num_epochs):\n",
    "    y_pred = forward(X)\n",
    "    l = loss(Y, y_pred)\n",
    "    dw = grad(X, Y, y_pred)\n",
    "    w -= learning_rate * dw\n",
    "    \n",
    "    if epoch % 1 == 0:\n",
    "        print(f'epoch {epoch+1}: w = {w:.3f}, loss = {l:.8f}')\n",
    "        \n",
    "print(f'Prediction after training: f(5) = {forward(5):.3f}')"
   ]
  },
  {
   "cell_type": "markdown",
   "id": "2ef33a18",
   "metadata": {},
   "source": [
    "<br><br><br>\n",
    "## Gradient Descent (PyTorch Gradients)"
   ]
  },
  {
   "cell_type": "code",
   "execution_count": 156,
   "id": "e628ee9d",
   "metadata": {},
   "outputs": [],
   "source": [
    "import torch"
   ]
  },
  {
   "cell_type": "code",
   "execution_count": 162,
   "id": "47ff8a7a",
   "metadata": {},
   "outputs": [],
   "source": [
    "# linear combination of weights, inputs: f = w * x\n",
    "X = torch.tensor([1, 2, 3, 4], dtype=torch.float32)\n",
    "Y = torch.tensor([2, 4, 6, 8], dtype=torch.float32)\n",
    "\n",
    "# Initialize weights\n",
    "w = torch.tensor(0.0, dtype=torch.float32, requires_grad=True)"
   ]
  },
  {
   "cell_type": "code",
   "execution_count": 163,
   "id": "c83ab8ad",
   "metadata": {},
   "outputs": [],
   "source": [
    "# Model prediction\n",
    "def forward(x):\n",
    "    return w * x\n",
    "\n",
    "# MSE loss\n",
    "def loss(y, y_pred):\n",
    "    return ((y_pred - y)**2).mean()"
   ]
  },
  {
   "cell_type": "code",
   "execution_count": 164,
   "id": "c9d1b7bd",
   "metadata": {},
   "outputs": [
    {
     "name": "stdout",
     "output_type": "stream",
     "text": [
      "Prediction before training: f(5) = 0.000\n",
      "epoch 1: w = 0.300, loss = 30.00000000\n",
      "epoch 6: w = 1.246, loss = 5.90623236\n",
      "epoch 11: w = 1.665, loss = 1.16278565\n",
      "epoch 16: w = 1.851, loss = 0.22892261\n",
      "epoch 21: w = 1.934, loss = 0.04506890\n",
      "epoch 26: w = 1.971, loss = 0.00887291\n",
      "epoch 31: w = 1.987, loss = 0.00174685\n",
      "epoch 36: w = 1.994, loss = 0.00034392\n",
      "epoch 41: w = 1.997, loss = 0.00006770\n",
      "epoch 46: w = 1.999, loss = 0.00001333\n",
      "Prediction after training: f(5) = 9.997\n"
     ]
    }
   ],
   "source": [
    "print(f'Prediction before training: f(5) = {forward(5):.3f}')\n",
    "\n",
    "# Training\n",
    "learning_rate = 0.01\n",
    "num_epochs = 50\n",
    "\n",
    "for epoch in range(num_epochs):\n",
    "    y_pred = forward(X)\n",
    "    l = loss(Y, y_pred)\n",
    "    \n",
    "    # Replace manual gradient calculation w/ PyTorch backward pass\n",
    "    l.backward()\n",
    "\n",
    "    # Turn off computational graph for weight updates\n",
    "    with torch.no_grad():\n",
    "        w -= learning_rate * w.grad\n",
    "        \n",
    "    # Set gradients to zero\n",
    "    w.grad.zero_()\n",
    "    \n",
    "    if epoch % 5 == 0:\n",
    "        print(f'epoch {epoch+1}: w = {w:.3f}, loss = {l:.8f}')\n",
    "        \n",
    "print(f'Prediction after training: f(5) = {forward(5):.3f}')"
   ]
  },
  {
   "cell_type": "markdown",
   "id": "f2a210df",
   "metadata": {},
   "source": [
    "<br><br><br>\n",
    "## Gradient Descent (PyTorch Loss, Optimization)"
   ]
  },
  {
   "cell_type": "code",
   "execution_count": 166,
   "id": "00b8c4f3",
   "metadata": {},
   "outputs": [],
   "source": [
    "# 1) Design models (input size, output size, forward pass layers)\n",
    "# 2) Construct loss, optimizer\n",
    "# 3) Construct training loop: \n",
    "    # forward (preds), backward (grads), update (weights)"
   ]
  },
  {
   "cell_type": "code",
   "execution_count": 178,
   "id": "b69baaef",
   "metadata": {},
   "outputs": [],
   "source": [
    "import torch\n",
    "import torch.nn as nn"
   ]
  },
  {
   "cell_type": "code",
   "execution_count": 179,
   "id": "6a10c313",
   "metadata": {},
   "outputs": [],
   "source": [
    "# linear combination of weights, inputs: f = w * x\n",
    "X = torch.tensor([1, 2, 3, 4], dtype=torch.float32)\n",
    "Y = torch.tensor([2, 4, 6, 8], dtype=torch.float32)\n",
    "\n",
    "# Initialize weights\n",
    "w = torch.tensor(0.0, dtype=torch.float32, requires_grad=True)"
   ]
  },
  {
   "cell_type": "code",
   "execution_count": 180,
   "id": "2526a768",
   "metadata": {},
   "outputs": [],
   "source": [
    "# Model prediction\n",
    "def forward(x):\n",
    "    return w * x"
   ]
  },
  {
   "cell_type": "code",
   "execution_count": 181,
   "id": "9fa0bc07",
   "metadata": {},
   "outputs": [
    {
     "name": "stdout",
     "output_type": "stream",
     "text": [
      "Prediction before training: f(5) = 0.000\n",
      "epoch 1: w = 0.300, loss = 30.00000000\n",
      "epoch 6: w = 1.246, loss = 5.90623236\n",
      "epoch 11: w = 1.665, loss = 1.16278565\n",
      "epoch 16: w = 1.851, loss = 0.22892261\n",
      "epoch 21: w = 1.934, loss = 0.04506890\n",
      "epoch 26: w = 1.971, loss = 0.00887291\n",
      "epoch 31: w = 1.987, loss = 0.00174685\n",
      "epoch 36: w = 1.994, loss = 0.00034392\n",
      "epoch 41: w = 1.997, loss = 0.00006770\n",
      "epoch 46: w = 1.999, loss = 0.00001333\n",
      "Prediction after training: f(5) = 9.997\n"
     ]
    }
   ],
   "source": [
    "print(f'Prediction before training: f(5) = {forward(5):.3f}')\n",
    "\n",
    "# Training\n",
    "learning_rate = 0.01\n",
    "num_epochs = 50\n",
    "\n",
    "# Define loss, optimizer from PyTorch\n",
    "mse_loss = nn.MSELoss()\n",
    "optimizer = torch.optim.SGD([w], lr=learning_rate)\n",
    "\n",
    "for epoch in range(num_epochs):\n",
    "    y_pred = forward(X)\n",
    "    l = mse_loss(Y, y_pred)\n",
    "    \n",
    "    # Replace manual gradient calculation w/ PyTorch backward pass\n",
    "    l.backward()\n",
    "\n",
    "    # Use optimizer instead of manually updating weights\n",
    "    optimizer.step()\n",
    "        \n",
    "    # Set optimizer gradients to zero\n",
    "    optimizer.zero_grad()\n",
    "    \n",
    "    if epoch % 5 == 0:\n",
    "        print(f'epoch {epoch+1}: w = {w:.3f}, loss = {l:.8f}')\n",
    "        \n",
    "print(f'Prediction after training: f(5) = {forward(5):.3f}')"
   ]
  },
  {
   "cell_type": "markdown",
   "id": "f55a852e",
   "metadata": {},
   "source": [
    "<br><br><br>\n",
    "## Gradient Descent (PyTorch Model, Forward Pass)"
   ]
  },
  {
   "cell_type": "code",
   "execution_count": 182,
   "id": "f1f81ec5",
   "metadata": {},
   "outputs": [],
   "source": [
    "# linear combination of weights, inputs: f = w * x\n",
    "X = torch.tensor([[1], [2], [3], [4]], dtype=torch.float32)\n",
    "Y = torch.tensor([[2], [4], [6], [8]], dtype=torch.float32)\n",
    "\n",
    "# No need to initialize weights\n",
    "# No need to define forward pass"
   ]
  },
  {
   "cell_type": "code",
   "execution_count": 183,
   "id": "b078ab3a",
   "metadata": {},
   "outputs": [
    {
     "name": "stdout",
     "output_type": "stream",
     "text": [
      "4 1\n"
     ]
    }
   ],
   "source": [
    "n_samples, n_features = X.shape\n",
    "print(n_samples, n_features)\n",
    "\n",
    "input_size = n_features\n",
    "output_size = n_features\n",
    "\n",
    "# Define model\n",
    "model = nn.Linear(input_size, output_size)"
   ]
  },
  {
   "cell_type": "code",
   "execution_count": 184,
   "id": "9266f6e0",
   "metadata": {},
   "outputs": [],
   "source": [
    "X_test = torch.tensor([5], dtype=torch.float32)"
   ]
  },
  {
   "cell_type": "code",
   "execution_count": 185,
   "id": "d66fc2b6",
   "metadata": {},
   "outputs": [
    {
     "name": "stdout",
     "output_type": "stream",
     "text": [
      "Prediction before training: f(5) = 4.221\n",
      "epoch 1: w = 1.014, loss = 9.98511600\n",
      "epoch 6: w = 1.532, loss = 1.62430954\n",
      "epoch 11: w = 1.741, loss = 0.27894422\n",
      "epoch 16: w = 1.825, loss = 0.06202174\n",
      "epoch 21: w = 1.860, loss = 0.02662332\n",
      "epoch 26: w = 1.876, loss = 0.02043771\n",
      "epoch 31: w = 1.883, loss = 0.01896561\n",
      "epoch 36: w = 1.887, loss = 0.01826570\n",
      "epoch 41: w = 1.889, loss = 0.01770367\n",
      "epoch 46: w = 1.891, loss = 0.01717711\n",
      "Prediction after training: f(5) = 9.778\n"
     ]
    }
   ],
   "source": [
    "print(f'Prediction before training: f(5) = {model(X_test).item():.3f}')\n",
    "\n",
    "# Training\n",
    "learning_rate = 0.01\n",
    "num_epochs = 50\n",
    "\n",
    "# Define loss, optimizer from PyTorch\n",
    "mse_loss = nn.MSELoss()\n",
    "optimizer = torch.optim.SGD(model.parameters(), lr=learning_rate)\n",
    "\n",
    "for epoch in range(num_epochs):\n",
    "    y_pred = model(X)\n",
    "    l = mse_loss(Y, y_pred)\n",
    "    \n",
    "    # Replace manual gradient calculation w/ PyTorch backward pass\n",
    "    l.backward()\n",
    "\n",
    "    # Use optimizer instead of manually updating weights\n",
    "    optimizer.step()\n",
    "        \n",
    "    # Set optimizer gradients to zero\n",
    "    optimizer.zero_grad()\n",
    "    \n",
    "    if epoch % 5 == 0:\n",
    "        [w, b] = model.parameters()\n",
    "        print(f'epoch {epoch+1}: w = {w[0][0].item():.3f}, loss = {l:.8f}')\n",
    "        \n",
    "print(f'Prediction after training: f(5) = {model(X_test).item():.3f}')"
   ]
  },
  {
   "cell_type": "code",
   "execution_count": 187,
   "id": "9e9a93fe",
   "metadata": {},
   "outputs": [],
   "source": [
    "[w, b] = model.parameters()"
   ]
  },
  {
   "cell_type": "code",
   "execution_count": 193,
   "id": "7585993b",
   "metadata": {},
   "outputs": [
    {
     "name": "stdout",
     "output_type": "stream",
     "text": [
      "model weights: Parameter containing:\n",
      "tensor([[1.8924]], requires_grad=True)\n",
      "\n",
      "model bias: Parameter containing:\n",
      "tensor([0.3159], requires_grad=True)\n"
     ]
    }
   ],
   "source": [
    "print(f'model weights: {w}\\n')\n",
    "print(f'model bias: {b}')"
   ]
  },
  {
   "cell_type": "markdown",
   "id": "a5dad8fd",
   "metadata": {},
   "source": [
    "<br><br><br>\n",
    "## Gradient Descent (Custom Linear Regression)"
   ]
  },
  {
   "cell_type": "code",
   "execution_count": 194,
   "id": "bb1e004c",
   "metadata": {},
   "outputs": [],
   "source": [
    "# linear combination of weights, inputs: f = w * x\n",
    "X = torch.tensor([[1], [2], [3], [4]], dtype=torch.float32)\n",
    "Y = torch.tensor([[2], [4], [6], [8]], dtype=torch.float32)\n",
    "\n",
    "# No need to initialize weights\n",
    "# No need to define forward pass"
   ]
  },
  {
   "cell_type": "code",
   "execution_count": 198,
   "id": "60ea5851",
   "metadata": {},
   "outputs": [
    {
     "name": "stdout",
     "output_type": "stream",
     "text": [
      "4 1\n"
     ]
    }
   ],
   "source": [
    "n_samples, n_features = X.shape\n",
    "print(n_samples, n_features)\n",
    "\n",
    "input_size = n_features\n",
    "output_size = n_features"
   ]
  },
  {
   "cell_type": "code",
   "execution_count": 200,
   "id": "4f5c6ad8",
   "metadata": {},
   "outputs": [],
   "source": [
    "X_test = torch.tensor([5], dtype=torch.float32)"
   ]
  },
  {
   "cell_type": "code",
   "execution_count": 197,
   "id": "4a1e3744",
   "metadata": {},
   "outputs": [],
   "source": [
    "class LinearRegression(nn.Module):\n",
    "    \n",
    "    def __init__(self, input_dim, output_dim):\n",
    "        super(LinearRegression, self).__init__()\n",
    "        \n",
    "        # define layers\n",
    "        self.lin = nn.Linear(input_dim, output_dim)\n",
    "        \n",
    "    def forward(self, x):\n",
    "        return self.lin(x)"
   ]
  },
  {
   "cell_type": "code",
   "execution_count": 199,
   "id": "0ed0d3f5",
   "metadata": {},
   "outputs": [],
   "source": [
    "# Define model\n",
    "model = LinearRegression(input_size, output_size)  "
   ]
  },
  {
   "cell_type": "code",
   "execution_count": 201,
   "id": "4362e44f",
   "metadata": {},
   "outputs": [
    {
     "name": "stdout",
     "output_type": "stream",
     "text": [
      "Prediction before training: f(5) = 0.096\n",
      "epoch 1: w = 0.429, loss = 31.53911972\n",
      "epoch 6: w = 1.348, loss = 5.07474899\n",
      "epoch 11: w = 1.716, loss = 0.81793153\n",
      "epoch 16: w = 1.865, loss = 0.13317804\n",
      "epoch 21: w = 1.924, loss = 0.02298848\n",
      "epoch 26: w = 1.949, loss = 0.00521830\n",
      "epoch 31: w = 1.959, loss = 0.00231509\n",
      "epoch 36: w = 1.963, loss = 0.00180450\n",
      "epoch 41: w = 1.965, loss = 0.00168008\n",
      "epoch 46: w = 1.966, loss = 0.00161900\n",
      "Prediction after training: f(5) = 9.931\n"
     ]
    }
   ],
   "source": [
    "print(f'Prediction before training: f(5) = {model(X_test).item():.3f}')\n",
    "\n",
    "# Training\n",
    "learning_rate = 0.01\n",
    "num_epochs = 50\n",
    "\n",
    "# Define loss, optimizer from PyTorch\n",
    "mse_loss = nn.MSELoss()\n",
    "optimizer = torch.optim.SGD(model.parameters(), lr=learning_rate)\n",
    "\n",
    "for epoch in range(num_epochs):\n",
    "    y_pred = model(X)\n",
    "    l = mse_loss(Y, y_pred)\n",
    "    \n",
    "    # Replace manual gradient calculation w/ PyTorch backward pass\n",
    "    l.backward()\n",
    "\n",
    "    # Use optimizer instead of manually updating weights\n",
    "    optimizer.step()\n",
    "        \n",
    "    # Set optimizer gradients to zero\n",
    "    optimizer.zero_grad()\n",
    "    \n",
    "    if epoch % 5 == 0:\n",
    "        [w, b] = model.parameters()\n",
    "        print(f'epoch {epoch+1}: w = {w[0][0].item():.3f}, loss = {l:.8f}')\n",
    "        \n",
    "print(f'Prediction after training: f(5) = {model(X_test).item():.3f}')"
   ]
  }
 ],
 "metadata": {
  "kernelspec": {
   "display_name": "Python 3 (ipykernel)",
   "language": "python",
   "name": "python3"
  },
  "language_info": {
   "codemirror_mode": {
    "name": "ipython",
    "version": 3
   },
   "file_extension": ".py",
   "mimetype": "text/x-python",
   "name": "python",
   "nbconvert_exporter": "python",
   "pygments_lexer": "ipython3",
   "version": "3.8.0"
  }
 },
 "nbformat": 4,
 "nbformat_minor": 5
}
