{
 "cells": [
  {
   "cell_type": "markdown",
   "id": "4aaf618b",
   "metadata": {},
   "source": [
    "# Tensor Basics"
   ]
  },
  {
   "cell_type": "code",
   "execution_count": 1,
   "id": "20869990",
   "metadata": {},
   "outputs": [],
   "source": [
    "import torch"
   ]
  },
  {
   "cell_type": "code",
   "execution_count": 20,
   "id": "cdd87eb7",
   "metadata": {},
   "outputs": [
    {
     "name": "stdout",
     "output_type": "stream",
     "text": [
      "tensor([[[ 0.0000e+00,  0.0000e+00,  0.0000e+00],\n",
      "         [ 0.0000e+00, -1.4176e-13,  3.0955e-41]],\n",
      "\n",
      "        [[-3.1550e-14,  3.0955e-41, -8.3674e+02],\n",
      "         [ 4.5824e-41,  1.4013e-45,  0.0000e+00]]])\n"
     ]
    }
   ],
   "source": [
    "x = torch.empty(2,2,3)\n",
    "print(x)"
   ]
  },
  {
   "cell_type": "code",
   "execution_count": 21,
   "id": "1e4d81d4",
   "metadata": {},
   "outputs": [
    {
     "name": "stdout",
     "output_type": "stream",
     "text": [
      "tensor([[0.4064, 0.0592],\n",
      "        [0.1780, 0.4562]])\n"
     ]
    }
   ],
   "source": [
    "x = torch.rand(2,2)\n",
    "print(x)"
   ]
  },
  {
   "cell_type": "code",
   "execution_count": 22,
   "id": "d66f51e3",
   "metadata": {},
   "outputs": [
    {
     "name": "stdout",
     "output_type": "stream",
     "text": [
      "tensor([[0., 0.],\n",
      "        [0., 0.]])\n"
     ]
    }
   ],
   "source": [
    "x = torch.zeros(2,2)\n",
    "print(x)"
   ]
  },
  {
   "cell_type": "code",
   "execution_count": 23,
   "id": "29e66e4e",
   "metadata": {},
   "outputs": [
    {
     "name": "stdout",
     "output_type": "stream",
     "text": [
      "tensor([[1., 1.],\n",
      "        [1., 1.]])\n"
     ]
    }
   ],
   "source": [
    "x = torch.ones(2,2)\n",
    "print(x)"
   ]
  },
  {
   "cell_type": "markdown",
   "id": "a05ebb6c",
   "metadata": {},
   "source": [
    "### Tensor Details"
   ]
  },
  {
   "cell_type": "code",
   "execution_count": 35,
   "id": "9474c5df",
   "metadata": {},
   "outputs": [
    {
     "name": "stdout",
     "output_type": "stream",
     "text": [
      "Tensor dtype: torch.float16\n",
      "Tensor size: torch.Size([2, 2])\n"
     ]
    }
   ],
   "source": [
    "x = torch.ones(2,2,dtype=torch.float16)\n",
    "print(\"Tensor dtype:\", x.dtype)\n",
    "print(\"Tensor size:\", x.size())"
   ]
  },
  {
   "cell_type": "code",
   "execution_count": 36,
   "id": "e64203ce",
   "metadata": {},
   "outputs": [
    {
     "name": "stdout",
     "output_type": "stream",
     "text": [
      "tensor([2.5000, 0.1000])\n"
     ]
    }
   ],
   "source": [
    "x = torch.tensor([2.5, 0.1])\n",
    "print(x)"
   ]
  },
  {
   "cell_type": "markdown",
   "id": "71373787",
   "metadata": {},
   "source": [
    "### Tensor Operations"
   ]
  },
  {
   "cell_type": "code",
   "execution_count": 55,
   "id": "545d754d",
   "metadata": {},
   "outputs": [],
   "source": [
    "x = torch.randint(0, 5, (2,))\n",
    "y = torch.randint(0, 5, (2,))"
   ]
  },
  {
   "cell_type": "code",
   "execution_count": 56,
   "id": "18864310",
   "metadata": {},
   "outputs": [
    {
     "name": "stdout",
     "output_type": "stream",
     "text": [
      "x:  tensor([1, 4])\n",
      "y: tensor([3, 3])\n"
     ]
    }
   ],
   "source": [
    "print(\"x: \", x)\n",
    "print(\"y:\", y)"
   ]
  },
  {
   "cell_type": "code",
   "execution_count": 58,
   "id": "da3f79ca",
   "metadata": {},
   "outputs": [
    {
     "name": "stdout",
     "output_type": "stream",
     "text": [
      "tensor([4, 7])\n"
     ]
    }
   ],
   "source": [
    "# z = x + y\n",
    "z = torch.add(x, y)\n",
    "print(z)"
   ]
  },
  {
   "cell_type": "code",
   "execution_count": 59,
   "id": "4f4dc98f",
   "metadata": {},
   "outputs": [
    {
     "name": "stdout",
     "output_type": "stream",
     "text": [
      "tensor([4, 7])\n"
     ]
    }
   ],
   "source": [
    "# In PyTorch, trailing underscore signifies in-place op.\n",
    "y.add_(x)\n",
    "print(y)"
   ]
  },
  {
   "cell_type": "code",
   "execution_count": 60,
   "id": "1e64ffa0",
   "metadata": {},
   "outputs": [
    {
     "name": "stdout",
     "output_type": "stream",
     "text": [
      "x:  tensor([1, 4])\n",
      "y: tensor([4, 7])\n"
     ]
    }
   ],
   "source": [
    "print(\"x: \", x)\n",
    "print(\"y:\", y)"
   ]
  },
  {
   "cell_type": "code",
   "execution_count": 63,
   "id": "722122dc",
   "metadata": {},
   "outputs": [
    {
     "name": "stdout",
     "output_type": "stream",
     "text": [
      "tensor([-3, -3])\n"
     ]
    }
   ],
   "source": [
    "# z = x - y\n",
    "z = torch.sub(x, y)\n",
    "print(z)"
   ]
  },
  {
   "cell_type": "code",
   "execution_count": 64,
   "id": "7a4b3cce",
   "metadata": {},
   "outputs": [
    {
     "name": "stdout",
     "output_type": "stream",
     "text": [
      "tensor([3, 3])\n"
     ]
    }
   ],
   "source": [
    "y.sub_(x)\n",
    "print(y)"
   ]
  },
  {
   "cell_type": "code",
   "execution_count": 65,
   "id": "f645d50f",
   "metadata": {},
   "outputs": [
    {
     "name": "stdout",
     "output_type": "stream",
     "text": [
      "tensor([ 3, 12])\n"
     ]
    }
   ],
   "source": [
    "# z = x * y\n",
    "z = torch.mul(x, y)\n",
    "print(z)"
   ]
  },
  {
   "cell_type": "code",
   "execution_count": 66,
   "id": "fde4a2a4",
   "metadata": {},
   "outputs": [
    {
     "name": "stdout",
     "output_type": "stream",
     "text": [
      "tensor([ 3, 12])\n"
     ]
    }
   ],
   "source": [
    "y.mul_(x)\n",
    "print(y)"
   ]
  },
  {
   "cell_type": "code",
   "execution_count": 68,
   "id": "4fa98a3f",
   "metadata": {},
   "outputs": [
    {
     "name": "stdout",
     "output_type": "stream",
     "text": [
      "x:  tensor([1, 4])\n",
      "y: tensor([ 3, 12])\n"
     ]
    }
   ],
   "source": [
    "print(\"x: \", x)\n",
    "print(\"y:\", y)"
   ]
  },
  {
   "cell_type": "markdown",
   "id": "32b6e0cf",
   "metadata": {},
   "source": [
    "### Advanced Operations"
   ]
  },
  {
   "cell_type": "markdown",
   "id": "4699edf1",
   "metadata": {},
   "source": [
    "**Slicing tensors**"
   ]
  },
  {
   "cell_type": "code",
   "execution_count": 71,
   "id": "b6109727",
   "metadata": {},
   "outputs": [
    {
     "name": "stdout",
     "output_type": "stream",
     "text": [
      "tensor([[0.8841, 0.9751, 0.9234],\n",
      "        [0.2452, 0.7758, 0.5056],\n",
      "        [0.4158, 0.3944, 0.2258],\n",
      "        [0.6247, 0.0989, 0.0473],\n",
      "        [0.6611, 0.8358, 0.1755]])\n"
     ]
    }
   ],
   "source": [
    "x = torch.rand(5, 3)\n",
    "print(x)"
   ]
  },
  {
   "cell_type": "code",
   "execution_count": 72,
   "id": "4d70652b",
   "metadata": {},
   "outputs": [
    {
     "name": "stdout",
     "output_type": "stream",
     "text": [
      "tensor([[0.8841, 0.9751, 0.9234],\n",
      "        [0.2452, 0.7758, 0.5056],\n",
      "        [0.4158, 0.3944, 0.2258],\n",
      "        [0.6247, 0.0989, 0.0473],\n",
      "        [0.6611, 0.8358, 0.1755]])\n"
     ]
    }
   ],
   "source": [
    "print(x[:])"
   ]
  },
  {
   "cell_type": "code",
   "execution_count": 74,
   "id": "1f020f4a",
   "metadata": {},
   "outputs": [
    {
     "name": "stdout",
     "output_type": "stream",
     "text": [
      "tensor([0.8841, 0.9751, 0.9234])\n"
     ]
    }
   ],
   "source": [
    "print(x[0, :])"
   ]
  },
  {
   "cell_type": "code",
   "execution_count": 73,
   "id": "27fd38c5",
   "metadata": {},
   "outputs": [
    {
     "name": "stdout",
     "output_type": "stream",
     "text": [
      "tensor([0.8841, 0.2452, 0.4158, 0.6247, 0.6611])\n"
     ]
    }
   ],
   "source": [
    "print(x[:, 0])"
   ]
  },
  {
   "cell_type": "code",
   "execution_count": 75,
   "id": "5c483ca2",
   "metadata": {},
   "outputs": [
    {
     "name": "stdout",
     "output_type": "stream",
     "text": [
      "tensor(0.8841)\n"
     ]
    }
   ],
   "source": [
    "print(x[0, 0])"
   ]
  },
  {
   "cell_type": "code",
   "execution_count": 76,
   "id": "7dd736ef",
   "metadata": {},
   "outputs": [
    {
     "name": "stdout",
     "output_type": "stream",
     "text": [
      "0.8840826749801636\n"
     ]
    }
   ],
   "source": [
    "print(x[0, 0].item())"
   ]
  },
  {
   "cell_type": "markdown",
   "id": "afc0c997",
   "metadata": {},
   "source": [
    "**Reshaping tensors**"
   ]
  },
  {
   "cell_type": "code",
   "execution_count": 86,
   "id": "a866f12f",
   "metadata": {},
   "outputs": [
    {
     "name": "stdout",
     "output_type": "stream",
     "text": [
      "tensor([[0.9742, 0.0987, 0.7310],\n",
      "        [0.4212, 0.1334, 0.1215]])\n"
     ]
    }
   ],
   "source": [
    "x = torch.rand(2,3)\n",
    "print(x)"
   ]
  },
  {
   "cell_type": "code",
   "execution_count": 88,
   "id": "1cbce8af",
   "metadata": {},
   "outputs": [
    {
     "name": "stdout",
     "output_type": "stream",
     "text": [
      "y:  tensor([0.9742, 0.0987, 0.7310, 0.4212, 0.1334, 0.1215])\n",
      "size:  torch.Size([6])\n"
     ]
    }
   ],
   "source": [
    "y = x.view(6)\n",
    "print(\"y: \", y)\n",
    "print(\"size: \", y.size())"
   ]
  },
  {
   "cell_type": "code",
   "execution_count": 89,
   "id": "62cee5b4",
   "metadata": {},
   "outputs": [
    {
     "name": "stdout",
     "output_type": "stream",
     "text": [
      "y:  tensor([[0.9742, 0.0987, 0.7310],\n",
      "        [0.4212, 0.1334, 0.1215]])\n",
      "size:  torch.Size([2, 3])\n"
     ]
    }
   ],
   "source": [
    "# Putting -1 in place of a dimension tells PyTorch to infer\n",
    "y = x.view(-1, 3)\n",
    "print(\"y: \", y)\n",
    "print(\"size: \", y.size())"
   ]
  },
  {
   "cell_type": "markdown",
   "id": "994cf4f6",
   "metadata": {},
   "source": [
    "**NumPy and PyTorch Tensors**"
   ]
  },
  {
   "cell_type": "code",
   "execution_count": 90,
   "id": "349644b3",
   "metadata": {},
   "outputs": [],
   "source": [
    "import numpy as np"
   ]
  },
  {
   "cell_type": "code",
   "execution_count": 103,
   "id": "63c4dce4",
   "metadata": {},
   "outputs": [
    {
     "name": "stdout",
     "output_type": "stream",
     "text": [
      "a: tensor([1., 1., 1., 1., 1.])\n",
      "a type:  <class 'torch.Tensor'>\n",
      "b: [1. 1. 1. 1. 1.]\n",
      "b type:  <class 'numpy.ndarray'>\n"
     ]
    }
   ],
   "source": [
    "a = torch.ones(5)\n",
    "print(\"a:\", a)\n",
    "print(\"a type: \", type(a))\n",
    "# If Tensor is on CPU, both objects share same memory location\n",
    "b = a.numpy()\n",
    "print(\"b:\", b)\n",
    "print(\"b type: \", type(b))"
   ]
  },
  {
   "cell_type": "code",
   "execution_count": 102,
   "id": "f6330973",
   "metadata": {},
   "outputs": [
    {
     "name": "stdout",
     "output_type": "stream",
     "text": [
      "a: [1. 1. 1. 1. 1.]\n",
      "a type:  <class 'numpy.ndarray'>\n",
      "b: tensor([1., 1., 1., 1., 1.], dtype=torch.float64)\n",
      "b type:  <class 'torch.Tensor'>\n"
     ]
    }
   ],
   "source": [
    "a = np.ones(5)\n",
    "print(\"a:\", a)\n",
    "print(\"a type: \", type(a))\n",
    "b = torch.from_numpy(a)\n",
    "print(\"b:\", b)\n",
    "print(\"b type: \", type(b))"
   ]
  },
  {
   "cell_type": "markdown",
   "id": "fb7c328f",
   "metadata": {},
   "source": [
    "### CPU & GPU"
   ]
  },
  {
   "cell_type": "code",
   "execution_count": 105,
   "id": "64c52236",
   "metadata": {},
   "outputs": [
    {
     "name": "stdout",
     "output_type": "stream",
     "text": [
      "True\n"
     ]
    }
   ],
   "source": [
    "if torch.cuda.is_available():\n",
    "    print(True)"
   ]
  },
  {
   "cell_type": "code",
   "execution_count": 106,
   "id": "8234fd07",
   "metadata": {},
   "outputs": [
    {
     "name": "stdout",
     "output_type": "stream",
     "text": [
      "tensor([2., 2., 2., 2., 2.], device='cuda:0')\n"
     ]
    }
   ],
   "source": [
    "if torch.cuda.is_available():\n",
    "    device = torch.device(\"cuda\")\n",
    "    x = torch.ones(5, device=device)\n",
    "    y = torch.ones(5)\n",
    "    y = y.to(device)\n",
    "    z = x + y\n",
    "    print(z)"
   ]
  },
  {
   "cell_type": "code",
   "execution_count": 108,
   "id": "3fd55b52",
   "metadata": {},
   "outputs": [
    {
     "ename": "TypeError",
     "evalue": "can't convert cuda:0 device type tensor to numpy. Use Tensor.cpu() to copy the tensor to host memory first.",
     "output_type": "error",
     "traceback": [
      "\u001b[0;31m---------------------------------------------------------------------------\u001b[0m",
      "\u001b[0;31mTypeError\u001b[0m                                 Traceback (most recent call last)",
      "Input \u001b[0;32mIn [108]\u001b[0m, in \u001b[0;36m<cell line: 1>\u001b[0;34m()\u001b[0m\n\u001b[0;32m----> 1\u001b[0m z\u001b[38;5;241m.\u001b[39mnumpy()\n",
      "\u001b[0;31mTypeError\u001b[0m: can't convert cuda:0 device type tensor to numpy. Use Tensor.cpu() to copy the tensor to host memory first."
     ]
    }
   ],
   "source": [
    "# However, numpy can only handle CPU tensors\n",
    "z.numpy()"
   ]
  },
  {
   "cell_type": "code",
   "execution_count": 109,
   "id": "bd34d8fd",
   "metadata": {},
   "outputs": [
    {
     "data": {
      "text/plain": [
       "array([2., 2., 2., 2., 2.], dtype=float32)"
      ]
     },
     "execution_count": 109,
     "metadata": {},
     "output_type": "execute_result"
    }
   ],
   "source": [
    "z = z.to(\"cpu\")\n",
    "z.numpy()"
   ]
  },
  {
   "cell_type": "markdown",
   "id": "b0b5377a",
   "metadata": {},
   "source": [
    "<br><br><br>\n",
    "## Gradient Calculation w/ Autograd"
   ]
  },
  {
   "cell_type": "code",
   "execution_count": 111,
   "id": "31aef4c3",
   "metadata": {},
   "outputs": [
    {
     "name": "stdout",
     "output_type": "stream",
     "text": [
      "tensor([ 1.4170,  0.9041, -2.7062], requires_grad=True)\n"
     ]
    }
   ],
   "source": [
    "# Tell PyTorch to create a computational graph that tracks ops\n",
    "x = torch.randn(3, requires_grad=True)\n",
    "print(x)"
   ]
  },
  {
   "cell_type": "code",
   "execution_count": 112,
   "id": "5ecbfaaf",
   "metadata": {},
   "outputs": [
    {
     "name": "stdout",
     "output_type": "stream",
     "text": [
      "tensor([ 3.4170,  2.9041, -0.7062], grad_fn=<AddBackward0>)\n"
     ]
    }
   ],
   "source": [
    "y = x + 2\n",
    "print(y)"
   ]
  },
  {
   "cell_type": "code",
   "execution_count": 117,
   "id": "041f5975",
   "metadata": {},
   "outputs": [
    {
     "name": "stdout",
     "output_type": "stream",
     "text": [
      "tensor([ 6.8340,  5.8083, -1.4124], grad_fn=<MulBackward0>)\n"
     ]
    }
   ],
   "source": [
    "z = y * 2\n",
    "print(z)"
   ]
  },
  {
   "cell_type": "code",
   "execution_count": 116,
   "id": "994ebc49",
   "metadata": {},
   "outputs": [],
   "source": [
    "# z = z.mean()\n",
    "# print(z)"
   ]
  },
  {
   "cell_type": "code",
   "execution_count": 119,
   "id": "1fd7c454",
   "metadata": {},
   "outputs": [
    {
     "name": "stdout",
     "output_type": "stream",
     "text": [
      "tensor([0.8667, 2.6667, 0.6687])\n"
     ]
    }
   ],
   "source": [
    "# Backward fn needs a gradient vector for multiplication w/\n",
    "# Jacobian matrix of partial derivatives\n",
    "v = torch.tensor([0.1, 1.0, 0.001], dtype=torch.float32)\n",
    "z.backward(v)\n",
    "print(x.grad)"
   ]
  },
  {
   "cell_type": "markdown",
   "id": "8051c659",
   "metadata": {},
   "source": [
    "**Turning off gradient tracking**"
   ]
  },
  {
   "cell_type": "code",
   "execution_count": 122,
   "id": "24dfb0af",
   "metadata": {},
   "outputs": [
    {
     "name": "stdout",
     "output_type": "stream",
     "text": [
      "tensor([ 1.4170,  0.9041, -2.7062])\n"
     ]
    }
   ],
   "source": [
    "x.requires_grad_(True)\n",
    "x.requires_grad_(False)\n",
    "print(x)"
   ]
  },
  {
   "cell_type": "code",
   "execution_count": 124,
   "id": "cedddfce",
   "metadata": {},
   "outputs": [
    {
     "name": "stdout",
     "output_type": "stream",
     "text": [
      "x:  tensor([ 1.4170,  0.9041, -2.7062], requires_grad=True)\n",
      "y:  tensor([ 1.4170,  0.9041, -2.7062])\n"
     ]
    }
   ],
   "source": [
    "x.requires_grad_(True)\n",
    "y = x.detach()\n",
    "print(\"x: \", x)\n",
    "print(\"y: \", y)"
   ]
  },
  {
   "cell_type": "code",
   "execution_count": 127,
   "id": "0ae009c8",
   "metadata": {},
   "outputs": [
    {
     "name": "stdout",
     "output_type": "stream",
     "text": [
      "tensor([ 3.4170,  2.9041, -0.7062], grad_fn=<AddBackward0>)\n"
     ]
    }
   ],
   "source": [
    "y = x + 2\n",
    "print(y)"
   ]
  },
  {
   "cell_type": "code",
   "execution_count": 128,
   "id": "d9f6433b",
   "metadata": {},
   "outputs": [
    {
     "name": "stdout",
     "output_type": "stream",
     "text": [
      "tensor([ 3.4170,  2.9041, -0.7062])\n"
     ]
    }
   ],
   "source": [
    "with torch.no_grad():\n",
    "    y = x + 2\n",
    "    print(y)"
   ]
  },
  {
   "cell_type": "markdown",
   "id": "89df513a",
   "metadata": {},
   "source": [
    "**Gradient accumulation**"
   ]
  },
  {
   "cell_type": "code",
   "execution_count": 129,
   "id": "c1082bcf",
   "metadata": {},
   "outputs": [
    {
     "name": "stdout",
     "output_type": "stream",
     "text": [
      "tensor([3., 3., 3., 3.])\n"
     ]
    }
   ],
   "source": [
    "# Whenever backward function is called, gradients are accumulated\n",
    "# In the .grad attribute\n",
    "\n",
    "weights = torch.ones(4, requires_grad=True)\n",
    "\n",
    "# Incorrect!\n",
    "for epoch in range(1):\n",
    "    model_output = (weights*3).sum()\n",
    "    model_output.backward()\n",
    "    print(weights.grad)"
   ]
  },
  {
   "cell_type": "code",
   "execution_count": 130,
   "id": "d4b96fd8",
   "metadata": {},
   "outputs": [
    {
     "name": "stdout",
     "output_type": "stream",
     "text": [
      "tensor([6., 6., 6., 6.])\n"
     ]
    }
   ],
   "source": [
    "# Incorrect!\n",
    "for epoch in range(1):\n",
    "    model_output = (weights*3).sum()\n",
    "    model_output.backward()\n",
    "    print(weights.grad)"
   ]
  },
  {
   "cell_type": "code",
   "execution_count": 131,
   "id": "cc475037",
   "metadata": {},
   "outputs": [
    {
     "name": "stdout",
     "output_type": "stream",
     "text": [
      "tensor([9., 9., 9., 9.])\n"
     ]
    }
   ],
   "source": [
    "# Incorrect!\n",
    "for epoch in range(1):\n",
    "    model_output = (weights*3).sum()\n",
    "    model_output.backward()\n",
    "    print(weights.grad)"
   ]
  },
  {
   "cell_type": "code",
   "execution_count": 133,
   "id": "cbbd2fde",
   "metadata": {},
   "outputs": [
    {
     "name": "stdout",
     "output_type": "stream",
     "text": [
      "tensor([3., 3., 3., 3.])\n"
     ]
    }
   ],
   "source": [
    "# Correct!\n",
    "for epoch in range(1):\n",
    "    model_output = (weights*3).sum()\n",
    "    model_output.backward()\n",
    "    print(weights.grad)\n",
    "    weights.grad.zero_()"
   ]
  },
  {
   "cell_type": "code",
   "execution_count": 134,
   "id": "8b2d3b7e",
   "metadata": {},
   "outputs": [
    {
     "name": "stdout",
     "output_type": "stream",
     "text": [
      "tensor([3., 3., 3., 3.])\n"
     ]
    }
   ],
   "source": [
    "# Correct!\n",
    "for epoch in range(1):\n",
    "    model_output = (weights*3).sum()\n",
    "    model_output.backward()\n",
    "    print(weights.grad)\n",
    "    weights.grad.zero_()"
   ]
  },
  {
   "cell_type": "markdown",
   "id": "ed39615d",
   "metadata": {},
   "source": [
    "<br><br><br>\n",
    "## Backpropagation"
   ]
  },
  {
   "cell_type": "code",
   "execution_count": null,
   "id": "80a0d3ea",
   "metadata": {},
   "outputs": [],
   "source": [
    "# Compute loss (forward), \n",
    "# compute local gradients, \n",
    "# compute weight updates (backward)"
   ]
  },
  {
   "cell_type": "code",
   "execution_count": 135,
   "id": "582783ab",
   "metadata": {},
   "outputs": [],
   "source": [
    "x = torch.tensor(1.0)\n",
    "y = torch.tensor(2.0)\n",
    "\n",
    "w = torch.tensor(1.0, requires_grad=True)"
   ]
  },
  {
   "cell_type": "code",
   "execution_count": 137,
   "id": "e1b7a14b",
   "metadata": {},
   "outputs": [
    {
     "name": "stdout",
     "output_type": "stream",
     "text": [
      "tensor(1., grad_fn=<PowBackward0>)\n"
     ]
    }
   ],
   "source": [
    "# forward pass\n",
    "y_hat = w * x\n",
    "loss = (y_hat - y)**2\n",
    "print(loss)"
   ]
  },
  {
   "cell_type": "code",
   "execution_count": 138,
   "id": "e6da8af4",
   "metadata": {},
   "outputs": [
    {
     "name": "stdout",
     "output_type": "stream",
     "text": [
      "tensor(-2.)\n"
     ]
    }
   ],
   "source": [
    "# backward pass\n",
    "loss.backward()\n",
    "print(w.grad)"
   ]
  },
  {
   "cell_type": "code",
   "execution_count": null,
   "id": "d6cf21ab",
   "metadata": {},
   "outputs": [],
   "source": [
    "# update weights, next forward & backward pass "
   ]
  },
  {
   "cell_type": "markdown",
   "id": "e394469d",
   "metadata": {},
   "source": [
    "<br><br><br>\n",
    "## Gradient Descent"
   ]
  },
  {
   "cell_type": "code",
   "execution_count": 139,
   "id": "cf25249b",
   "metadata": {},
   "outputs": [],
   "source": [
    "# Optimizing model using automatic gradient computation (autograd)\n",
    "# Implement gradient descent (linear regression) steps manually\n",
    "# Prediction and loss function\n",
    "# Numerical calculation of gradients\n",
    "# Gradient descent to optimize parameters\n",
    "# Replace everything with autograd and pytorch"
   ]
  },
  {
   "cell_type": "code",
   "execution_count": 141,
   "id": "0e15d023",
   "metadata": {},
   "outputs": [],
   "source": [
    "import numpy as np"
   ]
  },
  {
   "cell_type": "code",
   "execution_count": 142,
   "id": "70cb34f2",
   "metadata": {},
   "outputs": [],
   "source": [
    "# linear combination of weights, inputs: f = w * x\n",
    "X = np.array([1, 2, 3, 4], dtype=np.float32)\n",
    "Y = np.array([2, 4, 6, 8], dtype=np.float32)\n",
    "\n",
    "# Initialize weights\n",
    "w = 0.0\n",
    "\n",
    "# Model prediction\n",
    "def forward(x):\n",
    "    return w * x\n",
    "\n",
    "# MSE loss\n",
    "def loss(y, y_pred):\n",
    "    return ((y_pred - y)**2).mean()\n",
    "\n",
    "# Gradient\n",
    "# MSE = 1/N * (w*x - y)**2\n",
    "# dJ/dw = 1/N * 2x * (w*x - y)\n",
    "def grad(x, y, y_pred):\n",
    "    return np.dot(2*x, (y_pred-y)).mean()"
   ]
  },
  {
   "cell_type": "code",
   "execution_count": 146,
   "id": "2f5ee822",
   "metadata": {},
   "outputs": [
    {
     "name": "stdout",
     "output_type": "stream",
     "text": [
      "Prediction before training: f(5) = 6.000\n"
     ]
    },
    {
     "ename": "TypeError",
     "evalue": "'numpy.float32' object is not callable",
     "output_type": "error",
     "traceback": [
      "\u001b[0;31m---------------------------------------------------------------------------\u001b[0m",
      "\u001b[0;31mTypeError\u001b[0m                                 Traceback (most recent call last)",
      "Input \u001b[0;32mIn [146]\u001b[0m, in \u001b[0;36m<cell line: 7>\u001b[0;34m()\u001b[0m\n\u001b[1;32m      7\u001b[0m \u001b[38;5;28;01mfor\u001b[39;00m epoch \u001b[38;5;129;01min\u001b[39;00m \u001b[38;5;28mrange\u001b[39m(num_epochs):\n\u001b[1;32m      8\u001b[0m     y_pred \u001b[38;5;241m=\u001b[39m forward(X)\n\u001b[0;32m----> 9\u001b[0m     l \u001b[38;5;241m=\u001b[39m loss(Y, y_pred)\n\u001b[1;32m     10\u001b[0m     dw \u001b[38;5;241m=\u001b[39m grad(X, Y, y_pred)\n\u001b[1;32m     11\u001b[0m     w \u001b[38;5;241m-\u001b[39m\u001b[38;5;241m=\u001b[39m learning_rate \u001b[38;5;241m*\u001b[39m dw\n",
      "\u001b[0;31mTypeError\u001b[0m: 'numpy.float32' object is not callable"
     ]
    }
   ],
   "source": [
    "print(f'Prediction before training: f(5) = {forward(5):.3f}')\n",
    "\n",
    "# Training\n",
    "learning_rate = 0.01\n",
    "num_epochs = 10\n",
    "\n",
    "for epoch in range(num_epochs):\n",
    "    y_pred = forward(X)\n",
    "    l = loss(Y, y_pred)\n",
    "    dw = grad(X, Y, y_pred)\n",
    "    w -= learning_rate * dw\n",
    "    \n",
    "    if epoch % 1 == 0:\n",
    "        print(f'epoch {epoch+1}: w = {w:.3f}, loss = {l:.8f}')\n",
    "        \n",
    "print(f'Prediction after training: f(5) = {forward(5):.3f}')"
   ]
  },
  {
   "cell_type": "code",
   "execution_count": 147,
   "id": "33670fe9",
   "metadata": {},
   "outputs": [],
   "source": [
    "y_pred = forward(X)"
   ]
  },
  {
   "cell_type": "code",
   "execution_count": 148,
   "id": "d901ed55",
   "metadata": {},
   "outputs": [
    {
     "ename": "TypeError",
     "evalue": "'numpy.float32' object is not callable",
     "output_type": "error",
     "traceback": [
      "\u001b[0;31m---------------------------------------------------------------------------\u001b[0m",
      "\u001b[0;31mTypeError\u001b[0m                                 Traceback (most recent call last)",
      "Input \u001b[0;32mIn [148]\u001b[0m, in \u001b[0;36m<cell line: 1>\u001b[0;34m()\u001b[0m\n\u001b[0;32m----> 1\u001b[0m l \u001b[38;5;241m=\u001b[39m loss(Y, y_pred)\n",
      "\u001b[0;31mTypeError\u001b[0m: 'numpy.float32' object is not callable"
     ]
    }
   ],
   "source": [
    "l = loss(Y, y_pred)"
   ]
  },
  {
   "cell_type": "code",
   "execution_count": null,
   "id": "b833554b",
   "metadata": {},
   "outputs": [],
   "source": []
  }
 ],
 "metadata": {
  "kernelspec": {
   "display_name": "Python 3 (ipykernel)",
   "language": "python",
   "name": "python3"
  },
  "language_info": {
   "codemirror_mode": {
    "name": "ipython",
    "version": 3
   },
   "file_extension": ".py",
   "mimetype": "text/x-python",
   "name": "python",
   "nbconvert_exporter": "python",
   "pygments_lexer": "ipython3",
   "version": "3.8.0"
  }
 },
 "nbformat": 4,
 "nbformat_minor": 5
}
