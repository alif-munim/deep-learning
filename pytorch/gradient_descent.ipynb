{
 "cells": [
  {
   "cell_type": "markdown",
   "id": "d663d968",
   "metadata": {},
   "source": [
    "# Tensor Basics"
   ]
  },
  {
   "cell_type": "code",
   "execution_count": 1,
   "id": "e9c22e54",
   "metadata": {},
   "outputs": [],
   "source": [
    "import torch"
   ]
  },
  {
   "cell_type": "code",
   "execution_count": 20,
   "id": "9085793e",
   "metadata": {},
   "outputs": [
    {
     "name": "stdout",
     "output_type": "stream",
     "text": [
      "tensor([[[ 0.0000e+00,  0.0000e+00,  0.0000e+00],\n",
      "         [ 0.0000e+00, -1.4176e-13,  3.0955e-41]],\n",
      "\n",
      "        [[-3.1550e-14,  3.0955e-41, -8.3674e+02],\n",
      "         [ 4.5824e-41,  1.4013e-45,  0.0000e+00]]])\n"
     ]
    }
   ],
   "source": [
    "x = torch.empty(2,2,3)\n",
    "print(x)"
   ]
  },
  {
   "cell_type": "code",
   "execution_count": 21,
   "id": "57ebeed8",
   "metadata": {},
   "outputs": [
    {
     "name": "stdout",
     "output_type": "stream",
     "text": [
      "tensor([[0.4064, 0.0592],\n",
      "        [0.1780, 0.4562]])\n"
     ]
    }
   ],
   "source": [
    "x = torch.rand(2,2)\n",
    "print(x)"
   ]
  },
  {
   "cell_type": "code",
   "execution_count": 22,
   "id": "6ad000f7",
   "metadata": {},
   "outputs": [
    {
     "name": "stdout",
     "output_type": "stream",
     "text": [
      "tensor([[0., 0.],\n",
      "        [0., 0.]])\n"
     ]
    }
   ],
   "source": [
    "x = torch.zeros(2,2)\n",
    "print(x)"
   ]
  },
  {
   "cell_type": "code",
   "execution_count": 23,
   "id": "351bb13a",
   "metadata": {},
   "outputs": [
    {
     "name": "stdout",
     "output_type": "stream",
     "text": [
      "tensor([[1., 1.],\n",
      "        [1., 1.]])\n"
     ]
    }
   ],
   "source": [
    "x = torch.ones(2,2)\n",
    "print(x)"
   ]
  },
  {
   "cell_type": "markdown",
   "id": "dba99f00",
   "metadata": {},
   "source": [
    "### Tensor Details"
   ]
  },
  {
   "cell_type": "code",
   "execution_count": 35,
   "id": "c9ac0bda",
   "metadata": {},
   "outputs": [
    {
     "name": "stdout",
     "output_type": "stream",
     "text": [
      "Tensor dtype: torch.float16\n",
      "Tensor size: torch.Size([2, 2])\n"
     ]
    }
   ],
   "source": [
    "x = torch.ones(2,2,dtype=torch.float16)\n",
    "print(\"Tensor dtype:\", x.dtype)\n",
    "print(\"Tensor size:\", x.size())"
   ]
  },
  {
   "cell_type": "code",
   "execution_count": 36,
   "id": "ab7d9a6f",
   "metadata": {},
   "outputs": [
    {
     "name": "stdout",
     "output_type": "stream",
     "text": [
      "tensor([2.5000, 0.1000])\n"
     ]
    }
   ],
   "source": [
    "x = torch.tensor([2.5, 0.1])\n",
    "print(x)"
   ]
  },
  {
   "cell_type": "markdown",
   "id": "424b2f32",
   "metadata": {},
   "source": [
    "### Tensor Operations"
   ]
  },
  {
   "cell_type": "code",
   "execution_count": 55,
   "id": "e61026f9",
   "metadata": {},
   "outputs": [],
   "source": [
    "x = torch.randint(0, 5, (2,))\n",
    "y = torch.randint(0, 5, (2,))"
   ]
  },
  {
   "cell_type": "code",
   "execution_count": 56,
   "id": "c63985ae",
   "metadata": {},
   "outputs": [
    {
     "name": "stdout",
     "output_type": "stream",
     "text": [
      "x:  tensor([1, 4])\n",
      "y: tensor([3, 3])\n"
     ]
    }
   ],
   "source": [
    "print(\"x: \", x)\n",
    "print(\"y:\", y)"
   ]
  },
  {
   "cell_type": "code",
   "execution_count": 58,
   "id": "0713109f",
   "metadata": {},
   "outputs": [
    {
     "name": "stdout",
     "output_type": "stream",
     "text": [
      "tensor([4, 7])\n"
     ]
    }
   ],
   "source": [
    "# z = x + y\n",
    "z = torch.add(x, y)\n",
    "print(z)"
   ]
  },
  {
   "cell_type": "code",
   "execution_count": 59,
   "id": "b4be0196",
   "metadata": {},
   "outputs": [
    {
     "name": "stdout",
     "output_type": "stream",
     "text": [
      "tensor([4, 7])\n"
     ]
    }
   ],
   "source": [
    "# In PyTorch, trailing underscore signifies in-place op.\n",
    "y.add_(x)\n",
    "print(y)"
   ]
  },
  {
   "cell_type": "code",
   "execution_count": 60,
   "id": "06a37fd2",
   "metadata": {},
   "outputs": [
    {
     "name": "stdout",
     "output_type": "stream",
     "text": [
      "x:  tensor([1, 4])\n",
      "y: tensor([4, 7])\n"
     ]
    }
   ],
   "source": [
    "print(\"x: \", x)\n",
    "print(\"y:\", y)"
   ]
  },
  {
   "cell_type": "code",
   "execution_count": 63,
   "id": "0bd086c7",
   "metadata": {},
   "outputs": [
    {
     "name": "stdout",
     "output_type": "stream",
     "text": [
      "tensor([-3, -3])\n"
     ]
    }
   ],
   "source": [
    "# z = x - y\n",
    "z = torch.sub(x, y)\n",
    "print(z)"
   ]
  },
  {
   "cell_type": "code",
   "execution_count": 64,
   "id": "44f4d0b2",
   "metadata": {},
   "outputs": [
    {
     "name": "stdout",
     "output_type": "stream",
     "text": [
      "tensor([3, 3])\n"
     ]
    }
   ],
   "source": [
    "y.sub_(x)\n",
    "print(y)"
   ]
  },
  {
   "cell_type": "code",
   "execution_count": 65,
   "id": "94f63005",
   "metadata": {},
   "outputs": [
    {
     "name": "stdout",
     "output_type": "stream",
     "text": [
      "tensor([ 3, 12])\n"
     ]
    }
   ],
   "source": [
    "# z = x * y\n",
    "z = torch.mul(x, y)\n",
    "print(z)"
   ]
  },
  {
   "cell_type": "code",
   "execution_count": 66,
   "id": "df918fc5",
   "metadata": {},
   "outputs": [
    {
     "name": "stdout",
     "output_type": "stream",
     "text": [
      "tensor([ 3, 12])\n"
     ]
    }
   ],
   "source": [
    "y.mul_(x)\n",
    "print(y)"
   ]
  },
  {
   "cell_type": "code",
   "execution_count": 68,
   "id": "2ffaaad6",
   "metadata": {},
   "outputs": [
    {
     "name": "stdout",
     "output_type": "stream",
     "text": [
      "x:  tensor([1, 4])\n",
      "y: tensor([ 3, 12])\n"
     ]
    }
   ],
   "source": [
    "print(\"x: \", x)\n",
    "print(\"y:\", y)"
   ]
  },
  {
   "cell_type": "markdown",
   "id": "b93f12e7",
   "metadata": {},
   "source": [
    "### Advanced Operations"
   ]
  },
  {
   "cell_type": "markdown",
   "id": "a16f3396",
   "metadata": {},
   "source": [
    "**Slicing tensors**"
   ]
  },
  {
   "cell_type": "code",
   "execution_count": 71,
   "id": "c8c4e0ce",
   "metadata": {},
   "outputs": [
    {
     "name": "stdout",
     "output_type": "stream",
     "text": [
      "tensor([[0.8841, 0.9751, 0.9234],\n",
      "        [0.2452, 0.7758, 0.5056],\n",
      "        [0.4158, 0.3944, 0.2258],\n",
      "        [0.6247, 0.0989, 0.0473],\n",
      "        [0.6611, 0.8358, 0.1755]])\n"
     ]
    }
   ],
   "source": [
    "x = torch.rand(5, 3)\n",
    "print(x)"
   ]
  },
  {
   "cell_type": "code",
   "execution_count": 72,
   "id": "a48cda94",
   "metadata": {},
   "outputs": [
    {
     "name": "stdout",
     "output_type": "stream",
     "text": [
      "tensor([[0.8841, 0.9751, 0.9234],\n",
      "        [0.2452, 0.7758, 0.5056],\n",
      "        [0.4158, 0.3944, 0.2258],\n",
      "        [0.6247, 0.0989, 0.0473],\n",
      "        [0.6611, 0.8358, 0.1755]])\n"
     ]
    }
   ],
   "source": [
    "print(x[:])"
   ]
  },
  {
   "cell_type": "code",
   "execution_count": 74,
   "id": "ee3476be",
   "metadata": {},
   "outputs": [
    {
     "name": "stdout",
     "output_type": "stream",
     "text": [
      "tensor([0.8841, 0.9751, 0.9234])\n"
     ]
    }
   ],
   "source": [
    "print(x[0, :])"
   ]
  },
  {
   "cell_type": "code",
   "execution_count": 73,
   "id": "4a637957",
   "metadata": {},
   "outputs": [
    {
     "name": "stdout",
     "output_type": "stream",
     "text": [
      "tensor([0.8841, 0.2452, 0.4158, 0.6247, 0.6611])\n"
     ]
    }
   ],
   "source": [
    "print(x[:, 0])"
   ]
  },
  {
   "cell_type": "code",
   "execution_count": 75,
   "id": "5016399a",
   "metadata": {},
   "outputs": [
    {
     "name": "stdout",
     "output_type": "stream",
     "text": [
      "tensor(0.8841)\n"
     ]
    }
   ],
   "source": [
    "print(x[0, 0])"
   ]
  },
  {
   "cell_type": "code",
   "execution_count": 76,
   "id": "a0fb1c43",
   "metadata": {},
   "outputs": [
    {
     "name": "stdout",
     "output_type": "stream",
     "text": [
      "0.8840826749801636\n"
     ]
    }
   ],
   "source": [
    "print(x[0, 0].item())"
   ]
  },
  {
   "cell_type": "markdown",
   "id": "5bff7950",
   "metadata": {},
   "source": [
    "**Reshaping tensors**"
   ]
  },
  {
   "cell_type": "code",
   "execution_count": 86,
   "id": "033a5b69",
   "metadata": {},
   "outputs": [
    {
     "name": "stdout",
     "output_type": "stream",
     "text": [
      "tensor([[0.9742, 0.0987, 0.7310],\n",
      "        [0.4212, 0.1334, 0.1215]])\n"
     ]
    }
   ],
   "source": [
    "x = torch.rand(2,3)\n",
    "print(x)"
   ]
  },
  {
   "cell_type": "code",
   "execution_count": 88,
   "id": "e8f89808",
   "metadata": {},
   "outputs": [
    {
     "name": "stdout",
     "output_type": "stream",
     "text": [
      "y:  tensor([0.9742, 0.0987, 0.7310, 0.4212, 0.1334, 0.1215])\n",
      "size:  torch.Size([6])\n"
     ]
    }
   ],
   "source": [
    "y = x.view(6)\n",
    "print(\"y: \", y)\n",
    "print(\"size: \", y.size())"
   ]
  },
  {
   "cell_type": "code",
   "execution_count": 89,
   "id": "7c7b8402",
   "metadata": {},
   "outputs": [
    {
     "name": "stdout",
     "output_type": "stream",
     "text": [
      "y:  tensor([[0.9742, 0.0987, 0.7310],\n",
      "        [0.4212, 0.1334, 0.1215]])\n",
      "size:  torch.Size([2, 3])\n"
     ]
    }
   ],
   "source": [
    "# Putting -1 in place of a dimension tells PyTorch to infer\n",
    "y = x.view(-1, 3)\n",
    "print(\"y: \", y)\n",
    "print(\"size: \", y.size())"
   ]
  },
  {
   "cell_type": "markdown",
   "id": "51cb79dc",
   "metadata": {},
   "source": [
    "**NumPy and PyTorch Tensors**"
   ]
  },
  {
   "cell_type": "code",
   "execution_count": 90,
   "id": "5291b5f7",
   "metadata": {},
   "outputs": [],
   "source": [
    "import numpy as np"
   ]
  },
  {
   "cell_type": "code",
   "execution_count": 103,
   "id": "8d554822",
   "metadata": {},
   "outputs": [
    {
     "name": "stdout",
     "output_type": "stream",
     "text": [
      "a: tensor([1., 1., 1., 1., 1.])\n",
      "a type:  <class 'torch.Tensor'>\n",
      "b: [1. 1. 1. 1. 1.]\n",
      "b type:  <class 'numpy.ndarray'>\n"
     ]
    }
   ],
   "source": [
    "a = torch.ones(5)\n",
    "print(\"a:\", a)\n",
    "print(\"a type: \", type(a))\n",
    "# If Tensor is on CPU, both objects share same memory location\n",
    "b = a.numpy()\n",
    "print(\"b:\", b)\n",
    "print(\"b type: \", type(b))"
   ]
  },
  {
   "cell_type": "code",
   "execution_count": 102,
   "id": "a8360fda",
   "metadata": {},
   "outputs": [
    {
     "name": "stdout",
     "output_type": "stream",
     "text": [
      "a: [1. 1. 1. 1. 1.]\n",
      "a type:  <class 'numpy.ndarray'>\n",
      "b: tensor([1., 1., 1., 1., 1.], dtype=torch.float64)\n",
      "b type:  <class 'torch.Tensor'>\n"
     ]
    }
   ],
   "source": [
    "a = np.ones(5)\n",
    "print(\"a:\", a)\n",
    "print(\"a type: \", type(a))\n",
    "b = torch.from_numpy(a)\n",
    "print(\"b:\", b)\n",
    "print(\"b type: \", type(b))"
   ]
  },
  {
   "cell_type": "markdown",
   "id": "e1bf9794",
   "metadata": {},
   "source": [
    "### CPU & GPU"
   ]
  },
  {
   "cell_type": "code",
   "execution_count": 105,
   "id": "5a13907d",
   "metadata": {},
   "outputs": [
    {
     "name": "stdout",
     "output_type": "stream",
     "text": [
      "True\n"
     ]
    }
   ],
   "source": [
    "if torch.cuda.is_available():\n",
    "    print(True)"
   ]
  },
  {
   "cell_type": "code",
   "execution_count": 106,
   "id": "f9b07077",
   "metadata": {},
   "outputs": [
    {
     "name": "stdout",
     "output_type": "stream",
     "text": [
      "tensor([2., 2., 2., 2., 2.], device='cuda:0')\n"
     ]
    }
   ],
   "source": [
    "if torch.cuda.is_available():\n",
    "    device = torch.device(\"cuda\")\n",
    "    x = torch.ones(5, device=device)\n",
    "    y = torch.ones(5)\n",
    "    y = y.to(device)\n",
    "    z = x + y\n",
    "    print(z)"
   ]
  },
  {
   "cell_type": "code",
   "execution_count": 108,
   "id": "2b1dd42f",
   "metadata": {},
   "outputs": [
    {
     "ename": "TypeError",
     "evalue": "can't convert cuda:0 device type tensor to numpy. Use Tensor.cpu() to copy the tensor to host memory first.",
     "output_type": "error",
     "traceback": [
      "\u001b[0;31m---------------------------------------------------------------------------\u001b[0m",
      "\u001b[0;31mTypeError\u001b[0m                                 Traceback (most recent call last)",
      "Input \u001b[0;32mIn [108]\u001b[0m, in \u001b[0;36m<cell line: 1>\u001b[0;34m()\u001b[0m\n\u001b[0;32m----> 1\u001b[0m z\u001b[38;5;241m.\u001b[39mnumpy()\n",
      "\u001b[0;31mTypeError\u001b[0m: can't convert cuda:0 device type tensor to numpy. Use Tensor.cpu() to copy the tensor to host memory first."
     ]
    }
   ],
   "source": [
    "# However, numpy can only handle CPU tensors\n",
    "z.numpy()"
   ]
  },
  {
   "cell_type": "code",
   "execution_count": 109,
   "id": "281d5ea2",
   "metadata": {},
   "outputs": [
    {
     "data": {
      "text/plain": [
       "array([2., 2., 2., 2., 2.], dtype=float32)"
      ]
     },
     "execution_count": 109,
     "metadata": {},
     "output_type": "execute_result"
    }
   ],
   "source": [
    "z = z.to(\"cpu\")\n",
    "z.numpy()"
   ]
  },
  {
   "cell_type": "code",
   "execution_count": null,
   "id": "86c23c12",
   "metadata": {},
   "outputs": [],
   "source": []
  }
 ],
 "metadata": {
  "kernelspec": {
   "display_name": "Python 3 (ipykernel)",
   "language": "python",
   "name": "python3"
  },
  "language_info": {
   "codemirror_mode": {
    "name": "ipython",
    "version": 3
   },
   "file_extension": ".py",
   "mimetype": "text/x-python",
   "name": "python",
   "nbconvert_exporter": "python",
   "pygments_lexer": "ipython3",
   "version": "3.8.0"
  }
 },
 "nbformat": 4,
 "nbformat_minor": 5
}
