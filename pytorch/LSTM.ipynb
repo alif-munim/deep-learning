{
 "cells": [
  {
   "cell_type": "markdown",
   "id": "a6a49b78",
   "metadata": {},
   "source": [
    "### Sequence Models & Long Short-Term Memory Networks"
   ]
  },
  {
   "cell_type": "markdown",
   "id": "94499c96",
   "metadata": {},
   "source": [
    "For NLP, we often need models that maintain state or dependency information over time. Plain feed-forward networks do not have this capability, so we use recurrent neural networks. <br><br>\n",
    "\n",
    "We feed outputs back into the network as inputs, so that information can propagate. For an LSTM, each element has a corresponding hidden state that can contain information from earlier points. This hidden state is used for prediction."
   ]
  },
  {
   "cell_type": "markdown",
   "id": "32750826",
   "metadata": {},
   "source": [
    "PyTorch's LSTM expects all inputs to be 3D tensors. The first axis is the sequence, the second indexes instances in a mini-batch, and the third indexes elements of the input."
   ]
  },
  {
   "cell_type": "code",
   "execution_count": 1,
   "id": "0fc3c41a",
   "metadata": {},
   "outputs": [
    {
     "data": {
      "text/plain": [
       "<torch._C.Generator at 0x7f0e341b26b0>"
      ]
     },
     "execution_count": 1,
     "metadata": {},
     "output_type": "execute_result"
    }
   ],
   "source": [
    "import torch\n",
    "import torch.nn as nn\n",
    "import torch.nn.functional as F\n",
    "import torch.optim as optim\n",
    "\n",
    "torch.manual_seed(1)"
   ]
  },
  {
   "cell_type": "code",
   "execution_count": 2,
   "id": "bea782b6",
   "metadata": {},
   "outputs": [],
   "source": [
    "# LSTM takes two args; input dim, output dim\n",
    "lstm = nn.LSTM(3,3)\n",
    "inputs = [torch.randn(1,3) for _ in range(5)]"
   ]
  },
  {
   "cell_type": "code",
   "execution_count": 6,
   "id": "1dd80d71",
   "metadata": {},
   "outputs": [],
   "source": [
    "hidden = (torch.randn(1,1,3),\n",
    "         torch.randn(1,1,3))"
   ]
  },
  {
   "cell_type": "code",
   "execution_count": 11,
   "id": "462504f0",
   "metadata": {},
   "outputs": [],
   "source": [
    "for i in inputs:\n",
    "    out, hidden = lstm(i.view(1, 1, -1), hidden)"
   ]
  },
  {
   "cell_type": "code",
   "execution_count": null,
   "id": "49ca5e30",
   "metadata": {},
   "outputs": [],
   "source": [
    "inputs = torch.cat(inputs).view(len(inputs), 1, -1)\n",
    "hidden = torch.randn()"
   ]
  },
  {
   "cell_type": "code",
   "execution_count": null,
   "id": "21cbda09",
   "metadata": {},
   "outputs": [],
   "source": []
  }
 ],
 "metadata": {
  "kernelspec": {
   "display_name": "Python 3 (ipykernel)",
   "language": "python",
   "name": "python3"
  },
  "language_info": {
   "codemirror_mode": {
    "name": "ipython",
    "version": 3
   },
   "file_extension": ".py",
   "mimetype": "text/x-python",
   "name": "python",
   "nbconvert_exporter": "python",
   "pygments_lexer": "ipython3",
   "version": "3.8.0"
  }
 },
 "nbformat": 4,
 "nbformat_minor": 5
}
