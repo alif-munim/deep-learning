{
 "cells": [
  {
   "cell_type": "markdown",
   "id": "0bb4f8ed",
   "metadata": {},
   "source": [
    "# Neural Network Components"
   ]
  },
  {
   "cell_type": "markdown",
   "id": "26c71250",
   "metadata": {},
   "source": [
    "Softmax applies the exponential to each element and normalizes to get probabilities."
   ]
  },
  {
   "cell_type": "markdown",
   "id": "dad29f12",
   "metadata": {},
   "source": [
    "## Softmax"
   ]
  },
  {
   "cell_type": "code",
   "execution_count": 1,
   "id": "0d799642",
   "metadata": {},
   "outputs": [],
   "source": [
    "import torch\n",
    "import torch.nn as nn\n",
    "import numpy as np"
   ]
  },
  {
   "cell_type": "code",
   "execution_count": 2,
   "id": "cfb75799",
   "metadata": {},
   "outputs": [],
   "source": [
    "def softmax(x):\n",
    "    return np.exp(x) / np.sum(np.exp(x), axis=0)"
   ]
  },
  {
   "cell_type": "code",
   "execution_count": null,
   "id": "15be9d76",
   "metadata": {},
   "outputs": [],
   "source": [
    "x = np.array([2.0, 1.0, 0.1])\n",
    "outputs = softmax(x)\n",
    "print(f'data: {x}')\n",
    "print(f'softmax: {outputs}')"
   ]
  },
  {
   "cell_type": "code",
   "execution_count": 6,
   "id": "648cb30b",
   "metadata": {},
   "outputs": [
    {
     "name": "stdout",
     "output_type": "stream",
     "text": [
      "softmax: tensor([0.6590, 0.2424, 0.0986])\n"
     ]
    }
   ],
   "source": [
    "x = torch.tensor([2.0, 1.0, 0.1])\n",
    "outputs = torch.softmax(x, dim=0)\n",
    "print(f'softmax: {outputs}')"
   ]
  },
  {
   "cell_type": "markdown",
   "id": "ce089014",
   "metadata": {},
   "source": [
    "## Cross-Entropy"
   ]
  },
  {
   "cell_type": "markdown",
   "id": "b920b013",
   "metadata": {},
   "source": [
    "Takes class probability prediction and outputs lower loss if they are close to true class labels. Labels must be one-hot encoded."
   ]
  },
  {
   "cell_type": "code",
   "execution_count": 7,
   "id": "439407ae",
   "metadata": {},
   "outputs": [],
   "source": [
    "def cross_entropy(actual, predicted):\n",
    "    loss = -np.sum(actual * np.log(predicted))\n",
    "    return loss"
   ]
  },
  {
   "cell_type": "code",
   "execution_count": 9,
   "id": "836a8d69",
   "metadata": {},
   "outputs": [],
   "source": [
    "# Labels must be one-hot encoded\n",
    "y_true = np.array([1, 0, 0])\n",
    "y_good = np.array([0.7, 0.2, 0.1])\n",
    "y_bad = np.array([0.1, 0.3, 0.6])"
   ]
  },
  {
   "cell_type": "code",
   "execution_count": 10,
   "id": "fe4998af",
   "metadata": {},
   "outputs": [
    {
     "name": "stdout",
     "output_type": "stream",
     "text": [
      "loss1 entropy: 0.3567\n",
      "loss2 entropy: 2.3026\n"
     ]
    }
   ],
   "source": [
    "loss1 = cross_entropy(y_true, y_good)\n",
    "loss2 = cross_entropy(y_true, y_bad)\n",
    "print(f'loss1 entropy: {loss1:.4f}')\n",
    "print(f'loss2 entropy: {loss2:.4f}')"
   ]
  },
  {
   "cell_type": "markdown",
   "id": "88529261",
   "metadata": {},
   "source": [
    "**PyTorch**"
   ]
  },
  {
   "cell_type": "code",
   "execution_count": 15,
   "id": "93611577",
   "metadata": {},
   "outputs": [],
   "source": [
    "# Torch ce loss applies log softmax and neg. log likelihood\n",
    "# Don't use softmax in the last layer\n",
    "loss = nn.CrossEntropyLoss()"
   ]
  },
  {
   "cell_type": "code",
   "execution_count": 16,
   "id": "0b1b43d0",
   "metadata": {},
   "outputs": [],
   "source": [
    "# Y true should use class labels, NOT one-hot encodings\n",
    "# Y predictions have raw scores (logits), not softmax\n",
    "y_true = torch.tensor([0])\n",
    "\n",
    "# Predictions have dimensions n_samples x n_classes (1x3)\n",
    "y_good = torch.tensor([[2.0, 1.0, 0.1]])\n",
    "y_bad = torch.tensor([[0.5, 2.0, 0.3]])"
   ]
  },
  {
   "cell_type": "code",
   "execution_count": 17,
   "id": "616ec442",
   "metadata": {},
   "outputs": [],
   "source": [
    "loss1 = loss(y_good, y_true)\n",
    "loss2 = loss(y_bad, y_true)"
   ]
  },
  {
   "cell_type": "code",
   "execution_count": 18,
   "id": "ad9d9eeb",
   "metadata": {},
   "outputs": [
    {
     "name": "stdout",
     "output_type": "stream",
     "text": [
      "loss1 entropy: 0.4170\n",
      "loss2 entropy: 1.8406\n"
     ]
    }
   ],
   "source": [
    "print(f'loss1 entropy: {loss1:.4f}')\n",
    "print(f'loss2 entropy: {loss2:.4f}')"
   ]
  },
  {
   "cell_type": "code",
   "execution_count": 19,
   "id": "44bc467b",
   "metadata": {},
   "outputs": [
    {
     "name": "stdout",
     "output_type": "stream",
     "text": [
      "tensor([0])\n",
      "tensor([1])\n"
     ]
    }
   ],
   "source": [
    "_, pred1 = torch.max(y_good, 1)\n",
    "_, pred2 = torch.max(y_bad, 1)\n",
    "print(pred1)\n",
    "print(pred2)"
   ]
  },
  {
   "cell_type": "code",
   "execution_count": 20,
   "id": "0c59f63f",
   "metadata": {},
   "outputs": [],
   "source": [
    "# You can also pass in multiple samples at once to compute loss (batching)\n",
    "y_true = torch.tensor([2, 0, 1])\n",
    "y_good = torch.tensor([\n",
    "    [0.1, 1.0, 2.1],\n",
    "    [2.0, 1.0, 0.1],\n",
    "    [0.1, 3.0, 0.1]\n",
    "])\n",
    "y_bad = torch.tensor([\n",
    "    [2.1, 1.0, 0.1],\n",
    "    [0.1, 1.0, 2.1],\n",
    "    [0.1, 3.0, 0.1]\n",
    "])"
   ]
  },
  {
   "cell_type": "code",
   "execution_count": 21,
   "id": "6982cc0c",
   "metadata": {},
   "outputs": [],
   "source": [
    "loss1 = loss(y_good, y_true)\n",
    "loss2 = loss(y_bad, y_true)"
   ]
  },
  {
   "cell_type": "code",
   "execution_count": 22,
   "id": "63e193e3",
   "metadata": {},
   "outputs": [
    {
     "name": "stdout",
     "output_type": "stream",
     "text": [
      "loss1 entropy: 0.3018\n",
      "loss2 entropy: 1.6242\n"
     ]
    }
   ],
   "source": [
    "print(f'loss1 entropy: {loss1:.4f}')\n",
    "print(f'loss2 entropy: {loss2:.4f}')"
   ]
  },
  {
   "cell_type": "code",
   "execution_count": 24,
   "id": "087e00f8",
   "metadata": {},
   "outputs": [
    {
     "name": "stdout",
     "output_type": "stream",
     "text": [
      "true labels: tensor([2, 0, 1])\n",
      "pred1 labels: tensor([2, 0, 1])\n",
      "pred2 labels: tensor([0, 2, 1])\n"
     ]
    }
   ],
   "source": [
    "_, pred1 = torch.max(y_good, 1)\n",
    "_, pred2 = torch.max(y_bad, 1)\n",
    "print(f'true labels: {y_true}')\n",
    "print(f'pred1 labels: {pred1}')\n",
    "print(f'pred2 labels: {pred2}')"
   ]
  },
  {
   "cell_type": "markdown",
   "id": "ac51a500",
   "metadata": {},
   "source": [
    "## Neural Networks"
   ]
  },
  {
   "cell_type": "code",
   "execution_count": 31,
   "id": "3131ba51",
   "metadata": {},
   "outputs": [],
   "source": [
    "class NeuralNet(nn.Module):\n",
    "    def __init__(self, input_size, hidden_size, num_classes):\n",
    "        super(NeuralNet, self).__init__()\n",
    "        self.linear1 = nn.Linear(input_size, hidden_size)\n",
    "        self.relu = nn.ReLU()\n",
    "        self.linear2 = nn.Linear(hidden_size, num_classes)\n",
    "    \n",
    "    def forward(self, x):\n",
    "        out = self.linear1(x)\n",
    "        out = self.relu(out)\n",
    "        out = self.linear2(out) \n",
    "        \n",
    "        # Return with no softmax\n",
    "        return out"
   ]
  },
  {
   "cell_type": "code",
   "execution_count": 32,
   "id": "b6c66fb1",
   "metadata": {},
   "outputs": [],
   "source": [
    "model = NeuralNet(input_size = 28*28, hidden_size = 5, num_classes=3)\n",
    "\n",
    "# Cross-entropy loss applies the softmax\n",
    "criterion = nn.CrossEntropyLoss()"
   ]
  },
  {
   "cell_type": "code",
   "execution_count": 30,
   "id": "0f35a9cf",
   "metadata": {},
   "outputs": [],
   "source": [
    "# For binary classification, use sigmoid function and BCELoss"
   ]
  },
  {
   "cell_type": "code",
   "execution_count": 34,
   "id": "6946b65c",
   "metadata": {},
   "outputs": [],
   "source": [
    "class BCNeuralNet(nn.Module):\n",
    "    def __init__(self, input_size, hidden_size):\n",
    "        super(BCNeuralNet, self).__init__()\n",
    "        self.linear1 = nn.Linear(input_size, hidden_size)\n",
    "        self.relu = nn.ReLU()\n",
    "        self.linear2 = nn.Linear(hidden_size, 1)\n",
    "    \n",
    "    def forward(self, x):\n",
    "        out = self.linear1(x)\n",
    "        out = self.relu(out)\n",
    "        out = self.linear2(out) \n",
    "        y_pred = torch.sigmoid(out)\n",
    "        return out"
   ]
  },
  {
   "cell_type": "code",
   "execution_count": 35,
   "id": "dca70775",
   "metadata": {},
   "outputs": [],
   "source": [
    "model = BCNeuralNet(input_size = 28*28, hidden_size = 5)\n",
    "criterion = nn.BCELoss()"
   ]
  },
  {
   "cell_type": "markdown",
   "id": "be2d5100",
   "metadata": {},
   "source": [
    "## Activations"
   ]
  },
  {
   "cell_type": "markdown",
   "id": "3a6e9339",
   "metadata": {},
   "source": [
    "Activation functions apply a non-linear transformation and decide whether a neuron should be activated or not. We need non-linearities in the network, otherwise the entire network would be a linear regression model."
   ]
  },
  {
   "cell_type": "code",
   "execution_count": 36,
   "id": "eea83895",
   "metadata": {},
   "outputs": [],
   "source": [
    "# Step function is a simple threshold\n",
    "# Sigmoid outputs probability between 0 and 1\n",
    "# Hyperbolic tangent is scaled sigmoid, shifted to -1 to +1 (hidden)\n",
    "# ReLU outputs 0 for negative, input as output for >0\n",
    "# Leaky ReLU, minimize input for negative (vanishing gradient)\n",
    "# Softmax squashes logits (scores) into probabilities (last layer)"
   ]
  },
  {
   "cell_type": "code",
   "execution_count": 38,
   "id": "29ff5a75",
   "metadata": {},
   "outputs": [],
   "source": [
    "class NeuralNetV1(nn.Module):\n",
    "    def __init__(self, input_size, hidden_size):\n",
    "        super(NeuralNetV1, self).__init__()\n",
    "        self.linear1 = nn.Linear(input_size, hidden_size)\n",
    "        self.relu = nn.ReLU()\n",
    "        self.linear1 = nn.Linear(hidden_size, 1)\n",
    "        self.sigmoid = nn.Sigmoid()\n",
    "        \n",
    "    def forward(self, x):\n",
    "        out = self.linear1(x)\n",
    "        out = self.relu(out)\n",
    "        out = self.linear2(out)\n",
    "        out = self.sigmoid(out)\n",
    "        return out"
   ]
  },
  {
   "cell_type": "code",
   "execution_count": 40,
   "id": "0388b8bf",
   "metadata": {},
   "outputs": [],
   "source": [
    "class NeuralNetV2(nn.Module):\n",
    "    def __init__(self, input_size, hidden_size):\n",
    "        super(NeuralNetV2, self).__init__()\n",
    "        # Or, only define linear layers\n",
    "        self.linear1 = nn.Linear(input_size, hidden_size)\n",
    "        self.linear1 = nn.Linear(hidden_size, 1)\n",
    "        \n",
    "    def forward(self, x):\n",
    "        # And apply activations from torch afterwards\n",
    "        out = torch.relu(self.linear1(x))\n",
    "        out = torch.sigmoid(self.linear2(out))\n",
    "        return out"
   ]
  },
  {
   "cell_type": "code",
   "execution_count": null,
   "id": "5ef597de",
   "metadata": {},
   "outputs": [],
   "source": []
  }
 ],
 "metadata": {
  "kernelspec": {
   "display_name": "Python 3 (ipykernel)",
   "language": "python",
   "name": "python3"
  },
  "language_info": {
   "codemirror_mode": {
    "name": "ipython",
    "version": 3
   },
   "file_extension": ".py",
   "mimetype": "text/x-python",
   "name": "python",
   "nbconvert_exporter": "python",
   "pygments_lexer": "ipython3",
   "version": "3.8.0"
  }
 },
 "nbformat": 4,
 "nbformat_minor": 5
}
