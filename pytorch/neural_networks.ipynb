{
 "cells": [
  {
   "cell_type": "markdown",
   "id": "0bb4f8ed",
   "metadata": {},
   "source": [
    "# Neural Networks"
   ]
  },
  {
   "cell_type": "markdown",
   "id": "26c71250",
   "metadata": {},
   "source": [
    "Softmax applies the exponential to each element and normalizes to get probabilities."
   ]
  },
  {
   "cell_type": "code",
   "execution_count": 1,
   "id": "0d799642",
   "metadata": {},
   "outputs": [],
   "source": [
    "import torch\n",
    "import torch.nn as nn\n",
    "import numpy as np"
   ]
  },
  {
   "cell_type": "code",
   "execution_count": 2,
   "id": "cfb75799",
   "metadata": {},
   "outputs": [],
   "source": [
    "def softmax(x):\n",
    "    return np.exp(x) / np.sum(np.exp(x), axis=0)"
   ]
  },
  {
   "cell_type": "code",
   "execution_count": null,
   "id": "656e3d73",
   "metadata": {},
   "outputs": [],
   "source": [
    "x = np.array([2.0, 1.0, 0.1])\n",
    "outputs = softmax(x)\n",
    "print(f'data: {x}')\n",
    "print(f'softmax: {outputs}')"
   ]
  },
  {
   "cell_type": "code",
   "execution_count": 6,
   "id": "648cb30b",
   "metadata": {},
   "outputs": [
    {
     "name": "stdout",
     "output_type": "stream",
     "text": [
      "softmax: tensor([0.6590, 0.2424, 0.0986])\n"
     ]
    }
   ],
   "source": [
    "x = torch.tensor([2.0, 1.0, 0.1])\n",
    "outputs = torch.softmax(x, dim=0)\n",
    "print(f'softmax: {outputs}')"
   ]
  },
  {
   "cell_type": "markdown",
   "id": "ce089014",
   "metadata": {},
   "source": [
    "### Cross-Entropy"
   ]
  },
  {
   "cell_type": "markdown",
   "id": "b920b013",
   "metadata": {},
   "source": [
    "Takes class probability prediction and outputs lower loss if they are close to true class labels. Labels must be one-hot encoded."
   ]
  },
  {
   "cell_type": "code",
   "execution_count": 7,
   "id": "fab5d996",
   "metadata": {},
   "outputs": [],
   "source": [
    "def cross_entropy(actual, predicted):\n",
    "    loss = -np.sum(actual * np.log(predicted))\n",
    "    return loss"
   ]
  },
  {
   "cell_type": "code",
   "execution_count": 9,
   "id": "501724fa",
   "metadata": {},
   "outputs": [],
   "source": [
    "# Labels must be one-hot encoded\n",
    "y_true = np.array([1, 0, 0])\n",
    "y_good = np.array([0.7, 0.2, 0.1])\n",
    "y_bad = np.array([0.1, 0.3, 0.6])"
   ]
  },
  {
   "cell_type": "code",
   "execution_count": 10,
   "id": "6adc1acd",
   "metadata": {},
   "outputs": [
    {
     "name": "stdout",
     "output_type": "stream",
     "text": [
      "loss1 entropy: 0.3567\n",
      "loss2 entropy: 2.3026\n"
     ]
    }
   ],
   "source": [
    "loss1 = cross_entropy(y_true, y_good)\n",
    "loss2 = cross_entropy(y_true, y_bad)\n",
    "print(f'loss1 entropy: {loss1:.4f}')\n",
    "print(f'loss2 entropy: {loss2:.4f}')"
   ]
  },
  {
   "cell_type": "markdown",
   "id": "891cbb6f",
   "metadata": {},
   "source": [
    "**PyTorch**"
   ]
  },
  {
   "cell_type": "code",
   "execution_count": 15,
   "id": "f0e7af60",
   "metadata": {},
   "outputs": [],
   "source": [
    "# Torch ce loss applies log softmax and neg. log likelihood\n",
    "# Don't use softmax in the last layer\n",
    "loss = nn.CrossEntropyLoss()"
   ]
  },
  {
   "cell_type": "code",
   "execution_count": 16,
   "id": "9ba104c5",
   "metadata": {},
   "outputs": [],
   "source": [
    "# Y true should use class labels, NOT one-hot encodings\n",
    "# Y predictions have raw scores (logits), not softmax\n",
    "y_true = torch.tensor([0])\n",
    "\n",
    "# Predictions have dimensions n_samples x n_classes (1x3)\n",
    "y_good = torch.tensor([[2.0, 1.0, 0.1]])\n",
    "y_bad = torch.tensor([[0.5, 2.0, 0.3]])"
   ]
  },
  {
   "cell_type": "code",
   "execution_count": 17,
   "id": "66c7b997",
   "metadata": {},
   "outputs": [],
   "source": [
    "loss1 = loss(y_good, y_true)\n",
    "loss2 = loss(y_bad, y_true)"
   ]
  },
  {
   "cell_type": "code",
   "execution_count": 18,
   "id": "574a02d1",
   "metadata": {},
   "outputs": [
    {
     "name": "stdout",
     "output_type": "stream",
     "text": [
      "loss1 entropy: 0.4170\n",
      "loss2 entropy: 1.8406\n"
     ]
    }
   ],
   "source": [
    "print(f'loss1 entropy: {loss1:.4f}')\n",
    "print(f'loss2 entropy: {loss2:.4f}')"
   ]
  },
  {
   "cell_type": "code",
   "execution_count": 19,
   "id": "34afd393",
   "metadata": {},
   "outputs": [
    {
     "name": "stdout",
     "output_type": "stream",
     "text": [
      "tensor([0])\n",
      "tensor([1])\n"
     ]
    }
   ],
   "source": [
    "_, pred1 = torch.max(y_good, 1)\n",
    "_, pred2 = torch.max(y_bad, 1)\n",
    "print(pred1)\n",
    "print(pred2)"
   ]
  },
  {
   "cell_type": "code",
   "execution_count": 20,
   "id": "ea579d31",
   "metadata": {},
   "outputs": [],
   "source": [
    "# You can also pass in multiple samples at once to compute loss (batching)\n",
    "y_true = torch.tensor([2, 0, 1])\n",
    "y_good = torch.tensor([\n",
    "    [0.1, 1.0, 2.1],\n",
    "    [2.0, 1.0, 0.1],\n",
    "    [0.1, 3.0, 0.1]\n",
    "])\n",
    "y_bad = torch.tensor([\n",
    "    [2.1, 1.0, 0.1],\n",
    "    [0.1, 1.0, 2.1],\n",
    "    [0.1, 3.0, 0.1]\n",
    "])"
   ]
  },
  {
   "cell_type": "code",
   "execution_count": 21,
   "id": "737657b6",
   "metadata": {},
   "outputs": [],
   "source": [
    "loss1 = loss(y_good, y_true)\n",
    "loss2 = loss(y_bad, y_true)"
   ]
  },
  {
   "cell_type": "code",
   "execution_count": 22,
   "id": "ea05f486",
   "metadata": {},
   "outputs": [
    {
     "name": "stdout",
     "output_type": "stream",
     "text": [
      "loss1 entropy: 0.3018\n",
      "loss2 entropy: 1.6242\n"
     ]
    }
   ],
   "source": [
    "print(f'loss1 entropy: {loss1:.4f}')\n",
    "print(f'loss2 entropy: {loss2:.4f}')"
   ]
  },
  {
   "cell_type": "code",
   "execution_count": 24,
   "id": "b02f5c82",
   "metadata": {},
   "outputs": [
    {
     "name": "stdout",
     "output_type": "stream",
     "text": [
      "true labels: tensor([2, 0, 1])\n",
      "pred1 labels: tensor([2, 0, 1])\n",
      "pred2 labels: tensor([0, 2, 1])\n"
     ]
    }
   ],
   "source": [
    "_, pred1 = torch.max(y_good, 1)\n",
    "_, pred2 = torch.max(y_bad, 1)\n",
    "print(f'true labels: {y_true}')\n",
    "print(f'pred1 labels: {pred1}')\n",
    "print(f'pred2 labels: {pred2}')"
   ]
  },
  {
   "cell_type": "code",
   "execution_count": null,
   "id": "85e5e813",
   "metadata": {},
   "outputs": [],
   "source": []
  }
 ],
 "metadata": {
  "kernelspec": {
   "display_name": "Python 3 (ipykernel)",
   "language": "python",
   "name": "python3"
  },
  "language_info": {
   "codemirror_mode": {
    "name": "ipython",
    "version": 3
   },
   "file_extension": ".py",
   "mimetype": "text/x-python",
   "name": "python",
   "nbconvert_exporter": "python",
   "pygments_lexer": "ipython3",
   "version": "3.8.0"
  }
 },
 "nbformat": 4,
 "nbformat_minor": 5
}
