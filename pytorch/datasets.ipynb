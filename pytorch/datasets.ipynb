{
 "cells": [
  {
   "cell_type": "markdown",
   "id": "a5a9221a",
   "metadata": {},
   "source": [
    "# Datasets"
   ]
  },
  {
   "cell_type": "code",
   "execution_count": 1,
   "id": "e81e119b",
   "metadata": {},
   "outputs": [],
   "source": [
    "import torch\n",
    "import torchvision\n",
    "from torch.utils.data import Dataset, DataLoader\n",
    "import numpy as np\n",
    "import math"
   ]
  },
  {
   "cell_type": "code",
   "execution_count": 4,
   "id": "ceb76a59",
   "metadata": {},
   "outputs": [],
   "source": [
    "class WineDataset(Dataset):\n",
    "    def __init__(self):\n",
    "        # data loading\n",
    "        xy = np.loadtxt('./data/wine.csv',\n",
    "                        delimiter=\",\",\n",
    "                        dtype=np.float32,\n",
    "                        skiprows=1)\n",
    "        self.x = torch.from_numpy(xy[:, 1:])\n",
    "        self.y = torch.from_numpy(xy[:, [0]])\n",
    "        self.n_samples = xy.shape[0]\n",
    "    \n",
    "    def __getitem__(self, index):\n",
    "        # dataset indexing\n",
    "        return self.x[index], self.y[index]\n",
    "        \n",
    "    def __len__(self):\n",
    "        # length of dataset\n",
    "        return self.n_samples"
   ]
  },
  {
   "cell_type": "code",
   "execution_count": 7,
   "id": "80d77521",
   "metadata": {},
   "outputs": [
    {
     "name": "stdout",
     "output_type": "stream",
     "text": [
      "features: tensor([1.4230e+01, 1.7100e+00, 2.4300e+00, 1.5600e+01, 1.2700e+02, 2.8000e+00,\n",
      "        3.0600e+00, 2.8000e-01, 2.2900e+00, 5.6400e+00, 1.0400e+00, 3.9200e+00,\n",
      "        1.0650e+03])\n",
      "\n",
      " labels: tensor([1.])\n"
     ]
    }
   ],
   "source": [
    "# Testing the dataset\n",
    "dataset = WineDataset()\n",
    "first = dataset[0]\n",
    "features, labels = first\n",
    "print(f'features: {features}\\n\\n labels: {labels}')"
   ]
  },
  {
   "cell_type": "code",
   "execution_count": 8,
   "id": "654d5b3c",
   "metadata": {},
   "outputs": [],
   "source": [
    "# Build dataloader\n",
    "dataloader = DataLoader(dataset=dataset, batch_size=4,\n",
    "                        shuffle=True, num_workers=2)"
   ]
  },
  {
   "cell_type": "code",
   "execution_count": 9,
   "id": "acb7ff45",
   "metadata": {},
   "outputs": [
    {
     "name": "stdout",
     "output_type": "stream",
     "text": [
      "features: tensor([[1.4230e+01, 1.7100e+00, 2.4300e+00, 1.5600e+01, 1.2700e+02, 2.8000e+00,\n",
      "         3.0600e+00, 2.8000e-01, 2.2900e+00, 5.6400e+00, 1.0400e+00, 3.9200e+00,\n",
      "         1.0650e+03],\n",
      "        [1.2700e+01, 3.8700e+00, 2.4000e+00, 2.3000e+01, 1.0100e+02, 2.8300e+00,\n",
      "         2.5500e+00, 4.3000e-01, 1.9500e+00, 2.5700e+00, 1.1900e+00, 3.1300e+00,\n",
      "         4.6300e+02],\n",
      "        [1.3560e+01, 1.7300e+00, 2.4600e+00, 2.0500e+01, 1.1600e+02, 2.9600e+00,\n",
      "         2.7800e+00, 2.0000e-01, 2.4500e+00, 6.2500e+00, 9.8000e-01, 3.0300e+00,\n",
      "         1.1200e+03],\n",
      "        [1.3050e+01, 3.8600e+00, 2.3200e+00, 2.2500e+01, 8.5000e+01, 1.6500e+00,\n",
      "         1.5900e+00, 6.1000e-01, 1.6200e+00, 4.8000e+00, 8.4000e-01, 2.0100e+00,\n",
      "         5.1500e+02]])\n",
      "\n",
      " labels: tensor([[1.],\n",
      "        [2.],\n",
      "        [1.],\n",
      "        [2.]])\n"
     ]
    }
   ],
   "source": [
    "# Build iterator and test data loader\n",
    "data_iter = iter(dataloader)\n",
    "data = data_iter.next()\n",
    "features, labels = data\n",
    "print(f'features: {features}\\n\\n labels: {labels}')"
   ]
  },
  {
   "cell_type": "code",
   "execution_count": 11,
   "id": "b3062e29",
   "metadata": {},
   "outputs": [
    {
     "name": "stdout",
     "output_type": "stream",
     "text": [
      "Total samples: 178\n",
      "Num. iterations: 45\n"
     ]
    }
   ],
   "source": [
    "# Training loop\n",
    "n_epochs = 2\n",
    "total_samples = len(dataset)\n",
    "n_iter = math.ceil(total_samples/4)\n",
    "print(f'Total samples: {total_samples}\\nNum. iterations: {n_iter}')"
   ]
  },
  {
   "cell_type": "code",
   "execution_count": 12,
   "id": "1ea681a8",
   "metadata": {},
   "outputs": [
    {
     "name": "stdout",
     "output_type": "stream",
     "text": [
      "epoch: 1/2, step 5/45, inputs: torch.Size([4, 13])\n",
      "epoch: 1/2, step 10/45, inputs: torch.Size([4, 13])\n",
      "epoch: 1/2, step 15/45, inputs: torch.Size([4, 13])\n",
      "epoch: 1/2, step 20/45, inputs: torch.Size([4, 13])\n",
      "epoch: 1/2, step 25/45, inputs: torch.Size([4, 13])\n",
      "epoch: 1/2, step 30/45, inputs: torch.Size([4, 13])\n",
      "epoch: 1/2, step 35/45, inputs: torch.Size([4, 13])\n",
      "epoch: 1/2, step 40/45, inputs: torch.Size([4, 13])\n",
      "epoch: 1/2, step 45/45, inputs: torch.Size([2, 13])\n",
      "epoch: 2/2, step 5/45, inputs: torch.Size([4, 13])\n",
      "epoch: 2/2, step 10/45, inputs: torch.Size([4, 13])\n",
      "epoch: 2/2, step 15/45, inputs: torch.Size([4, 13])\n",
      "epoch: 2/2, step 20/45, inputs: torch.Size([4, 13])\n",
      "epoch: 2/2, step 25/45, inputs: torch.Size([4, 13])\n",
      "epoch: 2/2, step 30/45, inputs: torch.Size([4, 13])\n",
      "epoch: 2/2, step 35/45, inputs: torch.Size([4, 13])\n",
      "epoch: 2/2, step 40/45, inputs: torch.Size([4, 13])\n",
      "epoch: 2/2, step 45/45, inputs: torch.Size([2, 13])\n"
     ]
    }
   ],
   "source": [
    "# Batch gradient descent\n",
    "for epoch in range(n_epochs):\n",
    "    for i, (inputs, labels) in enumerate(dataloader):\n",
    "        # Forward pass\n",
    "        # Backward pass\n",
    "        # Optimizer update\n",
    "        if (i+1)%5==0:\n",
    "            print(f'epoch: {epoch+1}/{n_epochs}, step {i+1}/{n_iter}, inputs: {inputs.shape}')"
   ]
  },
  {
   "cell_type": "markdown",
   "id": "61615bdf",
   "metadata": {},
   "source": [
    "# Dataset Transforms"
   ]
  },
  {
   "cell_type": "code",
   "execution_count": 13,
   "id": "2d9be6a1",
   "metadata": {},
   "outputs": [],
   "source": [
    "import torch\n",
    "import torchvision"
   ]
  },
  {
   "cell_type": "code",
   "execution_count": 14,
   "id": "119c8fcf",
   "metadata": {},
   "outputs": [],
   "source": [
    "# https://pytorch.org/vision/stable/transforms.html\n",
    "# Crop, grayscale, padding\n",
    "# Linear transform, normalize\n",
    "# Pillow images\n",
    "# Generic lambdas, custom\n",
    "# Compose multiple transforms"
   ]
  },
  {
   "cell_type": "code",
   "execution_count": 15,
   "id": "8d8295e7",
   "metadata": {},
   "outputs": [],
   "source": [
    "class WineDataset(Dataset):\n",
    "    \n",
    "    # support transform argument\n",
    "    def __init__(self, transform=None):\n",
    "        xy = np.loadtxt(\"./data/wine.csv\",\n",
    "                        delimiter=\",\",\n",
    "                        dtype=np.float32,\n",
    "                        skiprows=1)\n",
    "        self.n_samples = xy.shape[0]\n",
    "        self.x = xy[:, 1:]\n",
    "        self.y = xy[:, [0]]\n",
    "        \n",
    "        # transform attribute\n",
    "        self.transform = transform\n",
    "        \n",
    "    def __getitem__(self, index):\n",
    "        sample = self.x[index], self.y[index]\n",
    "        \n",
    "        # Apply transformation\n",
    "        if self.transform:\n",
    "            sample = self.transform(sample)\n",
    "            \n",
    "        return sample\n",
    "    \n",
    "    def __len__(self):\n",
    "        return self.n_samples"
   ]
  },
  {
   "cell_type": "code",
   "execution_count": 37,
   "id": "428db7f4",
   "metadata": {},
   "outputs": [],
   "source": [
    "# Transformation to convert from numpy to tensor\n",
    "class ToTensor():\n",
    "    def __call__(self, sample):\n",
    "        inputs, targets = sample\n",
    "        return torch.from_numpy(inputs), torch.from_numpy(targets)"
   ]
  },
  {
   "cell_type": "code",
   "execution_count": 38,
   "id": "c55116be",
   "metadata": {},
   "outputs": [
    {
     "name": "stdout",
     "output_type": "stream",
     "text": [
      "features: tensor([14.2300,  1.7100,  2.4300])\n",
      "type: <class 'torch.Tensor'>\n",
      "\n",
      "labels: tensor([1.])\n",
      "type: <class 'torch.Tensor'>\n"
     ]
    }
   ],
   "source": [
    "dataset = WineDataset(transform=ToTensor())\n",
    "first = dataset[0]\n",
    "features, labels = first\n",
    "print(f'features: {features[0:3]}\\ntype: {type(features)}\\n')\n",
    "print(f'labels: {labels[:]}\\ntype: {type(labels)}')"
   ]
  },
  {
   "cell_type": "code",
   "execution_count": 39,
   "id": "34bb2bd7",
   "metadata": {},
   "outputs": [],
   "source": [
    "# Transformation to multiply by a factor\n",
    "class MulTransform:\n",
    "    def __init__(self, factor):\n",
    "        self.factor = factor\n",
    "    \n",
    "    def __call__(self, sample):\n",
    "        inputs, targets = sample\n",
    "        inputs *= self.factor\n",
    "        return inputs, targets"
   ]
  },
  {
   "cell_type": "code",
   "execution_count": 40,
   "id": "b37e6af3",
   "metadata": {},
   "outputs": [
    {
     "name": "stdout",
     "output_type": "stream",
     "text": [
      "features: tensor([28.4600,  3.4200,  4.8600])\n",
      "type: <class 'torch.Tensor'>\n",
      "\n",
      "labels: tensor([1.])\n",
      "type: <class 'torch.Tensor'>\n"
     ]
    }
   ],
   "source": [
    "# Compose transforms\n",
    "composed = torchvision.transforms.Compose([ToTensor(), MulTransform(2)])\n",
    "dataset = WineDataset(transform=composed)\n",
    "first = dataset[0]\n",
    "features, labels = first\n",
    "print(f'features: {features[0:3]}\\ntype: {type(features)}\\n')\n",
    "print(f'labels: {labels[:]}\\ntype: {type(labels)}')"
   ]
  }
 ],
 "metadata": {
  "kernelspec": {
   "display_name": "Python 3 (ipykernel)",
   "language": "python",
   "name": "python3"
  },
  "language_info": {
   "codemirror_mode": {
    "name": "ipython",
    "version": 3
   },
   "file_extension": ".py",
   "mimetype": "text/x-python",
   "name": "python",
   "nbconvert_exporter": "python",
   "pygments_lexer": "ipython3",
   "version": "3.8.0"
  }
 },
 "nbformat": 4,
 "nbformat_minor": 5
}
