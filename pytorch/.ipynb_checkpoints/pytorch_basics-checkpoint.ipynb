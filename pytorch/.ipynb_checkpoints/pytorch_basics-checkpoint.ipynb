{
 "cells": [
  {
   "cell_type": "code",
   "execution_count": 1,
   "id": "b9cb9a5e",
   "metadata": {},
   "outputs": [
    {
     "data": {
      "text/plain": [
       "<torch._C.Generator at 0x7f196006e6f0>"
      ]
     },
     "execution_count": 1,
     "metadata": {},
     "output_type": "execute_result"
    }
   ],
   "source": [
    "import torch\n",
    "torch.manual_seed(1)"
   ]
  },
  {
   "cell_type": "markdown",
   "id": "8aa6e93e",
   "metadata": {},
   "source": [
    "### Creating Tensors"
   ]
  },
  {
   "cell_type": "code",
   "execution_count": 2,
   "id": "be0b7b37",
   "metadata": {},
   "outputs": [
    {
     "name": "stdout",
     "output_type": "stream",
     "text": [
      "tensor([1., 2., 3.])\n"
     ]
    }
   ],
   "source": [
    "V_data = [1., 2., 3.]\n",
    "V = torch.tensor(V_data)\n",
    "print(V)"
   ]
  },
  {
   "cell_type": "code",
   "execution_count": 3,
   "id": "70f0d231",
   "metadata": {},
   "outputs": [
    {
     "name": "stdout",
     "output_type": "stream",
     "text": [
      "tensor([[1., 2., 3.],\n",
      "        [4., 5., 6.]])\n"
     ]
    }
   ],
   "source": [
    "M_data = [[1., 2., 3.], [4., 5., 6.]]\n",
    "M = torch.tensor(M_data)\n",
    "print(M)"
   ]
  },
  {
   "cell_type": "code",
   "execution_count": 4,
   "id": "c39cf14c",
   "metadata": {},
   "outputs": [
    {
     "name": "stdout",
     "output_type": "stream",
     "text": [
      "tensor([[[1., 2.],\n",
      "         [3., 4.]],\n",
      "\n",
      "        [[5., 6.],\n",
      "         [7., 8.]]])\n"
     ]
    }
   ],
   "source": [
    "T_data = [[[1., 2.], [3., 4.]],\n",
    "          [[5., 6.], [7., 8.]]]\n",
    "T = torch.tensor(T_data)\n",
    "print(T)"
   ]
  },
  {
   "cell_type": "code",
   "execution_count": 10,
   "id": "278b7627",
   "metadata": {},
   "outputs": [
    {
     "name": "stdout",
     "output_type": "stream",
     "text": [
      "tensor(1.)\n",
      "1.0\n",
      "tensor([1., 2., 3.])\n",
      "tensor([[1., 2.],\n",
      "        [3., 4.]])\n"
     ]
    }
   ],
   "source": [
    "print(V[0])\n",
    "print(V[0].item())\n",
    "print(M[0])\n",
    "print(T[0])"
   ]
  },
  {
   "cell_type": "code",
   "execution_count": 11,
   "id": "2907ad62",
   "metadata": {},
   "outputs": [
    {
     "name": "stdout",
     "output_type": "stream",
     "text": [
      "tensor([[0.6614, 0.2669],\n",
      "        [0.0617, 0.6213]])\n"
     ]
    }
   ],
   "source": [
    "x = torch.randn((2,2))\n",
    "print(x)"
   ]
  },
  {
   "cell_type": "markdown",
   "id": "2d888ff8",
   "metadata": {},
   "source": [
    "### Operations"
   ]
  },
  {
   "cell_type": "code",
   "execution_count": 14,
   "id": "52168df0",
   "metadata": {},
   "outputs": [
    {
     "name": "stdout",
     "output_type": "stream",
     "text": [
      "tensor([[ 0.4533,  0.2912, -0.8317, -0.5525,  0.6355],\n",
      "        [-0.3968, -0.6571, -1.6428,  0.9803, -0.0421],\n",
      "        [-0.8206,  0.3133, -1.1352,  0.3773, -0.2824],\n",
      "        [-2.5667, -1.4303,  0.5009,  0.5438, -0.4057],\n",
      "        [ 1.1341, -1.1115,  0.3501, -0.7703, -0.1473]])\n"
     ]
    }
   ],
   "source": [
    "x_1 = torch.randn(2, 5)\n",
    "y_1 = torch.randn(3, 5)\n",
    "z_1 = torch.cat([x_1, y_1], 0) # default is 0, for row concat.\n",
    "print(z_1)"
   ]
  },
  {
   "cell_type": "code",
   "execution_count": 13,
   "id": "3d2e4721",
   "metadata": {},
   "outputs": [
    {
     "name": "stdout",
     "output_type": "stream",
     "text": [
      "tensor([[-0.9880, -0.9081,  0.5423, -0.1383,  0.8310, -0.2477, -0.8029,  0.2366],\n",
      "        [ 0.1103, -2.2590,  0.6067,  0.2857,  0.6898, -0.6331,  0.8795, -0.6842]])\n"
     ]
    }
   ],
   "source": [
    "x_2 = torch.randn(2, 3)\n",
    "y_2 = torch.randn(2, 5)\n",
    "z_2 = torch.cat([x_2, y_2], 1) # column concat is 1\n",
    "print(z_2)"
   ]
  },
  {
   "cell_type": "code",
   "execution_count": 18,
   "id": "8132104b",
   "metadata": {},
   "outputs": [
    {
     "name": "stdout",
     "output_type": "stream",
     "text": [
      "tensor([[ 1.8782, -0.5666,  0.4016],\n",
      "        [-0.1153,  0.3170,  0.5629]])\n"
     ]
    }
   ],
   "source": [
    "x = torch.randn(2,3)\n",
    "print(x)"
   ]
  },
  {
   "cell_type": "code",
   "execution_count": 20,
   "id": "e60d0251",
   "metadata": {},
   "outputs": [
    {
     "name": "stdout",
     "output_type": "stream",
     "text": [
      "tensor([[ 1.8782, -0.5666,  0.4016, -0.1153,  0.3170,  0.5629]])\n"
     ]
    }
   ],
   "source": [
    "print(x.view(1,6))"
   ]
  },
  {
   "cell_type": "code",
   "execution_count": 21,
   "id": "3501e638",
   "metadata": {},
   "outputs": [
    {
     "name": "stdout",
     "output_type": "stream",
     "text": [
      "tensor([[ 1.8782, -0.5666],\n",
      "        [ 0.4016, -0.1153],\n",
      "        [ 0.3170,  0.5629]])\n"
     ]
    }
   ],
   "source": [
    "print(x.view(3, -1)) # -1 to infer dimension"
   ]
  },
  {
   "cell_type": "markdown",
   "id": "ea43ca00",
   "metadata": {},
   "source": [
    "### Computational Graphs & Differentiation\n",
    "A computational graph tracks the parameters involved in your operations, preserving enough information to compute gradients.\n",
    "\n",
    "We specify that we want to produce a computational graph with the parameter `requires_grad=True`."
   ]
  },
  {
   "cell_type": "code",
   "execution_count": 23,
   "id": "9dd59f83",
   "metadata": {},
   "outputs": [
    {
     "name": "stdout",
     "output_type": "stream",
     "text": [
      "tensor([5., 7., 9.], grad_fn=<AddBackward0>)\n"
     ]
    }
   ],
   "source": [
    "x = torch.tensor([1.,2.,3.], requires_grad=True)\n",
    "y = torch.tensor([4.,5.,6.], requires_grad=True)\n",
    "z = x + y\n",
    "print(z)"
   ]
  },
  {
   "cell_type": "code",
   "execution_count": 26,
   "id": "14364efb",
   "metadata": {},
   "outputs": [
    {
     "name": "stdout",
     "output_type": "stream",
     "text": [
      "<AddBackward0 object at 0x7f185c398c10>\n"
     ]
    }
   ],
   "source": [
    "print(z.grad_fn)"
   ]
  },
  {
   "cell_type": "code",
   "execution_count": null,
   "id": "543a810c",
   "metadata": {},
   "outputs": [],
   "source": []
  }
 ],
 "metadata": {
  "kernelspec": {
   "display_name": "Python 3 (ipykernel)",
   "language": "python",
   "name": "python3"
  },
  "language_info": {
   "codemirror_mode": {
    "name": "ipython",
    "version": 3
   },
   "file_extension": ".py",
   "mimetype": "text/x-python",
   "name": "python",
   "nbconvert_exporter": "python",
   "pygments_lexer": "ipython3",
   "version": "3.8.0"
  }
 },
 "nbformat": 4,
 "nbformat_minor": 5
}
