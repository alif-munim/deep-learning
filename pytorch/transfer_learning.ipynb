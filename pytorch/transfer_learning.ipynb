{
 "cells": [
  {
   "cell_type": "markdown",
   "id": "e84ad963",
   "metadata": {},
   "source": [
    "# Transfer Learning"
   ]
  },
  {
   "cell_type": "markdown",
   "id": "cf3bb5ed",
   "metadata": {},
   "source": [
    "Training on one task, and re-training last layers of the same model for another task. Rapid results."
   ]
  },
  {
   "cell_type": "code",
   "execution_count": 1,
   "id": "1d44bd88",
   "metadata": {},
   "outputs": [],
   "source": [
    "import torch\n",
    "import torch.nn as nn\n",
    "import torch.optim as optim\n",
    "from torch.optim import lr_scheduler\n",
    "import numpy as np\n",
    "import torchvision\n",
    "from torchvision import datasets, models, transforms\n",
    "import matplotlib.pyplot as plt\n",
    "import time\n",
    "import os\n",
    "import copy"
   ]
  },
  {
   "cell_type": "code",
   "execution_count": 25,
   "id": "3a18ad85",
   "metadata": {},
   "outputs": [
    {
     "name": "stdout",
     "output_type": "stream",
     "text": [
      "True\n"
     ]
    }
   ],
   "source": [
    "print(torch.cuda.is_available())\n",
    "device = torch.device(\"cuda\")"
   ]
  },
  {
   "cell_type": "code",
   "execution_count": 16,
   "id": "247a0c96",
   "metadata": {},
   "outputs": [],
   "source": [
    "data_transforms = {\n",
    "    'train': transforms.Compose([\n",
    "        transforms.RandomResizedCrop(224),\n",
    "        transforms.RandomHorizontalFlip(),\n",
    "        transforms.ToTensor(),\n",
    "        transforms.Normalize([0.485, 0.456, 0.406], [0.229, 0.224, 0.225])\n",
    "    ]),\n",
    "    'val': transforms.Compose([\n",
    "        transforms.Resize(256),\n",
    "        transforms.CenterCrop(224),\n",
    "        transforms.ToTensor(),\n",
    "        transforms.Normalize([0.485, 0.456, 0.406], [0.229, 0.224, 0.225])\n",
    "    ])\n",
    "}"
   ]
  },
  {
   "cell_type": "code",
   "execution_count": 17,
   "id": "b3a3bce4",
   "metadata": {},
   "outputs": [],
   "source": [
    "data_dir = 'data/hymenoptera_data'\n",
    "image_datasets = {split: datasets.ImageFolder(os.path.join(data_dir, split), \n",
    "                        data_transforms[split]) for split in ['train', 'val']}"
   ]
  },
  {
   "cell_type": "code",
   "execution_count": 19,
   "id": "da2d81d8",
   "metadata": {},
   "outputs": [],
   "source": [
    "dataloaders = {split: torch.utils.data.DataLoader(image_datasets[split],\n",
    "                        batch_size=4, shuffle=True, num_workers=4)\n",
    "                        for split in ['train', 'val']}"
   ]
  },
  {
   "cell_type": "code",
   "execution_count": 22,
   "id": "3d3b9e32",
   "metadata": {},
   "outputs": [],
   "source": [
    "dataset_sizes = {split: len(image_datasets[split]) for split in ['train', 'val']}\n",
    "class_names = image_datasets['train'].classes"
   ]
  },
  {
   "cell_type": "code",
   "execution_count": 34,
   "id": "1c03fa8b",
   "metadata": {},
   "outputs": [],
   "source": [
    "def train_model(model, criterion, optimizer, scheduler, num_epochs=25):\n",
    "    since = time.time()\n",
    "    \n",
    "    best_weights = copy.deepcopy(model.state_dict())\n",
    "    best_acc = 0.0\n",
    "    \n",
    "    for epoch in range(num_epochs):\n",
    "        print(f'Epoch {epoch}/{num_epochs - 1}')\n",
    "        print('-' * 10)\n",
    "        \n",
    "        for phase in ['train', 'val']:\n",
    "            if phase == 'train':\n",
    "                model.train()\n",
    "            else:\n",
    "                model.eval()\n",
    "            \n",
    "            running_loss = 0.0\n",
    "            running_corrects = 0\n",
    "            \n",
    "            for inputs, labels in dataloaders[phase]:\n",
    "                inputs = inputs.to(device)\n",
    "                labels = labels.to(device)\n",
    "                optimizer.zero_grad()\n",
    "                \n",
    "                with torch.set_grad_enabled(phase == 'train'):\n",
    "                    outputs = model(inputs)\n",
    "                    _, preds = torch.max(outputs, 1)\n",
    "                    loss = criterion(outputs, labels)\n",
    "                    \n",
    "                    if phase == 'train':\n",
    "                        loss.backward()\n",
    "                        optimizer.step()\n",
    "                    \n",
    "                running_loss += loss.item() * inputs.size(0)\n",
    "                running_corrects += torch.sum(preds == labels.data)\n",
    "            \n",
    "            if phase == 'train':\n",
    "                scheduler.step()\n",
    "                \n",
    "            epoch_loss = running_loss / dataset_sizes[phase]\n",
    "            epoch_acc = running_corrects.double() / dataset_sizes[phase]\n",
    "            \n",
    "            print(f'{phase} loss: {epoch_loss:.4f}, acc: {epoch_acc:.4f}')\n",
    "            \n",
    "            if phase == 'val' and epoch_acc > best_acc:\n",
    "                best_acc = epoch_acc\n",
    "                best_weights = copy.deepcopy(model.state_dict())\n",
    "        print()\n",
    "                \n",
    "    time_elapsed = time.time() - since\n",
    "    print(f'Training complete in {time_elapsed // 60:.0f}m {time_elapsed % 60:.0f}s')\n",
    "    print(f'Best val acc: {best_acc:.4f}')\n",
    "\n",
    "    model.load_state_dict(best_weights)\n",
    "    return model"
   ]
  },
  {
   "cell_type": "code",
   "execution_count": 27,
   "id": "f618a18d",
   "metadata": {},
   "outputs": [],
   "source": [
    "model = models.resnet18(pretrained=True)"
   ]
  },
  {
   "cell_type": "code",
   "execution_count": 28,
   "id": "8589123a",
   "metadata": {},
   "outputs": [],
   "source": [
    "for param in model.parameters():\n",
    "    param.requires_grad = False"
   ]
  },
  {
   "cell_type": "code",
   "execution_count": null,
   "id": "091c4b2e",
   "metadata": {},
   "outputs": [],
   "source": [
    "# Define a new final layer for the model\n",
    "num_features = model.fc.in_features\n",
    "model.fc = nn.Linear(num_features, 2)\n",
    "model.to(device)"
   ]
  },
  {
   "cell_type": "code",
   "execution_count": 30,
   "id": "6e344427",
   "metadata": {},
   "outputs": [],
   "source": [
    "criterion = nn.CrossEntropyLoss()\n",
    "optimizer = optim.SGD(model.parameters(), lr=0.001)"
   ]
  },
  {
   "cell_type": "code",
   "execution_count": null,
   "id": "858b201b",
   "metadata": {},
   "outputs": [
    {
     "name": "stdout",
     "output_type": "stream",
     "text": [
      "Epoch 0/19\n",
      "----------\n",
      "train loss: 0.4050, acc: 0.7951\n",
      "val loss: 0.2691, acc: 0.9216\n",
      "\n",
      "Epoch 1/19\n",
      "----------\n",
      "train loss: 0.4187, acc: 0.7992\n",
      "val loss: 0.2562, acc: 0.9281\n",
      "\n",
      "Epoch 2/19\n",
      "----------\n",
      "train loss: 0.4243, acc: 0.7951\n",
      "val loss: 0.2521, acc: 0.9281\n",
      "\n",
      "Epoch 3/19\n",
      "----------\n",
      "train loss: 0.3877, acc: 0.8566\n",
      "val loss: 0.2531, acc: 0.9216\n",
      "\n",
      "Epoch 4/19\n",
      "----------\n",
      "train loss: 0.4152, acc: 0.8115\n",
      "val loss: 0.2594, acc: 0.9281\n",
      "\n",
      "Epoch 5/19\n",
      "----------\n",
      "train loss: 0.4115, acc: 0.8197\n",
      "val loss: 0.2436, acc: 0.9216\n",
      "\n",
      "Epoch 6/19\n",
      "----------\n",
      "train loss: 0.4086, acc: 0.8238\n",
      "val loss: 0.2482, acc: 0.9346\n",
      "\n",
      "Epoch 7/19\n",
      "----------\n",
      "train loss: 0.4040, acc: 0.8156\n",
      "val loss: 0.2404, acc: 0.9281\n",
      "\n",
      "Epoch 8/19\n",
      "----------\n",
      "train loss: 0.4315, acc: 0.7992\n",
      "val loss: 0.2427, acc: 0.9346\n",
      "\n",
      "Epoch 9/19\n",
      "----------\n",
      "train loss: 0.4206, acc: 0.8156\n",
      "val loss: 0.2394, acc: 0.9281\n",
      "\n",
      "Epoch 10/19\n",
      "----------\n",
      "train loss: 0.3692, acc: 0.8402\n",
      "val loss: 0.2563, acc: 0.9281\n",
      "\n",
      "Epoch 11/19\n",
      "----------\n",
      "train loss: 0.3750, acc: 0.8525\n",
      "val loss: 0.2404, acc: 0.9281\n",
      "\n",
      "Epoch 12/19\n",
      "----------\n",
      "train loss: 0.3344, acc: 0.8770\n",
      "val loss: 0.2565, acc: 0.9346\n",
      "\n",
      "Epoch 13/19\n",
      "----------\n",
      "train loss: 0.4324, acc: 0.8197\n",
      "val loss: 0.2415, acc: 0.9281\n",
      "\n",
      "Epoch 14/19\n",
      "----------\n",
      "train loss: 0.4229, acc: 0.8074\n",
      "val loss: 0.2776, acc: 0.8889\n",
      "\n",
      "Epoch 15/19\n",
      "----------\n"
     ]
    }
   ],
   "source": [
    "# Scheduler to iteratively update learning rate\n",
    "step_scheduler = lr_scheduler.StepLR(optimizer, step_size=7, gamma=0.1)\n",
    "model = train_model(model, criterion, optimizer, step_scheduler, num_epochs=20)"
   ]
  },
  {
   "cell_type": "code",
   "execution_count": null,
   "id": "2911ff8f",
   "metadata": {},
   "outputs": [],
   "source": []
  }
 ],
 "metadata": {
  "kernelspec": {
   "display_name": "Python 3 (ipykernel)",
   "language": "python",
   "name": "python3"
  },
  "language_info": {
   "codemirror_mode": {
    "name": "ipython",
    "version": 3
   },
   "file_extension": ".py",
   "mimetype": "text/x-python",
   "name": "python",
   "nbconvert_exporter": "python",
   "pygments_lexer": "ipython3",
   "version": "3.8.0"
  }
 },
 "nbformat": 4,
 "nbformat_minor": 5
}
