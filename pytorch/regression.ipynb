{
 "cells": [
  {
   "cell_type": "markdown",
   "id": "f6f50717",
   "metadata": {},
   "source": [
    "# Linear Regression"
   ]
  },
  {
   "cell_type": "code",
   "execution_count": 1,
   "id": "341d3a34",
   "metadata": {},
   "outputs": [],
   "source": [
    "# 1) Design models (input size, output size, forward pass layers)\n",
    "# 2) Construct loss, optimizer\n",
    "# 3) Construct training loop: \n",
    "    # forward (preds + loss), backward (grads), update (weights)"
   ]
  },
  {
   "cell_type": "code",
   "execution_count": 16,
   "id": "dfb704bd",
   "metadata": {},
   "outputs": [],
   "source": [
    "import torch\n",
    "import torch.nn as nn\n",
    "import numpy as np\n",
    "from sklearn import datasets\n",
    "import torch.optim as optim\n",
    "import matplotlib.pyplot as plt"
   ]
  },
  {
   "cell_type": "markdown",
   "id": "f4877d91",
   "metadata": {},
   "source": [
    "**0) Data Prep**"
   ]
  },
  {
   "cell_type": "code",
   "execution_count": 8,
   "id": "f7cfecf7",
   "metadata": {},
   "outputs": [],
   "source": [
    "X_numpy, y_numpy = datasets.make_regression(n_samples=100,\n",
    "                                            n_features=1,\n",
    "                                            noise=20,\n",
    "                                            random_state=1)\n",
    "X = torch.from_numpy(X_numpy.astype(np.float32))\n",
    "y = torch.from_numpy(y_numpy.astype(np.float32))"
   ]
  },
  {
   "cell_type": "code",
   "execution_count": 10,
   "id": "cc5e6a6f",
   "metadata": {},
   "outputs": [
    {
     "name": "stdout",
     "output_type": "stream",
     "text": [
      "X shape:  torch.Size([100, 1])\n",
      "y shape:  torch.Size([100])\n"
     ]
    }
   ],
   "source": [
    " print(\"X shape: \", X.shape)\n",
    "print(\"y shape: \", y.shape)"
   ]
  },
  {
   "cell_type": "code",
   "execution_count": 12,
   "id": "5bc18f69",
   "metadata": {},
   "outputs": [
    {
     "name": "stdout",
     "output_type": "stream",
     "text": [
      "X shape:  torch.Size([100, 1])\n",
      "y shape:  torch.Size([100, 1])\n"
     ]
    }
   ],
   "source": [
    "y = y.view(y.shape[0], 1)\n",
    "print(\"X shape: \", X.shape)\n",
    "print(\"y shape: \", y.shape)"
   ]
  },
  {
   "cell_type": "code",
   "execution_count": 13,
   "id": "eaae1c6a",
   "metadata": {},
   "outputs": [],
   "source": [
    "n_samples, n_features = X.shape"
   ]
  },
  {
   "cell_type": "markdown",
   "id": "13709368",
   "metadata": {},
   "source": [
    "**1) Model**"
   ]
  },
  {
   "cell_type": "code",
   "execution_count": 14,
   "id": "77b2521c",
   "metadata": {},
   "outputs": [],
   "source": [
    "input_size = n_features\n",
    "output_size = 1\n",
    "\n",
    "model = nn.Linear(input_size, output_size)"
   ]
  },
  {
   "cell_type": "markdown",
   "id": "d8a5f685",
   "metadata": {},
   "source": [
    "**2) Loss and optimizer**"
   ]
  },
  {
   "cell_type": "code",
   "execution_count": 17,
   "id": "4518d9dc",
   "metadata": {},
   "outputs": [],
   "source": [
    "learning_rate = 0.01\n",
    "criterion = nn.MSELoss()\n",
    "optimizer = optim.SGD(model.parameters(), lr=learning_rate)"
   ]
  },
  {
   "cell_type": "markdown",
   "id": "4755bf8a",
   "metadata": {},
   "source": [
    "**3) Training loop**"
   ]
  },
  {
   "cell_type": "code",
   "execution_count": 18,
   "id": "22b2949a",
   "metadata": {},
   "outputs": [
    {
     "name": "stdout",
     "output_type": "stream",
     "text": [
      "epoch: 0, loss: 5636.8423\n",
      "epoch: 5, loss: 4847.5288\n",
      "epoch: 10, loss: 4176.6177\n",
      "epoch: 15, loss: 3606.1785\n",
      "epoch: 20, loss: 3121.0256\n",
      "epoch: 25, loss: 2708.2925\n",
      "epoch: 30, loss: 2357.0764\n",
      "epoch: 35, loss: 2058.1309\n",
      "epoch: 40, loss: 1803.6136\n",
      "epoch: 45, loss: 1586.8700\n",
      "epoch: 50, loss: 1402.2522\n",
      "epoch: 55, loss: 1244.9639\n",
      "epoch: 60, loss: 1110.9307\n",
      "epoch: 65, loss: 996.6915\n",
      "epoch: 70, loss: 899.3042\n",
      "epoch: 75, loss: 816.2674\n",
      "epoch: 80, loss: 745.4536\n",
      "epoch: 85, loss: 685.0535\n",
      "epoch: 90, loss: 633.5270\n",
      "epoch: 95, loss: 589.5635\n"
     ]
    }
   ],
   "source": [
    "num_epochs = 100\n",
    "for epoch in range(num_epochs):\n",
    "    # Forward pass\n",
    "    y_pred = model(X)\n",
    "    loss = criterion(y_pred, y)\n",
    "    \n",
    "    # Backward pass, compute local grads\n",
    "    loss.backward()\n",
    "    \n",
    "    # Optimization step\n",
    "    optimizer.step()\n",
    "    optimizer.zero_grad()\n",
    "    \n",
    "    # Progress\n",
    "    if epoch % 5 == 0:\n",
    "        print(f'epoch: {epoch}, loss: {loss.item():.4f}')"
   ]
  },
  {
   "cell_type": "markdown",
   "id": "fbaca441",
   "metadata": {},
   "source": [
    "**4) Plot**"
   ]
  },
  {
   "cell_type": "code",
   "execution_count": 24,
   "id": "d806c9cb",
   "metadata": {},
   "outputs": [
    {
     "data": {
      "image/png": "[encoded data removed]",
      "text/plain": [
       "<Figure size 432x288 with 1 Axes>"
      ]
     },
     "metadata": {
      "needs_background": "light"
     },
     "output_type": "display_data"
    }
   ],
   "source": [
    "predicted = model(X).detach().numpy()\n",
    "plt.plot(X_numpy, y_numpy, 'ro')\n",
    "plt.plot(X_numpy, predicted, 'bx')\n",
    "plt.show()"
   ]
  },
  {
   "cell_type": "markdown",
   "id": "f5cdbb81",
   "metadata": {},
   "source": [
    "# Logistic Regression"
   ]
  },
  {
   "cell_type": "code",
   "execution_count": 25,
   "id": "ead610c2",
   "metadata": {},
   "outputs": [],
   "source": [
    "# 1) Design models (input size, output size, forward pass layers)\n",
    "# 2) Construct loss, optimizer\n",
    "# 3) Construct training loop: \n",
    "    # forward (preds + loss), backward (grads), update (weights)"
   ]
  },
  {
   "cell_type": "code",
   "execution_count": 27,
   "id": "f805c16d",
   "metadata": {},
   "outputs": [],
   "source": [
    "import torch\n",
    "import torch.nn as nn\n",
    "import numpy as np\n",
    "from sklearn import datasets\n",
    "from sklearn.preprocessing import StandardScaler\n",
    "from sklearn.model_selection import train_test_split"
   ]
  },
  {
   "cell_type": "markdown",
   "id": "d1cbfb3e",
   "metadata": {},
   "source": [
    "**0) Data Prep**"
   ]
  },
  {
   "cell_type": "code",
   "execution_count": 28,
   "id": "d94e8747",
   "metadata": {},
   "outputs": [
    {
     "name": "stdout",
     "output_type": "stream",
     "text": [
      "n_samples: 569, n_features: 30\n"
     ]
    }
   ],
   "source": [
    "bc = datasets.load_breast_cancer()\n",
    "X, y = bc.data, bc.target\n",
    "\n",
    "n_samples, n_features = X.shape\n",
    "print(f'n_samples: {n_samples}, n_features: {n_features}')"
   ]
  },
  {
   "cell_type": "code",
   "execution_count": 43,
   "id": "ac0dc76e",
   "metadata": {},
   "outputs": [
    {
     "data": {
      "text/plain": [
       "array(['mean radius', 'mean texture', 'mean perimeter', 'mean area',\n",
       "       'mean smoothness', 'mean compactness', 'mean concavity',\n",
       "       'mean concave points', 'mean symmetry', 'mean fractal dimension',\n",
       "       'radius error', 'texture error', 'perimeter error', 'area error',\n",
       "       'smoothness error', 'compactness error', 'concavity error',\n",
       "       'concave points error', 'symmetry error',\n",
       "       'fractal dimension error', 'worst radius', 'worst texture',\n",
       "       'worst perimeter', 'worst area', 'worst smoothness',\n",
       "       'worst compactness', 'worst concavity', 'worst concave points',\n",
       "       'worst symmetry', 'worst fractal dimension'], dtype='<U23')"
      ]
     },
     "execution_count": 43,
     "metadata": {},
     "output_type": "execute_result"
    }
   ],
   "source": [
    "bc.feature_names"
   ]
  },
  {
   "cell_type": "code",
   "execution_count": 44,
   "id": "c4f255d3",
   "metadata": {},
   "outputs": [
    {
     "data": {
      "text/plain": [
       "array(['malignant', 'benign'], dtype='<U9')"
      ]
     },
     "execution_count": 44,
     "metadata": {},
     "output_type": "execute_result"
    }
   ],
   "source": [
    "bc.target_names"
   ]
  },
  {
   "cell_type": "code",
   "execution_count": 30,
   "id": "0a6d78c2",
   "metadata": {},
   "outputs": [],
   "source": [
    "X_train, X_test, y_train, y_test = train_test_split(X, y, \n",
    "                                                    test_size=0.2,\n",
    "                                                    random_state=1234)\n",
    "\n",
    "# Scale with 0 mean and 1 variance (recommended for log. reg.)\n",
    "sc = StandardScaler()\n",
    "X_train = sc.fit_transform(X_train)\n",
    "X_test = sc.transform(X_test)"
   ]
  },
  {
   "cell_type": "code",
   "execution_count": 31,
   "id": "d379fff5",
   "metadata": {},
   "outputs": [],
   "source": [
    "X_train = torch.from_numpy(X_train.astype(np.float32))\n",
    "X_test = torch.from_numpy(X_test.astype(np.float32))\n",
    "y_train = torch.from_numpy(y_train.astype(np.float32))\n",
    "y_test = torch.from_numpy(y_test.astype(np.float32))"
   ]
  },
  {
   "cell_type": "code",
   "execution_count": 32,
   "id": "70eb66dc",
   "metadata": {},
   "outputs": [
    {
     "name": "stdout",
     "output_type": "stream",
     "text": [
      "X_train shape:  torch.Size([455, 30])\n",
      "y_train shape:  torch.Size([455])\n",
      "X_test shape:  torch.Size([114, 30])\n",
      "y_test shape:  torch.Size([114])\n"
     ]
    }
   ],
   "source": [
    "print(\"X_train shape: \", X_train.shape)\n",
    "print(\"y_train shape: \", y_train.shape)\n",
    "print(\"X_test shape: \", X_test.shape)\n",
    "print(\"y_test shape: \", y_test.shape)"
   ]
  },
  {
   "cell_type": "code",
   "execution_count": 33,
   "id": "b968e65f",
   "metadata": {},
   "outputs": [],
   "source": [
    "y_train = y_train.view(y_train.shape[0], 1)\n",
    "y_test = y_test.view(y_test.shape[0], 1)"
   ]
  },
  {
   "cell_type": "code",
   "execution_count": 34,
   "id": "f373f376",
   "metadata": {},
   "outputs": [
    {
     "name": "stdout",
     "output_type": "stream",
     "text": [
      "X_train shape:  torch.Size([455, 30])\n",
      "y_train shape:  torch.Size([455, 1])\n",
      "X_test shape:  torch.Size([114, 30])\n",
      "y_test shape:  torch.Size([114, 1])\n"
     ]
    }
   ],
   "source": [
    "print(\"X_train shape: \", X_train.shape)\n",
    "print(\"y_train shape: \", y_train.shape)\n",
    "print(\"X_test shape: \", X_test.shape)\n",
    "print(\"y_test shape: \", y_test.shape)"
   ]
  },
  {
   "cell_type": "markdown",
   "id": "cdb97cd8",
   "metadata": {},
   "source": [
    "**1) Model**"
   ]
  },
  {
   "cell_type": "code",
   "execution_count": 35,
   "id": "bfacde5a",
   "metadata": {},
   "outputs": [],
   "source": [
    "# Our model is a lienar combination of weights and biases (affine maps)\n",
    "# Followed by non-linear and sigmoid activation\n",
    "\n",
    "class LogisticRegression(nn.Module):\n",
    "    def __init__(self, n_input_features):\n",
    "        super(LogisticRegression, self).__init__()\n",
    "        self.linear = nn.Linear(n_input_features, 1)\n",
    "        \n",
    "    def forward(self, x):\n",
    "        y_pred = torch.sigmoid(self.linear(x))\n",
    "        return y_pred"
   ]
  },
  {
   "cell_type": "code",
   "execution_count": 36,
   "id": "a7adfe5f",
   "metadata": {},
   "outputs": [],
   "source": [
    "model = LogisticRegression(n_features)"
   ]
  },
  {
   "cell_type": "markdown",
   "id": "16796965",
   "metadata": {},
   "source": [
    "**2) Loss and optimizer**"
   ]
  },
  {
   "cell_type": "code",
   "execution_count": 37,
   "id": "6da95697",
   "metadata": {},
   "outputs": [],
   "source": [
    "criterion = nn.BCELoss()\n",
    "learning_rate = 0.01\n",
    "optimizer = optim.SGD(model.parameters(), lr=learning_rate)"
   ]
  },
  {
   "cell_type": "markdown",
   "id": "e315c9e5",
   "metadata": {},
   "source": [
    "**3) Training loop**"
   ]
  },
  {
   "cell_type": "code",
   "execution_count": 38,
   "id": "77f36497",
   "metadata": {},
   "outputs": [
    {
     "name": "stdout",
     "output_type": "stream",
     "text": [
      "epoch: 0, loss: 0.9731218218803406\n",
      "epoch: 5, loss: 0.8152727484703064\n",
      "epoch: 10, loss: 0.6979632377624512\n",
      "epoch: 15, loss: 0.6115865707397461\n",
      "epoch: 20, loss: 0.5468251705169678\n",
      "epoch: 25, loss: 0.49686503410339355\n",
      "epoch: 30, loss: 0.45722517371177673\n",
      "epoch: 35, loss: 0.42499813437461853\n",
      "epoch: 40, loss: 0.3982560634613037\n",
      "epoch: 45, loss: 0.3756813704967499\n",
      "epoch: 50, loss: 0.3563462197780609\n",
      "epoch: 55, loss: 0.33957943320274353\n",
      "epoch: 60, loss: 0.32488375902175903\n",
      "epoch: 65, loss: 0.3118833005428314\n",
      "epoch: 70, loss: 0.30028849840164185\n",
      "epoch: 75, loss: 0.2898728847503662\n",
      "epoch: 80, loss: 0.28045654296875\n",
      "epoch: 85, loss: 0.2718949317932129\n",
      "epoch: 90, loss: 0.26407045125961304\n",
      "epoch: 95, loss: 0.2568865120410919\n"
     ]
    }
   ],
   "source": [
    "num_epochs = 100\n",
    "for epoch in range(num_epochs):\n",
    "    # Forward pass\n",
    "    y_pred = model(X_train)\n",
    "    loss = criterion(y_pred, y_train)\n",
    "    \n",
    "    # Backward pass\n",
    "    loss.backward()\n",
    "    \n",
    "    # Optimizer step\n",
    "    optimizer.step()\n",
    "    optimizer.zero_grad()\n",
    "    \n",
    "    # Print progress\n",
    "    if epoch%5==0:\n",
    "        print(f'epoch: {epoch}, loss: {loss}')"
   ]
  },
  {
   "cell_type": "markdown",
   "id": "02422ca8",
   "metadata": {},
   "source": [
    "**4) Evaluation**"
   ]
  },
  {
   "cell_type": "code",
   "execution_count": 40,
   "id": "2f35d596",
   "metadata": {},
   "outputs": [
    {
     "name": "stdout",
     "output_type": "stream",
     "text": [
      "accuracy = 0.9035\n"
     ]
    }
   ],
   "source": [
    "with torch.no_grad():\n",
    "    y_pred = model(X_test)\n",
    "    pred_classes = y_pred.round()\n",
    "    acc = pred_classes.eq(y_test).sum() / float(y_test.shape[0])\n",
    "    print(f'accuracy = {acc:.4f}')"
   ]
  },
  {
   "cell_type": "code",
   "execution_count": null,
   "id": "7f8d94fc",
   "metadata": {},
   "outputs": [],
   "source": []
  }
 ],
 "metadata": {
  "kernelspec": {
   "display_name": "Python 3 (ipykernel)",
   "language": "python",
   "name": "python3"
  },
  "language_info": {
   "codemirror_mode": {
    "name": "ipython",
    "version": 3
   },
   "file_extension": ".py",
   "mimetype": "text/x-python",
   "name": "python",
   "nbconvert_exporter": "python",
   "pygments_lexer": "ipython3",
   "version": "3.8.0"
  }
 },
 "nbformat": 4,
 "nbformat_minor": 5
}
